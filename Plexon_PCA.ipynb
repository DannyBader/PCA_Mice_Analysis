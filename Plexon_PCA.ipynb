{
 "cells": [
  {
   "cell_type": "code",
   "execution_count": 1,
   "id": "f3b61208-868c-42f8-8780-2199070792d8",
   "metadata": {},
   "outputs": [
    {
     "name": "stdout",
     "output_type": "stream",
     "text": [
      "1.26.4\n",
      "1.12.0\n"
     ]
    }
   ],
   "source": [
    "import numpy as np\n",
    "import matplotlib.pyplot as plt\n",
    "import os\n",
    "import neo #Electrophys Tool\n",
    "import pandas as pd\n",
    "import scipy as scp\n",
    "from IPython.display import HTML  # to format drop downs\n",
    "from sklearn.decomposition import PCA\n",
    "from sklearn.preprocessing import StandardScaler\n",
    "import re\n",
    "\n",
    "print(np.__version__)\n",
    "print(scp.__version__)"
   ]
  },
  {
   "cell_type": "code",
   "execution_count": 2,
   "id": "b0dfbf2d-9d5d-446c-85d8-2524241bcd59",
   "metadata": {},
   "outputs": [
    {
     "data": {
      "text/html": [
       "<style>\n",
       "  details summary {\n",
       "    background-color: #ADD8E6;\n",
       "    color: white;\n",
       "    padding: 10px;\n",
       "    border-radius: 5px;\n",
       "    cursor: pointer;\n",
       "    width: 155px;\n",
       "  }\n",
       "</style>\n"
      ],
      "text/plain": [
       "<IPython.core.display.HTML object>"
      ]
     },
     "metadata": {},
     "output_type": "display_data"
    }
   ],
   "source": [
    "%%html\n",
    "<style>\n",
    "  details summary {\n",
    "    background-color: #ADD8E6;\n",
    "    color: white;\n",
    "    padding: 10px;\n",
    "    border-radius: 5px;\n",
    "    cursor: pointer;\n",
    "    width: 155px;\n",
    "  }\n",
    "</style>"
   ]
  },
  {
   "cell_type": "markdown",
   "id": "5d8d1923-738f-4bfe-8c22-a28859b269af",
   "metadata": {},
   "source": [
    "# Pulling the Data"
   ]
  },
  {
   "cell_type": "code",
   "execution_count": 3,
   "id": "eae5e2f4-bbb4-4cf0-a33e-13d12e3860b1",
   "metadata": {},
   "outputs": [],
   "source": [
    "#THE BEST one as of 21 Jan\n",
    "# Description: plexon_import takes a single file and provides the left, right, and piezo data,\n",
    "# as well as the familiar and novel event times\n",
    "\n",
    "def plexon_import(filepath):\n",
    "\n",
    "    reader = neo.PlexonIO(filepath)\n",
    "    blks = reader.read()\n",
    "    seg = blks[0].segments[0]\n",
    "    seg.data_children\n",
    "    \n",
    "    #Get analog signal\n",
    "    sig = seg.analogsignals[0]\n",
    "    \n",
    "    #Each sig index is one millisecond, but need to sort out the multiple channel issue\n",
    "    sigLH = sig[:,0] #Left Hemisphere\n",
    "    sigRH = sig[:,1] #Right Hemisphere\n",
    "    sigPz = sig[:,2] #Piezo Data\n",
    "    \n",
    "    #Extract data and time series to use\n",
    "    datLH = sigLH.data\n",
    "    datRH = sigRH.data\n",
    "    datPz = sigPz.data\n",
    "    \n",
    "    #Reshape data so it's just a 1-D array so it can plot\n",
    "    shape = datLH.shape[0] #shape shouldn't change\n",
    "    datLH = np.reshape(datLH,(shape)) \n",
    "    datRH = np.reshape(datRH,(shape)) \n",
    "    datPz = np.reshape(datPz,(shape)) \n",
    "    \n",
    "    #Event_times stores the time each strobe event occured\n",
    "    #Event_labels stores the label (1,2 is familiar, 0 is grey screen, 3,4 is phase shifted)\n",
    "    event_times = [e.times for e in seg.events]\n",
    "    event_labels = [e.labels for e in seg.events]\n",
    "    \n",
    "    #Smooth\n",
    "    Notcha,Notchb = scp.signal.iirnotch(60,100,fs=1000)\n",
    "    datLH = scp.signal.filtfilt(Notcha,Notchb,datLH)\n",
    "    datRH = scp.signal.filtfilt(Notcha,Notchb,datRH)\n",
    "    datPz = scp.signal.filtfilt(Notcha,Notchb,datPz)\n",
    "\n",
    "    \n",
    "    #Normalize the data to a baseline based on the mean\n",
    "    base_end = int(min(event_times[3])*1000) #Convert to a millisecond unit of time\n",
    "    base_start = 0 \n",
    "    datLH = datLH - np.mean(datLH[base_start:base_end])\n",
    "    datRH = datRH - np.mean(datRH[base_start:base_end])\n",
    "\n",
    "    #Convcert the PCA values into Z-scores to see if that will improve performance\n",
    "    datLH_mean = np.mean(datLH)\n",
    "    datRH_mean = np.mean(datRH)\n",
    "    datLH_std = np.std(datLH)\n",
    "    datRH_std = np.std(datRH)\n",
    "\n",
    "    datLH = (datLH - datLH_mean)/datLH_std\n",
    "    datRH = (datRH - datRH_mean)/datRH_std\n",
    "    \n",
    "    #Change the piezo data into absolute values\n",
    "    datPz = np.sqrt(datPz ** 2)\n",
    "    \n",
    "    #Pz Normalization\n",
    "    datPz_mean = np.mean(datPz)\n",
    "    datPz_std = np.std(datPz)\n",
    "    datPz = (datPz - datPz_mean)/datPz_std\n",
    "    \n",
    "\n",
    "    \n",
    "    event_label = event_labels[3]\n",
    "    event_time = event_times[3]\n",
    "\n",
    "    #CUT\n",
    "    #Figure out which strobe event is happening\n",
    "    event_familiar = []\n",
    "    event_novel = []\n",
    "    event_gray = []\n",
    "    for event in range(0,len(event_labels[3]),1):\n",
    "        if event_labels[3][event] in ['1','2']: \n",
    "            event_familiar.append(event_times[3][event])\n",
    "        elif event_labels[3][event] in ['3','4']: \n",
    "            event_novel.append(event_times[3][event])\n",
    "        else:\n",
    "            event_gray.append(event_times[3][event])\n",
    "    \n",
    "    return datLH,datRH,datPz,event_label,event_time"
   ]
  },
  {
   "cell_type": "markdown",
   "id": "391e7508-c330-418f-9bcf-940d632ac9e9",
   "metadata": {},
   "source": [
    "# Stim Separated PCA"
   ]
  },
  {
   "cell_type": "code",
   "execution_count": null,
   "id": "a813d287-0bbd-4d53-8ceb-ec17ea39b263",
   "metadata": {},
   "outputs": [],
   "source": [
    "#Pulling the data into an ARRAY  where each row is one epoch, with a column for each time point\n",
    "\n",
    "import time\n",
    "\n",
    "start = time.perf_counter()\n",
    "print('STARTED ==>', start)\n",
    "\n",
    "\n",
    "os.listdir(\"CBSC\")\n",
    "start_day = 1\n",
    "end_day = 7\n",
    "\n",
    "#Figure out your array size needed\n",
    "#Array = [Measure,Stim Type, Day, Block, Mouse, Stim Num, Values]\n",
    "Array = np.zeros([7,35,2,3,15,200,500])\n",
    "#Array.fill(np.NaN)\n",
    "\n",
    "for day in range(start_day,end_day+1,1):\n",
    "    files = os.listdir(\"CBSC/day \" + str(day) + \"/\")\n",
    "    for file in files:\n",
    "        fname = \"CBSC/day \" + str(day) + \"/\" + file #Concatenate directory with file path to be able to run the function over all days\n",
    "        if os.path.splitext(fname)[1] == '.plx':\n",
    "            LH_single,RH_single,Pz_single,Event_Labels,Event_Times = plexon_import(fname)         \n",
    "            ##MEASURE  0 = Left Hemi, 1 = Right Hemi, 2 = Behavior       \n",
    "            Day = day  \n",
    "            Mouse = int(re.findall(r'\\d+', file[0:9])[0])\n",
    "            print(f'Day: {Day}, Mouse: {Mouse}')\n",
    "            ## CHANGE UP START\n",
    "            Block = 0\n",
    "            for event in range(0,len(Event_Labels),1):\n",
    "                if Event_Labels[event] in ['1','2']: \n",
    "                    \n",
    "                    Stim_Type = 0 # Familiar!\n",
    "                    Event_Time = int(Event_Times[event]*1000)\n",
    "                    if Event_Time - int(Event_Times[event-1]*1000) >= 600:\n",
    "                        Block = Block+1\n",
    "                    #Left Hemi\n",
    "                    if len(LH_single[Event_Time-100:Event_Time+400]) < 500:\n",
    "                        break\n",
    "                    Array[Day-1,Mouse-1,Stim_Type,0,Block,event%200] = LH_single[Event_Time-100:Event_Time+400]\n",
    "                    #Right Hemi\n",
    "                    if len(RH_single[Event_Time-100:Event_Time+400]) < 500:\n",
    "                        break\n",
    "                    Array[Day-1,Mouse-1,Stim_Type,1,Block,event%200] = RH_single[Event_Time-100:Event_Time+400]\n",
    "                    #Piezo \n",
    "                    if len(Pz_single[Event_Time-100:Event_Time+400]) < 500:\n",
    "                        break\n",
    "                    Array[Day-1,Mouse-1,Stim_Type,2,int(event/200),event%200] = Pz_single[Event_Time-100:Event_Time+400]\n",
    "\n",
    "                elif Event_Labels[event] in ['3','4']: \n",
    "                    Stim_Type = 1 # NOVEL!\n",
    "                    Event_Time = int(Event_Times[event]*1000)\n",
    "                    if Event_Time - int(Event_Times[event-1]*1000) >= 600:\n",
    "                        Block = Block+1\n",
    "                    #Left Hemi\n",
    "                    if len(LH_single[Event_Time-100:Event_Time+400]) < 500:\n",
    "                        break\n",
    "                    Array[Day-1,Mouse-1,Stim_Type,0,Block,event%200] = LH_single[Event_Time-100:Event_Time+400]\n",
    "                    #Right Hemi\n",
    "                    if len(RH_single[Event_Time-100:Event_Time+400]) < 500:\n",
    "                        break\n",
    "                    Array[Day-1,Mouse-1,Stim_Type,1,Block,event%200] = RH_single[Event_Time-100:Event_Time+400]\n",
    "                    #Piezo \n",
    "                    if len(Pz_single[Event_Time-100:Event_Time+400]) < 500:\n",
    "                        break\n",
    "                    Array[Day-1,Mouse-1,Stim_Type,2,Block,event%200] = Pz_single[Event_Time-100:Event_Time+400]\n",
    "finish = time.perf_counter()\n",
    "print('FINISHED ==>', round(finish - start))\n"
   ]
  },
  {
   "cell_type": "code",
   "execution_count": 6,
   "id": "33c46f9d-925f-45d0-ab3d-cd203ed44425",
   "metadata": {},
   "outputs": [],
   "source": [
    "np.save('Array_Strobe_Plexon.npy',Array)"
   ]
  },
  {
   "cell_type": "code",
   "execution_count": 3,
   "id": "13acb24b-4081-49b0-b8de-ec88e63f2d19",
   "metadata": {},
   "outputs": [],
   "source": [
    "Array = np.load('Array_Strobe_Plexon.npy')"
   ]
  },
  {
   "cell_type": "code",
   "execution_count": 4,
   "id": "1700ca39-66cd-4927-9505-f77042111cb8",
   "metadata": {},
   "outputs": [
    {
     "data": {
      "text/plain": [
       "(7, 35, 2, 3, 10, 200)"
      ]
     },
     "execution_count": 4,
     "metadata": {},
     "output_type": "execute_result"
    }
   ],
   "source": [
    "#Masking\n",
    "Array_T = Array\n",
    "Array_Masked = np.mean(Array_T,axis = 6) #Stim Num\n",
    "Array_Ind = Array_Masked != 0 #Everywhere that is not a null value\n",
    "Array_Ind.shape"
   ]
  },
  {
   "cell_type": "code",
   "execution_count": 5,
   "id": "5064ac4e-f829-4fc9-bb94-44cc51e565e8",
   "metadata": {},
   "outputs": [
    {
     "data": {
      "text/plain": [
       "(631764, 500)"
      ]
     },
     "execution_count": 5,
     "metadata": {},
     "output_type": "execute_result"
    }
   ],
   "source": [
    "Array_Mask = Array_T[Array_Ind,:]\n",
    "Array_Mask.shape"
   ]
  },
  {
   "cell_type": "code",
   "execution_count": 6,
   "id": "64a6dea4-c44f-449c-b068-0d88654ba47d",
   "metadata": {},
   "outputs": [],
   "source": [
    "\n",
    "#Assign the values corresponding to each Block\n",
    "Stims = np.zeros(Array_Ind.shape)\n",
    "for i in range(Array_T.shape[5]):\n",
    "    Stims[:,:,:,:,:,i] = i\n",
    "Stims = Stims[Array_Ind].astype(int)\n",
    "\n",
    "#Assign the values corresponding to each Block\n",
    "Block = np.zeros(Array_Ind.shape)\n",
    "for i in range(Array_T.shape[4]):\n",
    "    Block[:,:,:,:,i,:] = i\n",
    "Block = Block[Array_Ind].astype(int)\n",
    "\n",
    "#Assign the values corresponding to each Measure\n",
    "Measure = np.zeros(Array_Ind.shape)\n",
    "for i in range(Array_T.shape[3]):\n",
    "    Measure[:,:,:,i,:,:] = i\n",
    "Measure = Measure[Array_Ind].astype(int)\n",
    "\n",
    "#Assign the values corresponding to each Stim_Type\n",
    "Stim_Type = np.zeros(Array_Ind.shape)\n",
    "for i in range(Array_T.shape[2]):\n",
    "    Stim_Type[:,:,i,:,:,:] = i\n",
    "Stim_Type = Stim_Type[Array_Ind].astype(int)\n",
    "\n",
    "#Assign the values corresponding to each Measure\n",
    "Mouse = np.zeros(Array_Ind.shape)\n",
    "for i in range(Array_T.shape[1]):\n",
    "    Mouse[:,i,:,:,:,:] = i\n",
    "Mouse = Mouse[Array_Ind].astype(int)\n",
    "\n",
    "#Assign the values corresponding to each Measure\n",
    "Day = np.zeros(Array_Ind.shape)\n",
    "for i in range(Array_T.shape[0]):\n",
    "    Day[i,:,:,:,:,:] = i\n",
    "Day = Day[Array_Ind].astype(int)"
   ]
  },
  {
   "cell_type": "code",
   "execution_count": 7,
   "id": "b18e0713-a780-4552-9622-8f8c9381d386",
   "metadata": {},
   "outputs": [
    {
     "name": "stdout",
     "output_type": "stream",
     "text": [
      "[1.23424001 1.16979258 1.18094783 1.20855794 1.18833949 1.18038305\n",
      " 1.1397954  1.18783023 1.22870271 1.25240301]\n",
      "[1.23424001 1.16979258 1.18094783 1.20855794 1.18833949 1.18038305\n",
      " 1.1397954  1.18783023 1.22870271 1.25240301]\n",
      "Array[[1][32][0][2][1][159][0:10]]\n"
     ]
    }
   ],
   "source": [
    "# Understanding the Masked structure\n",
    "X = 200300\n",
    "print(Array_Mask[X][0:10])\n",
    "print(Array_T[Day[X]][Mouse[X]][Stim_Type[X]][Measure[X]][Block[X]][Stims[X]][0:10])\n",
    "print(f'Array[[{Day[X]}][{Mouse[X]}][{Stim_Type[X]}][{Measure[X]}][{Block[X]}][{Stims[X]}][0:10]]')"
   ]
  },
  {
   "cell_type": "code",
   "execution_count": 8,
   "id": "914ddc30-7803-48fe-abce-8451b501ec36",
   "metadata": {},
   "outputs": [],
   "source": [
    "pca = PCA(n_components=10)    # Specify how many components will be calculated\n",
    "\n",
    "scaler = StandardScaler()\n",
    "X = scaler.fit_transform(Array_Mask)"
   ]
  },
  {
   "cell_type": "code",
   "execution_count": 9,
   "id": "0992a6c5-1faf-497b-b025-51e979501dcd",
   "metadata": {},
   "outputs": [],
   "source": [
    "pca.fit(X);                  # Fit\n",
    "DF_reduced = pca.transform(X) # calculate the component scores for the components"
   ]
  },
  {
   "cell_type": "code",
   "execution_count": 10,
   "id": "4b674981-12e6-4bfc-b33e-dd81c3285f18",
   "metadata": {},
   "outputs": [
    {
     "data": {
      "image/png": "[encoded data removed]",
      "text/plain": [
       "<Figure size 500x500 with 2 Axes>"
      ]
     },
     "metadata": {},
     "output_type": "display_data"
    }
   ],
   "source": [
    "# Explained variance plot, in red\n",
    "fig,ax = plt.subplots(figsize=(5,5))\n",
    "ax.plot(pca.explained_variance_ratio_,'r')\n",
    "ax.set_xlabel(\"Component number\", fontsize=14)\n",
    "ax.set_ylabel(\"Explained variance\", color=\"r\", fontsize=14);\n",
    "\n",
    "# Cumulative explained variance plot, in blue\n",
    "ax2=ax.twinx()\n",
    "ax2.plot(np.cumsum(pca.explained_variance_ratio_),'b')\n",
    "ax2.set_ylabel(\"Cumulative explained variance\", color=\"blue\", fontsize=14);"
   ]
  },
  {
   "cell_type": "code",
   "execution_count": 20,
   "id": "7de08785-7250-4535-9333-e05c5178faca",
   "metadata": {},
   "outputs": [
    {
     "data": {
      "image/png": "[encoded data removed]",
      "text/plain": [
       "<Figure size 1000x1000 with 2 Axes>"
      ]
     },
     "metadata": {},
     "output_type": "display_data"
    }
   ],
   "source": [
    "# choose two components to plot\n",
    "cp_x = 0 # x-axis\n",
    "cp_y = 1 # y-axis\n",
    "\n",
    "fig = plt.figure(figsize=(10, 10))\n",
    "plt.scatter(DF_reduced[:,cp_x], DF_reduced[:,cp_y], c=Measure, s=5)# you can vary the indices to plot a different pair of components\n",
    "plt.xlabel(f'PCA component {cp_x+1}', fontsize=15) # add 1 to the label due to Python\n",
    "plt.ylabel(f'PCA component {cp_y+1}', fontsize=15) # add 1 due to Python\n",
    "cbar = plt.colorbar();                             # add a colorbar\n",
    "cbar.set_label('Block', fontsize=15)         # add a colorbar label"
   ]
  },
  {
   "cell_type": "markdown",
   "id": "29863e2f-2a98-4429-958e-1853d28939ae",
   "metadata": {
    "jp-MarkdownHeadingCollapsed": true
   },
   "source": [
    "# Block separated PCA"
   ]
  },
  {
   "cell_type": "code",
   "execution_count": 63,
   "id": "fca1a363-d6ce-433a-a387-206108d8d9e8",
   "metadata": {},
   "outputs": [
    {
     "name": "stdout",
     "output_type": "stream",
     "text": [
      "STARTED ==> 1659115.297562625\n"
     ]
    },
    {
     "name": "stderr",
     "output_type": "stream",
     "text": [
      "Parsing data blocks:  99%|█████▉| 8609728/8692112 [00:00<00:00, 19858995.90it/s]\n",
      "Finalizing data blocks:   0%|                             | 0/3 [00:00<?, ?it/s]\n",
      "Finalizing data blocks for type 1: 100%|████| 56/56 [00:00<00:00, 538717.94it/s]\u001b[A\n",
      "\n",
      "Finalizing data blocks for type 4: 100%|█████████| 4/4 [00:00<00:00, 243.73it/s]\u001b[A\n",
      "\n",
      "Finalizing data blocks for type 5:   0%|                 | 0/56 [00:00<?, ?it/s]\u001b[A\n",
      "Finalizing data blocks for type 5:   2%|▏        | 1/56 [00:00<00:07,  7.65it/s]\u001b[A\n",
      "Finalizing data blocks for type 5:   5%|▍        | 3/56 [00:00<00:04, 12.23it/s]\u001b[A\n",
      "Finalizing data blocks for type 5: 100%|███████| 56/56 [00:00<00:00, 144.26it/s]\u001b[A\n",
      "Finalizing data blocks: 100%|█████████████████████| 3/3 [00:00<00:00,  7.34it/s]\n",
      "Parsing signal channels: 100%|███████████████| 56/56 [00:00<00:00, 94102.97it/s]\n",
      "Parsing spike channels: 0it [00:00, ?it/s]\n",
      "Parsing event channels: 100%|██████████████████| 4/4 [00:00<00:00, 95325.09it/s]\n"
     ]
    },
    {
     "name": "stdout",
     "output_type": "stream",
     "text": [
      "Day: 1, Mouse: 9\n"
     ]
    },
    {
     "name": "stderr",
     "output_type": "stream",
     "text": [
      "Parsing data blocks:  99%|█████▉| 6746560/6828944 [00:00<00:00, 18990695.35it/s]\n",
      "Finalizing data blocks:   0%|                             | 0/3 [00:00<?, ?it/s]\n",
      "Finalizing data blocks for type 1: 100%|████| 56/56 [00:00<00:00, 594635.50it/s]\u001b[A\n",
      "\n",
      "Finalizing data blocks for type 4: 100%|█████████| 4/4 [00:00<00:00, 257.20it/s]\u001b[A\n",
      "\n",
      "Finalizing data blocks for type 5:   0%|                 | 0/56 [00:00<?, ?it/s]\u001b[A\n",
      "Finalizing data blocks for type 5:   2%|▏        | 1/56 [00:00<00:05,  9.85it/s]\u001b[A\n",
      "Finalizing data blocks for type 5:   5%|▍        | 3/56 [00:00<00:03, 15.66it/s]\u001b[A\n",
      "Finalizing data blocks for type 5: 100%|███████| 56/56 [00:00<00:00, 183.57it/s]\u001b[A\n",
      "Finalizing data blocks: 100%|█████████████████████| 3/3 [00:00<00:00,  9.24it/s]\n",
      "Parsing signal channels: 100%|██████████████| 56/56 [00:00<00:00, 116914.40it/s]\n",
      "Parsing spike channels: 0it [00:00, ?it/s]\n",
      "Parsing event channels: 100%|██████████████████| 4/4 [00:00<00:00, 93206.76it/s]\n"
     ]
    },
    {
     "name": "stdout",
     "output_type": "stream",
     "text": [
      "Day: 1, Mouse: 23\n"
     ]
    },
    {
     "name": "stderr",
     "output_type": "stream",
     "text": [
      "Parsing data blocks:  99%|███▉| 10597312/10679696 [00:00<00:00, 17797236.15it/s]\n",
      "Finalizing data blocks:   0%|                             | 0/3 [00:00<?, ?it/s]\n",
      "Finalizing data blocks for type 1: 100%|████| 56/56 [00:00<00:00, 602259.04it/s]\u001b[A\n",
      "\n",
      "Finalizing data blocks for type 4: 100%|█████████| 4/4 [00:00<00:00, 258.66it/s]\u001b[A\n",
      "\n",
      "Finalizing data blocks for type 5:   0%|                 | 0/56 [00:00<?, ?it/s]\u001b[A\n",
      "Finalizing data blocks for type 5:   2%|▏        | 1/56 [00:00<00:08,  6.12it/s]\u001b[A\n",
      "Finalizing data blocks for type 5:   5%|▍        | 3/56 [00:00<00:05,  9.71it/s]\u001b[A\n",
      "Finalizing data blocks for type 5: 100%|███████| 56/56 [00:00<00:00, 114.17it/s]\u001b[A\n",
      "Finalizing data blocks: 100%|█████████████████████| 3/3 [00:00<00:00,  5.88it/s]\n",
      "Parsing signal channels: 100%|██████████████| 56/56 [00:00<00:00, 108490.08it/s]\n",
      "Parsing spike channels: 0it [00:00, ?it/s]\n",
      "Parsing event channels: 100%|██████████████████| 4/4 [00:00<00:00, 78766.27it/s]\n"
     ]
    },
    {
     "name": "stdout",
     "output_type": "stream",
     "text": [
      "Day: 1, Mouse: 27\n"
     ]
    },
    {
     "name": "stderr",
     "output_type": "stream",
     "text": [
      "Parsing data blocks:  99%|█████▉| 9331648/9414032 [00:00<00:00, 17651740.26it/s]\n",
      "Finalizing data blocks:   0%|                             | 0/3 [00:00<?, ?it/s]\n",
      "Finalizing data blocks for type 1: 100%|████| 56/56 [00:00<00:00, 606927.71it/s]\u001b[A\n",
      "\n",
      "Finalizing data blocks for type 4: 100%|█████████| 4/4 [00:00<00:00, 268.37it/s]\u001b[A\n",
      "\n",
      "Finalizing data blocks for type 5:   0%|                 | 0/56 [00:00<?, ?it/s]\u001b[A\n",
      "Finalizing data blocks for type 5:   2%|▏        | 1/56 [00:00<00:07,  7.00it/s]\u001b[A\n",
      "Finalizing data blocks for type 5:   5%|▍        | 3/56 [00:00<00:04, 11.36it/s]\u001b[A\n",
      "Finalizing data blocks for type 5: 100%|███████| 56/56 [00:00<00:00, 133.39it/s]\u001b[A\n",
      "Finalizing data blocks: 100%|█████████████████████| 3/3 [00:00<00:00,  6.84it/s]\n",
      "Parsing signal channels: 100%|██████████████| 56/56 [00:00<00:00, 105469.70it/s]\n",
      "Parsing spike channels: 0it [00:00, ?it/s]\n",
      "Parsing event channels: 100%|██████████████████| 4/4 [00:00<00:00, 78398.21it/s]\n"
     ]
    },
    {
     "name": "stdout",
     "output_type": "stream",
     "text": [
      "Day: 1, Mouse: 8\n"
     ]
    },
    {
     "name": "stderr",
     "output_type": "stream",
     "text": [
      "Parsing data blocks:  99%|███▉| 10896064/10978448 [00:00<00:00, 17392269.17it/s]\n",
      "Finalizing data blocks:   0%|                             | 0/3 [00:00<?, ?it/s]\n",
      "Finalizing data blocks for type 1: 100%|████| 56/56 [00:00<00:00, 608500.06it/s]\u001b[A\n",
      "\n",
      "Finalizing data blocks for type 4: 100%|█████████| 4/4 [00:00<00:00, 268.89it/s]\u001b[A\n",
      "\n",
      "Finalizing data blocks for type 5:   0%|                 | 0/56 [00:00<?, ?it/s]\u001b[A\n",
      "Finalizing data blocks for type 5:   2%|▏        | 1/56 [00:00<00:09,  5.95it/s]\u001b[A\n",
      "Finalizing data blocks for type 5:   5%|▍        | 3/56 [00:00<00:05,  9.52it/s]\u001b[A\n",
      "Finalizing data blocks for type 5: 100%|███████| 56/56 [00:00<00:00, 111.27it/s]\u001b[A\n",
      "Finalizing data blocks: 100%|█████████████████████| 3/3 [00:00<00:00,  5.75it/s]\n",
      "Parsing signal channels: 100%|██████████████| 56/56 [00:00<00:00, 110272.78it/s]\n",
      "Parsing spike channels: 0it [00:00, ?it/s]\n",
      "Parsing event channels: 100%|██████████████████| 4/4 [00:00<00:00, 88768.34it/s]\n"
     ]
    },
    {
     "name": "stdout",
     "output_type": "stream",
     "text": [
      "Day: 1, Mouse: 26\n"
     ]
    },
    {
     "name": "stderr",
     "output_type": "stream",
     "text": [
      "Parsing data blocks:  99%|█████▉| 6430144/6512528 [00:00<00:00, 17943058.98it/s]\n",
      "Finalizing data blocks:   0%|                             | 0/3 [00:00<?, ?it/s]\n",
      "Finalizing data blocks for type 1: 100%|████| 56/56 [00:00<00:00, 543706.07it/s]\u001b[A\n",
      "\n",
      "Finalizing data blocks for type 4: 100%|█████████| 4/4 [00:00<00:00, 279.56it/s]\u001b[A\n",
      "\n",
      "Finalizing data blocks for type 5:   0%|                 | 0/56 [00:00<?, ?it/s]\u001b[A\n",
      "Finalizing data blocks for type 5: 100%|███████| 56/56 [00:00<00:00, 187.15it/s]\u001b[A\n",
      "Finalizing data blocks: 100%|█████████████████████| 3/3 [00:00<00:00,  9.45it/s]\n",
      "Parsing signal channels: 100%|██████████████| 56/56 [00:00<00:00, 151731.93it/s]\n",
      "Parsing spike channels: 0it [00:00, ?it/s]\n",
      "Parsing event channels: 100%|█████████████████| 4/4 [00:00<00:00, 102927.71it/s]\n"
     ]
    },
    {
     "name": "stdout",
     "output_type": "stream",
     "text": [
      "Day: 1, Mouse: 22\n"
     ]
    },
    {
     "name": "stderr",
     "output_type": "stream",
     "text": [
      "Parsing data blocks:  99%|█████▉| 9305536/9387920 [00:00<00:00, 16632240.55it/s]\n",
      "Finalizing data blocks:   0%|                             | 0/3 [00:00<?, ?it/s]\n",
      "Finalizing data blocks for type 1: 100%|████| 56/56 [00:00<00:00, 335065.65it/s]\u001b[A\n",
      "\n",
      "Finalizing data blocks for type 4: 100%|█████████| 4/4 [00:00<00:00, 267.58it/s]\u001b[A\n",
      "\n",
      "Finalizing data blocks for type 5:   0%|                 | 0/56 [00:00<?, ?it/s]\u001b[A\n",
      "Finalizing data blocks for type 5:   2%|▏        | 1/56 [00:00<00:09,  5.92it/s]\u001b[A\n",
      "Finalizing data blocks for type 5:   5%|▍        | 3/56 [00:00<00:05, 10.30it/s]\u001b[A\n",
      "Finalizing data blocks for type 5: 100%|███████| 56/56 [00:00<00:00, 119.75it/s]\u001b[A\n",
      "Finalizing data blocks: 100%|█████████████████████| 3/3 [00:00<00:00,  6.06it/s]\n",
      "Parsing signal channels: 100%|███████████████| 56/56 [00:00<00:00, 84307.62it/s]\n",
      "Parsing spike channels: 0it [00:00, ?it/s]\n",
      "Parsing event channels: 100%|██████████████████| 4/4 [00:00<00:00, 93206.76it/s]\n"
     ]
    },
    {
     "name": "stdout",
     "output_type": "stream",
     "text": [
      "Day: 1, Mouse: 25\n"
     ]
    },
    {
     "name": "stderr",
     "output_type": "stream",
     "text": [
      "Parsing data blocks:  99%|████▉| 9987520/10069904 [00:00<00:00, 18054871.02it/s]\n",
      "Finalizing data blocks:   0%|                             | 0/3 [00:00<?, ?it/s]\n",
      "Finalizing data blocks for type 1: 100%|████| 56/56 [00:00<00:00, 614871.79it/s]\u001b[A\n",
      "\n",
      "Finalizing data blocks for type 4: 100%|█████████| 4/4 [00:00<00:00, 246.85it/s]\u001b[A\n",
      "\n",
      "Finalizing data blocks for type 5:   0%|                 | 0/56 [00:00<?, ?it/s]\u001b[A\n",
      "Finalizing data blocks for type 5:   2%|▏        | 1/56 [00:00<00:08,  6.54it/s]\u001b[A\n",
      "Finalizing data blocks for type 5:   5%|▍        | 3/56 [00:00<00:05, 10.32it/s]\u001b[A\n",
      "Finalizing data blocks for type 5: 100%|███████| 56/56 [00:00<00:00, 121.40it/s]\u001b[A\n",
      "Finalizing data blocks: 100%|█████████████████████| 3/3 [00:00<00:00,  6.23it/s]\n",
      "Parsing signal channels: 100%|██████████████| 56/56 [00:00<00:00, 102166.60it/s]\n",
      "Parsing spike channels: 0it [00:00, ?it/s]\n",
      "Parsing event channels: 100%|██████████████████| 4/4 [00:00<00:00, 93727.46it/s]\n"
     ]
    },
    {
     "name": "stdout",
     "output_type": "stream",
     "text": [
      "Day: 1, Mouse: 21\n"
     ]
    },
    {
     "name": "stderr",
     "output_type": "stream",
     "text": [
      "Parsing data blocks:  99%|█████▉| 6457024/6539408 [00:00<00:00, 18395913.63it/s]\n",
      "Finalizing data blocks:   0%|                             | 0/3 [00:00<?, ?it/s]\n",
      "Finalizing data blocks for type 1: 100%|████| 56/56 [00:00<00:00, 636533.94it/s]\u001b[A\n",
      "\n",
      "Finalizing data blocks for type 4: 100%|█████████| 4/4 [00:00<00:00, 271.77it/s]\u001b[A\n",
      "\n",
      "Finalizing data blocks for type 5:   0%|                 | 0/56 [00:00<?, ?it/s]\u001b[A\n",
      "Finalizing data blocks for type 5: 100%|███████| 56/56 [00:00<00:00, 187.56it/s]\u001b[A\n",
      "Finalizing data blocks: 100%|█████████████████████| 3/3 [00:00<00:00,  9.46it/s]\n",
      "Parsing signal channels: 100%|██████████████| 56/56 [00:00<00:00, 135300.13it/s]\n",
      "Parsing spike channels: 0it [00:00, ?it/s]\n",
      "Parsing event channels: 100%|██████████████████| 4/4 [00:00<00:00, 98112.37it/s]\n"
     ]
    },
    {
     "name": "stdout",
     "output_type": "stream",
     "text": [
      "Day: 1, Mouse: 18\n"
     ]
    },
    {
     "name": "stderr",
     "output_type": "stream",
     "text": [
      "Parsing data blocks:  99%|█████▉| 8222656/8305040 [00:00<00:00, 17677841.11it/s]\n",
      "Finalizing data blocks:   0%|                             | 0/3 [00:00<?, ?it/s]\n",
      "Finalizing data blocks for type 1: 100%|████| 56/56 [00:00<00:00, 582831.33it/s]\u001b[A\n",
      "\n",
      "Finalizing data blocks for type 4: 100%|█████████| 4/4 [00:00<00:00, 252.18it/s]\u001b[A\n",
      "\n",
      "Finalizing data blocks for type 5:   0%|                 | 0/56 [00:00<?, ?it/s]\u001b[A\n",
      "Finalizing data blocks for type 5:   2%|▏        | 1/56 [00:00<00:06,  8.01it/s]\u001b[A\n",
      "Finalizing data blocks for type 5:   5%|▍        | 3/56 [00:00<00:04, 12.72it/s]\u001b[A\n",
      "Finalizing data blocks for type 5: 100%|███████| 56/56 [00:00<00:00, 148.97it/s]\u001b[A\n",
      "Finalizing data blocks: 100%|█████████████████████| 3/3 [00:00<00:00,  7.58it/s]\n",
      "Parsing signal channels: 100%|██████████████| 56/56 [00:00<00:00, 114297.34it/s]\n",
      "Parsing spike channels: 0it [00:00, ?it/s]\n",
      "Parsing event channels: 100%|██████████████████| 4/4 [00:00<00:00, 99864.38it/s]\n"
     ]
    },
    {
     "name": "stdout",
     "output_type": "stream",
     "text": [
      "Day: 1, Mouse: 20\n"
     ]
    },
    {
     "name": "stderr",
     "output_type": "stream",
     "text": [
      "Parsing data blocks:  99%|█████▉| 6440128/6522512 [00:00<00:00, 16667862.50it/s]\n",
      "Finalizing data blocks:   0%|                             | 0/3 [00:00<?, ?it/s]\n",
      "Finalizing data blocks for type 1: 100%|████| 56/56 [00:00<00:00, 641751.43it/s]\u001b[A\n",
      "\n",
      "Finalizing data blocks for type 4: 100%|█████████| 4/4 [00:00<00:00, 268.60it/s]\u001b[A\n",
      "\n",
      "Finalizing data blocks for type 5:   0%|                 | 0/56 [00:00<?, ?it/s]\u001b[A\n",
      "Finalizing data blocks for type 5: 100%|███████| 56/56 [00:00<00:00, 185.11it/s]\u001b[A\n",
      "Finalizing data blocks: 100%|█████████████████████| 3/3 [00:00<00:00,  9.34it/s]\n",
      "Parsing signal channels: 100%|██████████████| 56/56 [00:00<00:00, 152223.61it/s]\n",
      "Parsing spike channels: 0it [00:00, ?it/s]\n",
      "Parsing event channels: 100%|██████████████████| 4/4 [00:00<00:00, 95325.09it/s]\n"
     ]
    },
    {
     "name": "stdout",
     "output_type": "stream",
     "text": [
      "Day: 1, Mouse: 24\n"
     ]
    },
    {
     "name": "stderr",
     "output_type": "stream",
     "text": [
      "Parsing data blocks:  99%|█████▉| 8433856/8516240 [00:00<00:00, 21377574.11it/s]\n",
      "Finalizing data blocks:   0%|                             | 0/3 [00:00<?, ?it/s]\n",
      "Finalizing data blocks for type 1: 100%|████| 56/56 [00:00<00:00, 474507.12it/s]\u001b[A\n",
      "\n",
      "Finalizing data blocks for type 4: 100%|█████████| 4/4 [00:00<00:00, 246.21it/s]\u001b[A\n",
      "\n",
      "Finalizing data blocks for type 5:   0%|                 | 0/56 [00:00<?, ?it/s]\u001b[A\n",
      "Finalizing data blocks for type 5:   2%|▏        | 1/56 [00:00<00:08,  6.54it/s]\u001b[A\n",
      "Finalizing data blocks for type 5:   5%|▍        | 3/56 [00:00<00:04, 11.10it/s]\u001b[A\n",
      "Finalizing data blocks for type 5: 100%|███████| 56/56 [00:00<00:00, 134.43it/s]\u001b[A\n",
      "Finalizing data blocks: 100%|█████████████████████| 3/3 [00:00<00:00,  6.85it/s]\n",
      "Parsing signal channels: 100%|██████████████| 56/56 [00:00<00:00, 123556.56it/s]\n",
      "Parsing spike channels: 0it [00:00, ?it/s]\n",
      "Parsing event channels: 100%|██████████████████| 4/4 [00:00<00:00, 76959.71it/s]\n"
     ]
    },
    {
     "name": "stdout",
     "output_type": "stream",
     "text": [
      "Day: 1, Mouse: 19\n"
     ]
    },
    {
     "name": "stderr",
     "output_type": "stream",
     "text": [
      "Parsing data blocks:  99%|█████▉| 8890816/8973200 [00:00<00:00, 17505742.46it/s]\n",
      "Finalizing data blocks:   0%|                             | 0/3 [00:00<?, ?it/s]\n",
      "Finalizing data blocks for type 1: 100%|████| 56/56 [00:00<00:00, 588674.25it/s]\u001b[A\n",
      "\n",
      "Finalizing data blocks for type 4: 100%|█████████| 4/4 [00:00<00:00, 231.23it/s]\u001b[A\n",
      "\n",
      "Finalizing data blocks for type 5:   0%|                 | 0/56 [00:00<?, ?it/s]\u001b[A\n",
      "Finalizing data blocks for type 5:   2%|▏        | 1/56 [00:00<00:07,  7.21it/s]\u001b[A\n",
      "Finalizing data blocks for type 5:   5%|▍        | 3/56 [00:00<00:04, 11.60it/s]\u001b[A\n",
      "Finalizing data blocks for type 5: 100%|███████| 56/56 [00:00<00:00, 136.95it/s]\u001b[A\n",
      "Finalizing data blocks: 100%|█████████████████████| 3/3 [00:00<00:00,  6.97it/s]\n",
      "Parsing signal channels: 100%|██████████████| 56/56 [00:00<00:00, 110897.56it/s]\n",
      "Parsing spike channels: 0it [00:00, ?it/s]\n",
      "Parsing event channels: 100%|█████████████████| 4/4 [00:00<00:00, 102300.10it/s]\n"
     ]
    },
    {
     "name": "stdout",
     "output_type": "stream",
     "text": [
      "Day: 1, Mouse: 17\n"
     ]
    },
    {
     "name": "stderr",
     "output_type": "stream",
     "text": [
      "Parsing data blocks:  99%|█████▉| 6049984/6132368 [00:00<00:00, 18570865.54it/s]\n",
      "Finalizing data blocks:   0%|                             | 0/3 [00:00<?, ?it/s]\n",
      "Finalizing data blocks for type 1: 100%|████| 56/56 [00:00<00:00, 629707.84it/s]\u001b[A\n",
      "\n",
      "Finalizing data blocks for type 4: 100%|█████████| 4/4 [00:00<00:00, 252.54it/s]\u001b[A\n",
      "\n",
      "Finalizing data blocks for type 5:   0%|                 | 0/56 [00:00<?, ?it/s]\u001b[A\n",
      "Finalizing data blocks for type 5: 100%|███████| 56/56 [00:00<00:00, 204.96it/s]\u001b[A\n",
      "Finalizing data blocks: 100%|█████████████████████| 3/3 [00:00<00:00, 10.25it/s]\n",
      "Parsing signal channels: 100%|██████████████| 56/56 [00:00<00:00, 116914.40it/s]\n",
      "Parsing spike channels: 0it [00:00, ?it/s]\n",
      "Parsing event channels: 100%|█████████████████| 4/4 [00:00<00:00, 111107.39it/s]\n"
     ]
    },
    {
     "name": "stdout",
     "output_type": "stream",
     "text": [
      "Day: 1, Mouse: 4\n"
     ]
    },
    {
     "name": "stderr",
     "output_type": "stream",
     "text": [
      "Parsing data blocks:  98%|█████▉| 4050880/4133264 [00:00<00:00, 17760875.85it/s]\n",
      "Finalizing data blocks:   0%|                             | 0/3 [00:00<?, ?it/s]\n",
      "Finalizing data blocks for type 1: 100%|████| 56/56 [00:00<00:00, 590153.33it/s]\u001b[A\n",
      "\n",
      "Finalizing data blocks for type 4: 100%|█████████| 4/4 [00:00<00:00, 222.32it/s]\u001b[A\n",
      "\n",
      "Finalizing data blocks for type 5:   0%|                 | 0/56 [00:00<?, ?it/s]\u001b[A\n",
      "Finalizing data blocks for type 5: 100%|███████| 56/56 [00:00<00:00, 305.88it/s]\u001b[A\n",
      "Finalizing data blocks: 100%|█████████████████████| 3/3 [00:00<00:00, 14.62it/s]\n",
      "Parsing signal channels: 100%|██████████████| 56/56 [00:00<00:00, 152520.15it/s]\n",
      "Parsing spike channels: 0it [00:00, ?it/s]\n",
      "Parsing event channels: 100%|██████████████████| 4/4 [00:00<00:00, 93206.76it/s]\n"
     ]
    },
    {
     "name": "stdout",
     "output_type": "stream",
     "text": [
      "Day: 1, Mouse: 13\n"
     ]
    },
    {
     "name": "stderr",
     "output_type": "stream",
     "text": [
      "Parsing data blocks:  99%|█████▉| 9752512/9834896 [00:00<00:00, 18897072.56it/s]\n",
      "Finalizing data blocks:   0%|                             | 0/3 [00:00<?, ?it/s]\n",
      "Finalizing data blocks for type 1: 100%|████| 56/56 [00:00<00:00, 602259.04it/s]\u001b[A\n",
      "\n",
      "Finalizing data blocks for type 4: 100%|█████████| 4/4 [00:00<00:00, 256.34it/s]\u001b[A\n",
      "\n",
      "Finalizing data blocks for type 5:   0%|                 | 0/56 [00:00<?, ?it/s]\u001b[A\n",
      "Finalizing data blocks for type 5:   2%|▏        | 1/56 [00:00<00:08,  6.65it/s]\u001b[A\n",
      "Finalizing data blocks for type 5:   5%|▍        | 3/56 [00:00<00:04, 10.62it/s]\u001b[A\n",
      "Finalizing data blocks for type 5: 100%|███████| 56/56 [00:00<00:00, 124.71it/s]\u001b[A\n",
      "Finalizing data blocks: 100%|█████████████████████| 3/3 [00:00<00:00,  6.40it/s]\n",
      "Parsing signal channels: 100%|██████████████| 56/56 [00:00<00:00, 113798.95it/s]\n",
      "Parsing spike channels: 0it [00:00, ?it/s]\n",
      "Parsing event channels: 100%|██████████████████| 4/4 [00:00<00:00, 96978.13it/s]\n"
     ]
    },
    {
     "name": "stdout",
     "output_type": "stream",
     "text": [
      "Day: 1, Mouse: 33\n"
     ]
    },
    {
     "name": "stderr",
     "output_type": "stream",
     "text": [
      "Parsing data blocks:  98%|█████▉| 4048576/4130960 [00:00<00:00, 17566920.72it/s]\n",
      "Finalizing data blocks:   0%|                             | 0/3 [00:00<?, ?it/s]\n",
      "Finalizing data blocks for type 1: 100%|████| 56/56 [00:00<00:00, 628024.13it/s]\u001b[A\n",
      "\n",
      "Finalizing data blocks for type 4: 100%|█████████| 4/4 [00:00<00:00, 259.81it/s]\u001b[A\n",
      "\n",
      "Finalizing data blocks for type 5:   0%|                 | 0/56 [00:00<?, ?it/s]\u001b[A\n",
      "Finalizing data blocks for type 5: 100%|███████| 56/56 [00:00<00:00, 304.99it/s]\u001b[A\n",
      "Finalizing data blocks: 100%|█████████████████████| 3/3 [00:00<00:00, 14.76it/s]\n",
      "Parsing signal channels: 100%|██████████████| 56/56 [00:00<00:00, 203712.94it/s]\n",
      "Parsing spike channels: 0it [00:00, ?it/s]\n",
      "Parsing event channels: 100%|██████████████████| 4/4 [00:00<00:00, 88768.34it/s]\n"
     ]
    },
    {
     "name": "stdout",
     "output_type": "stream",
     "text": [
      "Day: 1, Mouse: 12\n"
     ]
    },
    {
     "name": "stderr",
     "output_type": "stream",
     "text": [
      "Parsing data blocks:  99%|███▉| 14214592/14296976 [00:00<00:00, 18014320.15it/s]\n",
      "Finalizing data blocks:   0%|                             | 0/3 [00:00<?, ?it/s]\n",
      "Finalizing data blocks for type 1: 100%|████| 56/56 [00:00<00:00, 596144.73it/s]\u001b[A\n",
      "\n",
      "Finalizing data blocks for type 4: 100%|█████████| 4/4 [00:00<00:00, 266.74it/s]\u001b[A\n",
      "\n",
      "Finalizing data blocks for type 5:   0%|                 | 0/56 [00:00<?, ?it/s]\u001b[A\n",
      "Finalizing data blocks for type 5:   2%|▏        | 1/56 [00:00<00:12,  4.51it/s]\u001b[A\n",
      "Finalizing data blocks for type 5:   5%|▍        | 3/56 [00:00<00:07,  7.11it/s]\u001b[A\n",
      "Finalizing data blocks for type 5: 100%|████████| 56/56 [00:00<00:00, 83.46it/s]\u001b[A\n",
      "Finalizing data blocks: 100%|█████████████████████| 3/3 [00:00<00:00,  4.35it/s]\n",
      "Parsing signal channels: 100%|███████████████| 56/56 [00:00<00:00, 99105.92it/s]\n",
      "Parsing spike channels: 0it [00:00, ?it/s]\n",
      "Parsing event channels: 100%|██████████████████| 4/4 [00:00<00:00, 95325.09it/s]\n"
     ]
    },
    {
     "name": "stdout",
     "output_type": "stream",
     "text": [
      "Day: 1, Mouse: 5\n"
     ]
    },
    {
     "name": "stderr",
     "output_type": "stream",
     "text": [
      "Parsing data blocks:  99%|█████▉| 9299392/9381776 [00:00<00:00, 17289203.23it/s]\n",
      "Finalizing data blocks:   0%|                             | 0/3 [00:00<?, ?it/s]\n",
      "Finalizing data blocks for type 1: 100%|████| 56/56 [00:00<00:00, 631400.60it/s]\u001b[A\n",
      "\n",
      "Finalizing data blocks for type 4: 100%|█████████| 4/4 [00:00<00:00, 246.82it/s]\u001b[A\n",
      "\n",
      "Finalizing data blocks for type 5:   0%|                 | 0/56 [00:00<?, ?it/s]\u001b[A\n",
      "Finalizing data blocks for type 5:   2%|▏        | 1/56 [00:00<00:07,  7.21it/s]\u001b[A\n",
      "Finalizing data blocks for type 5:   5%|▍        | 3/56 [00:00<00:04, 11.41it/s]\u001b[A\n",
      "Finalizing data blocks for type 5: 100%|███████| 56/56 [00:00<00:00, 133.70it/s]\u001b[A\n",
      "Finalizing data blocks: 100%|█████████████████████| 3/3 [00:00<00:00,  6.84it/s]\n",
      "Parsing signal channels: 100%|██████████████| 56/56 [00:00<00:00, 125604.83it/s]\n",
      "Parsing spike channels: 0it [00:00, ?it/s]\n",
      "Parsing event channels: 100%|██████████████████| 4/4 [00:00<00:00, 95325.09it/s]\n"
     ]
    },
    {
     "name": "stdout",
     "output_type": "stream",
     "text": [
      "Day: 1, Mouse: 16\n"
     ]
    },
    {
     "name": "stderr",
     "output_type": "stream",
     "text": [
      "Parsing data blocks:  99%|█████▉| 8052160/8134544 [00:00<00:00, 16878147.50it/s]\n",
      "Finalizing data blocks:   0%|                             | 0/3 [00:00<?, ?it/s]\n",
      "Finalizing data blocks for type 1: 100%|████| 56/56 [00:00<00:00, 629707.84it/s]\u001b[A\n",
      "\n",
      "Finalizing data blocks for type 4: 100%|█████████| 4/4 [00:00<00:00, 260.77it/s]\u001b[A\n",
      "\n",
      "Finalizing data blocks for type 5:   0%|                 | 0/56 [00:00<?, ?it/s]\u001b[A\n",
      "Finalizing data blocks for type 5:   2%|▏        | 1/56 [00:00<00:06,  8.26it/s]\u001b[A\n",
      "Finalizing data blocks for type 5:   5%|▍        | 3/56 [00:00<00:04, 13.10it/s]\u001b[A\n",
      "Finalizing data blocks for type 5: 100%|███████| 56/56 [00:00<00:00, 154.39it/s]\u001b[A\n",
      "Finalizing data blocks: 100%|█████████████████████| 3/3 [00:00<00:00,  7.82it/s]\n",
      "Parsing signal channels: 100%|███████████████| 56/56 [00:00<00:00, 86864.28it/s]\n",
      "Parsing spike channels: 0it [00:00, ?it/s]\n",
      "Parsing event channels: 100%|██████████████████| 4/4 [00:00<00:00, 88768.34it/s]\n"
     ]
    },
    {
     "name": "stdout",
     "output_type": "stream",
     "text": [
      "Day: 1, Mouse: 1\n"
     ]
    },
    {
     "name": "stderr",
     "output_type": "stream",
     "text": [
      "Parsing data blocks:  99%|███▉| 11965888/12048272 [00:00<00:00, 17097816.64it/s]\n",
      "Finalizing data blocks:   0%|                             | 0/3 [00:00<?, ?it/s]\n",
      "Finalizing data blocks for type 1: 100%|████| 56/56 [00:00<00:00, 606927.71it/s]\u001b[A\n",
      "\n",
      "Finalizing data blocks for type 4: 100%|█████████| 4/4 [00:00<00:00, 252.38it/s]\u001b[A\n",
      "\n",
      "Finalizing data blocks for type 5:   0%|                 | 0/56 [00:00<?, ?it/s]\u001b[A\n",
      "Finalizing data blocks for type 5:   2%|▏        | 1/56 [00:00<00:10,  5.41it/s]\u001b[A\n",
      "Finalizing data blocks for type 5:   5%|▍        | 3/56 [00:00<00:06,  8.60it/s]\u001b[A\n",
      "Finalizing data blocks for type 5: 100%|███████| 56/56 [00:00<00:00, 101.15it/s]\u001b[A\n",
      "Finalizing data blocks: 100%|█████████████████████| 3/3 [00:00<00:00,  5.23it/s]\n",
      "Parsing signal channels: 100%|██████████████| 56/56 [00:00<00:00, 100893.91it/s]\n",
      "Parsing spike channels: 0it [00:00, ?it/s]\n",
      "Parsing event channels: 100%|██████████████████| 4/4 [00:00<00:00, 97541.95it/s]\n"
     ]
    },
    {
     "name": "stdout",
     "output_type": "stream",
     "text": [
      "Day: 1, Mouse: 32\n"
     ]
    },
    {
     "name": "stderr",
     "output_type": "stream",
     "text": [
      "Parsing data blocks:  99%|█████▉| 9745600/9827984 [00:00<00:00, 16786407.05it/s]\n",
      "Finalizing data blocks:   0%|                             | 0/3 [00:00<?, ?it/s]\n",
      "Finalizing data blocks for type 1: 100%|████| 56/56 [00:00<00:00, 588674.25it/s]\u001b[A\n",
      "\n",
      "Finalizing data blocks for type 4: 100%|█████████| 4/4 [00:00<00:00, 249.25it/s]\u001b[A\n",
      "\n",
      "Finalizing data blocks for type 5:   0%|                 | 0/56 [00:00<?, ?it/s]\u001b[A\n",
      "Finalizing data blocks for type 5:   2%|▏        | 1/56 [00:00<00:08,  6.73it/s]\u001b[A\n",
      "Finalizing data blocks for type 5:   5%|▍        | 3/56 [00:00<00:04, 10.63it/s]\u001b[A\n",
      "Finalizing data blocks for type 5: 100%|███████| 56/56 [00:00<00:00, 125.68it/s]\u001b[A\n",
      "Finalizing data blocks: 100%|█████████████████████| 3/3 [00:00<00:00,  6.44it/s]\n",
      "Parsing signal channels: 100%|██████████████| 56/56 [00:00<00:00, 115704.94it/s]\n",
      "Parsing spike channels: 0it [00:00, ?it/s]\n",
      "Parsing event channels: 100%|██████████████████| 4/4 [00:00<00:00, 92691.80it/s]\n"
     ]
    },
    {
     "name": "stdout",
     "output_type": "stream",
     "text": [
      "Day: 1, Mouse: 28\n"
     ]
    },
    {
     "name": "stderr",
     "output_type": "stream",
     "text": [
      "Parsing data blocks:  99%|█████▉| 7974592/8056976 [00:00<00:00, 17164977.07it/s]\n",
      "Finalizing data blocks:   0%|                             | 0/3 [00:00<?, ?it/s]\n",
      "Finalizing data blocks for type 1: 100%|████| 56/56 [00:00<00:00, 624683.57it/s]\u001b[A\n",
      "\n",
      "Finalizing data blocks for type 4: 100%|█████████| 4/4 [00:00<00:00, 250.88it/s]\u001b[A\n",
      "\n",
      "Finalizing data blocks for type 5:   0%|                 | 0/56 [00:00<?, ?it/s]\u001b[A\n",
      "Finalizing data blocks for type 5:   2%|▏        | 1/56 [00:00<00:06,  8.23it/s]\u001b[A\n",
      "Finalizing data blocks for type 5:   5%|▍        | 3/56 [00:00<00:04, 13.02it/s]\u001b[A\n",
      "Finalizing data blocks for type 5: 100%|███████| 56/56 [00:00<00:00, 153.11it/s]\u001b[A\n",
      "Finalizing data blocks: 100%|█████████████████████| 3/3 [00:00<00:00,  7.78it/s]\n",
      "Parsing signal channels: 100%|██████████████| 56/56 [00:00<00:00, 111318.02it/s]\n",
      "Parsing spike channels: 0it [00:00, ?it/s]\n",
      "Parsing event channels: 100%|██████████████████| 4/4 [00:00<00:00, 90687.65it/s]\n"
     ]
    },
    {
     "name": "stdout",
     "output_type": "stream",
     "text": [
      "Day: 1, Mouse: 31\n"
     ]
    },
    {
     "name": "stderr",
     "output_type": "stream",
     "text": [
      "Parsing data blocks:  99%|███▉| 15322048/15404432 [00:00<00:00, 17595326.05it/s]\n",
      "Finalizing data blocks:   0%|                             | 0/3 [00:00<?, ?it/s]\n",
      "Finalizing data blocks for type 1: 100%|████| 56/56 [00:00<00:00, 621378.37it/s]\u001b[A\n",
      "\n",
      "Finalizing data blocks for type 4: 100%|█████████| 4/4 [00:00<00:00, 251.21it/s]\u001b[A\n",
      "\n",
      "Finalizing data blocks for type 5:   0%|                 | 0/56 [00:00<?, ?it/s]\u001b[A\n",
      "Finalizing data blocks for type 5:   2%|▏        | 1/56 [00:00<00:13,  4.21it/s]\u001b[A\n",
      "Finalizing data blocks for type 5:   5%|▍        | 3/56 [00:00<00:07,  6.63it/s]\u001b[A\n",
      "Finalizing data blocks for type 5: 100%|████████| 56/56 [00:00<00:00, 77.73it/s]\u001b[A\n",
      "Finalizing data blocks: 100%|█████████████████████| 3/3 [00:00<00:00,  4.05it/s]\n",
      "Parsing signal channels: 100%|██████████████| 56/56 [00:00<00:00, 141836.37it/s]\n",
      "Parsing spike channels: 0it [00:00, ?it/s]\n",
      "Parsing event channels: 100%|██████████████████| 4/4 [00:00<00:00, 97541.95it/s]\n"
     ]
    },
    {
     "name": "stdout",
     "output_type": "stream",
     "text": [
      "Day: 1, Mouse: 35\n"
     ]
    },
    {
     "name": "stderr",
     "output_type": "stream",
     "text": [
      "Parsing data blocks:  99%|███▉| 10279360/10361744 [00:00<00:00, 19254167.93it/s]\n",
      "Finalizing data blocks:   0%|                             | 0/3 [00:00<?, ?it/s]\n",
      "Finalizing data blocks for type 1: 100%|████| 56/56 [00:00<00:00, 614871.79it/s]\u001b[A\n",
      "\n",
      "Finalizing data blocks for type 4: 100%|█████████| 4/4 [00:00<00:00, 244.32it/s]\u001b[A\n",
      "\n",
      "Finalizing data blocks for type 5:   0%|                 | 0/56 [00:00<?, ?it/s]\u001b[A\n",
      "Finalizing data blocks for type 5:   2%|▏        | 1/56 [00:00<00:08,  6.48it/s]\u001b[A\n",
      "Finalizing data blocks for type 5:   5%|▍        | 3/56 [00:00<00:05, 10.30it/s]\u001b[A\n",
      "Finalizing data blocks for type 5: 100%|███████| 56/56 [00:00<00:00, 121.87it/s]\u001b[A\n",
      "Finalizing data blocks: 100%|█████████████████████| 3/3 [00:00<00:00,  6.25it/s]\n",
      "Parsing signal channels: 100%|███████████████| 56/56 [00:00<00:00, 96898.11it/s]\n",
      "Parsing spike channels: 0it [00:00, ?it/s]\n",
      "Parsing event channels: 100%|██████████████████| 4/4 [00:00<00:00, 93206.76it/s]\n"
     ]
    },
    {
     "name": "stdout",
     "output_type": "stream",
     "text": [
      "Day: 1, Mouse: 6\n"
     ]
    },
    {
     "name": "stderr",
     "output_type": "stream",
     "text": [
      "Parsing data blocks:  98%|█████▉| 4047808/4130192 [00:00<00:00, 20692722.44it/s]\n",
      "Finalizing data blocks:   0%|                             | 0/3 [00:00<?, ?it/s]\n",
      "Finalizing data blocks for type 1: 100%|████| 56/56 [00:00<00:00, 659778.16it/s]\u001b[A\n",
      "\n",
      "Finalizing data blocks for type 4: 100%|█████████| 4/4 [00:00<00:00, 241.14it/s]\u001b[A\n",
      "\n",
      "Finalizing data blocks for type 5:   0%|                 | 0/56 [00:00<?, ?it/s]\u001b[A\n",
      "Finalizing data blocks for type 5: 100%|███████| 56/56 [00:00<00:00, 269.29it/s]\u001b[A\n",
      "Finalizing data blocks: 100%|█████████████████████| 3/3 [00:00<00:00, 13.12it/s]\n",
      "Parsing signal channels: 100%|██████████████| 56/56 [00:00<00:00, 118626.78it/s]\n",
      "Parsing spike channels: 0it [00:00, ?it/s]\n",
      "Parsing event channels: 100%|██████████████████| 4/4 [00:00<00:00, 76959.71it/s]\n"
     ]
    },
    {
     "name": "stdout",
     "output_type": "stream",
     "text": [
      "Day: 1, Mouse: 15\n"
     ]
    },
    {
     "name": "stderr",
     "output_type": "stream",
     "text": [
      "Parsing data blocks:  99%|█████▉| 8098240/8180624 [00:00<00:00, 20523701.94it/s]\n",
      "Finalizing data blocks:   0%|                             | 0/3 [00:00<?, ?it/s]\n",
      "Finalizing data blocks for type 1: 100%|████| 56/56 [00:00<00:00, 555274.29it/s]\u001b[A\n",
      "\n",
      "Finalizing data blocks for type 4: 100%|█████████| 4/4 [00:00<00:00, 239.72it/s]\u001b[A\n",
      "\n",
      "Finalizing data blocks for type 5:   0%|                 | 0/56 [00:00<?, ?it/s]\u001b[A\n",
      "Finalizing data blocks for type 5:   2%|▏        | 1/56 [00:00<00:06,  8.10it/s]\u001b[A\n",
      "Finalizing data blocks for type 5:   5%|▍        | 3/56 [00:00<00:04, 12.81it/s]\u001b[A\n",
      "Finalizing data blocks for type 5: 100%|███████| 56/56 [00:00<00:00, 149.79it/s]\u001b[A\n",
      "Finalizing data blocks: 100%|█████████████████████| 3/3 [00:00<00:00,  7.60it/s]\n",
      "Parsing signal channels: 100%|██████████████| 56/56 [00:00<00:00, 112923.57it/s]\n",
      "Parsing spike channels: 0it [00:00, ?it/s]\n",
      "Parsing event channels: 100%|██████████████████| 4/4 [00:00<00:00, 94786.53it/s]\n"
     ]
    },
    {
     "name": "stdout",
     "output_type": "stream",
     "text": [
      "Day: 1, Mouse: 2\n"
     ]
    },
    {
     "name": "stderr",
     "output_type": "stream",
     "text": [
      "Parsing data blocks:  99%|█████▉| 8904672/8987056 [00:00<00:00, 18398999.28it/s]\n",
      "Finalizing data blocks:   0%|                             | 0/3 [00:00<?, ?it/s]\n",
      "Finalizing data blocks for type 1: 100%|████| 56/56 [00:00<00:00, 582831.33it/s]\u001b[A\n",
      "\n",
      "Finalizing data blocks for type 4: 100%|█████████| 4/4 [00:00<00:00, 265.77it/s]\u001b[A\n",
      "\n",
      "Finalizing data blocks for type 5:   0%|                 | 0/56 [00:00<?, ?it/s]\u001b[A\n",
      "Finalizing data blocks for type 5:   2%|▏        | 1/56 [00:00<00:07,  7.35it/s]\u001b[A\n",
      "Finalizing data blocks for type 5:   5%|▍        | 3/56 [00:00<00:04, 11.89it/s]\u001b[A\n",
      "Finalizing data blocks for type 5: 100%|███████| 56/56 [00:00<00:00, 138.50it/s]\u001b[A\n",
      "Finalizing data blocks: 100%|█████████████████████| 3/3 [00:00<00:00,  7.08it/s]\n",
      "Parsing signal channels: 100%|███████████████| 56/56 [00:00<00:00, 99441.59it/s]\n",
      "Parsing spike channels: 0it [00:00, ?it/s]\n",
      "Parsing event channels: 100%|██████████████████| 4/4 [00:00<00:00, 90687.65it/s]\n"
     ]
    },
    {
     "name": "stdout",
     "output_type": "stream",
     "text": [
      "Day: 1, Mouse: 34\n"
     ]
    },
    {
     "name": "stderr",
     "output_type": "stream",
     "text": [
      "Parsing data blocks:  99%|████▉| 9970624/10053008 [00:00<00:00, 19944995.14it/s]\n",
      "Finalizing data blocks:   0%|                             | 0/3 [00:00<?, ?it/s]\n",
      "Finalizing data blocks for type 1: 100%|████| 56/56 [00:00<00:00, 590153.33it/s]\u001b[A\n",
      "\n",
      "Finalizing data blocks for type 4: 100%|█████████| 4/4 [00:00<00:00, 258.46it/s]\u001b[A\n",
      "\n",
      "Finalizing data blocks for type 5:   0%|                 | 0/56 [00:00<?, ?it/s]\u001b[A\n",
      "Finalizing data blocks for type 5:   2%|▏        | 1/56 [00:00<00:08,  6.72it/s]\u001b[A\n",
      "Finalizing data blocks for type 5:   5%|▍        | 3/56 [00:00<00:04, 10.67it/s]\u001b[A\n",
      "Finalizing data blocks for type 5: 100%|███████| 56/56 [00:00<00:00, 125.01it/s]\u001b[A\n",
      "Finalizing data blocks: 100%|█████████████████████| 3/3 [00:00<00:00,  6.42it/s]\n",
      "Parsing signal channels: 100%|██████████████| 56/56 [00:00<00:00, 112275.82it/s]\n",
      "Parsing spike channels: 0it [00:00, ?it/s]\n",
      "Parsing event channels: 100%|██████████████████| 4/4 [00:00<00:00, 92691.80it/s]\n"
     ]
    },
    {
     "name": "stdout",
     "output_type": "stream",
     "text": [
      "Day: 1, Mouse: 30\n"
     ]
    },
    {
     "name": "stderr",
     "output_type": "stream",
     "text": [
      "Parsing data blocks:  99%|█████▉| 7712704/7795088 [00:00<00:00, 19853751.80it/s]\n",
      "Finalizing data blocks:   0%|                             | 0/3 [00:00<?, ?it/s]\n",
      "Finalizing data blocks for type 1: 100%|████| 56/56 [00:00<00:00, 602259.04it/s]\u001b[A\n",
      "\n",
      "Finalizing data blocks for type 4: 100%|█████████| 4/4 [00:00<00:00, 242.96it/s]\u001b[A\n",
      "\n",
      "Finalizing data blocks for type 5:   0%|                 | 0/56 [00:00<?, ?it/s]\u001b[A\n",
      "Finalizing data blocks for type 5:   2%|▏        | 1/56 [00:00<00:06,  8.68it/s]\u001b[A\n",
      "Finalizing data blocks for type 5:   5%|▍        | 3/56 [00:00<00:03, 13.86it/s]\u001b[A\n",
      "Finalizing data blocks for type 5: 100%|███████| 56/56 [00:00<00:00, 162.92it/s]\u001b[A\n",
      "Finalizing data blocks: 100%|█████████████████████| 3/3 [00:00<00:00,  8.24it/s]\n",
      "Parsing signal channels: 100%|██████████████| 56/56 [00:00<00:00, 113798.95it/s]\n",
      "Parsing spike channels: 0it [00:00, ?it/s]\n",
      "Parsing event channels: 100%|██████████████████| 4/4 [00:00<00:00, 93206.76it/s]\n"
     ]
    },
    {
     "name": "stdout",
     "output_type": "stream",
     "text": [
      "Day: 1, Mouse: 29\n"
     ]
    },
    {
     "name": "stderr",
     "output_type": "stream",
     "text": [
      "Parsing data blocks:  99%|█████▉| 9668800/9751184 [00:00<00:00, 19164818.43it/s]\n",
      "Finalizing data blocks:   0%|                             | 0/3 [00:00<?, ?it/s]\n",
      "Finalizing data blocks for type 1: 100%|████| 56/56 [00:00<00:00, 629707.84it/s]\u001b[A\n",
      "\n",
      "Finalizing data blocks for type 4: 100%|█████████| 4/4 [00:00<00:00, 237.82it/s]\u001b[A\n",
      "\n",
      "Finalizing data blocks for type 5:   0%|                 | 0/56 [00:00<?, ?it/s]\u001b[A\n",
      "Finalizing data blocks for type 5:   2%|▏        | 1/56 [00:00<00:07,  6.99it/s]\u001b[A\n",
      "Finalizing data blocks for type 5:   5%|▍        | 3/56 [00:00<00:04, 11.12it/s]\u001b[A\n",
      "Finalizing data blocks for type 5: 100%|███████| 56/56 [00:00<00:00, 129.84it/s]\u001b[A\n",
      "Finalizing data blocks: 100%|█████████████████████| 3/3 [00:00<00:00,  6.63it/s]\n",
      "Parsing signal channels: 100%|██████████████| 56/56 [00:00<00:00, 112008.12it/s]\n",
      "Parsing spike channels: 0it [00:00, ?it/s]\n",
      "Parsing event channels: 100%|██████████████████| 4/4 [00:00<00:00, 88768.34it/s]\n"
     ]
    },
    {
     "name": "stdout",
     "output_type": "stream",
     "text": [
      "Day: 1, Mouse: 3\n"
     ]
    },
    {
     "name": "stderr",
     "output_type": "stream",
     "text": [
      "Parsing data blocks:  98%|█████▉| 4050880/4133264 [00:00<00:00, 17499147.41it/s]\n",
      "Finalizing data blocks:   0%|                             | 0/3 [00:00<?, ?it/s]\n",
      "Finalizing data blocks for type 1: 100%|████| 56/56 [00:00<00:00, 634813.58it/s]\u001b[A\n",
      "\n",
      "Finalizing data blocks for type 4: 100%|█████████| 4/4 [00:00<00:00, 253.98it/s]\u001b[A\n",
      "\n",
      "Finalizing data blocks for type 5:   0%|                 | 0/56 [00:00<?, ?it/s]\u001b[A\n",
      "Finalizing data blocks for type 5: 100%|███████| 56/56 [00:00<00:00, 317.58it/s]\u001b[A\n",
      "Finalizing data blocks: 100%|█████████████████████| 3/3 [00:00<00:00, 15.30it/s]\n",
      "Parsing signal channels: 100%|██████████████| 56/56 [00:00<00:00, 195083.91it/s]\n",
      "Parsing spike channels: 0it [00:00, ?it/s]\n",
      "Parsing event channels: 100%|██████████████████| 4/4 [00:00<00:00, 97541.95it/s]\n"
     ]
    },
    {
     "name": "stdout",
     "output_type": "stream",
     "text": [
      "Day: 1, Mouse: 14\n"
     ]
    },
    {
     "name": "stderr",
     "output_type": "stream",
     "text": [
      "Parsing data blocks:  99%|█████▉| 9180352/9262736 [00:00<00:00, 19373562.08it/s]\n",
      "Finalizing data blocks:   0%|                             | 0/3 [00:00<?, ?it/s]\n",
      "Finalizing data blocks for type 1: 100%|████| 56/56 [00:00<00:00, 590153.33it/s]\u001b[A\n",
      "\n",
      "Finalizing data blocks for type 4: 100%|█████████| 4/4 [00:00<00:00, 250.16it/s]\u001b[A\n",
      "\n",
      "Finalizing data blocks for type 5:   0%|                 | 0/56 [00:00<?, ?it/s]\u001b[A\n",
      "Finalizing data blocks for type 5:   2%|▏        | 1/56 [00:00<00:08,  6.76it/s]\u001b[A\n",
      "Finalizing data blocks for type 5:   5%|▍        | 3/56 [00:00<00:04, 10.90it/s]\u001b[A\n",
      "Finalizing data blocks for type 5: 100%|███████| 56/56 [00:00<00:00, 131.28it/s]\u001b[A\n",
      "Finalizing data blocks: 100%|█████████████████████| 3/3 [00:00<00:00,  6.72it/s]\n",
      "Parsing signal channels: 100%|██████████████| 56/56 [00:00<00:00, 116162.72it/s]\n",
      "Parsing spike channels: 0it [00:00, ?it/s]\n",
      "Parsing event channels: 100%|██████████████████| 4/4 [00:00<00:00, 97541.95it/s]\n"
     ]
    },
    {
     "name": "stdout",
     "output_type": "stream",
     "text": [
      "Day: 1, Mouse: 7\n"
     ]
    },
    {
     "name": "stderr",
     "output_type": "stream",
     "text": [
      "Parsing data blocks:  99%|█████▉| 9024448/9106832 [00:00<00:00, 19018487.43it/s]\n",
      "Finalizing data blocks:   0%|                             | 0/3 [00:00<?, ?it/s]\n",
      "Finalizing data blocks for type 1: 100%|████| 56/56 [00:00<00:00, 588674.25it/s]\u001b[A\n",
      "\n",
      "Finalizing data blocks for type 4: 100%|█████████| 4/4 [00:00<00:00, 265.24it/s]\u001b[A\n",
      "\n",
      "Finalizing data blocks for type 5:   0%|                 | 0/56 [00:00<?, ?it/s]\u001b[A\n",
      "Finalizing data blocks for type 5:   2%|▏        | 1/56 [00:00<00:07,  7.68it/s]\u001b[A\n",
      "Finalizing data blocks for type 5:   5%|▍        | 3/56 [00:00<00:04, 12.21it/s]\u001b[A\n",
      "Finalizing data blocks for type 5: 100%|███████| 56/56 [00:00<00:00, 142.45it/s]\u001b[A\n",
      "Finalizing data blocks: 100%|█████████████████████| 3/3 [00:00<00:00,  7.28it/s]\n",
      "Parsing signal channels: 100%|██████████████| 56/56 [00:00<00:00, 154730.58it/s]\n",
      "Parsing spike channels: 0it [00:00, ?it/s]\n",
      "Parsing event channels: 100%|██████████████████| 4/4 [00:00<00:00, 95325.09it/s]\n"
     ]
    },
    {
     "name": "stdout",
     "output_type": "stream",
     "text": [
      "Day: 1, Mouse: 10\n"
     ]
    },
    {
     "name": "stderr",
     "output_type": "stream",
     "text": [
      "Parsing data blocks:  99%|█████▉| 7994560/8076944 [00:00<00:00, 16489128.17it/s]\n",
      "Finalizing data blocks:   0%|                             | 0/3 [00:00<?, ?it/s]\n",
      "Finalizing data blocks for type 1: 100%|████| 56/56 [00:00<00:00, 650639.96it/s]\u001b[A\n",
      "\n",
      "Finalizing data blocks for type 4: 100%|█████████| 4/4 [00:00<00:00, 260.62it/s]\u001b[A\n",
      "\n",
      "Finalizing data blocks for type 5:   0%|                 | 0/56 [00:00<?, ?it/s]\u001b[A\n",
      "Finalizing data blocks for type 5:   2%|▏        | 1/56 [00:00<00:06,  8.36it/s]\u001b[A\n",
      "Finalizing data blocks for type 5:   5%|▍        | 3/56 [00:00<00:03, 13.31it/s]\u001b[A\n",
      "Finalizing data blocks for type 5: 100%|███████| 56/56 [00:00<00:00, 155.27it/s]\u001b[A\n",
      "Finalizing data blocks: 100%|█████████████████████| 3/3 [00:00<00:00,  7.89it/s]\n",
      "Parsing signal channels: 100%|██████████████| 56/56 [00:00<00:00, 135300.13it/s]\n",
      "Parsing spike channels: 0it [00:00, ?it/s]\n",
      "Parsing event channels: 100%|██████████████████| 4/4 [00:00<00:00, 95325.09it/s]\n"
     ]
    },
    {
     "name": "stdout",
     "output_type": "stream",
     "text": [
      "Day: 2, Mouse: 19\n"
     ]
    },
    {
     "name": "stderr",
     "output_type": "stream",
     "text": [
      "Parsing data blocks:  99%|█████▉| 6565312/6647696 [00:00<00:00, 17252613.95it/s]\n",
      "Finalizing data blocks:   0%|                             | 0/3 [00:00<?, ?it/s]\n",
      "Finalizing data blocks for type 1: 100%|████| 56/56 [00:00<00:00, 628024.13it/s]\u001b[A\n",
      "\n",
      "Finalizing data blocks for type 4: 100%|█████████| 4/4 [00:00<00:00, 249.75it/s]\u001b[A\n",
      "\n",
      "Finalizing data blocks for type 5:   0%|                 | 0/56 [00:00<?, ?it/s]\u001b[A\n",
      "Finalizing data blocks for type 5:   2%|▏        | 1/56 [00:00<00:05,  9.97it/s]\u001b[A\n",
      "Finalizing data blocks for type 5: 100%|███████| 56/56 [00:00<00:00, 186.53it/s]\u001b[A\n",
      "Finalizing data blocks: 100%|█████████████████████| 3/3 [00:00<00:00,  9.37it/s]\n",
      "Parsing signal channels: 100%|██████████████| 56/56 [00:00<00:00, 158169.04it/s]\n",
      "Parsing spike channels: 0it [00:00, ?it/s]\n",
      "Parsing event channels: 100%|█████████████████| 4/4 [00:00<00:00, 101680.10it/s]\n"
     ]
    },
    {
     "name": "stdout",
     "output_type": "stream",
     "text": [
      "Day: 2, Mouse: 20\n"
     ]
    },
    {
     "name": "stderr",
     "output_type": "stream",
     "text": [
      "Parsing data blocks:  99%|█████▉| 6651328/6733712 [00:00<00:00, 16973683.52it/s]\n",
      "Finalizing data blocks:   0%|                             | 0/3 [00:00<?, ?it/s]\n",
      "Finalizing data blocks for type 1: 100%|████| 56/56 [00:00<00:00, 590153.33it/s]\u001b[A\n",
      "\n",
      "Finalizing data blocks for type 4: 100%|█████████| 4/4 [00:00<00:00, 250.50it/s]\u001b[A\n",
      "\n",
      "Finalizing data blocks for type 5:   0%|                 | 0/56 [00:00<?, ?it/s]\u001b[A\n",
      "Finalizing data blocks for type 5:   2%|▏        | 1/56 [00:00<00:05,  9.85it/s]\u001b[A\n",
      "Finalizing data blocks for type 5:   5%|▍        | 3/56 [00:00<00:03, 15.73it/s]\u001b[A\n",
      "Finalizing data blocks for type 5: 100%|███████| 56/56 [00:00<00:00, 184.63it/s]\u001b[A\n",
      "Finalizing data blocks: 100%|█████████████████████| 3/3 [00:00<00:00,  9.29it/s]\n",
      "Parsing signal channels: 100%|██████████████| 56/56 [00:00<00:00, 111107.39it/s]\n",
      "Parsing spike channels: 0it [00:00, ?it/s]\n",
      "Parsing event channels: 100%|██████████████████| 4/4 [00:00<00:00, 95325.09it/s]\n"
     ]
    },
    {
     "name": "stdout",
     "output_type": "stream",
     "text": [
      "Day: 2, Mouse: 18\n"
     ]
    },
    {
     "name": "stderr",
     "output_type": "stream",
     "text": [
      "Parsing data blocks:  99%|█████▉| 7995328/8077712 [00:00<00:00, 18555931.57it/s]\n",
      "Finalizing data blocks:   0%|                             | 0/3 [00:00<?, ?it/s]\n",
      "Finalizing data blocks for type 1: 100%|████| 56/56 [00:00<00:00, 606927.71it/s]\u001b[A\n",
      "\n",
      "Finalizing data blocks for type 4: 100%|█████████| 4/4 [00:00<00:00, 254.92it/s]\u001b[A\n",
      "\n",
      "Finalizing data blocks for type 5:   0%|                 | 0/56 [00:00<?, ?it/s]\u001b[A\n",
      "Finalizing data blocks for type 5:   2%|▏        | 1/56 [00:00<00:06,  8.17it/s]\u001b[A\n",
      "Finalizing data blocks for type 5:   5%|▍        | 3/56 [00:00<00:04, 13.07it/s]\u001b[A\n",
      "Finalizing data blocks for type 5: 100%|███████| 56/56 [00:00<00:00, 153.41it/s]\u001b[A\n",
      "Finalizing data blocks: 100%|█████████████████████| 3/3 [00:00<00:00,  7.80it/s]\n",
      "Parsing signal channels: 100%|██████████████| 56/56 [00:00<00:00, 102568.13it/s]\n",
      "Parsing spike channels: 0it [00:00, ?it/s]\n",
      "Parsing event channels: 100%|██████████████████| 4/4 [00:00<00:00, 93206.76it/s]\n"
     ]
    },
    {
     "name": "stdout",
     "output_type": "stream",
     "text": [
      "Day: 2, Mouse: 25\n"
     ]
    },
    {
     "name": "stderr",
     "output_type": "stream",
     "text": [
      "Parsing data blocks:  99%|█████▉| 7504576/7586960 [00:00<00:00, 17138354.43it/s]\n",
      "Finalizing data blocks:   0%|                             | 0/3 [00:00<?, ?it/s]\n",
      "Finalizing data blocks for type 1: 100%|████| 56/56 [00:00<00:00, 614871.79it/s]\u001b[A\n",
      "\n",
      "Finalizing data blocks for type 4: 100%|█████████| 4/4 [00:00<00:00, 243.32it/s]\u001b[A\n",
      "\n",
      "Finalizing data blocks for type 5:   0%|                 | 0/56 [00:00<?, ?it/s]\u001b[A\n",
      "Finalizing data blocks for type 5:   2%|▏        | 1/56 [00:00<00:06,  8.85it/s]\u001b[A\n",
      "Finalizing data blocks for type 5:   5%|▍        | 3/56 [00:00<00:03, 14.07it/s]\u001b[A\n",
      "Finalizing data blocks for type 5: 100%|███████| 56/56 [00:00<00:00, 164.67it/s]\u001b[A\n",
      "Finalizing data blocks: 100%|█████████████████████| 3/3 [00:00<00:00,  8.32it/s]\n",
      "Parsing signal channels: 100%|███████████████| 56/56 [00:00<00:00, 99821.94it/s]\n",
      "Parsing spike channels: 0it [00:00, ?it/s]\n",
      "Parsing event channels: 100%|██████████████████| 4/4 [00:00<00:00, 96978.13it/s]\n"
     ]
    },
    {
     "name": "stdout",
     "output_type": "stream",
     "text": [
      "Day: 2, Mouse: 26\n"
     ]
    },
    {
     "name": "stderr",
     "output_type": "stream",
     "text": [
      "Parsing data blocks:  99%|█████▉| 8856256/8938640 [00:00<00:00, 17394531.17it/s]\n",
      "Finalizing data blocks:   0%|                             | 0/3 [00:00<?, ?it/s]\n",
      "Finalizing data blocks for type 1: 100%|████| 56/56 [00:00<00:00, 590153.33it/s]\u001b[A\n",
      "\n",
      "Finalizing data blocks for type 4: 100%|█████████| 4/4 [00:00<00:00, 265.90it/s]\u001b[A\n",
      "\n",
      "Finalizing data blocks for type 5:   0%|                 | 0/56 [00:00<?, ?it/s]\u001b[A\n",
      "Finalizing data blocks for type 5:   2%|▏        | 1/56 [00:00<00:07,  7.32it/s]\u001b[A\n",
      "Finalizing data blocks for type 5:   5%|▍        | 3/56 [00:00<00:04, 11.77it/s]\u001b[A\n",
      "Finalizing data blocks for type 5: 100%|███████| 56/56 [00:00<00:00, 138.45it/s]\u001b[A\n",
      "Finalizing data blocks: 100%|█████████████████████| 3/3 [00:00<00:00,  7.09it/s]\n",
      "Parsing signal channels: 100%|██████████████| 56/56 [00:00<00:00, 115024.99it/s]\n",
      "Parsing spike channels: 0it [00:00, ?it/s]\n",
      "Parsing event channels: 100%|██████████████████| 4/4 [00:00<00:00, 91180.52it/s]\n"
     ]
    },
    {
     "name": "stdout",
     "output_type": "stream",
     "text": [
      "Day: 2, Mouse: 8\n"
     ]
    },
    {
     "name": "stderr",
     "output_type": "stream",
     "text": [
      "Parsing data blocks:  99%|█████▉| 7431616/7514000 [00:00<00:00, 16970810.15it/s]\n",
      "Finalizing data blocks:   0%|                             | 0/3 [00:00<?, ?it/s]\n",
      "Finalizing data blocks for type 1: 100%|████| 56/56 [00:00<00:00, 616485.63it/s]\u001b[A\n",
      "\n",
      "Finalizing data blocks for type 4: 100%|█████████| 4/4 [00:00<00:00, 249.86it/s]\u001b[A\n",
      "\n",
      "Finalizing data blocks for type 5:   0%|                 | 0/56 [00:00<?, ?it/s]\u001b[A\n",
      "Finalizing data blocks for type 5:   2%|▏        | 1/56 [00:00<00:06,  8.99it/s]\u001b[A\n",
      "Finalizing data blocks for type 5:   5%|▍        | 3/56 [00:00<00:03, 14.18it/s]\u001b[A\n",
      "Finalizing data blocks for type 5: 100%|███████| 56/56 [00:00<00:00, 166.46it/s]\u001b[A\n",
      "Finalizing data blocks: 100%|█████████████████████| 3/3 [00:00<00:00,  8.42it/s]\n",
      "Parsing signal channels: 100%|██████████████| 56/56 [00:00<00:00, 110897.56it/s]\n",
      "Parsing spike channels: 0it [00:00, ?it/s]\n",
      "Parsing event channels: 100%|██████████████████| 4/4 [00:00<00:00, 97541.95it/s]\n"
     ]
    },
    {
     "name": "stdout",
     "output_type": "stream",
     "text": [
      "Day: 2, Mouse: 27\n"
     ]
    },
    {
     "name": "stderr",
     "output_type": "stream",
     "text": [
      "Parsing data blocks:  99%|█████▉| 6265792/6348176 [00:00<00:00, 17016707.08it/s]\n",
      "Finalizing data blocks:   0%|                             | 0/3 [00:00<?, ?it/s]\n",
      "Finalizing data blocks for type 1: 100%|████| 56/56 [00:00<00:00, 603807.26it/s]\u001b[A\n",
      "\n",
      "Finalizing data blocks for type 4: 100%|█████████| 4/4 [00:00<00:00, 251.43it/s]\u001b[A\n",
      "\n",
      "Finalizing data blocks for type 5:   0%|                 | 0/56 [00:00<?, ?it/s]\u001b[A\n",
      "Finalizing data blocks for type 5: 100%|███████| 56/56 [00:00<00:00, 191.89it/s]\u001b[A\n",
      "Finalizing data blocks: 100%|█████████████████████| 3/3 [00:00<00:00,  9.61it/s]\n",
      "Parsing signal channels: 100%|██████████████| 56/56 [00:00<00:00, 196553.16it/s]\n",
      "Parsing spike channels: 0it [00:00, ?it/s]\n",
      "Parsing event channels: 100%|██████████████████| 4/4 [00:00<00:00, 85598.04it/s]\n"
     ]
    },
    {
     "name": "stdout",
     "output_type": "stream",
     "text": [
      "Day: 2, Mouse: 9\n"
     ]
    },
    {
     "name": "stderr",
     "output_type": "stream",
     "text": [
      "Parsing data blocks:  99%|█████▉| 7042240/7124624 [00:00<00:00, 18115272.13it/s]\n",
      "Finalizing data blocks:   0%|                             | 0/3 [00:00<?, ?it/s]\n",
      "Finalizing data blocks for type 1: 100%|████| 56/56 [00:00<00:00, 608500.06it/s]\u001b[A\n",
      "\n",
      "Finalizing data blocks for type 4: 100%|█████████| 4/4 [00:00<00:00, 262.98it/s]\u001b[A\n",
      "\n",
      "Finalizing data blocks for type 5:   0%|                 | 0/56 [00:00<?, ?it/s]\u001b[A\n",
      "Finalizing data blocks for type 5:   2%|▏        | 1/56 [00:00<00:05,  9.47it/s]\u001b[A\n",
      "Finalizing data blocks for type 5:   5%|▍        | 3/56 [00:00<00:03, 14.99it/s]\u001b[A\n",
      "Finalizing data blocks for type 5: 100%|███████| 56/56 [00:00<00:00, 175.88it/s]\u001b[A\n",
      "Finalizing data blocks: 100%|█████████████████████| 3/3 [00:00<00:00,  8.89it/s]\n",
      "Parsing signal channels: 100%|██████████████| 56/56 [00:00<00:00, 114019.91it/s]\n",
      "Parsing spike channels: 0it [00:00, ?it/s]\n",
      "Parsing event channels: 100%|█████████████████| 4/4 [00:00<00:00, 105517.08it/s]\n"
     ]
    },
    {
     "name": "stdout",
     "output_type": "stream",
     "text": [
      "Day: 2, Mouse: 14\n"
     ]
    },
    {
     "name": "stderr",
     "output_type": "stream",
     "text": [
      "Parsing data blocks:  99%|█████▉| 6970816/7053200 [00:00<00:00, 17084614.84it/s]\n",
      "Finalizing data blocks:   0%|                             | 0/3 [00:00<?, ?it/s]\n",
      "Finalizing data blocks for type 1: 100%|████| 56/56 [00:00<00:00, 582831.33it/s]\u001b[A\n",
      "\n",
      "Finalizing data blocks for type 4: 100%|█████████| 4/4 [00:00<00:00, 258.21it/s]\u001b[A\n",
      "\n",
      "Finalizing data blocks for type 5:   0%|                 | 0/56 [00:00<?, ?it/s]\u001b[A\n",
      "Finalizing data blocks for type 5:   2%|▏        | 1/56 [00:00<00:05,  9.60it/s]\u001b[A\n",
      "Finalizing data blocks for type 5:   5%|▍        | 3/56 [00:00<00:03, 15.26it/s]\u001b[A\n",
      "Finalizing data blocks for type 5: 100%|███████| 56/56 [00:00<00:00, 178.35it/s]\u001b[A\n",
      "Finalizing data blocks: 100%|█████████████████████| 3/3 [00:00<00:00,  9.00it/s]\n",
      "Parsing signal channels: 100%|██████████████| 56/56 [00:00<00:00, 111318.02it/s]\n",
      "Parsing spike channels: 0it [00:00, ?it/s]\n",
      "Parsing event channels: 100%|██████████████████| 4/4 [00:00<00:00, 97541.95it/s]\n"
     ]
    },
    {
     "name": "stdout",
     "output_type": "stream",
     "text": [
      "Day: 2, Mouse: 21\n"
     ]
    },
    {
     "name": "stderr",
     "output_type": "stream",
     "text": [
      "Parsing data blocks:  99%|█████▉| 8251072/8333456 [00:00<00:00, 16875008.80it/s]\n",
      "Finalizing data blocks:   0%|                             | 0/3 [00:00<?, ?it/s]\n",
      "Finalizing data blocks for type 1: 100%|████| 56/56 [00:00<00:00, 629707.84it/s]\u001b[A\n",
      "\n",
      "Finalizing data blocks for type 4: 100%|█████████| 4/4 [00:00<00:00, 261.59it/s]\u001b[A\n",
      "\n",
      "Finalizing data blocks for type 5:   0%|                 | 0/56 [00:00<?, ?it/s]\u001b[A\n",
      "Finalizing data blocks for type 5:   2%|▏        | 1/56 [00:00<00:06,  8.06it/s]\u001b[A\n",
      "Finalizing data blocks for type 5:   5%|▍        | 3/56 [00:00<00:04, 12.83it/s]\u001b[A\n",
      "Finalizing data blocks for type 5: 100%|███████| 56/56 [00:00<00:00, 150.40it/s]\u001b[A\n",
      "Finalizing data blocks: 100%|█████████████████████| 3/3 [00:00<00:00,  7.66it/s]\n",
      "Parsing signal channels: 100%|██████████████| 56/56 [00:00<00:00, 101416.68it/s]\n",
      "Parsing spike channels: 0it [00:00, ?it/s]\n",
      "Parsing event channels: 100%|█████████████████| 4/4 [00:00<00:00, 102927.71it/s]\n"
     ]
    },
    {
     "name": "stdout",
     "output_type": "stream",
     "text": [
      "Day: 2, Mouse: 3\n"
     ]
    },
    {
     "name": "stderr",
     "output_type": "stream",
     "text": [
      "Parsing data blocks:  99%|███▉| 12155584/12237968 [00:00<00:00, 17079526.66it/s]\n",
      "Finalizing data blocks:   0%|                             | 0/3 [00:00<?, ?it/s]\n",
      "Finalizing data blocks for type 1: 100%|████| 56/56 [00:00<00:00, 621378.37it/s]\u001b[A\n",
      "\n",
      "Finalizing data blocks for type 4: 100%|█████████| 4/4 [00:00<00:00, 246.72it/s]\u001b[A\n",
      "\n",
      "Finalizing data blocks for type 5:   0%|                 | 0/56 [00:00<?, ?it/s]\u001b[A\n",
      "Finalizing data blocks for type 5:   2%|▏        | 1/56 [00:00<00:10,  5.35it/s]\u001b[A\n",
      "Finalizing data blocks for type 5:   5%|▍        | 3/56 [00:00<00:06,  8.43it/s]\u001b[A\n",
      "Finalizing data blocks for type 5: 100%|████████| 56/56 [00:00<00:00, 99.05it/s]\u001b[A\n",
      "Finalizing data blocks: 100%|█████████████████████| 3/3 [00:00<00:00,  5.12it/s]\n",
      "Parsing signal channels: 100%|██████████████| 56/56 [00:00<00:00, 112706.83it/s]\n",
      "Parsing spike channels: 0it [00:00, ?it/s]\n",
      "Parsing event channels: 100%|██████████████████| 4/4 [00:00<00:00, 98112.37it/s]\n"
     ]
    },
    {
     "name": "stdout",
     "output_type": "stream",
     "text": [
      "Day: 2, Mouse: 10\n"
     ]
    },
    {
     "name": "stderr",
     "output_type": "stream",
     "text": [
      "Parsing data blocks:  99%|███▉| 13018048/13100432 [00:00<00:00, 16915889.92it/s]\n",
      "Finalizing data blocks:   0%|                             | 0/3 [00:00<?, ?it/s]\n",
      "Finalizing data blocks for type 1: 100%|████| 56/56 [00:00<00:00, 623026.59it/s]\u001b[A\n",
      "\n",
      "Finalizing data blocks for type 4: 100%|█████████| 4/4 [00:00<00:00, 243.27it/s]\u001b[A\n",
      "\n",
      "Finalizing data blocks for type 5:   0%|                 | 0/56 [00:00<?, ?it/s]\u001b[A\n",
      "Finalizing data blocks for type 5:   2%|▏        | 1/56 [00:00<00:11,  4.86it/s]\u001b[A\n",
      "Finalizing data blocks for type 5:   5%|▍        | 3/56 [00:00<00:06,  7.86it/s]\u001b[A\n",
      "Finalizing data blocks for type 5: 100%|████████| 56/56 [00:00<00:00, 92.05it/s]\u001b[A\n",
      "Finalizing data blocks: 100%|█████████████████████| 3/3 [00:00<00:00,  4.77it/s]\n",
      "Parsing signal channels: 100%|██████████████| 56/56 [00:00<00:00, 107694.19it/s]\n",
      "Parsing spike channels: 0it [00:00, ?it/s]\n",
      "Parsing event channels: 100%|██████████████████| 4/4 [00:00<00:00, 97541.95it/s]\n"
     ]
    },
    {
     "name": "stdout",
     "output_type": "stream",
     "text": [
      "Day: 2, Mouse: 7\n"
     ]
    },
    {
     "name": "stderr",
     "output_type": "stream",
     "text": [
      "Parsing data blocks:  99%|███▉| 11025856/11108240 [00:00<00:00, 17450807.61it/s]\n",
      "Finalizing data blocks:   0%|                             | 0/3 [00:00<?, ?it/s]\n",
      "Finalizing data blocks for type 1: 100%|████| 56/56 [00:00<00:00, 538717.94it/s]\u001b[A\n",
      "\n",
      "Finalizing data blocks for type 4: 100%|█████████| 4/4 [00:00<00:00, 243.54it/s]\u001b[A\n",
      "\n",
      "Finalizing data blocks for type 5:   0%|                 | 0/56 [00:00<?, ?it/s]\u001b[A\n",
      "Finalizing data blocks for type 5:   2%|▏        | 1/56 [00:00<00:09,  5.94it/s]\u001b[A\n",
      "Finalizing data blocks for type 5:   5%|▍        | 3/56 [00:00<00:05,  9.40it/s]\u001b[A\n",
      "Finalizing data blocks for type 5: 100%|███████| 56/56 [00:00<00:00, 110.38it/s]\u001b[A\n",
      "Finalizing data blocks: 100%|█████████████████████| 3/3 [00:00<00:00,  5.69it/s]\n",
      "Parsing signal channels: 100%|██████████████| 56/56 [00:00<00:00, 109145.46it/s]\n",
      "Parsing spike channels: 0it [00:00, ?it/s]\n",
      "Parsing event channels: 100%|██████████████████| 4/4 [00:00<00:00, 95325.09it/s]\n"
     ]
    },
    {
     "name": "stdout",
     "output_type": "stream",
     "text": [
      "Day: 2, Mouse: 34\n"
     ]
    },
    {
     "name": "stderr",
     "output_type": "stream",
     "text": [
      "Parsing data blocks:  99%|█████▉| 6245824/6328208 [00:00<00:00, 17874011.84it/s]\n",
      "Finalizing data blocks:   0%|                             | 0/3 [00:00<?, ?it/s]\n",
      "Finalizing data blocks for type 1: 100%|████| 56/56 [00:00<00:00, 596144.73it/s]\u001b[A\n",
      "\n",
      "Finalizing data blocks for type 4: 100%|█████████| 4/4 [00:00<00:00, 256.31it/s]\u001b[A\n",
      "\n",
      "Finalizing data blocks for type 5:   0%|                 | 0/56 [00:00<?, ?it/s]\u001b[A\n",
      "Finalizing data blocks for type 5: 100%|███████| 56/56 [00:00<00:00, 192.90it/s]\u001b[A\n",
      "Finalizing data blocks: 100%|█████████████████████| 3/3 [00:00<00:00,  9.68it/s]\n",
      "Parsing signal channels: 100%|██████████████| 56/56 [00:00<00:00, 162885.59it/s]\n",
      "Parsing spike channels: 0it [00:00, ?it/s]\n",
      "Parsing event channels: 100%|██████████████████| 4/4 [00:00<00:00, 83055.52it/s]\n"
     ]
    },
    {
     "name": "stdout",
     "output_type": "stream",
     "text": [
      "Day: 2, Mouse: 29\n"
     ]
    },
    {
     "name": "stderr",
     "output_type": "stream",
     "text": [
      "Parsing data blocks:  99%|█████▉| 8939968/9022352 [00:00<00:00, 19040408.84it/s]\n",
      "Finalizing data blocks:   0%|                             | 0/3 [00:00<?, ?it/s]\n",
      "Finalizing data blocks for type 1: 100%|████| 56/56 [00:00<00:00, 614871.79it/s]\u001b[A\n",
      "\n",
      "Finalizing data blocks for type 4: 100%|█████████| 4/4 [00:00<00:00, 248.88it/s]\u001b[A\n",
      "\n",
      "Finalizing data blocks for type 5:   0%|                 | 0/56 [00:00<?, ?it/s]\u001b[A\n",
      "Finalizing data blocks for type 5:   2%|▏        | 1/56 [00:00<00:07,  7.36it/s]\u001b[A\n",
      "Finalizing data blocks for type 5:   5%|▍        | 3/56 [00:00<00:04, 11.68it/s]\u001b[A\n",
      "Finalizing data blocks for type 5: 100%|███████| 56/56 [00:00<00:00, 137.70it/s]\u001b[A\n",
      "Finalizing data blocks: 100%|█████████████████████| 3/3 [00:00<00:00,  7.03it/s]\n",
      "Parsing signal channels: 100%|██████████████| 56/56 [00:00<00:00, 112490.91it/s]\n",
      "Parsing spike channels: 0it [00:00, ?it/s]\n",
      "Parsing event channels: 100%|██████████████████| 4/4 [00:00<00:00, 85163.53it/s]\n"
     ]
    },
    {
     "name": "stdout",
     "output_type": "stream",
     "text": [
      "Day: 2, Mouse: 30\n"
     ]
    },
    {
     "name": "stderr",
     "output_type": "stream",
     "text": [
      "Parsing data blocks:  99%|███▉| 14772160/14854544 [00:00<00:00, 17766016.65it/s]\n",
      "Finalizing data blocks:   0%|                             | 0/3 [00:00<?, ?it/s]\n",
      "Finalizing data blocks for type 1: 100%|████| 56/56 [00:00<00:00, 608500.06it/s]\u001b[A\n",
      "\n",
      "Finalizing data blocks for type 4: 100%|█████████| 4/4 [00:00<00:00, 248.23it/s]\u001b[A\n",
      "\n",
      "Finalizing data blocks for type 5:   0%|                 | 0/56 [00:00<?, ?it/s]\u001b[A\n",
      "Finalizing data blocks for type 5:   2%|▏        | 1/56 [00:00<00:12,  4.29it/s]\u001b[A\n",
      "Finalizing data blocks for type 5:   5%|▍        | 3/56 [00:00<00:07,  6.90it/s]\u001b[A\n",
      "Finalizing data blocks for type 5: 100%|████████| 56/56 [00:00<00:00, 80.91it/s]\u001b[A\n",
      "Finalizing data blocks: 100%|█████████████████████| 3/3 [00:00<00:00,  4.21it/s]\n",
      "Parsing signal channels: 100%|██████████████| 56/56 [00:00<00:00, 117381.82it/s]\n",
      "Parsing spike channels: 0it [00:00, ?it/s]\n",
      "Parsing event channels: 100%|██████████████████| 4/4 [00:00<00:00, 97541.95it/s]\n"
     ]
    },
    {
     "name": "stdout",
     "output_type": "stream",
     "text": [
      "Day: 2, Mouse: 6\n"
     ]
    },
    {
     "name": "stderr",
     "output_type": "stream",
     "text": [
      "Parsing data blocks:  99%|█████▉| 8161984/8244368 [00:00<00:00, 16982512.97it/s]\n",
      "Finalizing data blocks:   0%|                             | 0/3 [00:00<?, ?it/s]\n",
      "Finalizing data blocks for type 1: 100%|████| 56/56 [00:00<00:00, 636533.94it/s]\u001b[A\n",
      "\n",
      "Finalizing data blocks for type 4: 100%|█████████| 4/4 [00:00<00:00, 253.79it/s]\u001b[A\n",
      "\n",
      "Finalizing data blocks for type 5:   0%|                 | 0/56 [00:00<?, ?it/s]\u001b[A\n",
      "Finalizing data blocks for type 5:   2%|▏        | 1/56 [00:00<00:06,  8.07it/s]\u001b[A\n",
      "Finalizing data blocks for type 5:   5%|▍        | 3/56 [00:00<00:04, 12.75it/s]\u001b[A\n",
      "Finalizing data blocks for type 5: 100%|███████| 56/56 [00:00<00:00, 150.06it/s]\u001b[A\n",
      "Finalizing data blocks: 100%|█████████████████████| 3/3 [00:00<00:00,  7.64it/s]\n",
      "Parsing signal channels: 100%|██████████████| 56/56 [00:00<00:00, 113578.83it/s]\n",
      "Parsing spike channels: 0it [00:00, ?it/s]\n",
      "Parsing event channels: 100%|██████████████████| 4/4 [00:00<00:00, 70492.50it/s]\n"
     ]
    },
    {
     "name": "stdout",
     "output_type": "stream",
     "text": [
      "Day: 2, Mouse: 11\n"
     ]
    },
    {
     "name": "stderr",
     "output_type": "stream",
     "text": [
      "Parsing data blocks:  99%|█████▉| 8267968/8350352 [00:00<00:00, 16879399.23it/s]\n",
      "Finalizing data blocks:   0%|                             | 0/3 [00:00<?, ?it/s]\n",
      "Finalizing data blocks for type 1: 100%|████| 56/56 [00:00<00:00, 588674.25it/s]\u001b[A\n",
      "\n",
      "Finalizing data blocks for type 4: 100%|█████████| 4/4 [00:00<00:00, 247.30it/s]\u001b[A\n",
      "\n",
      "Finalizing data blocks for type 5:   0%|                 | 0/56 [00:00<?, ?it/s]\u001b[A\n",
      "Finalizing data blocks for type 5:   2%|▏        | 1/56 [00:00<00:06,  7.99it/s]\u001b[A\n",
      "Finalizing data blocks for type 5:   5%|▍        | 3/56 [00:00<00:04, 12.75it/s]\u001b[A\n",
      "Finalizing data blocks for type 5: 100%|███████| 56/56 [00:00<00:00, 150.23it/s]\u001b[A\n",
      "Finalizing data blocks: 100%|█████████████████████| 3/3 [00:00<00:00,  7.63it/s]\n",
      "Parsing signal channels: 100%|██████████████| 56/56 [00:00<00:00, 136320.97it/s]\n",
      "Parsing spike channels: 0it [00:00, ?it/s]\n",
      "Parsing event channels: 100%|██████████████████| 4/4 [00:00<00:00, 97541.95it/s]\n"
     ]
    },
    {
     "name": "stdout",
     "output_type": "stream",
     "text": [
      "Day: 2, Mouse: 2\n"
     ]
    },
    {
     "name": "stderr",
     "output_type": "stream",
     "text": [
      "Parsing data blocks:  99%|█████▉| 6351808/6434192 [00:00<00:00, 17545842.14it/s]\n",
      "Finalizing data blocks:   0%|                             | 0/3 [00:00<?, ?it/s]\n",
      "Finalizing data blocks for type 1: 100%|████| 56/56 [00:00<00:00, 590153.33it/s]\u001b[A\n",
      "\n",
      "Finalizing data blocks for type 4: 100%|█████████| 4/4 [00:00<00:00, 274.50it/s]\u001b[A\n",
      "\n",
      "Finalizing data blocks for type 5:   0%|                 | 0/56 [00:00<?, ?it/s]\u001b[A\n",
      "Finalizing data blocks for type 5: 100%|███████| 56/56 [00:00<00:00, 194.55it/s]\u001b[A\n",
      "Finalizing data blocks: 100%|█████████████████████| 3/3 [00:00<00:00,  9.79it/s]\n",
      "Parsing signal channels: 100%|██████████████| 56/56 [00:00<00:00, 139643.89it/s]\n",
      "Parsing spike channels: 0it [00:00, ?it/s]\n",
      "Parsing event channels: 100%|██████████████████| 4/4 [00:00<00:00, 97541.95it/s]\n"
     ]
    },
    {
     "name": "stdout",
     "output_type": "stream",
     "text": [
      "Day: 2, Mouse: 24\n"
     ]
    },
    {
     "name": "stderr",
     "output_type": "stream",
     "text": [
      "Parsing data blocks:  99%|█████▉| 6099136/6181520 [00:00<00:00, 17007050.04it/s]\n",
      "Finalizing data blocks:   0%|                             | 0/3 [00:00<?, ?it/s]\n",
      "Finalizing data blocks for type 1: 100%|████| 56/56 [00:00<00:00, 614871.79it/s]\u001b[A\n",
      "\n",
      "Finalizing data blocks for type 4: 100%|█████████| 4/4 [00:00<00:00, 255.74it/s]\u001b[A\n",
      "\n",
      "Finalizing data blocks for type 5:   0%|                 | 0/56 [00:00<?, ?it/s]\u001b[A\n",
      "Finalizing data blocks for type 5: 100%|███████| 56/56 [00:00<00:00, 198.25it/s]\u001b[A\n",
      "Finalizing data blocks: 100%|█████████████████████| 3/3 [00:00<00:00,  9.89it/s]\n",
      "Parsing signal channels: 100%|███████████████| 56/56 [00:00<00:00, 88734.80it/s]\n",
      "Parsing spike channels: 0it [00:00, ?it/s]\n",
      "Parsing event channels: 100%|██████████████████| 4/4 [00:00<00:00, 99864.38it/s]\n"
     ]
    },
    {
     "name": "stdout",
     "output_type": "stream",
     "text": [
      "Day: 2, Mouse: 15\n"
     ]
    },
    {
     "name": "stderr",
     "output_type": "stream",
     "text": [
      "Parsing data blocks:  99%|███▉| 13705408/13787792 [00:00<00:00, 18695878.49it/s]\n",
      "Finalizing data blocks:   0%|                             | 0/3 [00:00<?, ?it/s]\n",
      "Finalizing data blocks for type 1: 100%|████| 56/56 [00:00<00:00, 565978.37it/s]\u001b[A\n",
      "\n",
      "Finalizing data blocks for type 4: 100%|█████████| 4/4 [00:00<00:00, 250.05it/s]\u001b[A\n",
      "\n",
      "Finalizing data blocks for type 5:   0%|                 | 0/56 [00:00<?, ?it/s]\u001b[A\n",
      "Finalizing data blocks for type 5:   2%|▏        | 1/56 [00:00<00:11,  4.82it/s]\u001b[A\n",
      "Finalizing data blocks for type 5:   5%|▍        | 3/56 [00:00<00:06,  7.59it/s]\u001b[A\n",
      "Finalizing data blocks for type 5: 100%|████████| 56/56 [00:00<00:00, 88.74it/s]\u001b[A\n",
      "Finalizing data blocks: 100%|█████████████████████| 3/3 [00:00<00:00,  4.61it/s]\n",
      "Parsing signal channels: 100%|███████████████| 56/56 [00:00<00:00, 99652.53it/s]\n",
      "Parsing spike channels: 0it [00:00, ?it/s]\n",
      "Parsing event channels: 100%|█████████████████| 4/4 [00:00<00:00, 102927.71it/s]\n"
     ]
    },
    {
     "name": "stdout",
     "output_type": "stream",
     "text": [
      "Day: 2, Mouse: 31\n"
     ]
    },
    {
     "name": "stderr",
     "output_type": "stream",
     "text": [
      "Parsing data blocks:  99%|███▉| 12625600/12707984 [00:00<00:00, 18012925.27it/s]\n",
      "Finalizing data blocks:   0%|                             | 0/3 [00:00<?, ?it/s]\n",
      "Finalizing data blocks for type 1: 100%|████| 56/56 [00:00<00:00, 628024.13it/s]\u001b[A\n",
      "\n",
      "Finalizing data blocks for type 4: 100%|█████████| 4/4 [00:00<00:00, 249.10it/s]\u001b[A\n",
      "\n",
      "Finalizing data blocks for type 5:   0%|                 | 0/56 [00:00<?, ?it/s]\u001b[A\n",
      "Finalizing data blocks for type 5:   2%|▏        | 1/56 [00:00<00:10,  5.08it/s]\u001b[A\n",
      "Finalizing data blocks for type 5:   5%|▍        | 3/56 [00:00<00:06,  8.07it/s]\u001b[A\n",
      "Finalizing data blocks for type 5: 100%|████████| 56/56 [00:00<00:00, 95.14it/s]\u001b[A\n",
      "Finalizing data blocks: 100%|█████████████████████| 3/3 [00:00<00:00,  4.93it/s]\n",
      "Parsing signal channels: 100%|██████████████| 56/56 [00:00<00:00, 100591.44it/s]\n",
      "Parsing spike channels: 0it [00:00, ?it/s]\n",
      "Parsing event channels: 100%|██████████████████| 4/4 [00:00<00:00, 93206.76it/s]\n"
     ]
    },
    {
     "name": "stdout",
     "output_type": "stream",
     "text": [
      "Day: 2, Mouse: 28\n"
     ]
    },
    {
     "name": "stderr",
     "output_type": "stream",
     "text": [
      "Parsing data blocks: 100%|███▉| 23052736/23135120 [00:01<00:00, 18526689.82it/s]\n",
      "Finalizing data blocks:   0%|                             | 0/3 [00:00<?, ?it/s]\n",
      "Finalizing data blocks for type 1: 100%|████| 56/56 [00:00<00:00, 564617.85it/s]\u001b[A\n",
      "\n",
      "Finalizing data blocks for type 4: 100%|█████████| 4/4 [00:00<00:00, 251.14it/s]\u001b[A\n",
      "\n",
      "Finalizing data blocks for type 5:   0%|                 | 0/56 [00:00<?, ?it/s]\u001b[A\n",
      "Finalizing data blocks for type 5:   2%|▏        | 1/56 [00:00<00:20,  2.72it/s]\u001b[A\n",
      "Finalizing data blocks for type 5:   5%|▍        | 3/56 [00:00<00:12,  4.32it/s]\u001b[A\n",
      "Finalizing data blocks for type 5: 100%|████████| 56/56 [00:01<00:00, 50.85it/s]\u001b[A\n",
      "Finalizing data blocks: 100%|█████████████████████| 3/3 [00:01<00:00,  2.68it/s]\n",
      "Parsing signal channels: 100%|██████████████| 56/56 [00:00<00:00, 110480.26it/s]\n",
      "Parsing spike channels: 0it [00:00, ?it/s]\n",
      "Parsing event channels: 100%|██████████████████| 4/4 [00:00<00:00, 97541.95it/s]\n"
     ]
    },
    {
     "name": "stdout",
     "output_type": "stream",
     "text": [
      "Day: 2, Mouse: 35\n"
     ]
    },
    {
     "name": "stderr",
     "output_type": "stream",
     "text": [
      "Parsing data blocks:  99%|█████▉| 9778624/9861008 [00:00<00:00, 17404425.93it/s]\n",
      "Finalizing data blocks:   0%|                             | 0/3 [00:00<?, ?it/s]\n",
      "Finalizing data blocks for type 1: 100%|████| 56/56 [00:00<00:00, 596144.73it/s]\u001b[A\n",
      "\n",
      "Finalizing data blocks for type 4: 100%|█████████| 4/4 [00:00<00:00, 254.81it/s]\u001b[A\n",
      "\n",
      "Finalizing data blocks for type 5:   0%|                 | 0/56 [00:00<?, ?it/s]\u001b[A\n",
      "Finalizing data blocks for type 5:   2%|▏        | 1/56 [00:00<00:08,  6.82it/s]\u001b[A\n",
      "Finalizing data blocks for type 5:   5%|▍        | 3/56 [00:00<00:04, 10.76it/s]\u001b[A\n",
      "Finalizing data blocks for type 5: 100%|███████| 56/56 [00:00<00:00, 125.42it/s]\u001b[A\n",
      "Finalizing data blocks: 100%|█████████████████████| 3/3 [00:00<00:00,  6.41it/s]\n",
      "Parsing signal channels: 100%|███████████████| 56/56 [00:00<00:00, 52829.74it/s]\n",
      "Parsing spike channels: 0it [00:00, ?it/s]\n",
      "Parsing event channels: 100%|██████████████████| 4/4 [00:00<00:00, 99864.38it/s]\n"
     ]
    },
    {
     "name": "stdout",
     "output_type": "stream",
     "text": [
      "Day: 2, Mouse: 32\n"
     ]
    },
    {
     "name": "stderr",
     "output_type": "stream",
     "text": [
      "Parsing data blocks: 100%|███▉| 20904640/20987024 [00:01<00:00, 17658897.13it/s]\n",
      "Finalizing data blocks:   0%|                             | 0/3 [00:00<?, ?it/s]\n",
      "Finalizing data blocks for type 1: 100%|████| 56/56 [00:00<00:00, 571486.68it/s]\u001b[A\n",
      "\n",
      "Finalizing data blocks for type 4: 100%|█████████| 4/4 [00:00<00:00, 246.29it/s]\u001b[A\n",
      "\n",
      "Finalizing data blocks for type 5:   0%|                 | 0/56 [00:00<?, ?it/s]\u001b[A\n",
      "Finalizing data blocks for type 5:   2%|▏        | 1/56 [00:00<00:18,  3.02it/s]\u001b[A\n",
      "Finalizing data blocks for type 5:   5%|▍        | 3/56 [00:00<00:11,  4.80it/s]\u001b[A\n",
      "Finalizing data blocks for type 5: 100%|████████| 56/56 [00:00<00:00, 56.90it/s]\u001b[A\n",
      "Finalizing data blocks: 100%|█████████████████████| 3/3 [00:01<00:00,  2.99it/s]\n",
      "Parsing signal channels: 100%|██████████████| 56/56 [00:00<00:00, 116914.40it/s]\n",
      "Parsing spike channels: 0it [00:00, ?it/s]\n",
      "Parsing event channels: 100%|██████████████████| 4/4 [00:00<00:00, 87381.33it/s]\n"
     ]
    },
    {
     "name": "stdout",
     "output_type": "stream",
     "text": [
      "Day: 2, Mouse: 5\n"
     ]
    },
    {
     "name": "stderr",
     "output_type": "stream",
     "text": [
      "Parsing data blocks:  99%|█████▉| 6931648/7014032 [00:00<00:00, 17045352.12it/s]\n",
      "Finalizing data blocks:   0%|                             | 0/3 [00:00<?, ?it/s]\n",
      "Finalizing data blocks for type 1: 100%|████| 56/56 [00:00<00:00, 572880.55it/s]\u001b[A\n",
      "\n",
      "Finalizing data blocks for type 4: 100%|█████████| 4/4 [00:00<00:00, 254.20it/s]\u001b[A\n",
      "\n",
      "Finalizing data blocks for type 5:   0%|                 | 0/56 [00:00<?, ?it/s]\u001b[A\n",
      "Finalizing data blocks for type 5:   2%|▏        | 1/56 [00:00<00:05,  9.58it/s]\u001b[A\n",
      "Finalizing data blocks for type 5:   5%|▍        | 3/56 [00:00<00:03, 15.18it/s]\u001b[A\n",
      "Finalizing data blocks for type 5: 100%|███████| 56/56 [00:00<00:00, 177.94it/s]\u001b[A\n",
      "Finalizing data blocks: 100%|█████████████████████| 3/3 [00:00<00:00,  8.97it/s]\n",
      "Parsing signal channels: 100%|██████████████| 56/56 [00:00<00:00, 115933.38it/s]\n",
      "Parsing spike channels: 0it [00:00, ?it/s]\n",
      "Parsing event channels: 100%|██████████████████| 4/4 [00:00<00:00, 99864.38it/s]\n"
     ]
    },
    {
     "name": "stdout",
     "output_type": "stream",
     "text": [
      "Day: 2, Mouse: 23\n"
     ]
    },
    {
     "name": "stderr",
     "output_type": "stream",
     "text": [
      "Parsing data blocks:  99%|█████▉| 6053056/6135440 [00:00<00:00, 17312352.36it/s]\n",
      "Finalizing data blocks:   0%|                             | 0/3 [00:00<?, ?it/s]\n",
      "Finalizing data blocks for type 1: 100%|████| 56/56 [00:00<00:00, 628024.13it/s]\u001b[A\n",
      "\n",
      "Finalizing data blocks for type 4: 100%|█████████| 4/4 [00:00<00:00, 250.66it/s]\u001b[A\n",
      "\n",
      "Finalizing data blocks for type 5:   0%|                 | 0/56 [00:00<?, ?it/s]\u001b[A\n",
      "Finalizing data blocks for type 5: 100%|███████| 56/56 [00:00<00:00, 197.79it/s]\u001b[A\n",
      "Finalizing data blocks: 100%|█████████████████████| 3/3 [00:00<00:00,  9.87it/s]\n",
      "Parsing signal channels: 100%|███████████████| 56/56 [00:00<00:00, 98606.64it/s]\n",
      "Parsing spike channels: 0it [00:00, ?it/s]\n",
      "Parsing event channels: 100%|██████████████████| 4/4 [00:00<00:00, 93206.76it/s]\n"
     ]
    },
    {
     "name": "stdout",
     "output_type": "stream",
     "text": [
      "Day: 2, Mouse: 12\n"
     ]
    },
    {
     "name": "stderr",
     "output_type": "stream",
     "text": [
      "Parsing data blocks:  99%|████▉| 9965248/10047632 [00:00<00:00, 18396762.82it/s]\n",
      "Finalizing data blocks:   0%|                             | 0/3 [00:00<?, ?it/s]\n",
      "Finalizing data blocks for type 1: 100%|████| 56/56 [00:00<00:00, 570099.57it/s]\u001b[A\n",
      "\n",
      "Finalizing data blocks for type 4: 100%|█████████| 4/4 [00:00<00:00, 251.22it/s]\u001b[A\n",
      "\n",
      "Finalizing data blocks for type 5:   0%|                 | 0/56 [00:00<?, ?it/s]\u001b[A\n",
      "Finalizing data blocks for type 5:   2%|▏        | 1/56 [00:00<00:08,  6.58it/s]\u001b[A\n",
      "Finalizing data blocks for type 5:   5%|▍        | 3/56 [00:00<00:05, 10.54it/s]\u001b[A\n",
      "Finalizing data blocks for type 5: 100%|███████| 56/56 [00:00<00:00, 123.61it/s]\u001b[A\n",
      "Finalizing data blocks: 100%|█████████████████████| 3/3 [00:00<00:00,  6.34it/s]\n",
      "Parsing signal channels: 100%|██████████████| 56/56 [00:00<00:00, 115194.22it/s]\n",
      "Parsing spike channels: 0it [00:00, ?it/s]\n",
      "Parsing event channels: 100%|██████████████████| 4/4 [00:00<00:00, 98112.37it/s]\n"
     ]
    },
    {
     "name": "stdout",
     "output_type": "stream",
     "text": [
      "Day: 2, Mouse: 1\n"
     ]
    },
    {
     "name": "stderr",
     "output_type": "stream",
     "text": [
      "Parsing data blocks: 100%|███▉| 23128768/23211152 [00:01<00:00, 17698418.39it/s]\n",
      "Finalizing data blocks:   0%|                             | 0/3 [00:00<?, ?it/s]\n",
      "Finalizing data blocks for type 1: 100%|████| 56/56 [00:00<00:00, 587202.56it/s]\u001b[A\n",
      "\n",
      "Finalizing data blocks for type 4: 100%|█████████| 4/4 [00:00<00:00, 248.58it/s]\u001b[A\n",
      "\n",
      "Finalizing data blocks for type 5:   0%|                 | 0/56 [00:00<?, ?it/s]\u001b[A\n",
      "Finalizing data blocks for type 5:   2%|▏        | 1/56 [00:00<00:20,  2.74it/s]\u001b[A\n",
      "Finalizing data blocks for type 5:   5%|▍        | 3/56 [00:00<00:12,  4.32it/s]\u001b[A\n",
      "Finalizing data blocks for type 5: 100%|████████| 56/56 [00:01<00:00, 50.51it/s]\u001b[A\n",
      "Finalizing data blocks: 100%|█████████████████████| 3/3 [00:01<00:00,  2.66it/s]\n",
      "Parsing signal channels: 100%|███████████████| 56/56 [00:00<00:00, 96065.86it/s]\n",
      "Parsing spike channels: 0it [00:00, ?it/s]\n",
      "Parsing event channels: 100%|██████████████████| 4/4 [00:00<00:00, 95325.09it/s]\n"
     ]
    },
    {
     "name": "stdout",
     "output_type": "stream",
     "text": [
      "Day: 2, Mouse: 16\n"
     ]
    },
    {
     "name": "stderr",
     "output_type": "stream",
     "text": [
      "Parsing data blocks:  99%|███▉| 15151552/15233936 [00:00<00:00, 18908526.53it/s]\n",
      "Finalizing data blocks:   0%|                             | 0/3 [00:00<?, ?it/s]\n",
      "Finalizing data blocks for type 1: 100%|████| 56/56 [00:00<00:00, 523120.32it/s]\u001b[A\n",
      "\n",
      "Finalizing data blocks for type 4: 100%|█████████| 4/4 [00:00<00:00, 258.10it/s]\u001b[A\n",
      "\n",
      "Finalizing data blocks for type 5:   0%|                 | 0/56 [00:00<?, ?it/s]\u001b[A\n",
      "Finalizing data blocks for type 5:   2%|▏        | 1/56 [00:00<00:12,  4.43it/s]\u001b[A\n",
      "Finalizing data blocks for type 5:   5%|▍        | 3/56 [00:00<00:07,  6.91it/s]\u001b[A\n",
      "Finalizing data blocks for type 5: 100%|████████| 56/56 [00:00<00:00, 80.50it/s]\u001b[A\n",
      "Finalizing data blocks: 100%|█████████████████████| 3/3 [00:00<00:00,  4.20it/s]\n",
      "Parsing signal channels: 100%|██████████████| 56/56 [00:00<00:00, 113854.11it/s]\n",
      "Parsing spike channels: 0it [00:00, ?it/s]\n",
      "Parsing event channels: 100%|██████████████████| 4/4 [00:00<00:00, 90687.65it/s]\n"
     ]
    },
    {
     "name": "stdout",
     "output_type": "stream",
     "text": [
      "Day: 2, Mouse: 33\n"
     ]
    },
    {
     "name": "stderr",
     "output_type": "stream",
     "text": [
      "Parsing data blocks:  99%|█████▉| 6998464/7080848 [00:00<00:00, 16885975.90it/s]\n",
      "Finalizing data blocks:   0%|                             | 0/3 [00:00<?, ?it/s]\n",
      "Finalizing data blocks for type 1: 100%|████| 56/56 [00:00<00:00, 577103.25it/s]\u001b[A\n",
      "\n",
      "Finalizing data blocks for type 4: 100%|█████████| 4/4 [00:00<00:00, 275.52it/s]\u001b[A\n",
      "\n",
      "Finalizing data blocks for type 5:   0%|                 | 0/56 [00:00<?, ?it/s]\u001b[A\n",
      "Finalizing data blocks for type 5:   2%|▏        | 1/56 [00:00<00:05,  9.40it/s]\u001b[A\n",
      "Finalizing data blocks for type 5:   5%|▍        | 3/56 [00:00<00:03, 14.89it/s]\u001b[A\n",
      "Finalizing data blocks for type 5: 100%|███████| 56/56 [00:00<00:00, 175.03it/s]\u001b[A\n",
      "Finalizing data blocks: 100%|█████████████████████| 3/3 [00:00<00:00,  8.86it/s]\n",
      "Parsing signal channels: 100%|██████████████| 56/56 [00:00<00:00, 138572.88it/s]\n",
      "Parsing spike channels: 0it [00:00, ?it/s]\n",
      "Parsing event channels: 100%|██████████████████| 4/4 [00:00<00:00, 92691.80it/s]\n"
     ]
    },
    {
     "name": "stdout",
     "output_type": "stream",
     "text": [
      "Day: 2, Mouse: 17\n"
     ]
    },
    {
     "name": "stderr",
     "output_type": "stream",
     "text": [
      "Parsing data blocks:  99%|█████▉| 6698176/6780560 [00:00<00:00, 17256224.67it/s]\n",
      "Finalizing data blocks:   0%|                             | 0/3 [00:00<?, ?it/s]\n",
      "Finalizing data blocks for type 1: 100%|████| 56/56 [00:00<00:00, 636533.94it/s]\u001b[A\n",
      "\n",
      "Finalizing data blocks for type 4: 100%|█████████| 4/4 [00:00<00:00, 252.73it/s]\u001b[A\n",
      "\n",
      "Finalizing data blocks for type 5:   0%|                 | 0/56 [00:00<?, ?it/s]\u001b[A\n",
      "Finalizing data blocks for type 5:   2%|▏        | 1/56 [00:00<00:05,  9.81it/s]\u001b[A\n",
      "Finalizing data blocks for type 5:   5%|▍        | 3/56 [00:00<00:03, 15.67it/s]\u001b[A\n",
      "Finalizing data blocks for type 5: 100%|███████| 56/56 [00:00<00:00, 183.83it/s]\u001b[A\n",
      "Finalizing data blocks: 100%|█████████████████████| 3/3 [00:00<00:00,  9.25it/s]\n",
      "Parsing signal channels: 100%|██████████████| 56/56 [00:00<00:00, 123297.13it/s]\n",
      "Parsing spike channels: 0it [00:00, ?it/s]\n",
      "Parsing event channels: 100%|██████████████████| 4/4 [00:00<00:00, 96978.13it/s]\n"
     ]
    },
    {
     "name": "stdout",
     "output_type": "stream",
     "text": [
      "Day: 2, Mouse: 13\n"
     ]
    },
    {
     "name": "stderr",
     "output_type": "stream",
     "text": [
      "Parsing data blocks:  99%|█████▉| 6278080/6360464 [00:00<00:00, 19391451.86it/s]\n",
      "Finalizing data blocks:   0%|                             | 0/3 [00:00<?, ?it/s]\n",
      "Finalizing data blocks for type 1: 100%|████| 56/56 [00:00<00:00, 542450.40it/s]\u001b[A\n",
      "\n",
      "Finalizing data blocks for type 4: 100%|█████████| 4/4 [00:00<00:00, 251.10it/s]\u001b[A\n",
      "\n",
      "Finalizing data blocks for type 5:   0%|                 | 0/56 [00:00<?, ?it/s]\u001b[A\n",
      "Finalizing data blocks for type 5: 100%|███████| 56/56 [00:00<00:00, 197.04it/s]\u001b[A\n",
      "Finalizing data blocks: 100%|█████████████████████| 3/3 [00:00<00:00,  9.86it/s]\n",
      "Parsing signal channels: 100%|██████████████| 56/56 [00:00<00:00, 143658.12it/s]\n",
      "Parsing spike channels: 0it [00:00, ?it/s]\n",
      "Parsing event channels: 100%|██████████████████| 4/4 [00:00<00:00, 90687.65it/s]\n"
     ]
    },
    {
     "name": "stdout",
     "output_type": "stream",
     "text": [
      "Day: 2, Mouse: 22\n"
     ]
    },
    {
     "name": "stderr",
     "output_type": "stream",
     "text": [
      "Parsing data blocks:  99%|█████▉| 8423104/8505488 [00:00<00:00, 18415341.28it/s]\n",
      "Finalizing data blocks:   0%|                             | 0/3 [00:00<?, ?it/s]\n",
      "Finalizing data blocks for type 1: 100%|████| 56/56 [00:00<00:00, 584281.15it/s]\u001b[A\n",
      "\n",
      "Finalizing data blocks for type 4: 100%|█████████| 4/4 [00:00<00:00, 248.34it/s]\u001b[A\n",
      "\n",
      "Finalizing data blocks for type 5:   0%|                 | 0/56 [00:00<?, ?it/s]\u001b[A\n",
      "Finalizing data blocks for type 5:   2%|▏        | 1/56 [00:00<00:09,  5.56it/s]\u001b[A\n",
      "Finalizing data blocks for type 5:   5%|▍        | 3/56 [00:00<00:05,  9.68it/s]\u001b[A\n",
      "Finalizing data blocks for type 5: 100%|███████| 56/56 [00:00<00:00, 120.83it/s]\u001b[A\n",
      "Finalizing data blocks: 100%|█████████████████████| 3/3 [00:00<00:00,  6.20it/s]\n",
      "Parsing signal channels: 100%|██████████████| 56/56 [00:00<00:00, 148283.47it/s]\n",
      "Parsing spike channels: 0it [00:00, ?it/s]\n",
      "Parsing event channels: 100%|██████████████████| 4/4 [00:00<00:00, 86928.58it/s]\n"
     ]
    },
    {
     "name": "stdout",
     "output_type": "stream",
     "text": [
      "Day: 2, Mouse: 4\n"
     ]
    },
    {
     "name": "stderr",
     "output_type": "stream",
     "text": [
      "Parsing data blocks: 100%|███▉| 45831616/45914000 [00:02<00:00, 18208588.65it/s]\n",
      "Finalizing data blocks:   0%|                             | 0/3 [00:00<?, ?it/s]\n",
      "Finalizing data blocks for type 1: 100%|████| 56/56 [00:00<00:00, 577103.25it/s]\u001b[A\n",
      "\n",
      "Finalizing data blocks for type 4: 100%|█████████| 4/4 [00:00<00:00, 238.74it/s]\u001b[A\n",
      "\n",
      "Finalizing data blocks for type 5:   0%|                 | 0/56 [00:00<?, ?it/s]\u001b[A\n",
      "Finalizing data blocks for type 5:   2%|▏        | 1/56 [00:00<00:40,  1.37it/s]\u001b[A\n",
      "Finalizing data blocks for type 5:   5%|▍        | 3/56 [00:01<00:24,  2.18it/s]\u001b[A\n",
      "Finalizing data blocks for type 5: 100%|████████| 56/56 [00:02<00:00, 25.55it/s]\u001b[A\n",
      "Finalizing data blocks: 100%|█████████████████████| 3/3 [00:02<00:00,  1.36it/s]\n",
      "Parsing signal channels: 100%|██████████████| 56/56 [00:00<00:00, 109196.20it/s]\n",
      "Parsing spike channels: 0it [00:00, ?it/s]\n",
      "Parsing event channels: 100%|██████████████████| 4/4 [00:00<00:00, 93206.76it/s]\n"
     ]
    },
    {
     "name": "stdout",
     "output_type": "stream",
     "text": [
      "Day: 3, Mouse: 26\n"
     ]
    },
    {
     "name": "stderr",
     "output_type": "stream",
     "text": [
      "Parsing data blocks:  99%|███▉| 10074304/10156688 [00:00<00:00, 17506648.09it/s]\n",
      "Finalizing data blocks:   0%|                             | 0/3 [00:00<?, ?it/s]\n",
      "Finalizing data blocks for type 1: 100%|████| 56/56 [00:00<00:00, 543706.07it/s]\u001b[A\n",
      "\n",
      "Finalizing data blocks for type 4: 100%|█████████| 4/4 [00:00<00:00, 274.42it/s]\u001b[A\n",
      "\n",
      "Finalizing data blocks for type 5:   0%|                 | 0/56 [00:00<?, ?it/s]\u001b[A\n",
      "Finalizing data blocks for type 5:   2%|▏        | 1/56 [00:00<00:08,  6.53it/s]\u001b[A\n",
      "Finalizing data blocks for type 5:   5%|▍        | 3/56 [00:00<00:05, 10.35it/s]\u001b[A\n",
      "Finalizing data blocks for type 5: 100%|███████| 56/56 [00:00<00:00, 121.78it/s]\u001b[A\n",
      "Finalizing data blocks: 100%|█████████████████████| 3/3 [00:00<00:00,  6.27it/s]\n",
      "Parsing signal channels: 100%|██████████████| 56/56 [00:00<00:00, 108993.51it/s]\n",
      "Parsing spike channels: 0it [00:00, ?it/s]\n",
      "Parsing event channels: 100%|██████████████████| 4/4 [00:00<00:00, 97541.95it/s]\n"
     ]
    },
    {
     "name": "stdout",
     "output_type": "stream",
     "text": [
      "Day: 3, Mouse: 21\n"
     ]
    },
    {
     "name": "stderr",
     "output_type": "stream",
     "text": [
      "Parsing data blocks:  99%|█████▉| 9381568/9463952 [00:00<00:00, 17233523.10it/s]\n",
      "Finalizing data blocks:   0%|                             | 0/3 [00:00<?, ?it/s]\n",
      "Finalizing data blocks for type 1: 100%|████| 56/56 [00:00<00:00, 596144.73it/s]\u001b[A\n",
      "\n",
      "Finalizing data blocks for type 4: 100%|█████████| 4/4 [00:00<00:00, 272.70it/s]\u001b[A\n",
      "\n",
      "Finalizing data blocks for type 5:   0%|                 | 0/56 [00:00<?, ?it/s]\u001b[A\n",
      "Finalizing data blocks for type 5:   2%|▏        | 1/56 [00:00<00:07,  6.93it/s]\u001b[A\n",
      "Finalizing data blocks for type 5:   5%|▍        | 3/56 [00:00<00:04, 11.14it/s]\u001b[A\n",
      "Finalizing data blocks for type 5: 100%|███████| 56/56 [00:00<00:00, 130.75it/s]\u001b[A\n",
      "Finalizing data blocks: 100%|█████████████████████| 3/3 [00:00<00:00,  6.71it/s]\n",
      "Parsing signal channels: 100%|██████████████| 56/56 [00:00<00:00, 115876.18it/s]\n",
      "Parsing spike channels: 0it [00:00, ?it/s]\n",
      "Parsing event channels: 100%|██████████████████| 4/4 [00:00<00:00, 95325.09it/s]\n"
     ]
    },
    {
     "name": "stdout",
     "output_type": "stream",
     "text": [
      "Day: 3, Mouse: 8\n"
     ]
    },
    {
     "name": "stderr",
     "output_type": "stream",
     "text": [
      "Parsing data blocks:  99%|█████▉| 9198816/9281200 [00:00<00:00, 17933056.69it/s]\n",
      "Finalizing data blocks:   0%|                             | 0/3 [00:00<?, ?it/s]\n",
      "Finalizing data blocks for type 1: 100%|████| 56/56 [00:00<00:00, 645277.54it/s]\u001b[A\n",
      "\n",
      "Finalizing data blocks for type 4: 100%|█████████| 4/4 [00:00<00:00, 273.98it/s]\u001b[A\n",
      "\n",
      "Finalizing data blocks for type 5:   0%|                 | 0/56 [00:00<?, ?it/s]\u001b[A\n",
      "Finalizing data blocks for type 5:   2%|▏        | 1/56 [00:00<00:07,  7.27it/s]\u001b[A\n",
      "Finalizing data blocks for type 5:   5%|▍        | 3/56 [00:00<00:04, 11.48it/s]\u001b[A\n",
      "Finalizing data blocks for type 5: 100%|███████| 56/56 [00:00<00:00, 134.72it/s]\u001b[A\n",
      "Finalizing data blocks: 100%|█████████████████████| 3/3 [00:00<00:00,  6.91it/s]\n",
      "Parsing signal channels: 100%|██████████████| 56/56 [00:00<00:00, 132029.81it/s]\n",
      "Parsing spike channels: 0it [00:00, ?it/s]\n",
      "Parsing event channels: 100%|██████████████████| 4/4 [00:00<00:00, 83468.74it/s]\n"
     ]
    },
    {
     "name": "stdout",
     "output_type": "stream",
     "text": [
      "Day: 3, Mouse: 27\n"
     ]
    },
    {
     "name": "stderr",
     "output_type": "stream",
     "text": [
      "Parsing data blocks:  99%|█████▉| 8592832/8675216 [00:00<00:00, 19483469.02it/s]\n",
      "Finalizing data blocks:   0%|                             | 0/3 [00:00<?, ?it/s]\n",
      "Finalizing data blocks for type 1: 100%|████| 56/56 [00:00<00:00, 614871.79it/s]\u001b[A\n",
      "\n",
      "Finalizing data blocks for type 4: 100%|█████████| 4/4 [00:00<00:00, 273.73it/s]\u001b[A\n",
      "\n",
      "Finalizing data blocks for type 5:   0%|                 | 0/56 [00:00<?, ?it/s]\u001b[A\n",
      "Finalizing data blocks for type 5:   2%|▏        | 1/56 [00:00<00:07,  7.56it/s]\u001b[A\n",
      "Finalizing data blocks for type 5:   5%|▍        | 3/56 [00:00<00:04, 12.03it/s]\u001b[A\n",
      "Finalizing data blocks for type 5: 100%|███████| 56/56 [00:00<00:00, 140.74it/s]\u001b[A\n",
      "Finalizing data blocks: 100%|█████████████████████| 3/3 [00:00<00:00,  7.20it/s]\n",
      "Parsing signal channels: 100%|██████████████| 56/56 [00:00<00:00, 100162.48it/s]\n",
      "Parsing spike channels: 0it [00:00, ?it/s]\n",
      "Parsing event channels: 100%|██████████████████| 4/4 [00:00<00:00, 93206.76it/s]\n"
     ]
    },
    {
     "name": "stdout",
     "output_type": "stream",
     "text": [
      "Day: 3, Mouse: 9\n"
     ]
    },
    {
     "name": "stderr",
     "output_type": "stream",
     "text": [
      "Parsing data blocks:  99%|█████▉| 6640576/6722960 [00:00<00:00, 17407458.12it/s]\n",
      "Finalizing data blocks:   0%|                             | 0/3 [00:00<?, ?it/s]\n",
      "Finalizing data blocks for type 1: 100%|████| 56/56 [00:00<00:00, 608500.06it/s]\u001b[A\n",
      "\n",
      "Finalizing data blocks for type 4: 100%|█████████| 4/4 [00:00<00:00, 269.33it/s]\u001b[A\n",
      "\n",
      "Finalizing data blocks for type 5:   0%|                 | 0/56 [00:00<?, ?it/s]\u001b[A\n",
      "Finalizing data blocks for type 5:   2%|▏        | 1/56 [00:00<00:05,  9.86it/s]\u001b[A\n",
      "Finalizing data blocks for type 5:   5%|▍        | 3/56 [00:00<00:03, 15.67it/s]\u001b[A\n",
      "Finalizing data blocks for type 5: 100%|███████| 56/56 [00:00<00:00, 183.63it/s]\u001b[A\n",
      "Finalizing data blocks: 100%|█████████████████████| 3/3 [00:00<00:00,  9.26it/s]\n",
      "Parsing signal channels: 100%|██████████████| 56/56 [00:00<00:00, 158169.04it/s]\n",
      "Parsing spike channels: 0it [00:00, ?it/s]\n",
      "Parsing event channels: 100%|█████████████████| 4/4 [00:00<00:00, 100462.37it/s]\n"
     ]
    },
    {
     "name": "stdout",
     "output_type": "stream",
     "text": [
      "Day: 3, Mouse: 19\n"
     ]
    },
    {
     "name": "stderr",
     "output_type": "stream",
     "text": [
      "Parsing data blocks: 100%|███▉| 26549440/26631824 [00:01<00:00, 20075784.63it/s]\n",
      "Finalizing data blocks:   0%|                             | 0/3 [00:00<?, ?it/s]\n",
      "Finalizing data blocks for type 1: 100%|████| 56/56 [00:00<00:00, 600718.73it/s]\u001b[A\n",
      "\n",
      "Finalizing data blocks for type 4: 100%|█████████| 4/4 [00:00<00:00, 278.44it/s]\u001b[A\n",
      "\n",
      "Finalizing data blocks for type 5:   0%|                 | 0/56 [00:00<?, ?it/s]\u001b[A\n",
      "Finalizing data blocks for type 5:   2%|▏        | 1/56 [00:00<00:22,  2.42it/s]\u001b[A\n",
      "Finalizing data blocks for type 5:   5%|▍        | 3/56 [00:00<00:13,  3.85it/s]\u001b[A\n",
      "Finalizing data blocks for type 5: 100%|████████| 56/56 [00:01<00:00, 45.27it/s]\u001b[A\n",
      "Finalizing data blocks: 100%|█████████████████████| 3/3 [00:01<00:00,  2.39it/s]\n",
      "Parsing signal channels: 100%|██████████████| 56/56 [00:00<00:00, 107694.19it/s]\n",
      "Parsing spike channels: 0it [00:00, ?it/s]\n",
      "Parsing event channels: 100%|██████████████████| 4/4 [00:00<00:00, 90687.65it/s]\n"
     ]
    },
    {
     "name": "stdout",
     "output_type": "stream",
     "text": [
      "Day: 3, Mouse: 20\n"
     ]
    },
    {
     "name": "stderr",
     "output_type": "stream",
     "text": [
      "Parsing data blocks: 100%|███▉| 25751488/25833872 [00:01<00:00, 21363615.51it/s]\n",
      "Finalizing data blocks:   0%|                             | 0/3 [00:00<?, ?it/s]\n",
      "Finalizing data blocks for type 1: 100%|████| 56/56 [00:00<00:00, 602259.04it/s]\u001b[A\n",
      "\n",
      "Finalizing data blocks for type 4: 100%|█████████| 4/4 [00:00<00:00, 272.37it/s]\u001b[A\n",
      "\n",
      "Finalizing data blocks for type 5:   0%|                 | 0/56 [00:00<?, ?it/s]\u001b[A\n",
      "Finalizing data blocks for type 5:   2%|▏        | 1/56 [00:00<00:22,  2.49it/s]\u001b[A\n",
      "Finalizing data blocks for type 5:   5%|▍        | 3/56 [00:00<00:13,  3.97it/s]\u001b[A\n",
      "Finalizing data blocks for type 5: 100%|████████| 56/56 [00:01<00:00, 46.82it/s]\u001b[A\n",
      "Finalizing data blocks: 100%|█████████████████████| 3/3 [00:01<00:00,  2.47it/s]\n",
      "Parsing signal channels: 100%|██████████████| 56/56 [00:00<00:00, 114075.29it/s]\n",
      "Parsing spike channels: 0it [00:00, ?it/s]\n",
      "Parsing event channels: 100%|██████████████████| 4/4 [00:00<00:00, 92691.80it/s]\n"
     ]
    },
    {
     "name": "stdout",
     "output_type": "stream",
     "text": [
      "Day: 3, Mouse: 18\n"
     ]
    },
    {
     "name": "stderr",
     "output_type": "stream",
     "text": [
      "Parsing data blocks:  99%|█████▉| 8859328/8941712 [00:00<00:00, 19934911.48it/s]\n",
      "Finalizing data blocks:   0%|                             | 0/3 [00:00<?, ?it/s]\n",
      "Finalizing data blocks for type 1: 100%|████| 56/56 [00:00<00:00, 335065.65it/s]\u001b[A\n",
      "\n",
      "Finalizing data blocks for type 4: 100%|█████████| 4/4 [00:00<00:00, 241.26it/s]\u001b[A\n",
      "\n",
      "Finalizing data blocks for type 5:   0%|                 | 0/56 [00:00<?, ?it/s]\u001b[A\n",
      "Finalizing data blocks for type 5:   2%|▏        | 1/56 [00:00<00:07,  7.02it/s]\u001b[A\n",
      "Finalizing data blocks for type 5:   5%|▍        | 3/56 [00:00<00:04, 11.45it/s]\u001b[A\n",
      "Finalizing data blocks for type 5: 100%|███████| 56/56 [00:00<00:00, 135.32it/s]\u001b[A\n",
      "Finalizing data blocks: 100%|█████████████████████| 3/3 [00:00<00:00,  6.85it/s]\n",
      "Parsing signal channels: 100%|███████████████| 56/56 [00:00<00:00, 96858.15it/s]\n",
      "Parsing spike channels: 0it [00:00, ?it/s]\n",
      "Parsing event channels: 100%|█████████████████| 4/4 [00:00<00:00, 102300.10it/s]\n"
     ]
    },
    {
     "name": "stdout",
     "output_type": "stream",
     "text": [
      "Day: 3, Mouse: 25\n"
     ]
    },
    {
     "name": "stderr",
     "output_type": "stream",
     "text": [
      "Parsing data blocks:  99%|█████▉| 6659776/6742160 [00:00<00:00, 16888705.49it/s]\n",
      "Finalizing data blocks:   0%|                             | 0/3 [00:00<?, ?it/s]\n",
      "Finalizing data blocks for type 1: 100%|████| 56/56 [00:00<00:00, 602259.04it/s]\u001b[A\n",
      "\n",
      "Finalizing data blocks for type 4: 100%|█████████| 4/4 [00:00<00:00, 286.11it/s]\u001b[A\n",
      "\n",
      "Finalizing data blocks for type 5:   0%|                 | 0/56 [00:00<?, ?it/s]\u001b[A\n",
      "Finalizing data blocks for type 5:   2%|▏        | 1/56 [00:00<00:05,  9.69it/s]\u001b[A\n",
      "Finalizing data blocks for type 5:   5%|▍        | 3/56 [00:00<00:03, 15.43it/s]\u001b[A\n",
      "Finalizing data blocks for type 5: 100%|███████| 56/56 [00:00<00:00, 181.65it/s]\u001b[A\n",
      "Finalizing data blocks: 100%|█████████████████████| 3/3 [00:00<00:00,  9.19it/s]\n",
      "Parsing signal channels: 100%|██████████████| 56/56 [00:00<00:00, 109399.64it/s]\n",
      "Parsing spike channels: 0it [00:00, ?it/s]\n",
      "Parsing event channels: 100%|██████████████████| 4/4 [00:00<00:00, 97541.95it/s]\n"
     ]
    },
    {
     "name": "stdout",
     "output_type": "stream",
     "text": [
      "Day: 3, Mouse: 32\n"
     ]
    },
    {
     "name": "stderr",
     "output_type": "stream",
     "text": [
      "Parsing data blocks:  99%|█████▉| 6013120/6095504 [00:00<00:00, 17665039.09it/s]\n",
      "Finalizing data blocks:   0%|                             | 0/3 [00:00<?, ?it/s]\n",
      "Finalizing data blocks for type 1: 100%|████| 56/56 [00:00<00:00, 624683.57it/s]\u001b[A\n",
      "\n",
      "Finalizing data blocks for type 4: 100%|█████████| 4/4 [00:00<00:00, 259.22it/s]\u001b[A\n",
      "\n",
      "Finalizing data blocks for type 5:   0%|                 | 0/56 [00:00<?, ?it/s]\u001b[A\n",
      "Finalizing data blocks for type 5: 100%|███████| 56/56 [00:00<00:00, 203.56it/s]\u001b[A\n",
      "Finalizing data blocks: 100%|█████████████████████| 3/3 [00:00<00:00, 10.19it/s]\n",
      "Parsing signal channels: 100%|██████████████| 56/56 [00:00<00:00, 164252.46it/s]\n",
      "Parsing spike channels: 0it [00:00, ?it/s]\n",
      "Parsing event channels: 100%|██████████████████| 4/4 [00:00<00:00, 84733.41it/s]\n"
     ]
    },
    {
     "name": "stdout",
     "output_type": "stream",
     "text": [
      "Day: 3, Mouse: 23\n"
     ]
    },
    {
     "name": "stderr",
     "output_type": "stream",
     "text": [
      "Parsing data blocks:  99%|███▉| 11508160/11590544 [00:00<00:00, 17504960.78it/s]\n",
      "Finalizing data blocks:   0%|                             | 0/3 [00:00<?, ?it/s]\n",
      "Finalizing data blocks for type 1: 100%|████| 56/56 [00:00<00:00, 608500.06it/s]\u001b[A\n",
      "\n",
      "Finalizing data blocks for type 4: 100%|█████████| 4/4 [00:00<00:00, 271.26it/s]\u001b[A\n",
      "\n",
      "Finalizing data blocks for type 5:   0%|                 | 0/56 [00:00<?, ?it/s]\u001b[A\n",
      "Finalizing data blocks for type 5:   2%|▏        | 1/56 [00:00<00:09,  5.57it/s]\u001b[A\n",
      "Finalizing data blocks for type 5:   5%|▍        | 3/56 [00:00<00:05,  8.92it/s]\u001b[A\n",
      "Finalizing data blocks for type 5: 100%|███████| 56/56 [00:00<00:00, 104.59it/s]\u001b[A\n",
      "Finalizing data blocks: 100%|█████████████████████| 3/3 [00:00<00:00,  5.41it/s]\n",
      "Parsing signal channels: 100%|██████████████| 56/56 [00:00<00:00, 112923.57it/s]\n",
      "Parsing spike channels: 0it [00:00, ?it/s]\n",
      "Parsing event channels: 100%|█████████████████| 4/4 [00:00<00:00, 102927.71it/s]\n"
     ]
    },
    {
     "name": "stdout",
     "output_type": "stream",
     "text": [
      "Day: 3, Mouse: 5\n"
     ]
    },
    {
     "name": "stderr",
     "output_type": "stream",
     "text": [
      "Parsing data blocks:  99%|█████▉| 9080512/9162896 [00:00<00:00, 17001260.51it/s]\n",
      "Finalizing data blocks:   0%|                             | 0/3 [00:00<?, ?it/s]\n",
      "Finalizing data blocks for type 1: 100%|████| 56/56 [00:00<00:00, 537485.18it/s]\u001b[A\n",
      "\n",
      "Finalizing data blocks for type 4: 100%|█████████| 4/4 [00:00<00:00, 245.61it/s]\u001b[A\n",
      "\n",
      "Finalizing data blocks for type 5:   0%|                 | 0/56 [00:00<?, ?it/s]\u001b[A\n",
      "Finalizing data blocks for type 5:   2%|▏        | 1/56 [00:00<00:07,  7.05it/s]\u001b[A\n",
      "Finalizing data blocks for type 5:   5%|▍        | 3/56 [00:00<00:04, 11.22it/s]\u001b[A\n",
      "Finalizing data blocks for type 5: 100%|███████| 56/56 [00:00<00:00, 131.45it/s]\u001b[A\n",
      "Finalizing data blocks: 100%|█████████████████████| 3/3 [00:00<00:00,  6.71it/s]\n",
      "Parsing signal channels: 100%|███████████████| 56/56 [00:00<00:00, 99483.70it/s]\n",
      "Parsing spike channels: 0it [00:00, ?it/s]\n",
      "Parsing event channels: 100%|██████████████████| 4/4 [00:00<00:00, 88768.34it/s]\n"
     ]
    },
    {
     "name": "stdout",
     "output_type": "stream",
     "text": [
      "Day: 3, Mouse: 12\n"
     ]
    },
    {
     "name": "stderr",
     "output_type": "stream",
     "text": [
      "Parsing data blocks:  99%|█████▉| 6989248/7071632 [00:00<00:00, 17613681.18it/s]\n",
      "Finalizing data blocks:   0%|                             | 0/3 [00:00<?, ?it/s]\n",
      "Finalizing data blocks for type 1: 100%|████| 56/56 [00:00<00:00, 628024.13it/s]\u001b[A\n",
      "\n",
      "Finalizing data blocks for type 4: 100%|█████████| 4/4 [00:00<00:00, 281.37it/s]\u001b[A\n",
      "\n",
      "Finalizing data blocks for type 5:   0%|                 | 0/56 [00:00<?, ?it/s]\u001b[A\n",
      "Finalizing data blocks for type 5:   2%|▏        | 1/56 [00:00<00:06,  9.06it/s]\u001b[A\n",
      "Finalizing data blocks for type 5:   5%|▍        | 3/56 [00:00<00:03, 14.45it/s]\u001b[A\n",
      "Finalizing data blocks for type 5: 100%|███████| 56/56 [00:00<00:00, 169.70it/s]\u001b[A\n",
      "Finalizing data blocks: 100%|█████████████████████| 3/3 [00:00<00:00,  8.62it/s]\n",
      "Parsing signal channels: 100%|██████████████| 56/56 [00:00<00:00, 142784.82it/s]\n",
      "Parsing spike channels: 0it [00:00, ?it/s]\n",
      "Parsing event channels: 100%|██████████████████| 4/4 [00:00<00:00, 97541.95it/s]\n"
     ]
    },
    {
     "name": "stdout",
     "output_type": "stream",
     "text": [
      "Day: 3, Mouse: 1\n"
     ]
    },
    {
     "name": "stderr",
     "output_type": "stream",
     "text": [
      "Parsing data blocks:  99%|█████▉| 8410048/8492432 [00:00<00:00, 16974735.40it/s]\n",
      "Finalizing data blocks:   0%|                             | 0/3 [00:00<?, ?it/s]\n",
      "Finalizing data blocks for type 1: 100%|████| 56/56 [00:00<00:00, 623026.59it/s]\u001b[A\n",
      "\n",
      "Finalizing data blocks for type 4: 100%|█████████| 4/4 [00:00<00:00, 250.05it/s]\u001b[A\n",
      "\n",
      "Finalizing data blocks for type 5:   0%|                 | 0/56 [00:00<?, ?it/s]\u001b[A\n",
      "Finalizing data blocks for type 5:   2%|▏        | 1/56 [00:00<00:07,  7.72it/s]\u001b[A\n",
      "Finalizing data blocks for type 5:   5%|▍        | 3/56 [00:00<00:04, 12.21it/s]\u001b[A\n",
      "Finalizing data blocks for type 5: 100%|███████| 56/56 [00:00<00:00, 144.69it/s]\u001b[A\n",
      "Finalizing data blocks: 100%|█████████████████████| 3/3 [00:00<00:00,  7.37it/s]\n",
      "Parsing signal channels: 100%|██████████████| 56/56 [00:00<00:00, 112706.83it/s]\n",
      "Parsing spike channels: 0it [00:00, ?it/s]\n",
      "Parsing event channels: 100%|██████████████████| 4/4 [00:00<00:00, 97541.95it/s]\n"
     ]
    },
    {
     "name": "stdout",
     "output_type": "stream",
     "text": [
      "Day: 3, Mouse: 16\n"
     ]
    },
    {
     "name": "stderr",
     "output_type": "stream",
     "text": [
      "Parsing data blocks:  99%|█████▉| 7875520/7957904 [00:00<00:00, 18409865.74it/s]\n",
      "Finalizing data blocks:   0%|                             | 0/3 [00:00<?, ?it/s]\n",
      "Finalizing data blocks for type 1: 100%|████| 56/56 [00:00<00:00, 638263.65it/s]\u001b[A\n",
      "\n",
      "Finalizing data blocks for type 4: 100%|█████████| 4/4 [00:00<00:00, 245.68it/s]\u001b[A\n",
      "\n",
      "Finalizing data blocks for type 5:   0%|                 | 0/56 [00:00<?, ?it/s]\u001b[A\n",
      "Finalizing data blocks for type 5:   2%|▏        | 1/56 [00:00<00:06,  8.22it/s]\u001b[A\n",
      "Finalizing data blocks for type 5:   5%|▍        | 3/56 [00:00<00:04, 12.94it/s]\u001b[A\n",
      "Finalizing data blocks for type 5: 100%|███████| 56/56 [00:00<00:00, 152.53it/s]\u001b[A\n",
      "Finalizing data blocks: 100%|█████████████████████| 3/3 [00:00<00:00,  7.75it/s]\n",
      "Parsing signal channels: 100%|██████████████| 56/56 [00:00<00:00, 133911.64it/s]\n",
      "Parsing spike channels: 0it [00:00, ?it/s]\n",
      "Parsing event channels: 100%|██████████████████| 4/4 [00:00<00:00, 91180.52it/s]\n"
     ]
    },
    {
     "name": "stdout",
     "output_type": "stream",
     "text": [
      "Day: 3, Mouse: 33\n"
     ]
    },
    {
     "name": "stderr",
     "output_type": "stream",
     "text": [
      "Parsing data blocks:  99%|████▉| 9923776/10006160 [00:00<00:00, 17330447.67it/s]\n",
      "Finalizing data blocks:   0%|                             | 0/3 [00:00<?, ?it/s]\n",
      "Finalizing data blocks for type 1: 100%|████| 56/56 [00:00<00:00, 629707.84it/s]\u001b[A\n",
      "\n",
      "Finalizing data blocks for type 4: 100%|█████████| 4/4 [00:00<00:00, 261.29it/s]\u001b[A\n",
      "\n",
      "Finalizing data blocks for type 5:   0%|                 | 0/56 [00:00<?, ?it/s]\u001b[A\n",
      "Finalizing data blocks for type 5:   2%|▏        | 1/56 [00:00<00:08,  6.52it/s]\u001b[A\n",
      "Finalizing data blocks for type 5:   5%|▍        | 3/56 [00:00<00:05, 10.32it/s]\u001b[A\n",
      "Finalizing data blocks for type 5: 100%|███████| 56/56 [00:00<00:00, 120.30it/s]\u001b[A\n",
      "Finalizing data blocks: 100%|█████████████████████| 3/3 [00:00<00:00,  6.19it/s]\n",
      "Parsing signal channels: 100%|██████████████| 56/56 [00:00<00:00, 112869.31it/s]\n",
      "Parsing spike channels: 0it [00:00, ?it/s]\n",
      "Parsing event channels: 100%|██████████████████| 4/4 [00:00<00:00, 95325.09it/s]\n"
     ]
    },
    {
     "name": "stdout",
     "output_type": "stream",
     "text": [
      "Day: 3, Mouse: 17\n"
     ]
    },
    {
     "name": "stderr",
     "output_type": "stream",
     "text": [
      "Parsing data blocks:  99%|███▉| 11141056/11223440 [00:00<00:00, 17098890.23it/s]\n",
      "Finalizing data blocks:   0%|                             | 0/3 [00:00<?, ?it/s]\n",
      "Finalizing data blocks for type 1: 100%|████| 56/56 [00:00<00:00, 577103.25it/s]\u001b[A\n",
      "\n",
      "Finalizing data blocks for type 4: 100%|█████████| 4/4 [00:00<00:00, 241.26it/s]\u001b[A\n",
      "\n",
      "Finalizing data blocks for type 5:   0%|                 | 0/56 [00:00<?, ?it/s]\u001b[A\n",
      "Finalizing data blocks for type 5:   2%|▏        | 1/56 [00:00<00:09,  5.71it/s]\u001b[A\n",
      "Finalizing data blocks for type 5:   5%|▍        | 3/56 [00:00<00:05,  9.04it/s]\u001b[A\n",
      "Finalizing data blocks for type 5: 100%|███████| 56/56 [00:00<00:00, 106.57it/s]\u001b[A\n",
      "Finalizing data blocks: 100%|█████████████████████| 3/3 [00:00<00:00,  5.49it/s]\n",
      "Parsing signal channels: 100%|██████████████| 56/56 [00:00<00:00, 108993.51it/s]\n",
      "Parsing spike channels: 0it [00:00, ?it/s]\n",
      "Parsing event channels: 100%|██████████████████| 4/4 [00:00<00:00, 97541.95it/s]\n"
     ]
    },
    {
     "name": "stdout",
     "output_type": "stream",
     "text": [
      "Day: 3, Mouse: 13\n"
     ]
    },
    {
     "name": "stderr",
     "output_type": "stream",
     "text": [
      "Parsing data blocks:  99%|█████▉| 8091328/8173712 [00:00<00:00, 17986778.37it/s]\n",
      "Finalizing data blocks:   0%|                             | 0/3 [00:00<?, ?it/s]\n",
      "Finalizing data blocks for type 1: 100%|████| 56/56 [00:00<00:00, 636533.94it/s]\u001b[A\n",
      "\n",
      "Finalizing data blocks for type 4: 100%|█████████| 4/4 [00:00<00:00, 251.23it/s]\u001b[A\n",
      "\n",
      "Finalizing data blocks for type 5:   0%|                 | 0/56 [00:00<?, ?it/s]\u001b[A\n",
      "Finalizing data blocks for type 5:   2%|▏        | 1/56 [00:00<00:06,  8.06it/s]\u001b[A\n",
      "Finalizing data blocks for type 5:   5%|▍        | 3/56 [00:00<00:04, 12.71it/s]\u001b[A\n",
      "Finalizing data blocks for type 5: 100%|███████| 56/56 [00:00<00:00, 150.07it/s]\u001b[A\n",
      "Finalizing data blocks: 100%|█████████████████████| 3/3 [00:00<00:00,  7.63it/s]\n",
      "Parsing signal channels: 100%|██████████████| 56/56 [00:00<00:00, 133683.00it/s]\n",
      "Parsing spike channels: 0it [00:00, ?it/s]\n",
      "Parsing event channels: 100%|██████████████████| 4/4 [00:00<00:00, 86480.49it/s]\n"
     ]
    },
    {
     "name": "stdout",
     "output_type": "stream",
     "text": [
      "Day: 3, Mouse: 4\n"
     ]
    },
    {
     "name": "stderr",
     "output_type": "stream",
     "text": [
      "Parsing data blocks:  98%|█████▉| 4958656/5041040 [00:00<00:00, 16909954.20it/s]\n",
      "Finalizing data blocks:   0%|                             | 0/3 [00:00<?, ?it/s]\n",
      "Finalizing data blocks for type 1: 100%|████| 56/56 [00:00<00:00, 590153.33it/s]\u001b[A\n",
      "\n",
      "Finalizing data blocks for type 4: 100%|█████████| 4/4 [00:00<00:00, 286.76it/s]\u001b[A\n",
      "\n",
      "Finalizing data blocks for type 5:   0%|                 | 0/56 [00:00<?, ?it/s]\u001b[A\n",
      "Finalizing data blocks for type 5: 100%|███████| 56/56 [00:00<00:00, 243.13it/s]\u001b[A\n",
      "Finalizing data blocks: 100%|█████████████████████| 3/3 [00:00<00:00, 12.07it/s]\n",
      "Parsing signal channels: 100%|██████████████| 56/56 [00:00<00:00, 112869.31it/s]\n",
      "Parsing spike channels: 0it [00:00, ?it/s]\n",
      "Parsing event channels: 100%|█████████████████| 4/4 [00:00<00:00, 102300.10it/s]\n"
     ]
    },
    {
     "name": "stdout",
     "output_type": "stream",
     "text": [
      "Day: 3, Mouse: 22\n"
     ]
    },
    {
     "name": "stderr",
     "output_type": "stream",
     "text": [
      "Parsing data blocks: 100%|███▉| 18321856/18404240 [00:01<00:00, 18282351.72it/s]\n",
      "Finalizing data blocks:   0%|                             | 0/3 [00:00<?, ?it/s]\n",
      "Finalizing data blocks for type 1: 100%|████| 56/56 [00:00<00:00, 608500.06it/s]\u001b[A\n",
      "\n",
      "Finalizing data blocks for type 4: 100%|█████████| 4/4 [00:00<00:00, 283.35it/s]\u001b[A\n",
      "\n",
      "Finalizing data blocks for type 5:   0%|                 | 0/56 [00:00<?, ?it/s]\u001b[A\n",
      "Finalizing data blocks for type 5:   2%|▏        | 1/56 [00:00<00:16,  3.42it/s]\u001b[A\n",
      "Finalizing data blocks for type 5:   5%|▍        | 3/56 [00:00<00:09,  5.51it/s]\u001b[A\n",
      "Finalizing data blocks for type 5: 100%|████████| 56/56 [00:00<00:00, 64.97it/s]\u001b[A\n",
      "Finalizing data blocks: 100%|█████████████████████| 3/3 [00:00<00:00,  3.41it/s]\n",
      "Parsing signal channels: 100%|██████████████| 56/56 [00:00<00:00, 116392.98it/s]\n",
      "Parsing spike channels: 0it [00:00, ?it/s]\n",
      "Parsing event channels: 100%|██████████████████| 4/4 [00:00<00:00, 86928.58it/s]\n"
     ]
    },
    {
     "name": "stdout",
     "output_type": "stream",
     "text": [
      "Day: 3, Mouse: 14\n"
     ]
    },
    {
     "name": "stderr",
     "output_type": "stream",
     "text": [
      "Parsing data blocks:  99%|█████▉| 7077568/7159952 [00:00<00:00, 18024677.22it/s]\n",
      "Finalizing data blocks:   0%|                             | 0/3 [00:00<?, ?it/s]\n",
      "Finalizing data blocks for type 1: 100%|████| 56/56 [00:00<00:00, 636533.94it/s]\u001b[A\n",
      "\n",
      "Finalizing data blocks for type 4: 100%|█████████| 4/4 [00:00<00:00, 251.71it/s]\u001b[A\n",
      "\n",
      "Finalizing data blocks for type 5:   0%|                 | 0/56 [00:00<?, ?it/s]\u001b[A\n",
      "Finalizing data blocks for type 5:   2%|▏        | 1/56 [00:00<00:05,  9.17it/s]\u001b[A\n",
      "Finalizing data blocks for type 5:   5%|▍        | 3/56 [00:00<00:03, 14.61it/s]\u001b[A\n",
      "Finalizing data blocks for type 5: 100%|███████| 56/56 [00:00<00:00, 171.11it/s]\u001b[A\n",
      "Finalizing data blocks: 100%|█████████████████████| 3/3 [00:00<00:00,  8.64it/s]\n",
      "Parsing signal channels: 100%|██████████████| 56/56 [00:00<00:00, 129553.79it/s]\n",
      "Parsing spike channels: 0it [00:00, ?it/s]\n",
      "Parsing event channels: 100%|██████████████████| 4/4 [00:00<00:00, 95325.09it/s]\n"
     ]
    },
    {
     "name": "stdout",
     "output_type": "stream",
     "text": [
      "Day: 3, Mouse: 3\n"
     ]
    },
    {
     "name": "stderr",
     "output_type": "stream",
     "text": [
      "Parsing data blocks:  99%|█████▉| 6786496/6868880 [00:00<00:00, 16935216.56it/s]\n",
      "Finalizing data blocks:   0%|                             | 0/3 [00:00<?, ?it/s]\n",
      "Finalizing data blocks for type 1: 100%|████| 56/56 [00:00<00:00, 596144.73it/s]\u001b[A\n",
      "\n",
      "Finalizing data blocks for type 4: 100%|█████████| 4/4 [00:00<00:00, 255.44it/s]\u001b[A\n",
      "\n",
      "Finalizing data blocks for type 5:   0%|                 | 0/56 [00:00<?, ?it/s]\u001b[A\n",
      "Finalizing data blocks for type 5:   2%|▏        | 1/56 [00:00<00:05,  9.62it/s]\u001b[A\n",
      "Finalizing data blocks for type 5:   5%|▍        | 3/56 [00:00<00:03, 15.33it/s]\u001b[A\n",
      "Finalizing data blocks for type 5: 100%|███████| 56/56 [00:00<00:00, 178.71it/s]\u001b[A\n",
      "Finalizing data blocks: 100%|█████████████████████| 3/3 [00:00<00:00,  9.02it/s]\n",
      "Parsing signal channels: 100%|██████████████| 56/56 [00:00<00:00, 113633.78it/s]\n",
      "Parsing spike channels: 0it [00:00, ?it/s]\n",
      "Parsing event channels: 100%|██████████████████| 4/4 [00:00<00:00, 81840.08it/s]\n"
     ]
    },
    {
     "name": "stdout",
     "output_type": "stream",
     "text": [
      "Day: 3, Mouse: 10\n"
     ]
    },
    {
     "name": "stderr",
     "output_type": "stream",
     "text": [
      "Parsing data blocks:  99%|█████▉| 8689600/8771984 [00:00<00:00, 17196732.68it/s]\n",
      "Finalizing data blocks:   0%|                             | 0/3 [00:00<?, ?it/s]\n",
      "Finalizing data blocks for type 1: 100%|████| 56/56 [00:00<00:00, 650639.96it/s]\u001b[A\n",
      "\n",
      "Finalizing data blocks for type 4: 100%|█████████| 4/4 [00:00<00:00, 257.15it/s]\u001b[A\n",
      "\n",
      "Finalizing data blocks for type 5:   0%|                 | 0/56 [00:00<?, ?it/s]\u001b[A\n",
      "Finalizing data blocks for type 5:   2%|▏        | 1/56 [00:00<00:07,  7.46it/s]\u001b[A\n",
      "Finalizing data blocks for type 5:   5%|▍        | 3/56 [00:00<00:04, 11.88it/s]\u001b[A\n",
      "Finalizing data blocks for type 5: 100%|███████| 56/56 [00:00<00:00, 139.53it/s]\u001b[A\n",
      "Finalizing data blocks: 100%|█████████████████████| 3/3 [00:00<00:00,  7.13it/s]\n",
      "Parsing signal channels: 100%|██████████████| 56/56 [00:00<00:00, 116392.98it/s]\n",
      "Parsing spike channels: 0it [00:00, ?it/s]\n",
      "Parsing event channels: 100%|██████████████████| 4/4 [00:00<00:00, 90687.65it/s]\n"
     ]
    },
    {
     "name": "stdout",
     "output_type": "stream",
     "text": [
      "Day: 3, Mouse: 7\n"
     ]
    },
    {
     "name": "stderr",
     "output_type": "stream",
     "text": [
      "Parsing data blocks:  99%|███▉| 10762432/10844816 [00:00<00:00, 17752819.82it/s]\n",
      "Finalizing data blocks:   0%|                             | 0/3 [00:00<?, ?it/s]\n",
      "Finalizing data blocks for type 1: 100%|████| 56/56 [00:00<00:00, 565978.37it/s]\u001b[A\n",
      "\n",
      "Finalizing data blocks for type 4: 100%|█████████| 4/4 [00:00<00:00, 242.54it/s]\u001b[A\n",
      "\n",
      "Finalizing data blocks for type 5:   0%|                 | 0/56 [00:00<?, ?it/s]\u001b[A\n",
      "Finalizing data blocks for type 5:   2%|▏        | 1/56 [00:00<00:09,  5.99it/s]\u001b[A\n",
      "Finalizing data blocks for type 5:   5%|▍        | 3/56 [00:00<00:05,  9.53it/s]\u001b[A\n",
      "Finalizing data blocks for type 5: 100%|███████| 56/56 [00:00<00:00, 111.75it/s]\u001b[A\n",
      "Finalizing data blocks: 100%|█████████████████████| 3/3 [00:00<00:00,  5.75it/s]\n",
      "Parsing signal channels: 100%|██████████████| 56/56 [00:00<00:00, 133001.71it/s]\n",
      "Parsing spike channels: 0it [00:00, ?it/s]\n",
      "Parsing event channels: 100%|██████████████████| 4/4 [00:00<00:00, 95325.09it/s]\n"
     ]
    },
    {
     "name": "stdout",
     "output_type": "stream",
     "text": [
      "Day: 3, Mouse: 34\n"
     ]
    },
    {
     "name": "stderr",
     "output_type": "stream",
     "text": [
      "Parsing data blocks:  99%|███▉| 11164096/11246480 [00:00<00:00, 17390288.49it/s]\n",
      "Finalizing data blocks:   0%|                             | 0/3 [00:00<?, ?it/s]\n",
      "Finalizing data blocks for type 1: 100%|████| 56/56 [00:00<00:00, 606927.71it/s]\u001b[A\n",
      "\n",
      "Finalizing data blocks for type 4: 100%|█████████| 4/4 [00:00<00:00, 248.01it/s]\u001b[A\n",
      "\n",
      "Finalizing data blocks for type 5:   0%|                 | 0/56 [00:00<?, ?it/s]\u001b[A\n",
      "Finalizing data blocks for type 5:   2%|▏        | 1/56 [00:00<00:09,  5.78it/s]\u001b[A\n",
      "Finalizing data blocks for type 5:   5%|▍        | 3/56 [00:00<00:05,  9.14it/s]\u001b[A\n",
      "Finalizing data blocks for type 5: 100%|███████| 56/56 [00:00<00:00, 107.04it/s]\u001b[A\n",
      "Finalizing data blocks: 100%|█████████████████████| 3/3 [00:00<00:00,  5.51it/s]\n",
      "Parsing signal channels: 100%|███████████████| 56/56 [00:00<00:00, 61487.18it/s]\n",
      "Parsing spike channels: 0it [00:00, ?it/s]\n",
      "Parsing event channels: 100%|██████████████████| 4/4 [00:00<00:00, 99864.38it/s]\n"
     ]
    },
    {
     "name": "stdout",
     "output_type": "stream",
     "text": [
      "Day: 3, Mouse: 30\n"
     ]
    },
    {
     "name": "stderr",
     "output_type": "stream",
     "text": [
      "Parsing data blocks:  99%|███▉| 10469056/10551440 [00:00<00:00, 16704310.35it/s]\n",
      "Finalizing data blocks:   0%|                             | 0/3 [00:00<?, ?it/s]\n",
      "Finalizing data blocks for type 1: 100%|████| 56/56 [00:00<00:00, 621378.37it/s]\u001b[A\n",
      "\n",
      "Finalizing data blocks for type 4: 100%|█████████| 4/4 [00:00<00:00, 252.75it/s]\u001b[A\n",
      "\n",
      "Finalizing data blocks for type 5:   0%|                 | 0/56 [00:00<?, ?it/s]\u001b[A\n",
      "Finalizing data blocks for type 5:   2%|▏        | 1/56 [00:00<00:10,  5.38it/s]\u001b[A\n",
      "Finalizing data blocks for type 5:   5%|▍        | 3/56 [00:00<00:06,  8.83it/s]\u001b[A\n",
      "Finalizing data blocks for type 5: 100%|███████| 56/56 [00:00<00:00, 106.79it/s]\u001b[A\n",
      "Finalizing data blocks: 100%|█████████████████████| 3/3 [00:00<00:00,  5.51it/s]\n",
      "Parsing signal channels: 100%|███████████████| 56/56 [00:00<00:00, 88069.38it/s]\n",
      "Parsing spike channels: 0it [00:00, ?it/s]\n",
      "Parsing event channels: 100%|██████████████████| 4/4 [00:00<00:00, 95325.09it/s]\n"
     ]
    },
    {
     "name": "stdout",
     "output_type": "stream",
     "text": [
      "Day: 3, Mouse: 29\n"
     ]
    },
    {
     "name": "stderr",
     "output_type": "stream",
     "text": [
      "Parsing data blocks:  99%|█████▉| 6062272/6144656 [00:00<00:00, 18705506.08it/s]\n",
      "Finalizing data blocks:   0%|                             | 0/3 [00:00<?, ?it/s]\n",
      "Finalizing data blocks for type 1: 100%|████| 56/56 [00:00<00:00, 469762.05it/s]\u001b[A\n",
      "\n",
      "Finalizing data blocks for type 4: 100%|█████████| 4/4 [00:00<00:00, 235.53it/s]\u001b[A\n",
      "\n",
      "Finalizing data blocks for type 5:   0%|                 | 0/56 [00:00<?, ?it/s]\u001b[A\n",
      "Finalizing data blocks for type 5: 100%|███████| 56/56 [00:00<00:00, 194.54it/s]\u001b[A\n",
      "Finalizing data blocks: 100%|█████████████████████| 3/3 [00:00<00:00,  9.66it/s]\n",
      "Parsing signal channels: 100%|██████████████| 56/56 [00:00<00:00, 149320.42it/s]\n",
      "Parsing spike channels: 0it [00:00, ?it/s]\n",
      "Parsing event channels: 100%|██████████████████| 4/4 [00:00<00:00, 88768.34it/s]\n"
     ]
    },
    {
     "name": "stdout",
     "output_type": "stream",
     "text": [
      "Day: 3, Mouse: 6\n"
     ]
    },
    {
     "name": "stderr",
     "output_type": "stream",
     "text": [
      "Parsing data blocks:  99%|█████▉| 6711232/6793616 [00:00<00:00, 17789353.05it/s]\n",
      "Finalizing data blocks:   0%|                             | 0/3 [00:00<?, ?it/s]\n",
      "Finalizing data blocks for type 1: 100%|████| 56/56 [00:00<00:00, 588674.25it/s]\u001b[A\n",
      "\n",
      "Finalizing data blocks for type 4: 100%|█████████| 4/4 [00:00<00:00, 259.95it/s]\u001b[A\n",
      "\n",
      "Finalizing data blocks for type 5:   0%|                 | 0/56 [00:00<?, ?it/s]\u001b[A\n",
      "Finalizing data blocks for type 5:   2%|▏        | 1/56 [00:00<00:05,  9.60it/s]\u001b[A\n",
      "Finalizing data blocks for type 5:   5%|▍        | 3/56 [00:00<00:03, 15.36it/s]\u001b[A\n",
      "Finalizing data blocks for type 5: 100%|███████| 56/56 [00:00<00:00, 180.03it/s]\u001b[A\n",
      "Finalizing data blocks: 100%|█████████████████████| 3/3 [00:00<00:00,  9.07it/s]\n",
      "Parsing signal channels: 100%|██████████████| 56/56 [00:00<00:00, 111370.80it/s]\n",
      "Parsing spike channels: 0it [00:00, ?it/s]\n",
      "Parsing event channels: 100%|██████████████████| 4/4 [00:00<00:00, 92691.80it/s]\n"
     ]
    },
    {
     "name": "stdout",
     "output_type": "stream",
     "text": [
      "Day: 3, Mouse: 11\n"
     ]
    },
    {
     "name": "stderr",
     "output_type": "stream",
     "text": [
      "Parsing data blocks:  99%|███▉| 12566464/12648848 [00:00<00:00, 18540541.40it/s]\n",
      "Finalizing data blocks:   0%|                             | 0/3 [00:00<?, ?it/s]\n",
      "Finalizing data blocks for type 1: 100%|████| 56/56 [00:00<00:00, 602259.04it/s]\u001b[A\n",
      "\n",
      "Finalizing data blocks for type 4: 100%|█████████| 4/4 [00:00<00:00, 245.60it/s]\u001b[A\n",
      "\n",
      "Finalizing data blocks for type 5:   0%|                 | 0/56 [00:00<?, ?it/s]\u001b[A\n",
      "Finalizing data blocks for type 5:   2%|▏        | 1/56 [00:00<00:10,  5.14it/s]\u001b[A\n",
      "Finalizing data blocks for type 5:   5%|▍        | 3/56 [00:00<00:06,  7.97it/s]\u001b[A\n",
      "Finalizing data blocks for type 5: 100%|████████| 56/56 [00:00<00:00, 94.31it/s]\u001b[A\n",
      "Finalizing data blocks: 100%|█████████████████████| 3/3 [00:00<00:00,  4.88it/s]\n",
      "Parsing signal channels: 100%|██████████████| 56/56 [00:00<00:00, 100893.91it/s]\n",
      "Parsing spike channels: 0it [00:00, ?it/s]\n",
      "Parsing event channels: 100%|██████████████████| 4/4 [00:00<00:00, 91180.52it/s]\n"
     ]
    },
    {
     "name": "stdout",
     "output_type": "stream",
     "text": [
      "Day: 3, Mouse: 24\n"
     ]
    },
    {
     "name": "stderr",
     "output_type": "stream",
     "text": [
      "Parsing data blocks:  99%|█████▉| 8785600/8867984 [00:00<00:00, 17878600.99it/s]\n",
      "Finalizing data blocks:   0%|                             | 0/3 [00:00<?, ?it/s]\n",
      "Finalizing data blocks for type 1: 100%|████| 56/56 [00:00<00:00, 610080.58it/s]\u001b[A\n",
      "\n",
      "Finalizing data blocks for type 4: 100%|█████████| 4/4 [00:00<00:00, 255.57it/s]\u001b[A\n",
      "\n",
      "Finalizing data blocks for type 5:   0%|                 | 0/56 [00:00<?, ?it/s]\u001b[A\n",
      "Finalizing data blocks for type 5:   2%|▏        | 1/56 [00:00<00:07,  7.38it/s]\u001b[A\n",
      "Finalizing data blocks for type 5:   5%|▍        | 3/56 [00:00<00:04, 11.78it/s]\u001b[A\n",
      "Finalizing data blocks for type 5: 100%|███████| 56/56 [00:00<00:00, 137.98it/s]\u001b[A\n",
      "Finalizing data blocks: 100%|█████████████████████| 3/3 [00:00<00:00,  7.05it/s]\n",
      "Parsing signal channels: 100%|██████████████| 56/56 [00:00<00:00, 130489.46it/s]\n",
      "Parsing spike channels: 0it [00:00, ?it/s]\n",
      "Parsing event channels: 100%|██████████████████| 4/4 [00:00<00:00, 92691.80it/s]\n"
     ]
    },
    {
     "name": "stdout",
     "output_type": "stream",
     "text": [
      "Day: 3, Mouse: 2\n"
     ]
    },
    {
     "name": "stderr",
     "output_type": "stream",
     "text": [
      "Parsing data blocks:  99%|███▉| 15257536/15339920 [00:00<00:00, 18082663.29it/s]\n",
      "Finalizing data blocks:   0%|                             | 0/3 [00:00<?, ?it/s]\n",
      "Finalizing data blocks for type 1: 100%|████| 56/56 [00:00<00:00, 634813.58it/s]\u001b[A\n",
      "\n",
      "Finalizing data blocks for type 4: 100%|█████████| 4/4 [00:00<00:00, 246.22it/s]\u001b[A\n",
      "\n",
      "Finalizing data blocks for type 5:   0%|                 | 0/56 [00:00<?, ?it/s]\u001b[A\n",
      "Finalizing data blocks for type 5:   2%|▏        | 1/56 [00:00<00:13,  4.11it/s]\u001b[A\n",
      "Finalizing data blocks for type 5:   5%|▍        | 3/56 [00:00<00:08,  6.59it/s]\u001b[A\n",
      "Finalizing data blocks for type 5: 100%|████████| 56/56 [00:00<00:00, 77.18it/s]\u001b[A\n",
      "Finalizing data blocks: 100%|█████████████████████| 3/3 [00:00<00:00,  4.02it/s]\n",
      "Parsing signal channels: 100%|██████████████| 56/56 [00:00<00:00, 110636.37it/s]\n",
      "Parsing spike channels: 0it [00:00, ?it/s]\n",
      "Parsing event channels: 100%|██████████████████| 4/4 [00:00<00:00, 92691.80it/s]\n"
     ]
    },
    {
     "name": "stdout",
     "output_type": "stream",
     "text": [
      "Day: 3, Mouse: 15\n"
     ]
    },
    {
     "name": "stderr",
     "output_type": "stream",
     "text": [
      "Parsing data blocks:  99%|█████▉| 9025984/9108368 [00:00<00:00, 16837514.78it/s]\n",
      "Finalizing data blocks:   0%|                             | 0/3 [00:00<?, ?it/s]\n",
      "Finalizing data blocks for type 1: 100%|████| 56/56 [00:00<00:00, 532610.03it/s]\u001b[A\n",
      "\n",
      "Finalizing data blocks for type 4: 100%|█████████| 4/4 [00:00<00:00, 245.58it/s]\u001b[A\n",
      "\n",
      "Finalizing data blocks for type 5:   0%|                 | 0/56 [00:00<?, ?it/s]\u001b[A\n",
      "Finalizing data blocks for type 5:   2%|▏        | 1/56 [00:00<00:07,  7.15it/s]\u001b[A\n",
      "Finalizing data blocks for type 5:   5%|▍        | 3/56 [00:00<00:04, 11.30it/s]\u001b[A\n",
      "Finalizing data blocks for type 5: 100%|███████| 56/56 [00:00<00:00, 133.31it/s]\u001b[A\n",
      "Finalizing data blocks: 100%|█████████████████████| 3/3 [00:00<00:00,  6.80it/s]\n",
      "Parsing signal channels: 100%|██████████████| 56/56 [00:00<00:00, 130200.12it/s]\n",
      "Parsing spike channels: 0it [00:00, ?it/s]\n",
      "Parsing event channels: 100%|██████████████████| 4/4 [00:00<00:00, 85163.53it/s]\n"
     ]
    },
    {
     "name": "stdout",
     "output_type": "stream",
     "text": [
      "Day: 3, Mouse: 28\n"
     ]
    },
    {
     "name": "stderr",
     "output_type": "stream",
     "text": [
      "Parsing data blocks:  99%|███▉| 15335104/15417488 [00:00<00:00, 17165032.29it/s]\n",
      "Finalizing data blocks:   0%|                             | 0/3 [00:00<?, ?it/s]\n",
      "Finalizing data blocks for type 1: 100%|████| 56/56 [00:00<00:00, 602259.04it/s]\u001b[A\n",
      "\n",
      "Finalizing data blocks for type 4: 100%|█████████| 4/4 [00:00<00:00, 246.15it/s]\u001b[A\n",
      "\n",
      "Finalizing data blocks for type 5:   0%|                 | 0/56 [00:00<?, ?it/s]\u001b[A\n",
      "Finalizing data blocks for type 5:   2%|▏        | 1/56 [00:00<00:13,  4.18it/s]\u001b[A\n",
      "Finalizing data blocks for type 5:   5%|▍        | 3/56 [00:00<00:08,  6.59it/s]\u001b[A\n",
      "Finalizing data blocks for type 5: 100%|████████| 56/56 [00:00<00:00, 77.55it/s]\u001b[A\n",
      "Finalizing data blocks: 100%|█████████████████████| 3/3 [00:00<00:00,  4.04it/s]\n",
      "Parsing signal channels: 100%|██████████████| 56/56 [00:00<00:00, 128772.49it/s]\n",
      "Parsing spike channels: 0it [00:00, ?it/s]\n",
      "Parsing event channels: 100%|██████████████████| 4/4 [00:00<00:00, 93206.76it/s]\n"
     ]
    },
    {
     "name": "stdout",
     "output_type": "stream",
     "text": [
      "Day: 3, Mouse: 31\n"
     ]
    },
    {
     "name": "stderr",
     "output_type": "stream",
     "text": [
      "Parsing data blocks:  99%|█████▉| 7013056/7095440 [00:00<00:00, 16711637.70it/s]\n",
      "Finalizing data blocks:   0%|                             | 0/3 [00:00<?, ?it/s]\n",
      "Finalizing data blocks for type 1: 100%|████| 56/56 [00:00<00:00, 621378.37it/s]\u001b[A\n",
      "\n",
      "Finalizing data blocks for type 4: 100%|█████████| 4/4 [00:00<00:00, 245.23it/s]\u001b[A\n",
      "\n",
      "Finalizing data blocks for type 5:   0%|                 | 0/56 [00:00<?, ?it/s]\u001b[A\n",
      "Finalizing data blocks for type 5:   2%|▏        | 1/56 [00:00<00:05,  9.33it/s]\u001b[A\n",
      "Finalizing data blocks for type 5:   5%|▍        | 3/56 [00:00<00:03, 14.81it/s]\u001b[A\n",
      "Finalizing data blocks for type 5: 100%|███████| 56/56 [00:00<00:00, 174.23it/s]\u001b[A\n",
      "Finalizing data blocks: 100%|█████████████████████| 3/3 [00:00<00:00,  8.79it/s]\n",
      "Parsing signal channels: 100%|██████████████| 56/56 [00:00<00:00, 160437.86it/s]\n",
      "Parsing spike channels: 0it [00:00, ?it/s]\n",
      "Parsing event channels: 100%|██████████████████| 4/4 [00:00<00:00, 95325.09it/s]\n"
     ]
    },
    {
     "name": "stdout",
     "output_type": "stream",
     "text": [
      "Day: 3, Mouse: 35\n"
     ]
    },
    {
     "name": "stderr",
     "output_type": "stream",
     "text": [
      "Parsing data blocks:  99%|█████▉| 8712640/8795024 [00:00<00:00, 17525847.84it/s]\n",
      "Finalizing data blocks:   0%|                             | 0/3 [00:00<?, ?it/s]\n",
      "Finalizing data blocks for type 1: 100%|████| 56/56 [00:00<00:00, 623026.59it/s]\u001b[A\n",
      "\n",
      "Finalizing data blocks for type 4: 100%|█████████| 4/4 [00:00<00:00, 257.11it/s]\u001b[A\n",
      "\n",
      "Finalizing data blocks for type 5:   0%|                 | 0/56 [00:00<?, ?it/s]\u001b[A\n",
      "Finalizing data blocks for type 5:   2%|▏        | 1/56 [00:00<00:07,  7.52it/s]\u001b[A\n",
      "Finalizing data blocks for type 5:   5%|▍        | 3/56 [00:00<00:04, 11.92it/s]\u001b[A\n",
      "Finalizing data blocks for type 5: 100%|███████| 56/56 [00:00<00:00, 140.22it/s]\u001b[A\n",
      "Finalizing data blocks: 100%|█████████████████████| 3/3 [00:00<00:00,  7.17it/s]\n",
      "Parsing signal channels: 100%|██████████████| 56/56 [00:00<00:00, 104670.69it/s]\n",
      "Parsing spike channels: 0it [00:00, ?it/s]\n",
      "Parsing event channels: 100%|██████████████████| 4/4 [00:00<00:00, 88768.34it/s]\n"
     ]
    },
    {
     "name": "stdout",
     "output_type": "stream",
     "text": [
      "Day: 4, Mouse: 33\n"
     ]
    },
    {
     "name": "stderr",
     "output_type": "stream",
     "text": [
      "Parsing data blocks:  99%|█████▉| 7741120/7823504 [00:00<00:00, 17155857.93it/s]\n",
      "Finalizing data blocks:   0%|                             | 0/3 [00:00<?, ?it/s]\n",
      "Finalizing data blocks for type 1: 100%|████| 56/56 [00:00<00:00, 590153.33it/s]\u001b[A\n",
      "\n",
      "Finalizing data blocks for type 4: 100%|█████████| 4/4 [00:00<00:00, 246.23it/s]\u001b[A\n",
      "\n",
      "Finalizing data blocks for type 5:   0%|                 | 0/56 [00:00<?, ?it/s]\u001b[A\n",
      "Finalizing data blocks for type 5:   2%|▏        | 1/56 [00:00<00:06,  8.33it/s]\u001b[A\n",
      "Finalizing data blocks for type 5:   5%|▍        | 3/56 [00:00<00:03, 13.32it/s]\u001b[A\n",
      "Finalizing data blocks for type 5: 100%|███████| 56/56 [00:00<00:00, 156.12it/s]\u001b[A\n",
      "Finalizing data blocks: 100%|█████████████████████| 3/3 [00:00<00:00,  7.92it/s]\n",
      "Parsing signal channels: 100%|██████████████| 56/56 [00:00<00:00, 111529.45it/s]\n",
      "Parsing spike channels: 0it [00:00, ?it/s]\n",
      "Parsing event channels: 100%|██████████████████| 4/4 [00:00<00:00, 90687.65it/s]\n"
     ]
    },
    {
     "name": "stdout",
     "output_type": "stream",
     "text": [
      "Day: 4, Mouse: 13\n"
     ]
    },
    {
     "name": "stderr",
     "output_type": "stream",
     "text": [
      "Parsing data blocks:  99%|█████▉| 6702016/6784400 [00:00<00:00, 16724343.05it/s]\n",
      "Finalizing data blocks:   0%|                             | 0/3 [00:00<?, ?it/s]\n",
      "Finalizing data blocks for type 1: 100%|████| 56/56 [00:00<00:00, 590153.33it/s]\u001b[A\n",
      "\n",
      "Finalizing data blocks for type 4: 100%|█████████| 4/4 [00:00<00:00, 252.43it/s]\u001b[A\n",
      "\n",
      "Finalizing data blocks for type 5:   0%|                 | 0/56 [00:00<?, ?it/s]\u001b[A\n",
      "Finalizing data blocks for type 5:   2%|▏        | 1/56 [00:00<00:05,  9.61it/s]\u001b[A\n",
      "Finalizing data blocks for type 5:   5%|▍        | 3/56 [00:00<00:03, 15.27it/s]\u001b[A\n",
      "Finalizing data blocks for type 5: 100%|███████| 56/56 [00:00<00:00, 179.38it/s]\u001b[A\n",
      "Finalizing data blocks: 100%|█████████████████████| 3/3 [00:00<00:00,  9.04it/s]\n",
      "Parsing signal channels: 100%|██████████████| 56/56 [00:00<00:00, 114075.29it/s]\n",
      "Parsing spike channels: 0it [00:00, ?it/s]\n",
      "Parsing event channels: 100%|██████████████████| 4/4 [00:00<00:00, 92691.80it/s]\n"
     ]
    },
    {
     "name": "stdout",
     "output_type": "stream",
     "text": [
      "Day: 4, Mouse: 4\n"
     ]
    },
    {
     "name": "stderr",
     "output_type": "stream",
     "text": [
      "Parsing data blocks:  99%|███▉| 10958272/11040656 [00:00<00:00, 17680101.77it/s]\n",
      "Finalizing data blocks:   0%|                             | 0/3 [00:00<?, ?it/s]\n",
      "Finalizing data blocks for type 1: 100%|████| 56/56 [00:00<00:00, 560575.24it/s]\u001b[A\n",
      "\n",
      "Finalizing data blocks for type 4: 100%|█████████| 4/4 [00:00<00:00, 249.16it/s]\u001b[A\n",
      "\n",
      "Finalizing data blocks for type 5:   0%|                 | 0/56 [00:00<?, ?it/s]\u001b[A\n",
      "Finalizing data blocks for type 5:   2%|▏        | 1/56 [00:00<00:09,  5.82it/s]\u001b[A\n",
      "Finalizing data blocks for type 5:   5%|▍        | 3/56 [00:00<00:05,  9.44it/s]\u001b[A\n",
      "Finalizing data blocks for type 5: 100%|███████| 56/56 [00:00<00:00, 110.48it/s]\u001b[A\n",
      "Finalizing data blocks: 100%|█████████████████████| 3/3 [00:00<00:00,  5.69it/s]\n",
      "Parsing signal channels: 100%|██████████████| 56/56 [00:00<00:00, 113688.78it/s]\n",
      "Parsing spike channels: 0it [00:00, ?it/s]\n",
      "Parsing event channels: 100%|██████████████████| 4/4 [00:00<00:00, 91180.52it/s]\n"
     ]
    },
    {
     "name": "stdout",
     "output_type": "stream",
     "text": [
      "Day: 4, Mouse: 22\n"
     ]
    },
    {
     "name": "stderr",
     "output_type": "stream",
     "text": [
      "Parsing data blocks:  99%|█████▉| 8974528/9056912 [00:00<00:00, 16667064.59it/s]\n",
      "Finalizing data blocks:   0%|                             | 0/3 [00:00<?, ?it/s]\n",
      "Finalizing data blocks for type 1: 100%|████| 56/56 [00:00<00:00, 553964.68it/s]\u001b[A\n",
      "\n",
      "Finalizing data blocks for type 4: 100%|█████████| 4/4 [00:00<00:00, 280.37it/s]\u001b[A\n",
      "\n",
      "Finalizing data blocks for type 5:   0%|                 | 0/56 [00:00<?, ?it/s]\u001b[A\n",
      "Finalizing data blocks for type 5:   2%|▏        | 1/56 [00:00<00:07,  7.06it/s]\u001b[A\n",
      "Finalizing data blocks for type 5:   5%|▍        | 3/56 [00:00<00:04, 11.45it/s]\u001b[A\n",
      "Finalizing data blocks for type 5: 100%|███████| 56/56 [00:00<00:00, 136.93it/s]\u001b[A\n",
      "Finalizing data blocks: 100%|█████████████████████| 3/3 [00:00<00:00,  7.01it/s]\n",
      "Parsing signal channels: 100%|██████████████| 56/56 [00:00<00:00, 127583.39it/s]\n",
      "Parsing spike channels: 0it [00:00, ?it/s]\n",
      "Parsing event channels: 100%|██████████████████| 4/4 [00:00<00:00, 92691.80it/s]\n"
     ]
    },
    {
     "name": "stdout",
     "output_type": "stream",
     "text": [
      "Day: 4, Mouse: 17\n"
     ]
    },
    {
     "name": "stderr",
     "output_type": "stream",
     "text": [
      "Parsing data blocks:  99%|█████▉| 6847168/6929552 [00:00<00:00, 21534746.58it/s]\n",
      "Finalizing data blocks:   0%|                             | 0/3 [00:00<?, ?it/s]\n",
      "Finalizing data blocks for type 1: 100%|████| 56/56 [00:00<00:00, 571486.68it/s]\u001b[A\n",
      "\n",
      "Finalizing data blocks for type 4: 100%|█████████| 4/4 [00:00<00:00, 228.92it/s]\u001b[A\n",
      "\n",
      "Finalizing data blocks for type 5:   0%|                 | 0/56 [00:00<?, ?it/s]\u001b[A\n",
      "Finalizing data blocks for type 5:   2%|▏        | 1/56 [00:00<00:05,  9.59it/s]\u001b[A\n",
      "Finalizing data blocks for type 5:   5%|▍        | 3/56 [00:00<00:03, 15.09it/s]\u001b[A\n",
      "Finalizing data blocks for type 5: 100%|███████| 56/56 [00:00<00:00, 176.91it/s]\u001b[A\n",
      "Finalizing data blocks: 100%|█████████████████████| 3/3 [00:00<00:00,  8.85it/s]\n",
      "Parsing signal channels: 100%|██████████████| 56/56 [00:00<00:00, 157744.14it/s]\n",
      "Parsing spike channels: 0it [00:00, ?it/s]\n",
      "Parsing event channels: 100%|██████████████████| 4/4 [00:00<00:00, 95325.09it/s]\n"
     ]
    },
    {
     "name": "stdout",
     "output_type": "stream",
     "text": [
      "Day: 4, Mouse: 32\n"
     ]
    },
    {
     "name": "stderr",
     "output_type": "stream",
     "text": [
      "Parsing data blocks:  99%|█████▉| 6685888/6768272 [00:00<00:00, 15671877.72it/s]\n",
      "Finalizing data blocks:   0%|                             | 0/3 [00:00<?, ?it/s]\n",
      "Finalizing data blocks for type 1: 100%|████| 56/56 [00:00<00:00, 529011.32it/s]\u001b[A\n",
      "\n",
      "Finalizing data blocks for type 4: 100%|█████████| 4/4 [00:00<00:00, 219.24it/s]\u001b[A\n",
      "\n",
      "Finalizing data blocks for type 5:   0%|                 | 0/56 [00:00<?, ?it/s]\u001b[A\n",
      "Finalizing data blocks for type 5:   2%|▏        | 1/56 [00:00<00:06,  8.28it/s]\u001b[A\n",
      "Finalizing data blocks for type 5:   5%|▍        | 3/56 [00:00<00:03, 13.48it/s]\u001b[A\n",
      "Finalizing data blocks for type 5: 100%|███████| 56/56 [00:00<00:00, 154.03it/s]\u001b[A\n",
      "Finalizing data blocks: 100%|█████████████████████| 3/3 [00:00<00:00,  7.75it/s]\n",
      "Parsing signal channels: 100%|███████████████| 56/56 [00:00<00:00, 83320.69it/s]\n",
      "Parsing spike channels: 0it [00:00, ?it/s]\n",
      "Parsing event channels: 100%|██████████████████| 4/4 [00:00<00:00, 65793.00it/s]\n"
     ]
    },
    {
     "name": "stdout",
     "output_type": "stream",
     "text": [
      "Day: 4, Mouse: 1\n"
     ]
    },
    {
     "name": "stderr",
     "output_type": "stream",
     "text": [
      "Parsing data blocks:  99%|█████▉| 6556096/6638480 [00:00<00:00, 18491259.59it/s]\n",
      "Finalizing data blocks:   0%|                             | 0/3 [00:00<?, ?it/s]\n",
      "Finalizing data blocks for type 1: 100%|████| 56/56 [00:00<00:00, 474507.12it/s]\u001b[A\n",
      "\n",
      "Finalizing data blocks for type 4: 100%|█████████| 4/4 [00:00<00:00, 244.44it/s]\u001b[A\n",
      "\n",
      "Finalizing data blocks for type 5:   0%|                 | 0/56 [00:00<?, ?it/s]\u001b[A\n",
      "Finalizing data blocks for type 5:   2%|▏        | 1/56 [00:00<00:05,  9.56it/s]\u001b[A\n",
      "Finalizing data blocks for type 5:   5%|▍        | 3/56 [00:00<00:03, 15.33it/s]\u001b[A\n",
      "Finalizing data blocks for type 5: 100%|███████| 56/56 [00:00<00:00, 180.92it/s]\u001b[A\n",
      "Finalizing data blocks: 100%|█████████████████████| 3/3 [00:00<00:00,  9.08it/s]\n",
      "Parsing signal channels: 100%|██████████████| 56/56 [00:00<00:00, 160547.52it/s]\n",
      "Parsing spike channels: 0it [00:00, ?it/s]\n",
      "Parsing event channels: 100%|██████████████████| 4/4 [00:00<00:00, 94786.53it/s]\n"
     ]
    },
    {
     "name": "stdout",
     "output_type": "stream",
     "text": [
      "Day: 4, Mouse: 16\n"
     ]
    },
    {
     "name": "stderr",
     "output_type": "stream",
     "text": [
      "Parsing data blocks:  99%|█████▉| 7393216/7475600 [00:00<00:00, 19885988.69it/s]\n",
      "Finalizing data blocks:   0%|                             | 0/3 [00:00<?, ?it/s]\n",
      "Finalizing data blocks for type 1: 100%|████| 56/56 [00:00<00:00, 608500.06it/s]\u001b[A\n",
      "\n",
      "Finalizing data blocks for type 4: 100%|█████████| 4/4 [00:00<00:00, 240.52it/s]\u001b[A\n",
      "\n",
      "Finalizing data blocks for type 5:   0%|                 | 0/56 [00:00<?, ?it/s]\u001b[A\n",
      "Finalizing data blocks for type 5:   2%|▏        | 1/56 [00:00<00:06,  8.69it/s]\u001b[A\n",
      "Finalizing data blocks for type 5:   5%|▍        | 3/56 [00:00<00:03, 13.88it/s]\u001b[A\n",
      "Finalizing data blocks for type 5: 100%|███████| 56/56 [00:00<00:00, 163.05it/s]\u001b[A\n",
      "Finalizing data blocks: 100%|█████████████████████| 3/3 [00:00<00:00,  8.24it/s]\n",
      "Parsing signal channels: 100%|███████████████| 56/56 [00:00<00:00, 96698.65it/s]\n",
      "Parsing spike channels: 0it [00:00, ?it/s]\n",
      "Parsing event channels: 100%|██████████████████| 4/4 [00:00<00:00, 97541.95it/s]\n"
     ]
    },
    {
     "name": "stdout",
     "output_type": "stream",
     "text": [
      "Day: 4, Mouse: 23\n"
     ]
    },
    {
     "name": "stderr",
     "output_type": "stream",
     "text": [
      "Parsing data blocks:  99%|█████▉| 6763456/6845840 [00:00<00:00, 17974879.36it/s]\n",
      "Finalizing data blocks:   0%|                             | 0/3 [00:00<?, ?it/s]\n",
      "Finalizing data blocks for type 1: 100%|████| 56/56 [00:00<00:00, 352145.46it/s]\u001b[A\n",
      "\n",
      "Finalizing data blocks for type 4: 100%|█████████| 4/4 [00:00<00:00, 241.14it/s]\u001b[A\n",
      "\n",
      "Finalizing data blocks for type 5:   0%|                 | 0/56 [00:00<?, ?it/s]\u001b[A\n",
      "Finalizing data blocks for type 5:   2%|▏        | 1/56 [00:00<00:07,  7.83it/s]\u001b[A\n",
      "Finalizing data blocks for type 5:   5%|▍        | 3/56 [00:00<00:04, 13.03it/s]\u001b[A\n",
      "Finalizing data blocks for type 5: 100%|███████| 56/56 [00:00<00:00, 158.51it/s]\u001b[A\n",
      "Finalizing data blocks: 100%|█████████████████████| 3/3 [00:00<00:00,  7.96it/s]\n",
      "Parsing signal channels: 100%|███████████████| 56/56 [00:00<00:00, 93022.19it/s]\n",
      "Parsing spike channels: 0it [00:00, ?it/s]\n",
      "Parsing event channels: 100%|██████████████████| 4/4 [00:00<00:00, 88768.34it/s]\n"
     ]
    },
    {
     "name": "stdout",
     "output_type": "stream",
     "text": [
      "Day: 4, Mouse: 5\n"
     ]
    },
    {
     "name": "stderr",
     "output_type": "stream",
     "text": [
      "Parsing data blocks:  99%|███▉| 13968832/14051216 [00:00<00:00, 19609227.33it/s]\n",
      "Finalizing data blocks:   0%|                             | 0/3 [00:00<?, ?it/s]\n",
      "Finalizing data blocks for type 1: 100%|████| 56/56 [00:00<00:00, 261560.16it/s]\u001b[A\n",
      "\n",
      "Finalizing data blocks for type 4: 100%|█████████| 4/4 [00:00<00:00, 240.56it/s]\u001b[A\n",
      "\n",
      "Finalizing data blocks for type 5:   0%|                 | 0/56 [00:00<?, ?it/s]\u001b[A\n",
      "Finalizing data blocks for type 5:   2%|▏        | 1/56 [00:00<00:14,  3.77it/s]\u001b[A\n",
      "Finalizing data blocks for type 5:   5%|▍        | 3/56 [00:00<00:08,  6.04it/s]\u001b[A\n",
      "Finalizing data blocks for type 5: 100%|████████| 56/56 [00:00<00:00, 75.33it/s]\u001b[A\n",
      "Finalizing data blocks: 100%|█████████████████████| 3/3 [00:00<00:00,  3.90it/s]\n",
      "Parsing signal channels: 100%|███████████████| 56/56 [00:00<00:00, 75258.26it/s]\n",
      "Parsing spike channels: 0it [00:00, ?it/s]\n",
      "Parsing event channels: 100%|██████████████████| 4/4 [00:00<00:00, 61680.94it/s]\n"
     ]
    },
    {
     "name": "stdout",
     "output_type": "stream",
     "text": [
      "Day: 4, Mouse: 12\n"
     ]
    },
    {
     "name": "stderr",
     "output_type": "stream",
     "text": [
      "Parsing data blocks:  99%|█████▉| 9130432/9212816 [00:00<00:00, 18221937.74it/s]\n",
      "Finalizing data blocks:   0%|                             | 0/3 [00:00<?, ?it/s]\n",
      "Finalizing data blocks for type 1: 100%|████| 56/56 [00:00<00:00, 621378.37it/s]\u001b[A\n",
      "\n",
      "Finalizing data blocks for type 4: 100%|█████████| 4/4 [00:00<00:00, 245.41it/s]\u001b[A\n",
      "\n",
      "Finalizing data blocks for type 5:   0%|                 | 0/56 [00:00<?, ?it/s]\u001b[A\n",
      "Finalizing data blocks for type 5:   2%|▏        | 1/56 [00:00<00:08,  6.77it/s]\u001b[A\n",
      "Finalizing data blocks for type 5:   5%|▍        | 3/56 [00:00<00:04, 10.80it/s]\u001b[A\n",
      "Finalizing data blocks for type 5: 100%|███████| 56/56 [00:00<00:00, 126.21it/s]\u001b[A\n",
      "Finalizing data blocks: 100%|█████████████████████| 3/3 [00:00<00:00,  6.47it/s]\n",
      "Parsing signal channels: 100%|██████████████| 56/56 [00:00<00:00, 118866.91it/s]\n",
      "Parsing spike channels: 0it [00:00, ?it/s]\n",
      "Parsing event channels: 100%|██████████████████| 4/4 [00:00<00:00, 97541.95it/s]\n"
     ]
    },
    {
     "name": "stdout",
     "output_type": "stream",
     "text": [
      "Day: 4, Mouse: 24\n"
     ]
    },
    {
     "name": "stderr",
     "output_type": "stream",
     "text": [
      "Parsing data blocks:  99%|█████▉| 7330240/7412624 [00:00<00:00, 18749724.78it/s]\n",
      "Finalizing data blocks:   0%|                             | 0/3 [00:00<?, ?it/s]\n",
      "Finalizing data blocks for type 1: 100%|████| 56/56 [00:00<00:00, 585738.21it/s]\u001b[A\n",
      "\n",
      "Finalizing data blocks for type 4: 100%|█████████| 4/4 [00:00<00:00, 249.42it/s]\u001b[A\n",
      "\n",
      "Finalizing data blocks for type 5:   0%|                 | 0/56 [00:00<?, ?it/s]\u001b[A\n",
      "Finalizing data blocks for type 5:   2%|▏        | 1/56 [00:00<00:06,  8.87it/s]\u001b[A\n",
      "Finalizing data blocks for type 5:   5%|▍        | 3/56 [00:00<00:03, 13.77it/s]\u001b[A\n",
      "Finalizing data blocks for type 5: 100%|███████| 56/56 [00:00<00:00, 154.66it/s]\u001b[A\n",
      "Finalizing data blocks: 100%|█████████████████████| 3/3 [00:00<00:00,  7.85it/s]\n",
      "Parsing signal channels: 100%|███████████████| 56/56 [00:00<00:00, 83084.90it/s]\n",
      "Parsing spike channels: 0it [00:00, ?it/s]\n",
      "Parsing event channels: 100%|██████████████████| 4/4 [00:00<00:00, 76608.29it/s]\n"
     ]
    },
    {
     "name": "stdout",
     "output_type": "stream",
     "text": [
      "Day: 4, Mouse: 2\n"
     ]
    },
    {
     "name": "stderr",
     "output_type": "stream",
     "text": [
      "Parsing data blocks:  99%|█████▉| 6717376/6799760 [00:00<00:00, 20620318.87it/s]\n",
      "Finalizing data blocks:   0%|                             | 0/3 [00:00<?, ?it/s]\n",
      "Finalizing data blocks for type 1: 100%|████| 56/56 [00:00<00:00, 508400.48it/s]\u001b[A\n",
      "\n",
      "Finalizing data blocks for type 4: 100%|█████████| 4/4 [00:00<00:00, 239.72it/s]\u001b[A\n",
      "\n",
      "Finalizing data blocks for type 5:   0%|                 | 0/56 [00:00<?, ?it/s]\u001b[A\n",
      "Finalizing data blocks for type 5:   2%|▏        | 1/56 [00:00<00:05,  9.81it/s]\u001b[A\n",
      "Finalizing data blocks for type 5: 100%|███████| 56/56 [00:00<00:00, 183.07it/s]\u001b[A\n",
      "Finalizing data blocks: 100%|█████████████████████| 3/3 [00:00<00:00,  9.17it/s]\n",
      "Parsing signal channels: 100%|██████████████| 56/56 [00:00<00:00, 142871.67it/s]\n",
      "Parsing spike channels: 0it [00:00, ?it/s]\n",
      "Parsing event channels: 100%|██████████████████| 4/4 [00:00<00:00, 95325.09it/s]\n"
     ]
    },
    {
     "name": "stdout",
     "output_type": "stream",
     "text": [
      "Day: 4, Mouse: 15\n"
     ]
    },
    {
     "name": "stderr",
     "output_type": "stream",
     "text": [
      "Parsing data blocks:  99%|███▉| 10431424/10513808 [00:00<00:00, 20178093.37it/s]\n",
      "Finalizing data blocks:   0%|                             | 0/3 [00:00<?, ?it/s]\n",
      "Finalizing data blocks for type 1: 100%|████| 56/56 [00:00<00:00, 187305.44it/s]\u001b[A\n",
      "\n",
      "Finalizing data blocks for type 4: 100%|█████████| 4/4 [00:00<00:00, 190.97it/s]\u001b[A\n",
      "\n",
      "Finalizing data blocks for type 5:   0%|                 | 0/56 [00:00<?, ?it/s]\u001b[A\n",
      "Finalizing data blocks for type 5:   2%|▏        | 1/56 [00:00<00:10,  5.05it/s]\u001b[A\n",
      "Finalizing data blocks for type 5:   5%|▍        | 3/56 [00:00<00:06,  8.12it/s]\u001b[A\n",
      "Finalizing data blocks for type 5: 100%|████████| 56/56 [00:00<00:00, 99.55it/s]\u001b[A\n",
      "Finalizing data blocks: 100%|█████████████████████| 3/3 [00:00<00:00,  5.06it/s]\n",
      "Parsing signal channels: 100%|██████████████| 56/56 [00:00<00:00, 112008.12it/s]\n",
      "Parsing spike channels: 0it [00:00, ?it/s]\n",
      "Parsing event channels: 100%|██████████████████| 4/4 [00:00<00:00, 53261.00it/s]\n"
     ]
    },
    {
     "name": "stdout",
     "output_type": "stream",
     "text": [
      "Day: 4, Mouse: 6\n"
     ]
    },
    {
     "name": "stderr",
     "output_type": "stream",
     "text": [
      "Parsing data blocks:  99%|█████▉| 6743488/6825872 [00:00<00:00, 20561413.07it/s]\n",
      "Finalizing data blocks:   0%|                             | 0/3 [00:00<?, ?it/s]\n",
      "Finalizing data blocks for type 1: 100%|████| 56/56 [00:00<00:00, 529011.32it/s]\u001b[A\n",
      "\n",
      "Finalizing data blocks for type 4: 100%|█████████| 4/4 [00:00<00:00, 245.90it/s]\u001b[A\n",
      "\n",
      "Finalizing data blocks for type 5:   0%|                 | 0/56 [00:00<?, ?it/s]\u001b[A\n",
      "Finalizing data blocks for type 5:   2%|▏        | 1/56 [00:00<00:05,  9.22it/s]\u001b[A\n",
      "Finalizing data blocks for type 5:   5%|▍        | 3/56 [00:00<00:03, 14.80it/s]\u001b[A\n",
      "Finalizing data blocks for type 5: 100%|███████| 56/56 [00:00<00:00, 175.51it/s]\u001b[A\n",
      "Finalizing data blocks: 100%|█████████████████████| 3/3 [00:00<00:00,  8.83it/s]\n",
      "Parsing signal channels: 100%|███████████████| 56/56 [00:00<00:00, 97018.18it/s]\n",
      "Parsing spike channels: 0it [00:00, ?it/s]\n",
      "Parsing event channels: 100%|██████████████████| 4/4 [00:00<00:00, 90687.65it/s]\n"
     ]
    },
    {
     "name": "stdout",
     "output_type": "stream",
     "text": [
      "Day: 4, Mouse: 11\n"
     ]
    },
    {
     "name": "stderr",
     "output_type": "stream",
     "text": [
      "Parsing data blocks:  99%|█████▉| 6831808/6914192 [00:00<00:00, 17314267.36it/s]\n",
      "Finalizing data blocks:   0%|                             | 0/3 [00:00<?, ?it/s]\n",
      "Finalizing data blocks for type 1: 100%|████| 56/56 [00:00<00:00, 570099.57it/s]\u001b[A\n",
      "\n",
      "Finalizing data blocks for type 4: 100%|█████████| 4/4 [00:00<00:00, 265.76it/s]\u001b[A\n",
      "\n",
      "Finalizing data blocks for type 5:   0%|                 | 0/56 [00:00<?, ?it/s]\u001b[A\n",
      "Finalizing data blocks for type 5:   2%|▏        | 1/56 [00:00<00:05,  9.31it/s]\u001b[A\n",
      "Finalizing data blocks for type 5:   5%|▍        | 3/56 [00:00<00:03, 14.64it/s]\u001b[A\n",
      "Finalizing data blocks for type 5: 100%|███████| 56/56 [00:00<00:00, 173.56it/s]\u001b[A\n",
      "Finalizing data blocks: 100%|█████████████████████| 3/3 [00:00<00:00,  8.78it/s]\n",
      "Parsing signal channels: 100%|██████████████| 56/56 [00:00<00:00, 112706.83it/s]\n",
      "Parsing spike channels: 0it [00:00, ?it/s]\n",
      "Parsing event channels: 100%|██████████████████| 4/4 [00:00<00:00, 96978.13it/s]\n"
     ]
    },
    {
     "name": "stdout",
     "output_type": "stream",
     "text": [
      "Day: 4, Mouse: 35\n"
     ]
    },
    {
     "name": "stderr",
     "output_type": "stream",
     "text": [
      "Parsing data blocks: 100%|███▉| 27361216/27443600 [00:01<00:00, 20684804.01it/s]\n",
      "Finalizing data blocks:   0%|                             | 0/3 [00:00<?, ?it/s]\n",
      "Finalizing data blocks for type 1: 100%|████| 56/56 [00:00<00:00, 547508.21it/s]\u001b[A\n",
      "\n",
      "Finalizing data blocks for type 4: 100%|█████████| 4/4 [00:00<00:00, 228.81it/s]\u001b[A\n",
      "\n",
      "Finalizing data blocks for type 5:   0%|                 | 0/56 [00:00<?, ?it/s]\u001b[A\n",
      "Finalizing data blocks for type 5:   2%|▏        | 1/56 [00:00<00:23,  2.33it/s]\u001b[A\n",
      "Finalizing data blocks for type 5:   5%|▍        | 3/56 [00:00<00:13,  3.89it/s]\u001b[A\n",
      "Finalizing data blocks for type 5: 100%|████████| 56/56 [00:01<00:00, 45.63it/s]\u001b[A\n",
      "Finalizing data blocks: 100%|█████████████████████| 3/3 [00:01<00:00,  2.40it/s]\n",
      "Parsing signal channels: 100%|███████████████| 56/56 [00:00<00:00, 97218.97it/s]\n",
      "Parsing spike channels: 0it [00:00, ?it/s]\n",
      "Parsing event channels: 100%|██████████████████| 4/4 [00:00<00:00, 91180.52it/s]\n"
     ]
    },
    {
     "name": "stdout",
     "output_type": "stream",
     "text": [
      "Day: 4, Mouse: 31\n"
     ]
    },
    {
     "name": "stderr",
     "output_type": "stream",
     "text": [
      "Parsing data blocks:  99%|███▉| 15974848/16057232 [00:00<00:00, 20261698.08it/s]\n",
      "Finalizing data blocks:   0%|                             | 0/3 [00:00<?, ?it/s]\n",
      "Finalizing data blocks for type 1: 100%|████| 56/56 [00:00<00:00, 577103.25it/s]\u001b[A\n",
      "\n",
      "Finalizing data blocks for type 4: 100%|█████████| 4/4 [00:00<00:00, 245.25it/s]\u001b[A\n",
      "\n",
      "Finalizing data blocks for type 5:   0%|                 | 0/56 [00:00<?, ?it/s]\u001b[A\n",
      "Finalizing data blocks for type 5:   2%|▏        | 1/56 [00:00<00:13,  4.01it/s]\u001b[A\n",
      "Finalizing data blocks for type 5:   5%|▍        | 3/56 [00:00<00:08,  6.40it/s]\u001b[A\n",
      "Finalizing data blocks for type 5: 100%|████████| 56/56 [00:00<00:00, 74.65it/s]\u001b[A\n",
      "Finalizing data blocks: 100%|█████████████████████| 3/3 [00:00<00:00,  3.89it/s]\n",
      "Parsing signal channels: 100%|██████████████| 56/56 [00:00<00:00, 115933.38it/s]\n",
      "Parsing spike channels: 0it [00:00, ?it/s]\n",
      "Parsing event channels: 100%|██████████████████| 4/4 [00:00<00:00, 95325.09it/s]\n"
     ]
    },
    {
     "name": "stdout",
     "output_type": "stream",
     "text": [
      "Day: 4, Mouse: 28\n"
     ]
    },
    {
     "name": "stderr",
     "output_type": "stream",
     "text": [
      "Parsing data blocks: 100%|███▉| 16735168/16817552 [00:00<00:00, 19691119.43it/s]\n",
      "Finalizing data blocks:   0%|                             | 0/3 [00:00<?, ?it/s]\n",
      "Finalizing data blocks for type 1: 100%|████| 56/56 [00:00<00:00, 548787.44it/s]\u001b[A\n",
      "\n",
      "Finalizing data blocks for type 4: 100%|█████████| 4/4 [00:00<00:00, 240.50it/s]\u001b[A\n",
      "\n",
      "Finalizing data blocks for type 5:   0%|                 | 0/56 [00:00<?, ?it/s]\u001b[A\n",
      "Finalizing data blocks for type 5:   2%|▏        | 1/56 [00:00<00:14,  3.82it/s]\u001b[A\n",
      "Finalizing data blocks for type 5:   5%|▍        | 3/56 [00:00<00:08,  5.94it/s]\u001b[A\n",
      "Finalizing data blocks for type 5: 100%|████████| 56/56 [00:00<00:00, 69.23it/s]\u001b[A\n",
      "Finalizing data blocks: 100%|█████████████████████| 3/3 [00:00<00:00,  3.61it/s]\n",
      "Parsing signal channels: 100%|██████████████| 56/56 [00:00<00:00, 143132.86it/s]\n",
      "Parsing spike channels: 0it [00:00, ?it/s]\n",
      "Parsing event channels: 100%|██████████████████| 4/4 [00:00<00:00, 96978.13it/s]\n"
     ]
    },
    {
     "name": "stdout",
     "output_type": "stream",
     "text": [
      "Day: 4, Mouse: 10\n"
     ]
    },
    {
     "name": "stderr",
     "output_type": "stream",
     "text": [
      "Parsing data blocks:  99%|█████▉| 9669568/9751952 [00:00<00:00, 17679946.49it/s]\n",
      "Finalizing data blocks:   0%|                             | 0/3 [00:00<?, ?it/s]\n",
      "Finalizing data blocks for type 1: 100%|████| 56/56 [00:00<00:00, 570099.57it/s]\u001b[A\n",
      "\n",
      "Finalizing data blocks for type 4: 100%|█████████| 4/4 [00:00<00:00, 251.48it/s]\u001b[A\n",
      "\n",
      "Finalizing data blocks for type 5:   0%|                 | 0/56 [00:00<?, ?it/s]\u001b[A\n",
      "Finalizing data blocks for type 5:   2%|▏        | 1/56 [00:00<00:08,  6.40it/s]\u001b[A\n",
      "Finalizing data blocks for type 5:   5%|▍        | 3/56 [00:00<00:05,  9.98it/s]\u001b[A\n",
      "Finalizing data blocks for type 5: 100%|███████| 56/56 [00:00<00:00, 117.14it/s]\u001b[A\n",
      "Finalizing data blocks: 100%|█████████████████████| 3/3 [00:00<00:00,  6.02it/s]\n",
      "Parsing signal channels: 100%|██████████████| 56/56 [00:00<00:00, 119168.45it/s]\n",
      "Parsing spike channels: 0it [00:00, ?it/s]\n",
      "Parsing event channels: 100%|██████████████████| 4/4 [00:00<00:00, 88768.34it/s]\n"
     ]
    },
    {
     "name": "stdout",
     "output_type": "stream",
     "text": [
      "Day: 4, Mouse: 7\n"
     ]
    },
    {
     "name": "stderr",
     "output_type": "stream",
     "text": [
      "Parsing data blocks:  99%|███▉| 10674880/10757264 [00:00<00:00, 16803793.84it/s]\n",
      "Finalizing data blocks:   0%|                             | 0/3 [00:00<?, ?it/s]\n",
      "Finalizing data blocks for type 1: 100%|████| 56/56 [00:00<00:00, 621378.37it/s]\u001b[A\n",
      "\n",
      "Finalizing data blocks for type 4: 100%|█████████| 4/4 [00:00<00:00, 248.07it/s]\u001b[A\n",
      "\n",
      "Finalizing data blocks for type 5:   0%|                 | 0/56 [00:00<?, ?it/s]\u001b[A\n",
      "Finalizing data blocks for type 5:   2%|▏        | 1/56 [00:00<00:09,  5.73it/s]\u001b[A\n",
      "Finalizing data blocks for type 5:   5%|▍        | 3/56 [00:00<00:05,  9.14it/s]\u001b[A\n",
      "Finalizing data blocks for type 5: 100%|███████| 56/56 [00:00<00:00, 107.11it/s]\u001b[A\n",
      "Finalizing data blocks: 100%|█████████████████████| 3/3 [00:00<00:00,  5.53it/s]\n",
      "Parsing signal channels: 100%|██████████████| 56/56 [00:00<00:00, 111107.39it/s]\n",
      "Parsing spike channels: 0it [00:00, ?it/s]\n",
      "Parsing event channels: 100%|██████████████████| 4/4 [00:00<00:00, 97541.95it/s]\n"
     ]
    },
    {
     "name": "stdout",
     "output_type": "stream",
     "text": [
      "Day: 4, Mouse: 14\n"
     ]
    },
    {
     "name": "stderr",
     "output_type": "stream",
     "text": [
      "Parsing data blocks:  99%|█████▉| 7175104/7257488 [00:00<00:00, 16047705.70it/s]\n",
      "Finalizing data blocks:   0%|                             | 0/3 [00:00<?, ?it/s]\n",
      "Finalizing data blocks for type 1: 100%|████| 56/56 [00:00<00:00, 602259.04it/s]\u001b[A\n",
      "\n",
      "Finalizing data blocks for type 4: 100%|█████████| 4/4 [00:00<00:00, 250.44it/s]\u001b[A\n",
      "\n",
      "Finalizing data blocks for type 5:   0%|                 | 0/56 [00:00<?, ?it/s]\u001b[A\n",
      "Finalizing data blocks for type 5:   2%|▏        | 1/56 [00:00<00:06,  8.79it/s]\u001b[A\n",
      "Finalizing data blocks for type 5:   5%|▍        | 3/56 [00:00<00:03, 13.68it/s]\u001b[A\n",
      "Finalizing data blocks for type 5: 100%|███████| 56/56 [00:00<00:00, 160.05it/s]\u001b[A\n",
      "Finalizing data blocks: 100%|█████████████████████| 3/3 [00:00<00:00,  8.12it/s]\n",
      "Parsing signal channels: 100%|██████████████| 56/56 [00:00<00:00, 135612.60it/s]\n",
      "Parsing spike channels: 0it [00:00, ?it/s]\n",
      "Parsing event channels: 100%|██████████████████| 4/4 [00:00<00:00, 95325.09it/s]\n"
     ]
    },
    {
     "name": "stdout",
     "output_type": "stream",
     "text": [
      "Day: 4, Mouse: 3\n"
     ]
    },
    {
     "name": "stderr",
     "output_type": "stream",
     "text": [
      "Parsing data blocks:  99%|█████▉| 9634240/9716624 [00:00<00:00, 16076764.45it/s]\n",
      "Finalizing data blocks:   0%|                             | 0/3 [00:00<?, ?it/s]\n",
      "Finalizing data blocks for type 1: 100%|████| 56/56 [00:00<00:00, 555274.29it/s]\u001b[A\n",
      "\n",
      "Finalizing data blocks for type 4: 100%|█████████| 4/4 [00:00<00:00, 258.67it/s]\u001b[A\n",
      "\n",
      "Finalizing data blocks for type 5:   0%|                 | 0/56 [00:00<?, ?it/s]\u001b[A\n",
      "Finalizing data blocks for type 5:   2%|▏        | 1/56 [00:00<00:08,  6.45it/s]\u001b[A\n",
      "Finalizing data blocks for type 5:   5%|▍        | 3/56 [00:00<00:04, 10.68it/s]\u001b[A\n",
      "Finalizing data blocks for type 5: 100%|███████| 56/56 [00:00<00:00, 124.60it/s]\u001b[A\n",
      "Finalizing data blocks: 100%|█████████████████████| 3/3 [00:00<00:00,  6.40it/s]\n",
      "Parsing signal channels: 100%|██████████████| 56/56 [00:00<00:00, 129411.03it/s]\n",
      "Parsing spike channels: 0it [00:00, ?it/s]\n",
      "Parsing event channels: 100%|██████████████████| 4/4 [00:00<00:00, 90687.65it/s]\n"
     ]
    },
    {
     "name": "stdout",
     "output_type": "stream",
     "text": [
      "Day: 4, Mouse: 29\n"
     ]
    },
    {
     "name": "stderr",
     "output_type": "stream",
     "text": [
      "Parsing data blocks: 100%|███▉| 22605760/22688144 [00:01<00:00, 18303218.29it/s]\n",
      "Finalizing data blocks:   0%|                             | 0/3 [00:00<?, ?it/s]\n",
      "Finalizing data blocks for type 1: 100%|████| 56/56 [00:00<00:00, 577103.25it/s]\u001b[A\n",
      "\n",
      "Finalizing data blocks for type 4: 100%|█████████| 4/4 [00:00<00:00, 252.00it/s]\u001b[A\n",
      "\n",
      "Finalizing data blocks for type 5:   0%|                 | 0/56 [00:00<?, ?it/s]\u001b[A\n",
      "Finalizing data blocks for type 5:   2%|▏        | 1/56 [00:00<00:20,  2.73it/s]\u001b[A\n",
      "Finalizing data blocks for type 5:   5%|▍        | 3/56 [00:00<00:12,  4.28it/s]\u001b[A\n",
      "Finalizing data blocks for type 5: 100%|████████| 56/56 [00:01<00:00, 50.47it/s]\u001b[A\n",
      "Finalizing data blocks: 100%|█████████████████████| 3/3 [00:01<00:00,  2.66it/s]\n",
      "Parsing signal channels: 100%|██████████████| 56/56 [00:00<00:00, 109399.64it/s]\n",
      "Parsing spike channels: 0it [00:00, ?it/s]\n",
      "Parsing event channels: 100%|██████████████████| 4/4 [00:00<00:00, 91180.52it/s]\n"
     ]
    },
    {
     "name": "stdout",
     "output_type": "stream",
     "text": [
      "Day: 4, Mouse: 30\n"
     ]
    },
    {
     "name": "stderr",
     "output_type": "stream",
     "text": [
      "Parsing data blocks:  99%|█████▉| 7722688/7805072 [00:00<00:00, 16605107.63it/s]\n",
      "Finalizing data blocks:   0%|                             | 0/3 [00:00<?, ?it/s]\n",
      "Finalizing data blocks for type 1: 100%|████| 56/56 [00:00<00:00, 577103.25it/s]\u001b[A\n",
      "\n",
      "Finalizing data blocks for type 4: 100%|█████████| 4/4 [00:00<00:00, 267.29it/s]\u001b[A\n",
      "\n",
      "Finalizing data blocks for type 5:   0%|                 | 0/56 [00:00<?, ?it/s]\u001b[A\n",
      "Finalizing data blocks for type 5:   2%|▏        | 1/56 [00:00<00:06,  8.24it/s]\u001b[A\n",
      "Finalizing data blocks for type 5:   5%|▍        | 3/56 [00:00<00:04, 12.90it/s]\u001b[A\n",
      "Finalizing data blocks for type 5: 100%|███████| 56/56 [00:00<00:00, 150.23it/s]\u001b[A\n",
      "Finalizing data blocks: 100%|█████████████████████| 3/3 [00:00<00:00,  7.66it/s]\n",
      "Parsing signal channels: 100%|██████████████| 56/56 [00:00<00:00, 113414.30it/s]\n",
      "Parsing spike channels: 0it [00:00, ?it/s]\n",
      "Parsing event channels: 100%|██████████████████| 4/4 [00:00<00:00, 98112.37it/s]\n"
     ]
    },
    {
     "name": "stdout",
     "output_type": "stream",
     "text": [
      "Day: 4, Mouse: 34\n"
     ]
    },
    {
     "name": "stderr",
     "output_type": "stream",
     "text": [
      "Parsing data blocks:  99%|█████▉| 8707264/8789648 [00:00<00:00, 19462799.76it/s]\n",
      "Finalizing data blocks:   0%|                             | 0/3 [00:00<?, ?it/s]\n",
      "Finalizing data blocks for type 1: 100%|████| 56/56 [00:00<00:00, 590153.33it/s]\u001b[A\n",
      "\n",
      "Finalizing data blocks for type 4: 100%|█████████| 4/4 [00:00<00:00, 252.32it/s]\u001b[A\n",
      "\n",
      "Finalizing data blocks for type 5:   0%|                 | 0/56 [00:00<?, ?it/s]\u001b[A\n",
      "Finalizing data blocks for type 5:   2%|▏        | 1/56 [00:00<00:07,  7.39it/s]\u001b[A\n",
      "Finalizing data blocks for type 5:   5%|▍        | 3/56 [00:00<00:04, 11.82it/s]\u001b[A\n",
      "Finalizing data blocks for type 5: 100%|███████| 56/56 [00:00<00:00, 138.79it/s]\u001b[A\n",
      "Finalizing data blocks: 100%|█████████████████████| 3/3 [00:00<00:00,  7.09it/s]\n",
      "Parsing signal channels: 100%|██████████████| 56/56 [00:00<00:00, 130489.46it/s]\n",
      "Parsing spike channels: 0it [00:00, ?it/s]\n",
      "Parsing event channels: 100%|██████████████████| 4/4 [00:00<00:00, 95325.09it/s]\n"
     ]
    },
    {
     "name": "stdout",
     "output_type": "stream",
     "text": [
      "Day: 4, Mouse: 27\n"
     ]
    },
    {
     "name": "stderr",
     "output_type": "stream",
     "text": [
      "Parsing data blocks:  99%|███▉| 10554304/10636688 [00:00<00:00, 19142926.23it/s]\n",
      "Finalizing data blocks:   0%|                             | 0/3 [00:00<?, ?it/s]\n",
      "Finalizing data blocks for type 1: 100%|████| 56/56 [00:00<00:00, 608500.06it/s]\u001b[A\n",
      "\n",
      "Finalizing data blocks for type 4: 100%|█████████| 4/4 [00:00<00:00, 234.54it/s]\u001b[A\n",
      "\n",
      "Finalizing data blocks for type 5:   0%|                 | 0/56 [00:00<?, ?it/s]\u001b[A\n",
      "Finalizing data blocks for type 5:   2%|▏        | 1/56 [00:00<00:09,  5.55it/s]\u001b[A\n",
      "Finalizing data blocks for type 5:   5%|▍        | 3/56 [00:00<00:05,  9.08it/s]\u001b[A\n",
      "Finalizing data blocks for type 5: 100%|███████| 56/56 [00:00<00:00, 107.78it/s]\u001b[A\n",
      "Finalizing data blocks: 100%|█████████████████████| 3/3 [00:00<00:00,  5.55it/s]\n",
      "Parsing signal channels: 100%|███████████████| 56/56 [00:00<00:00, 81386.36it/s]\n",
      "Parsing spike channels: 0it [00:00, ?it/s]\n",
      "Parsing event channels: 100%|██████████████████| 4/4 [00:00<00:00, 90687.65it/s]\n"
     ]
    },
    {
     "name": "stdout",
     "output_type": "stream",
     "text": [
      "Day: 4, Mouse: 9\n"
     ]
    },
    {
     "name": "stderr",
     "output_type": "stream",
     "text": [
      "Parsing data blocks:  99%|███▉| 11500480/11582864 [00:00<00:00, 19390852.14it/s]\n",
      "Finalizing data blocks:   0%|                             | 0/3 [00:00<?, ?it/s]\n",
      "Finalizing data blocks for type 1: 100%|████| 56/56 [00:00<00:00, 572880.55it/s]\u001b[A\n",
      "\n",
      "Finalizing data blocks for type 4: 100%|█████████| 4/4 [00:00<00:00, 241.11it/s]\u001b[A\n",
      "\n",
      "Finalizing data blocks for type 5:   0%|                 | 0/56 [00:00<?, ?it/s]\u001b[A\n",
      "Finalizing data blocks for type 5:   2%|▏        | 1/56 [00:00<00:09,  5.60it/s]\u001b[A\n",
      "Finalizing data blocks for type 5:   5%|▍        | 3/56 [00:00<00:05,  8.89it/s]\u001b[A\n",
      "Finalizing data blocks for type 5: 100%|███████| 56/56 [00:00<00:00, 102.76it/s]\u001b[A\n",
      "Finalizing data blocks: 100%|█████████████████████| 3/3 [00:00<00:00,  5.31it/s]\n",
      "Parsing signal channels: 100%|███████████████| 56/56 [00:00<00:00, 92728.39it/s]\n",
      "Parsing spike channels: 0it [00:00, ?it/s]\n",
      "Parsing event channels: 100%|██████████████████| 4/4 [00:00<00:00, 64527.75it/s]\n"
     ]
    },
    {
     "name": "stdout",
     "output_type": "stream",
     "text": [
      "Day: 4, Mouse: 26\n"
     ]
    },
    {
     "name": "stderr",
     "output_type": "stream",
     "text": [
      "Parsing data blocks:  99%|█████▉| 9767872/9850256 [00:00<00:00, 19378839.45it/s]\n",
      "Finalizing data blocks:   0%|                             | 0/3 [00:00<?, ?it/s]\n",
      "Finalizing data blocks for type 1: 100%|████| 56/56 [00:00<00:00, 602259.04it/s]\u001b[A\n",
      "\n",
      "Finalizing data blocks for type 4: 100%|█████████| 4/4 [00:00<00:00, 234.60it/s]\u001b[A\n",
      "\n",
      "Finalizing data blocks for type 5:   0%|                 | 0/56 [00:00<?, ?it/s]\u001b[A\n",
      "Finalizing data blocks for type 5:   2%|▏        | 1/56 [00:00<00:08,  6.69it/s]\u001b[A\n",
      "Finalizing data blocks for type 5:   5%|▍        | 3/56 [00:00<00:05, 10.54it/s]\u001b[A\n",
      "Finalizing data blocks for type 5: 100%|███████| 56/56 [00:00<00:00, 123.69it/s]\u001b[A\n",
      "Finalizing data blocks: 100%|█████████████████████| 3/3 [00:00<00:00,  6.33it/s]\n",
      "Parsing signal channels: 100%|██████████████| 56/56 [00:00<00:00, 116914.40it/s]\n",
      "Parsing spike channels: 0it [00:00, ?it/s]\n",
      "Parsing event channels: 100%|██████████████████| 4/4 [00:00<00:00, 86480.49it/s]\n"
     ]
    },
    {
     "name": "stdout",
     "output_type": "stream",
     "text": [
      "Day: 4, Mouse: 8\n"
     ]
    },
    {
     "name": "stderr",
     "output_type": "stream",
     "text": [
      "Parsing data blocks:  99%|█████▉| 8579008/8661392 [00:00<00:00, 18333009.42it/s]\n",
      "Finalizing data blocks:   0%|                             | 0/3 [00:00<?, ?it/s]\n",
      "Finalizing data blocks for type 1: 100%|████| 56/56 [00:00<00:00, 602259.04it/s]\u001b[A\n",
      "\n",
      "Finalizing data blocks for type 4: 100%|█████████| 4/4 [00:00<00:00, 253.67it/s]\u001b[A\n",
      "\n",
      "Finalizing data blocks for type 5:   0%|                 | 0/56 [00:00<?, ?it/s]\u001b[A\n",
      "Finalizing data blocks for type 5:   2%|▏        | 1/56 [00:00<00:07,  7.50it/s]\u001b[A\n",
      "Finalizing data blocks for type 5:   5%|▍        | 3/56 [00:00<00:04, 11.82it/s]\u001b[A\n",
      "Finalizing data blocks for type 5: 100%|███████| 56/56 [00:00<00:00, 138.06it/s]\u001b[A\n",
      "Finalizing data blocks: 100%|█████████████████████| 3/3 [00:00<00:00,  7.06it/s]\n",
      "Parsing signal channels: 100%|██████████████| 56/56 [00:00<00:00, 142093.78it/s]\n",
      "Parsing spike channels: 0it [00:00, ?it/s]\n",
      "Parsing event channels: 100%|██████████████████| 4/4 [00:00<00:00, 88768.34it/s]\n"
     ]
    },
    {
     "name": "stdout",
     "output_type": "stream",
     "text": [
      "Day: 4, Mouse: 21\n"
     ]
    },
    {
     "name": "stderr",
     "output_type": "stream",
     "text": [
      "Parsing data blocks:  99%|███▉| 12965056/13047440 [00:00<00:00, 19189381.09it/s]\n",
      "Finalizing data blocks:   0%|                             | 0/3 [00:00<?, ?it/s]\n",
      "Finalizing data blocks for type 1: 100%|████| 56/56 [00:00<00:00, 610080.58it/s]\u001b[A\n",
      "\n",
      "Finalizing data blocks for type 4: 100%|█████████| 4/4 [00:00<00:00, 241.80it/s]\u001b[A\n",
      "\n",
      "Finalizing data blocks for type 5:   0%|                 | 0/56 [00:00<?, ?it/s]\u001b[A\n",
      "Finalizing data blocks for type 5:   2%|▏        | 1/56 [00:00<00:10,  5.15it/s]\u001b[A\n",
      "Finalizing data blocks for type 5:   5%|▍        | 3/56 [00:00<00:06,  8.14it/s]\u001b[A\n",
      "Finalizing data blocks for type 5: 100%|████████| 56/56 [00:00<00:00, 94.49it/s]\u001b[A\n",
      "Finalizing data blocks: 100%|█████████████████████| 3/3 [00:00<00:00,  4.89it/s]\n",
      "Parsing signal channels: 100%|███████████████| 56/56 [00:00<00:00, 71631.91it/s]\n",
      "Parsing spike channels: 0it [00:00, ?it/s]\n",
      "Parsing event channels: 100%|██████████████████| 4/4 [00:00<00:00, 94786.53it/s]\n"
     ]
    },
    {
     "name": "stdout",
     "output_type": "stream",
     "text": [
      "Day: 4, Mouse: 18\n"
     ]
    },
    {
     "name": "stderr",
     "output_type": "stream",
     "text": [
      "Parsing data blocks:  99%|███▉| 11571136/11653520 [00:00<00:00, 19911195.48it/s]\n",
      "Finalizing data blocks:   0%|                             | 0/3 [00:00<?, ?it/s]\n",
      "Finalizing data blocks for type 1: 100%|████| 56/56 [00:00<00:00, 602259.04it/s]\u001b[A\n",
      "\n",
      "Finalizing data blocks for type 4: 100%|█████████| 4/4 [00:00<00:00, 245.69it/s]\u001b[A\n",
      "\n",
      "Finalizing data blocks for type 5:   0%|                 | 0/56 [00:00<?, ?it/s]\u001b[A\n",
      "Finalizing data blocks for type 5:   2%|▏        | 1/56 [00:00<00:09,  5.67it/s]\u001b[A\n",
      "Finalizing data blocks for type 5:   5%|▍        | 3/56 [00:00<00:05,  9.07it/s]\u001b[A\n",
      "Finalizing data blocks for type 5: 100%|███████| 56/56 [00:00<00:00, 106.33it/s]\u001b[A\n",
      "Finalizing data blocks: 100%|█████████████████████| 3/3 [00:00<00:00,  5.49it/s]\n",
      "Parsing signal channels: 100%|██████████████| 56/56 [00:00<00:00, 112923.57it/s]\n",
      "Parsing spike channels: 0it [00:00, ?it/s]\n",
      "Parsing event channels: 100%|██████████████████| 4/4 [00:00<00:00, 86480.49it/s]\n"
     ]
    },
    {
     "name": "stdout",
     "output_type": "stream",
     "text": [
      "Day: 4, Mouse: 25\n"
     ]
    },
    {
     "name": "stderr",
     "output_type": "stream",
     "text": [
      "Parsing data blocks:  99%|█████▉| 6027712/6110096 [00:00<00:00, 20039931.19it/s]\n",
      "Finalizing data blocks:   0%|                             | 0/3 [00:00<?, ?it/s]\n",
      "Finalizing data blocks for type 1: 100%|████| 56/56 [00:00<00:00, 621378.37it/s]\u001b[A\n",
      "\n",
      "Finalizing data blocks for type 4: 100%|█████████| 4/4 [00:00<00:00, 252.19it/s]\u001b[A\n",
      "\n",
      "Finalizing data blocks for type 5:   0%|                 | 0/56 [00:00<?, ?it/s]\u001b[A\n",
      "Finalizing data blocks for type 5: 100%|███████| 56/56 [00:00<00:00, 202.93it/s]\u001b[A\n",
      "Finalizing data blocks: 100%|█████████████████████| 3/3 [00:00<00:00, 10.14it/s]\n",
      "Parsing signal channels: 100%|██████████████| 56/56 [00:00<00:00, 156067.13it/s]\n",
      "Parsing spike channels: 0it [00:00, ?it/s]\n",
      "Parsing event channels: 100%|██████████████████| 4/4 [00:00<00:00, 95325.09it/s]\n"
     ]
    },
    {
     "name": "stdout",
     "output_type": "stream",
     "text": [
      "Day: 4, Mouse: 19\n"
     ]
    },
    {
     "name": "stderr",
     "output_type": "stream",
     "text": [
      "Parsing data blocks:  99%|███▉| 10047424/10129808 [00:00<00:00, 19053900.82it/s]\n",
      "Finalizing data blocks:   0%|                             | 0/3 [00:00<?, ?it/s]\n",
      "Finalizing data blocks for type 1: 100%|████| 56/56 [00:00<00:00, 588674.25it/s]\u001b[A\n",
      "\n",
      "Finalizing data blocks for type 4: 100%|█████████| 4/4 [00:00<00:00, 265.93it/s]\u001b[A\n",
      "\n",
      "Finalizing data blocks for type 5:   0%|                 | 0/56 [00:00<?, ?it/s]\u001b[A\n",
      "Finalizing data blocks for type 5:   2%|▏        | 1/56 [00:00<00:08,  6.43it/s]\u001b[A\n",
      "Finalizing data blocks for type 5:   5%|▍        | 3/56 [00:00<00:05, 10.40it/s]\u001b[A\n",
      "Finalizing data blocks for type 5: 100%|███████| 56/56 [00:00<00:00, 122.71it/s]\u001b[A\n",
      "Finalizing data blocks: 100%|█████████████████████| 3/3 [00:00<00:00,  6.31it/s]\n",
      "Parsing signal channels: 100%|██████████████| 56/56 [00:00<00:00, 106088.99it/s]\n",
      "Parsing spike channels: 0it [00:00, ?it/s]\n",
      "Parsing event channels: 100%|██████████████████| 4/4 [00:00<00:00, 97541.95it/s]\n"
     ]
    },
    {
     "name": "stdout",
     "output_type": "stream",
     "text": [
      "Day: 4, Mouse: 20\n"
     ]
    },
    {
     "name": "stderr",
     "output_type": "stream",
     "text": [
      "Parsing data blocks:  99%|█████▉| 8548288/8630672 [00:00<00:00, 21223580.00it/s]\n",
      "Finalizing data blocks:   0%|                             | 0/3 [00:00<?, ?it/s]\n",
      "Finalizing data blocks for type 1: 100%|████| 56/56 [00:00<00:00, 623026.59it/s]\u001b[A\n",
      "\n",
      "Finalizing data blocks for type 4: 100%|█████████| 4/4 [00:00<00:00, 248.74it/s]\u001b[A\n",
      "\n",
      "Finalizing data blocks for type 5:   0%|                 | 0/56 [00:00<?, ?it/s]\u001b[A\n",
      "Finalizing data blocks for type 5:   2%|▏        | 1/56 [00:00<00:06,  7.89it/s]\u001b[A\n",
      "Finalizing data blocks for type 5:   5%|▍        | 3/56 [00:00<00:04, 12.49it/s]\u001b[A\n",
      "Finalizing data blocks for type 5: 100%|███████| 56/56 [00:00<00:00, 146.46it/s]\u001b[A\n",
      "Finalizing data blocks: 100%|█████████████████████| 3/3 [00:00<00:00,  7.46it/s]\n",
      "Parsing signal channels: 100%|██████████████| 56/56 [00:00<00:00, 102747.60it/s]\n",
      "Parsing spike channels: 0it [00:00, ?it/s]\n",
      "Parsing event channels: 100%|██████████████████| 4/4 [00:00<00:00, 95325.09it/s]\n"
     ]
    },
    {
     "name": "stdout",
     "output_type": "stream",
     "text": [
      "Day: 5, Mouse: 2\n"
     ]
    },
    {
     "name": "stderr",
     "output_type": "stream",
     "text": [
      "Parsing data blocks:  99%|█████▉| 8802496/8884880 [00:00<00:00, 19608515.38it/s]\n",
      "Finalizing data blocks:   0%|                             | 0/3 [00:00<?, ?it/s]\n",
      "Finalizing data blocks for type 1: 100%|████| 56/56 [00:00<00:00, 590153.33it/s]\u001b[A\n",
      "\n",
      "Finalizing data blocks for type 4: 100%|█████████| 4/4 [00:00<00:00, 271.54it/s]\u001b[A\n",
      "\n",
      "Finalizing data blocks for type 5:   0%|                 | 0/56 [00:00<?, ?it/s]\u001b[A\n",
      "Finalizing data blocks for type 5:   2%|▏        | 1/56 [00:00<00:07,  7.56it/s]\u001b[A\n",
      "Finalizing data blocks for type 5:   5%|▍        | 3/56 [00:00<00:04, 12.23it/s]\u001b[A\n",
      "Finalizing data blocks for type 5: 100%|███████| 56/56 [00:00<00:00, 143.00it/s]\u001b[A\n",
      "Finalizing data blocks: 100%|█████████████████████| 3/3 [00:00<00:00,  7.31it/s]\n",
      "Parsing signal channels: 100%|██████████████| 56/56 [00:00<00:00, 135300.13it/s]\n",
      "Parsing spike channels: 0it [00:00, ?it/s]\n",
      "Parsing event channels: 100%|██████████████████| 4/4 [00:00<00:00, 99864.38it/s]\n"
     ]
    },
    {
     "name": "stdout",
     "output_type": "stream",
     "text": [
      "Day: 5, Mouse: 24\n"
     ]
    },
    {
     "name": "stderr",
     "output_type": "stream",
     "text": [
      "Parsing data blocks:  99%|███▉| 11484352/11566736 [00:00<00:00, 20470228.66it/s]\n",
      "Finalizing data blocks:   0%|                             | 0/3 [00:00<?, ?it/s]\n",
      "Finalizing data blocks for type 1: 100%|████| 56/56 [00:00<00:00, 613266.38it/s]\u001b[A\n",
      "\n",
      "Finalizing data blocks for type 4: 100%|█████████| 4/4 [00:00<00:00, 268.97it/s]\u001b[A\n",
      "\n",
      "Finalizing data blocks for type 5:   0%|                 | 0/56 [00:00<?, ?it/s]\u001b[A\n",
      "Finalizing data blocks for type 5:   2%|▏        | 1/56 [00:00<00:09,  5.70it/s]\u001b[A\n",
      "Finalizing data blocks for type 5:   5%|▍        | 3/56 [00:00<00:05,  9.11it/s]\u001b[A\n",
      "Finalizing data blocks for type 5: 100%|███████| 56/56 [00:00<00:00, 107.70it/s]\u001b[A\n",
      "Finalizing data blocks: 100%|█████████████████████| 3/3 [00:00<00:00,  5.57it/s]\n",
      "Parsing signal channels: 100%|██████████████| 56/56 [00:00<00:00, 135847.90it/s]\n",
      "Parsing spike channels: 0it [00:00, ?it/s]\n",
      "Parsing event channels: 100%|██████████████████| 4/4 [00:00<00:00, 88768.34it/s]\n"
     ]
    },
    {
     "name": "stdout",
     "output_type": "stream",
     "text": [
      "Day: 5, Mouse: 15\n"
     ]
    },
    {
     "name": "stderr",
     "output_type": "stream",
     "text": [
      "Parsing data blocks:  99%|█████▉| 9035200/9117584 [00:00<00:00, 20662842.04it/s]\n",
      "Finalizing data blocks:   0%|                             | 0/3 [00:00<?, ?it/s]\n",
      "Finalizing data blocks for type 1: 100%|████| 56/56 [00:00<00:00, 621378.37it/s]\u001b[A\n",
      "\n",
      "Finalizing data blocks for type 4: 100%|█████████| 4/4 [00:00<00:00, 252.27it/s]\u001b[A\n",
      "\n",
      "Finalizing data blocks for type 5:   0%|                 | 0/56 [00:00<?, ?it/s]\u001b[A\n",
      "Finalizing data blocks for type 5:   2%|▏        | 1/56 [00:00<00:07,  7.30it/s]\u001b[A\n",
      "Finalizing data blocks for type 5:   5%|▍        | 3/56 [00:00<00:04, 11.61it/s]\u001b[A\n",
      "Finalizing data blocks for type 5: 100%|███████| 56/56 [00:00<00:00, 135.91it/s]\u001b[A\n",
      "Finalizing data blocks: 100%|█████████████████████| 3/3 [00:00<00:00,  6.94it/s]\n",
      "Parsing signal channels: 100%|██████████████| 56/56 [00:00<00:00, 116624.14it/s]\n",
      "Parsing spike channels: 0it [00:00, ?it/s]\n",
      "Parsing event channels: 100%|██████████████████| 4/4 [00:00<00:00, 95325.09it/s]\n"
     ]
    },
    {
     "name": "stdout",
     "output_type": "stream",
     "text": [
      "Day: 5, Mouse: 6\n"
     ]
    },
    {
     "name": "stderr",
     "output_type": "stream",
     "text": [
      "Parsing data blocks:  99%|█████▉| 6099904/6182288 [00:00<00:00, 19679459.28it/s]\n",
      "Finalizing data blocks:   0%|                             | 0/3 [00:00<?, ?it/s]\n",
      "Finalizing data blocks for type 1: 100%|████| 56/56 [00:00<00:00, 621378.37it/s]\u001b[A\n",
      "\n",
      "Finalizing data blocks for type 4: 100%|█████████| 4/4 [00:00<00:00, 265.57it/s]\u001b[A\n",
      "\n",
      "Finalizing data blocks for type 5:   0%|                 | 0/56 [00:00<?, ?it/s]\u001b[A\n",
      "Finalizing data blocks for type 5: 100%|███████| 56/56 [00:00<00:00, 195.87it/s]\u001b[A\n",
      "Finalizing data blocks: 100%|█████████████████████| 3/3 [00:00<00:00,  9.83it/s]\n",
      "Parsing signal channels: 100%|██████████████| 56/56 [00:00<00:00, 160877.41it/s]\n",
      "Parsing spike channels: 0it [00:00, ?it/s]\n",
      "Parsing event channels: 100%|██████████████████| 4/4 [00:00<00:00, 86928.58it/s]\n"
     ]
    },
    {
     "name": "stdout",
     "output_type": "stream",
     "text": [
      "Day: 5, Mouse: 11\n"
     ]
    },
    {
     "name": "stderr",
     "output_type": "stream",
     "text": [
      "Parsing data blocks:  99%|█████▉| 8963008/9045392 [00:00<00:00, 20236952.91it/s]\n",
      "Finalizing data blocks:   0%|                             | 0/3 [00:00<?, ?it/s]\n",
      "Finalizing data blocks for type 1: 100%|████| 56/56 [00:00<00:00, 584281.15it/s]\u001b[A\n",
      "\n",
      "Finalizing data blocks for type 4: 100%|█████████| 4/4 [00:00<00:00, 275.25it/s]\u001b[A\n",
      "\n",
      "Finalizing data blocks for type 5:   0%|                 | 0/56 [00:00<?, ?it/s]\u001b[A\n",
      "Finalizing data blocks for type 5:   2%|▏        | 1/56 [00:00<00:07,  7.40it/s]\u001b[A\n",
      "Finalizing data blocks for type 5:   5%|▍        | 3/56 [00:00<00:04, 11.72it/s]\u001b[A\n",
      "Finalizing data blocks for type 5: 100%|███████| 56/56 [00:00<00:00, 137.97it/s]\u001b[A\n",
      "Finalizing data blocks: 100%|█████████████████████| 3/3 [00:00<00:00,  7.07it/s]\n",
      "Parsing signal channels: 100%|███████████████| 56/56 [00:00<00:00, 90338.86it/s]\n",
      "Parsing spike channels: 0it [00:00, ?it/s]\n",
      "Parsing event channels: 100%|██████████████████| 4/4 [00:00<00:00, 95325.09it/s]\n"
     ]
    },
    {
     "name": "stdout",
     "output_type": "stream",
     "text": [
      "Day: 5, Mouse: 35\n"
     ]
    },
    {
     "name": "stderr",
     "output_type": "stream",
     "text": [
      "Parsing data blocks:  99%|█████▉| 8275648/8358032 [00:00<00:00, 19126838.68it/s]\n",
      "Finalizing data blocks:   0%|                             | 0/3 [00:00<?, ?it/s]\n",
      "Finalizing data blocks for type 1: 100%|████| 56/56 [00:00<00:00, 643509.65it/s]\u001b[A\n",
      "\n",
      "Finalizing data blocks for type 4: 100%|█████████| 4/4 [00:00<00:00, 266.90it/s]\u001b[A\n",
      "\n",
      "Finalizing data blocks for type 5:   0%|                 | 0/56 [00:00<?, ?it/s]\u001b[A\n",
      "Finalizing data blocks for type 5:   2%|▏        | 1/56 [00:00<00:06,  8.11it/s]\u001b[A\n",
      "Finalizing data blocks for type 5:   5%|▍        | 3/56 [00:00<00:04, 12.98it/s]\u001b[A\n",
      "Finalizing data blocks for type 5: 100%|███████| 56/56 [00:00<00:00, 152.01it/s]\u001b[A\n",
      "Finalizing data blocks: 100%|█████████████████████| 3/3 [00:00<00:00,  7.75it/s]\n",
      "Parsing signal channels: 100%|██████████████| 56/56 [00:00<00:00, 116392.98it/s]\n",
      "Parsing spike channels: 0it [00:00, ?it/s]\n",
      "Parsing event channels: 100%|██████████████████| 4/4 [00:00<00:00, 97541.95it/s]\n"
     ]
    },
    {
     "name": "stdout",
     "output_type": "stream",
     "text": [
      "Day: 5, Mouse: 28\n"
     ]
    },
    {
     "name": "stderr",
     "output_type": "stream",
     "text": [
      "Parsing data blocks:  99%|███▉| 11584960/11667344 [00:00<00:00, 18333587.03it/s]\n",
      "Finalizing data blocks:   0%|                             | 0/3 [00:00<?, ?it/s]\n",
      "Finalizing data blocks for type 1: 100%|████| 56/56 [00:00<00:00, 616485.63it/s]\u001b[A\n",
      "\n",
      "Finalizing data blocks for type 4: 100%|█████████| 4/4 [00:00<00:00, 261.05it/s]\u001b[A\n",
      "\n",
      "Finalizing data blocks for type 5:   0%|                 | 0/56 [00:00<?, ?it/s]\u001b[A\n",
      "Finalizing data blocks for type 5:   2%|▏        | 1/56 [00:00<00:09,  5.63it/s]\u001b[A\n",
      "Finalizing data blocks for type 5:   5%|▍        | 3/56 [00:00<00:05,  9.05it/s]\u001b[A\n",
      "Finalizing data blocks for type 5: 100%|███████| 56/56 [00:00<00:00, 106.32it/s]\u001b[A\n",
      "Finalizing data blocks: 100%|█████████████████████| 3/3 [00:00<00:00,  5.50it/s]\n",
      "Parsing signal channels: 100%|██████████████| 56/56 [00:00<00:00, 114075.29it/s]\n",
      "Parsing spike channels: 0it [00:00, ?it/s]\n",
      "Parsing event channels: 100%|██████████████████| 4/4 [00:00<00:00, 93206.76it/s]\n"
     ]
    },
    {
     "name": "stdout",
     "output_type": "stream",
     "text": [
      "Day: 5, Mouse: 31\n"
     ]
    },
    {
     "name": "stderr",
     "output_type": "stream",
     "text": [
      "Parsing data blocks: 100%|███▉| 65755840/65838224 [00:03<00:00, 20079805.42it/s]\n",
      "Finalizing data blocks:   0%|                             | 0/3 [00:00<?, ?it/s]\n",
      "Finalizing data blocks for type 1: 100%|████| 56/56 [00:00<00:00, 643509.65it/s]\u001b[A\n",
      "\n",
      "Finalizing data blocks for type 4: 100%|█████████| 4/4 [00:00<00:00, 259.89it/s]\u001b[A\n",
      "\n",
      "Finalizing data blocks for type 5:   0%|                 | 0/56 [00:00<?, ?it/s]\u001b[A\n",
      "Finalizing data blocks for type 5:   2%|▏        | 1/56 [00:00<00:54,  1.01it/s]\u001b[A\n",
      "Finalizing data blocks for type 5:   5%|▍        | 3/56 [00:01<00:32,  1.61it/s]\u001b[A\n",
      "Finalizing data blocks for type 5: 100%|████████| 56/56 [00:02<00:00, 19.47it/s]\u001b[A\n",
      "Finalizing data blocks: 100%|█████████████████████| 3/3 [00:02<00:00,  1.04it/s]\n",
      "Parsing signal channels: 100%|██████████████| 56/56 [00:00<00:00, 103883.69it/s]\n",
      "Parsing spike channels: 0it [00:00, ?it/s]\n",
      "Parsing event channels: 100%|██████████████████| 4/4 [00:00<00:00, 85163.53it/s]\n"
     ]
    },
    {
     "name": "stdout",
     "output_type": "stream",
     "text": [
      "Day: 5, Mouse: 10\n"
     ]
    },
    {
     "name": "stderr",
     "output_type": "stream",
     "text": [
      "Parsing data blocks:  99%|█████▉| 6239680/6322064 [00:00<00:00, 19091451.07it/s]\n",
      "Finalizing data blocks:   0%|                             | 0/3 [00:00<?, ?it/s]\n",
      "Finalizing data blocks for type 1: 100%|████| 56/56 [00:00<00:00, 559240.53it/s]\u001b[A\n",
      "\n",
      "Finalizing data blocks for type 4: 100%|█████████| 4/4 [00:00<00:00, 257.06it/s]\u001b[A\n",
      "\n",
      "Finalizing data blocks for type 5:   0%|                 | 0/56 [00:00<?, ?it/s]\u001b[A\n",
      "Finalizing data blocks for type 5: 100%|███████| 56/56 [00:00<00:00, 198.12it/s]\u001b[A\n",
      "Finalizing data blocks: 100%|█████████████████████| 3/3 [00:00<00:00,  9.91it/s]\n",
      "Parsing signal channels: 100%|██████████████| 56/56 [00:00<00:00, 147260.83it/s]\n",
      "Parsing spike channels: 0it [00:00, ?it/s]\n",
      "Parsing event channels: 100%|██████████████████| 4/4 [00:00<00:00, 88768.34it/s]\n"
     ]
    },
    {
     "name": "stdout",
     "output_type": "stream",
     "text": [
      "Day: 5, Mouse: 7\n"
     ]
    },
    {
     "name": "stderr",
     "output_type": "stream",
     "text": [
      "Parsing data blocks:  99%|███▉| 12729280/12811664 [00:00<00:00, 18908919.95it/s]\n",
      "Finalizing data blocks:   0%|                             | 0/3 [00:00<?, ?it/s]\n",
      "Finalizing data blocks for type 1: 100%|████| 56/56 [00:00<00:00, 495529.59it/s]\u001b[A\n",
      "\n",
      "Finalizing data blocks for type 4: 100%|█████████| 4/4 [00:00<00:00, 242.92it/s]\u001b[A\n",
      "\n",
      "Finalizing data blocks for type 5:   0%|                 | 0/56 [00:00<?, ?it/s]\u001b[A\n",
      "Finalizing data blocks for type 5:   2%|▏        | 1/56 [00:00<00:10,  5.02it/s]\u001b[A\n",
      "Finalizing data blocks for type 5:   5%|▍        | 3/56 [00:00<00:07,  7.19it/s]\u001b[A\n",
      "Finalizing data blocks for type 5: 100%|████████| 56/56 [00:00<00:00, 82.79it/s]\u001b[A\n",
      "Finalizing data blocks: 100%|█████████████████████| 3/3 [00:00<00:00,  4.29it/s]\n",
      "Parsing signal channels: 100%|███████████████| 56/56 [00:00<00:00, 44944.70it/s]\n",
      "Parsing spike channels: 0it [00:00, ?it/s]\n",
      "Parsing event channels: 100%|██████████████████| 4/4 [00:00<00:00, 42581.77it/s]\n"
     ]
    },
    {
     "name": "stdout",
     "output_type": "stream",
     "text": [
      "Day: 5, Mouse: 14\n"
     ]
    },
    {
     "name": "stderr",
     "output_type": "stream",
     "text": [
      "Parsing data blocks:  99%|█████▉| 9083584/9165968 [00:00<00:00, 19336062.10it/s]\n",
      "Finalizing data blocks:   0%|                             | 0/3 [00:00<?, ?it/s]\n",
      "Finalizing data blocks for type 1: 100%|████| 56/56 [00:00<00:00, 652447.29it/s]\u001b[A\n",
      "\n",
      "Finalizing data blocks for type 4: 100%|█████████| 4/4 [00:00<00:00, 243.09it/s]\u001b[A\n",
      "\n",
      "Finalizing data blocks for type 5:   0%|                 | 0/56 [00:00<?, ?it/s]\u001b[A\n",
      "Finalizing data blocks for type 5:   2%|▏        | 1/56 [00:00<00:07,  7.14it/s]\u001b[A\n",
      "Finalizing data blocks for type 5:   5%|▍        | 3/56 [00:00<00:04, 11.39it/s]\u001b[A\n",
      "Finalizing data blocks for type 5: 100%|███████| 56/56 [00:00<00:00, 131.33it/s]\u001b[A\n",
      "Finalizing data blocks: 100%|█████████████████████| 3/3 [00:00<00:00,  6.72it/s]\n",
      "Parsing signal channels: 100%|███████████████| 56/56 [00:00<00:00, 93503.59it/s]\n",
      "Parsing spike channels: 0it [00:00, ?it/s]\n",
      "Parsing event channels: 100%|██████████████████| 4/4 [00:00<00:00, 90687.65it/s]\n"
     ]
    },
    {
     "name": "stdout",
     "output_type": "stream",
     "text": [
      "Day: 5, Mouse: 3\n"
     ]
    },
    {
     "name": "stderr",
     "output_type": "stream",
     "text": [
      "Parsing data blocks:  99%|█████▉| 6136768/6219152 [00:00<00:00, 21367206.03it/s]\n",
      "Finalizing data blocks:   0%|                             | 0/3 [00:00<?, ?it/s]\n",
      "Finalizing data blocks for type 1: 100%|████| 56/56 [00:00<00:00, 533820.51it/s]\u001b[A\n",
      "\n",
      "Finalizing data blocks for type 4: 100%|█████████| 4/4 [00:00<00:00, 251.26it/s]\u001b[A\n",
      "\n",
      "Finalizing data blocks for type 5:   0%|                 | 0/56 [00:00<?, ?it/s]\u001b[A\n",
      "Finalizing data blocks for type 5: 100%|███████| 56/56 [00:00<00:00, 201.32it/s]\u001b[A\n",
      "Finalizing data blocks: 100%|█████████████████████| 3/3 [00:00<00:00, 10.05it/s]\n",
      "Parsing signal channels: 100%|██████████████| 56/56 [00:00<00:00, 168615.24it/s]\n",
      "Parsing spike channels: 0it [00:00, ?it/s]\n",
      "Parsing event channels: 100%|██████████████████| 4/4 [00:00<00:00, 84733.41it/s]\n"
     ]
    },
    {
     "name": "stdout",
     "output_type": "stream",
     "text": [
      "Day: 5, Mouse: 30\n"
     ]
    },
    {
     "name": "stderr",
     "output_type": "stream",
     "text": [
      "Parsing data blocks:  99%|█████▉| 8178880/8261264 [00:00<00:00, 19361633.05it/s]\n",
      "Finalizing data blocks:   0%|                             | 0/3 [00:00<?, ?it/s]\n",
      "Finalizing data blocks for type 1: 100%|████| 56/56 [00:00<00:00, 643509.65it/s]\u001b[A\n",
      "\n",
      "Finalizing data blocks for type 4: 100%|█████████| 4/4 [00:00<00:00, 245.97it/s]\u001b[A\n",
      "\n",
      "Finalizing data blocks for type 5:   0%|                 | 0/56 [00:00<?, ?it/s]\u001b[A\n",
      "Finalizing data blocks for type 5:   2%|▏        | 1/56 [00:00<00:07,  7.83it/s]\u001b[A\n",
      "Finalizing data blocks for type 5:   5%|▍        | 3/56 [00:00<00:04, 12.11it/s]\u001b[A\n",
      "Finalizing data blocks for type 5: 100%|███████| 56/56 [00:00<00:00, 144.44it/s]\u001b[A\n",
      "Finalizing data blocks: 100%|█████████████████████| 3/3 [00:00<00:00,  7.36it/s]\n",
      "Parsing signal channels: 100%|██████████████| 56/56 [00:00<00:00, 156378.84it/s]\n",
      "Parsing spike channels: 0it [00:00, ?it/s]\n",
      "Parsing event channels: 100%|██████████████████| 4/4 [00:00<00:00, 93206.76it/s]\n"
     ]
    },
    {
     "name": "stdout",
     "output_type": "stream",
     "text": [
      "Day: 5, Mouse: 29\n"
     ]
    },
    {
     "name": "stderr",
     "output_type": "stream",
     "text": [
      "Parsing data blocks: 100%|███▉| 17312704/17395088 [00:00<00:00, 17569500.03it/s]\n",
      "Finalizing data blocks:   0%|                             | 0/3 [00:00<?, ?it/s]\n",
      "Finalizing data blocks for type 1: 100%|████| 56/56 [00:00<00:00, 614871.79it/s]\u001b[A\n",
      "\n",
      "Finalizing data blocks for type 4: 100%|█████████| 4/4 [00:00<00:00, 237.32it/s]\u001b[A\n",
      "\n",
      "Finalizing data blocks for type 5:   0%|                 | 0/56 [00:00<?, ?it/s]\u001b[A\n",
      "Finalizing data blocks for type 5:   2%|▏        | 1/56 [00:00<00:14,  3.70it/s]\u001b[A\n",
      "Finalizing data blocks for type 5:   5%|▍        | 3/56 [00:00<00:08,  5.92it/s]\u001b[A\n",
      "Finalizing data blocks for type 5: 100%|████████| 56/56 [00:00<00:00, 68.60it/s]\u001b[A\n",
      "Finalizing data blocks: 100%|█████████████████████| 3/3 [00:00<00:00,  3.58it/s]\n",
      "Parsing signal channels: 100%|███████████████| 56/56 [00:00<00:00, 87773.18it/s]\n",
      "Parsing spike channels: 0it [00:00, ?it/s]\n",
      "Parsing event channels: 100%|██████████████████| 4/4 [00:00<00:00, 81442.80it/s]\n"
     ]
    },
    {
     "name": "stdout",
     "output_type": "stream",
     "text": [
      "Day: 5, Mouse: 34\n"
     ]
    },
    {
     "name": "stderr",
     "output_type": "stream",
     "text": [
      "Parsing data blocks: 100%|███▉| 23347648/23430032 [00:01<00:00, 20490277.33it/s]\n",
      "Finalizing data blocks:   0%|                             | 0/3 [00:00<?, ?it/s]\n",
      "Finalizing data blocks for type 1: 100%|████| 56/56 [00:00<00:00, 462364.22it/s]\u001b[A\n",
      "\n",
      "Finalizing data blocks for type 4: 100%|█████████| 4/4 [00:00<00:00, 229.29it/s]\u001b[A\n",
      "\n",
      "Finalizing data blocks for type 5:   0%|                 | 0/56 [00:00<?, ?it/s]\u001b[A\n",
      "Finalizing data blocks for type 5:   2%|▏        | 1/56 [00:00<00:26,  2.07it/s]\u001b[A\n",
      "Finalizing data blocks for type 5:   5%|▍        | 3/56 [00:00<00:13,  3.92it/s]\u001b[A\n",
      "Finalizing data blocks for type 5: 100%|████████| 56/56 [00:01<00:00, 46.82it/s]\u001b[A\n",
      "Finalizing data blocks: 100%|█████████████████████| 3/3 [00:01<00:00,  2.46it/s]\n",
      "Parsing signal channels: 100%|███████████████| 56/56 [00:00<00:00, 94291.86it/s]\n",
      "Parsing spike channels: 0it [00:00, ?it/s]\n",
      "Parsing event channels: 100%|██████████████████| 4/4 [00:00<00:00, 98112.37it/s]\n"
     ]
    },
    {
     "name": "stdout",
     "output_type": "stream",
     "text": [
      "Day: 5, Mouse: 33\n"
     ]
    },
    {
     "name": "stderr",
     "output_type": "stream",
     "text": [
      "Parsing data blocks:  99%|█████▉| 9329344/9411728 [00:00<00:00, 16785254.78it/s]\n",
      "Finalizing data blocks:   0%|                             | 0/3 [00:00<?, ?it/s]\n",
      "Finalizing data blocks for type 1: 100%|████| 56/56 [00:00<00:00, 602259.04it/s]\u001b[A\n",
      "\n",
      "Finalizing data blocks for type 4: 100%|█████████| 4/4 [00:00<00:00, 260.57it/s]\u001b[A\n",
      "\n",
      "Finalizing data blocks for type 5:   0%|                 | 0/56 [00:00<?, ?it/s]\u001b[A\n",
      "Finalizing data blocks for type 5:   2%|▏        | 1/56 [00:00<00:08,  6.57it/s]\u001b[A\n",
      "Finalizing data blocks for type 5:   5%|▍        | 3/56 [00:00<00:05, 10.19it/s]\u001b[A\n",
      "Finalizing data blocks for type 5: 100%|███████| 56/56 [00:00<00:00, 121.19it/s]\u001b[A\n",
      "Finalizing data blocks: 100%|█████████████████████| 3/3 [00:00<00:00,  6.23it/s]\n",
      "Parsing signal channels: 100%|██████████████| 56/56 [00:00<00:00, 112923.57it/s]\n",
      "Parsing spike channels: 0it [00:00, ?it/s]\n",
      "Parsing event channels: 100%|██████████████████| 4/4 [00:00<00:00, 97541.95it/s]\n"
     ]
    },
    {
     "name": "stdout",
     "output_type": "stream",
     "text": [
      "Day: 5, Mouse: 21\n"
     ]
    },
    {
     "name": "stderr",
     "output_type": "stream",
     "text": [
      "Parsing data blocks:  99%|█████▉| 8321728/8404112 [00:00<00:00, 17317226.47it/s]\n",
      "Finalizing data blocks:   0%|                             | 0/3 [00:00<?, ?it/s]\n",
      "Finalizing data blocks for type 1: 100%|████| 56/56 [00:00<00:00, 606927.71it/s]\u001b[A\n",
      "\n",
      "Finalizing data blocks for type 4: 100%|█████████| 4/4 [00:00<00:00, 255.31it/s]\u001b[A\n",
      "\n",
      "Finalizing data blocks for type 5:   0%|                 | 0/56 [00:00<?, ?it/s]\u001b[A\n",
      "Finalizing data blocks for type 5:   2%|▏        | 1/56 [00:00<00:07,  7.41it/s]\u001b[A\n",
      "Finalizing data blocks for type 5:   5%|▍        | 3/56 [00:00<00:04, 11.59it/s]\u001b[A\n",
      "Finalizing data blocks for type 5: 100%|███████| 56/56 [00:00<00:00, 136.07it/s]\u001b[A\n",
      "Finalizing data blocks: 100%|█████████████████████| 3/3 [00:00<00:00,  6.96it/s]\n",
      "Parsing signal channels: 100%|██████████████| 56/56 [00:00<00:00, 114075.29it/s]\n",
      "Parsing spike channels: 0it [00:00, ?it/s]\n",
      "Parsing event channels: 100%|██████████████████| 4/4 [00:00<00:00, 93206.76it/s]\n"
     ]
    },
    {
     "name": "stdout",
     "output_type": "stream",
     "text": [
      "Day: 5, Mouse: 13\n"
     ]
    },
    {
     "name": "stderr",
     "output_type": "stream",
     "text": [
      "Parsing data blocks: 100%|███▉| 28757440/28839824 [00:01<00:00, 18541223.60it/s]\n",
      "Finalizing data blocks:   0%|                             | 0/3 [00:00<?, ?it/s]\n",
      "Finalizing data blocks for type 1: 100%|████| 56/56 [00:00<00:00, 602259.04it/s]\u001b[A\n",
      "\n",
      "Finalizing data blocks for type 4: 100%|█████████| 4/4 [00:00<00:00, 288.21it/s]\u001b[A\n",
      "\n",
      "Finalizing data blocks for type 5:   0%|                 | 0/56 [00:00<?, ?it/s]\u001b[A\n",
      "Finalizing data blocks for type 5:   2%|▏        | 1/56 [00:00<00:25,  2.16it/s]\u001b[A\n",
      "Finalizing data blocks for type 5:   5%|▍        | 3/56 [00:00<00:15,  3.50it/s]\u001b[A\n",
      "Finalizing data blocks for type 5: 100%|████████| 56/56 [00:01<00:00, 41.41it/s]\u001b[A\n",
      "Finalizing data blocks: 100%|█████████████████████| 3/3 [00:01<00:00,  2.19it/s]\n",
      "Parsing signal channels: 100%|███████████████| 56/56 [00:00<00:00, 98565.26it/s]\n",
      "Parsing spike channels: 0it [00:00, ?it/s]\n",
      "Parsing event channels: 100%|█████████████████| 4/4 [00:00<00:00, 102300.10it/s]\n"
     ]
    },
    {
     "name": "stdout",
     "output_type": "stream",
     "text": [
      "Day: 5, Mouse: 22\n"
     ]
    },
    {
     "name": "stderr",
     "output_type": "stream",
     "text": [
      "Parsing data blocks:  99%|███▉| 11402944/11485328 [00:00<00:00, 18716419.23it/s]\n",
      "Finalizing data blocks:   0%|                             | 0/3 [00:00<?, ?it/s]\n",
      "Finalizing data blocks for type 1: 100%|████| 56/56 [00:00<00:00, 596144.73it/s]\u001b[A\n",
      "\n",
      "Finalizing data blocks for type 4: 100%|█████████| 4/4 [00:00<00:00, 244.26it/s]\u001b[A\n",
      "\n",
      "Finalizing data blocks for type 5:   0%|                 | 0/56 [00:00<?, ?it/s]\u001b[A\n",
      "Finalizing data blocks for type 5:   2%|▏        | 1/56 [00:00<00:10,  5.46it/s]\u001b[A\n",
      "Finalizing data blocks for type 5:   5%|▍        | 3/56 [00:00<00:06,  8.79it/s]\u001b[A\n",
      "Finalizing data blocks for type 5: 100%|███████| 56/56 [00:00<00:00, 103.89it/s]\u001b[A\n",
      "Finalizing data blocks: 100%|█████████████████████| 3/3 [00:00<00:00,  5.36it/s]\n",
      "Parsing signal channels: 100%|███████████████| 56/56 [00:00<00:00, 99991.92it/s]\n",
      "Parsing spike channels: 0it [00:00, ?it/s]\n",
      "Parsing event channels: 100%|██████████████████| 4/4 [00:00<00:00, 93206.76it/s]\n"
     ]
    },
    {
     "name": "stdout",
     "output_type": "stream",
     "text": [
      "Day: 5, Mouse: 4\n"
     ]
    },
    {
     "name": "stderr",
     "output_type": "stream",
     "text": [
      "Parsing data blocks:  99%|█████▉| 6785728/6868112 [00:00<00:00, 20530273.87it/s]\n",
      "Finalizing data blocks:   0%|                             | 0/3 [00:00<?, ?it/s]\n",
      "Finalizing data blocks for type 1: 100%|████| 56/56 [00:00<00:00, 548787.44it/s]\u001b[A\n",
      "\n",
      "Finalizing data blocks for type 4: 100%|█████████| 4/4 [00:00<00:00, 254.83it/s]\u001b[A\n",
      "\n",
      "Finalizing data blocks for type 5:   0%|                 | 0/56 [00:00<?, ?it/s]\u001b[A\n",
      "Finalizing data blocks for type 5:   2%|▏        | 1/56 [00:00<00:05,  9.44it/s]\u001b[A\n",
      "Finalizing data blocks for type 5:   5%|▍        | 3/56 [00:00<00:03, 14.85it/s]\u001b[A\n",
      "Finalizing data blocks for type 5: 100%|███████| 56/56 [00:00<00:00, 175.07it/s]\u001b[A\n",
      "Finalizing data blocks: 100%|█████████████████████| 3/3 [00:00<00:00,  8.82it/s]\n",
      "Parsing signal channels: 100%|███████████████| 56/56 [00:00<00:00, 75185.99it/s]\n",
      "Parsing spike channels: 0it [00:00, ?it/s]\n",
      "Parsing event channels: 100%|██████████████████| 4/4 [00:00<00:00, 93206.76it/s]\n"
     ]
    },
    {
     "name": "stdout",
     "output_type": "stream",
     "text": [
      "Day: 5, Mouse: 17\n"
     ]
    },
    {
     "name": "stderr",
     "output_type": "stream",
     "text": [
      "Parsing data blocks:  99%|███▉| 16308160/16390544 [00:00<00:00, 19764592.48it/s]\n",
      "Finalizing data blocks:   0%|                             | 0/3 [00:00<?, ?it/s]\n",
      "Finalizing data blocks for type 1: 100%|████| 56/56 [00:00<00:00, 527822.53it/s]\u001b[A\n",
      "\n",
      "Finalizing data blocks for type 4: 100%|█████████| 4/4 [00:00<00:00, 236.47it/s]\u001b[A\n",
      "\n",
      "Finalizing data blocks for type 5:   0%|                 | 0/56 [00:00<?, ?it/s]\u001b[A\n",
      "Finalizing data blocks for type 5:   2%|▏        | 1/56 [00:00<00:14,  3.89it/s]\u001b[A\n",
      "Finalizing data blocks for type 5:   5%|▍        | 3/56 [00:00<00:08,  6.26it/s]\u001b[A\n",
      "Finalizing data blocks for type 5: 100%|████████| 56/56 [00:00<00:00, 73.59it/s]\u001b[A\n",
      "Finalizing data blocks: 100%|█████████████████████| 3/3 [00:00<00:00,  3.83it/s]\n",
      "Parsing signal channels: 100%|██████████████| 56/56 [00:00<00:00, 108140.43it/s]\n",
      "Parsing spike channels: 0it [00:00, ?it/s]\n",
      "Parsing event channels: 100%|██████████████████| 4/4 [00:00<00:00, 98112.37it/s]\n"
     ]
    },
    {
     "name": "stdout",
     "output_type": "stream",
     "text": [
      "Day: 5, Mouse: 32\n"
     ]
    },
    {
     "name": "stderr",
     "output_type": "stream",
     "text": [
      "Parsing data blocks:  99%|█████▉| 9205696/9288080 [00:00<00:00, 19526145.14it/s]\n",
      "Finalizing data blocks:   0%|                             | 0/3 [00:00<?, ?it/s]\n",
      "Finalizing data blocks for type 1: 100%|████| 56/56 [00:00<00:00, 600718.73it/s]\u001b[A\n",
      "\n",
      "Finalizing data blocks for type 4: 100%|█████████| 4/4 [00:00<00:00, 247.29it/s]\u001b[A\n",
      "\n",
      "Finalizing data blocks for type 5:   0%|                 | 0/56 [00:00<?, ?it/s]\u001b[A\n",
      "Finalizing data blocks for type 5:   2%|▏        | 1/56 [00:00<00:07,  7.13it/s]\u001b[A\n",
      "Finalizing data blocks for type 5:   5%|▍        | 3/56 [00:00<00:04, 11.21it/s]\u001b[A\n",
      "Finalizing data blocks for type 5: 100%|███████| 56/56 [00:00<00:00, 132.25it/s]\u001b[A\n",
      "Finalizing data blocks: 100%|█████████████████████| 3/3 [00:00<00:00,  6.76it/s]\n",
      "Parsing signal channels: 100%|███████████████| 56/56 [00:00<00:00, 96539.67it/s]\n",
      "Parsing spike channels: 0it [00:00, ?it/s]\n",
      "Parsing event channels: 100%|██████████████████| 4/4 [00:00<00:00, 93206.76it/s]\n"
     ]
    },
    {
     "name": "stdout",
     "output_type": "stream",
     "text": [
      "Day: 5, Mouse: 1\n"
     ]
    },
    {
     "name": "stderr",
     "output_type": "stream",
     "text": [
      "Parsing data blocks:  99%|█████▉| 9340864/9423248 [00:00<00:00, 19980836.01it/s]\n",
      "Finalizing data blocks:   0%|                             | 0/3 [00:00<?, ?it/s]\n",
      "Finalizing data blocks for type 1: 100%|████| 56/56 [00:00<00:00, 301129.52it/s]\u001b[A\n",
      "\n",
      "Finalizing data blocks for type 4: 100%|█████████| 4/4 [00:00<00:00, 139.50it/s]\u001b[A\n",
      "\n",
      "Finalizing data blocks for type 5:   0%|                 | 0/56 [00:00<?, ?it/s]\u001b[A\n",
      "Finalizing data blocks for type 5:   2%|▏        | 1/56 [00:00<00:13,  4.23it/s]\u001b[A\n",
      "Finalizing data blocks for type 5:   5%|▍        | 3/56 [00:00<00:06,  8.38it/s]\u001b[A\n",
      "Finalizing data blocks for type 5: 100%|███████| 56/56 [00:00<00:00, 102.72it/s]\u001b[A\n",
      "Finalizing data blocks: 100%|█████████████████████| 3/3 [00:00<00:00,  5.14it/s]\n",
      "Parsing signal channels: 100%|███████████████| 56/56 [00:00<00:00, 77136.63it/s]\n",
      "Parsing spike channels: 0it [00:00, ?it/s]\n",
      "Parsing event channels: 100%|██████████████████| 4/4 [00:00<00:00, 83468.74it/s]\n"
     ]
    },
    {
     "name": "stdout",
     "output_type": "stream",
     "text": [
      "Day: 5, Mouse: 16\n"
     ]
    },
    {
     "name": "stderr",
     "output_type": "stream",
     "text": [
      "Parsing data blocks:  99%|█████▉| 9421504/9503888 [00:00<00:00, 20908558.00it/s]\n",
      "Finalizing data blocks:   0%|                             | 0/3 [00:00<?, ?it/s]\n",
      "Finalizing data blocks for type 1: 100%|████| 56/56 [00:00<00:00, 518501.16it/s]\u001b[A\n",
      "\n",
      "Finalizing data blocks for type 4: 100%|█████████| 4/4 [00:00<00:00, 233.13it/s]\u001b[A\n",
      "\n",
      "Finalizing data blocks for type 5:   0%|                 | 0/56 [00:00<?, ?it/s]\u001b[A\n",
      "Finalizing data blocks for type 5:   2%|▏        | 1/56 [00:00<00:08,  6.77it/s]\u001b[A\n",
      "Finalizing data blocks for type 5:   5%|▍        | 3/56 [00:00<00:05, 10.60it/s]\u001b[A\n",
      "Finalizing data blocks for type 5: 100%|███████| 56/56 [00:00<00:00, 125.76it/s]\u001b[A\n",
      "Finalizing data blocks: 100%|█████████████████████| 3/3 [00:00<00:00,  6.43it/s]\n",
      "Parsing signal channels: 100%|███████████████| 56/56 [00:00<00:00, 97420.58it/s]\n",
      "Parsing spike channels: 0it [00:00, ?it/s]\n",
      "Parsing event channels: 100%|██████████████████| 4/4 [00:00<00:00, 86928.58it/s]\n"
     ]
    },
    {
     "name": "stdout",
     "output_type": "stream",
     "text": [
      "Day: 5, Mouse: 5\n"
     ]
    },
    {
     "name": "stderr",
     "output_type": "stream",
     "text": [
      "Parsing data blocks: 100%|███▉| 21923776/22006160 [00:01<00:00, 19366885.91it/s]\n",
      "Finalizing data blocks:   0%|                             | 0/3 [00:00<?, ?it/s]\n",
      "Finalizing data blocks for type 1: 100%|████| 56/56 [00:00<00:00, 572880.55it/s]\u001b[A\n",
      "\n",
      "Finalizing data blocks for type 4: 100%|█████████| 4/4 [00:00<00:00, 240.30it/s]\u001b[A\n",
      "\n",
      "Finalizing data blocks for type 5:   0%|                 | 0/56 [00:00<?, ?it/s]\u001b[A\n",
      "Finalizing data blocks for type 5:   2%|▏        | 1/56 [00:00<00:18,  2.92it/s]\u001b[A\n",
      "Finalizing data blocks for type 5:   5%|▍        | 3/56 [00:00<00:11,  4.57it/s]\u001b[A\n",
      "Finalizing data blocks for type 5: 100%|████████| 56/56 [00:01<00:00, 53.88it/s]\u001b[A\n",
      "Finalizing data blocks: 100%|█████████████████████| 3/3 [00:01<00:00,  2.83it/s]\n",
      "Parsing signal channels: 100%|██████████████| 56/56 [00:00<00:00, 101812.32it/s]\n",
      "Parsing spike channels: 0it [00:00, ?it/s]\n",
      "Parsing event channels: 100%|██████████████████| 4/4 [00:00<00:00, 93206.76it/s]\n"
     ]
    },
    {
     "name": "stdout",
     "output_type": "stream",
     "text": [
      "Day: 5, Mouse: 23\n"
     ]
    },
    {
     "name": "stderr",
     "output_type": "stream",
     "text": [
      "Parsing data blocks: 100%|███▉| 16730560/16812944 [00:00<00:00, 18020060.98it/s]\n",
      "Finalizing data blocks:   0%|                             | 0/3 [00:00<?, ?it/s]\n",
      "Finalizing data blocks for type 1: 100%|████| 56/56 [00:00<00:00, 610080.58it/s]\u001b[A\n",
      "\n",
      "Finalizing data blocks for type 4: 100%|█████████| 4/4 [00:00<00:00, 282.59it/s]\u001b[A\n",
      "\n",
      "Finalizing data blocks for type 5:   0%|                 | 0/56 [00:00<?, ?it/s]\u001b[A\n",
      "Finalizing data blocks for type 5:   2%|▏        | 1/56 [00:00<00:14,  3.81it/s]\u001b[A\n",
      "Finalizing data blocks for type 5:   5%|▍        | 3/56 [00:00<00:08,  6.07it/s]\u001b[A\n",
      "Finalizing data blocks for type 5: 100%|████████| 56/56 [00:00<00:00, 70.75it/s]\u001b[A\n",
      "Finalizing data blocks: 100%|█████████████████████| 3/3 [00:00<00:00,  3.70it/s]\n",
      "Parsing signal channels: 100%|███████████████| 56/56 [00:00<00:00, 66256.99it/s]\n",
      "Parsing spike channels: 0it [00:00, ?it/s]\n",
      "Parsing event channels: 100%|██████████████████| 4/4 [00:00<00:00, 85163.53it/s]\n"
     ]
    },
    {
     "name": "stdout",
     "output_type": "stream",
     "text": [
      "Day: 5, Mouse: 12\n"
     ]
    },
    {
     "name": "stderr",
     "output_type": "stream",
     "text": [
      "Parsing data blocks:  99%|███▉| 14683840/14766224 [00:00<00:00, 18488612.32it/s]\n",
      "Finalizing data blocks:   0%|                             | 0/3 [00:00<?, ?it/s]\n",
      "Finalizing data blocks for type 1: 100%|████| 56/56 [00:00<00:00, 510610.92it/s]\u001b[A\n",
      "\n",
      "Finalizing data blocks for type 4: 100%|█████████| 4/4 [00:00<00:00, 239.79it/s]\u001b[A\n",
      "\n",
      "Finalizing data blocks for type 5:   0%|                 | 0/56 [00:00<?, ?it/s]\u001b[A\n",
      "Finalizing data blocks for type 5:   2%|▏        | 1/56 [00:00<00:12,  4.36it/s]\u001b[A\n",
      "Finalizing data blocks for type 5:   5%|▍        | 3/56 [00:00<00:07,  6.97it/s]\u001b[A\n",
      "Finalizing data blocks for type 5: 100%|████████| 56/56 [00:00<00:00, 81.75it/s]\u001b[A\n",
      "Finalizing data blocks: 100%|█████████████████████| 3/3 [00:00<00:00,  4.25it/s]\n",
      "Parsing signal channels: 100%|██████████████| 56/56 [00:00<00:00, 116162.72it/s]\n",
      "Parsing spike channels: 0it [00:00, ?it/s]\n",
      "Parsing event channels: 100%|██████████████████| 4/4 [00:00<00:00, 90687.65it/s]\n"
     ]
    },
    {
     "name": "stdout",
     "output_type": "stream",
     "text": [
      "Day: 5, Mouse: 18\n"
     ]
    },
    {
     "name": "stderr",
     "output_type": "stream",
     "text": [
      "Parsing data blocks:  99%|███▉| 12922816/13005200 [00:00<00:00, 19278226.72it/s]\n",
      "Finalizing data blocks:   0%|                             | 0/3 [00:00<?, ?it/s]\n",
      "Finalizing data blocks for type 1: 100%|████| 56/56 [00:00<00:00, 508400.48it/s]\u001b[A\n",
      "\n",
      "Finalizing data blocks for type 4: 100%|█████████| 4/4 [00:00<00:00, 233.67it/s]\u001b[A\n",
      "\n",
      "Finalizing data blocks for type 5:   0%|                 | 0/56 [00:00<?, ?it/s]\u001b[A\n",
      "Finalizing data blocks for type 5:   2%|▏        | 1/56 [00:00<00:12,  4.26it/s]\u001b[A\n",
      "Finalizing data blocks for type 5:   5%|▍        | 3/56 [00:00<00:07,  7.33it/s]\u001b[A\n",
      "Finalizing data blocks for type 5: 100%|████████| 56/56 [00:00<00:00, 88.28it/s]\u001b[A\n",
      "Finalizing data blocks: 100%|█████████████████████| 3/3 [00:00<00:00,  4.57it/s]\n",
      "Parsing signal channels: 100%|███████████████| 56/56 [00:00<00:00, 68880.07it/s]\n",
      "Parsing spike channels: 0it [00:00, ?it/s]\n",
      "Parsing event channels: 100%|█████████████████| 4/4 [00:00<00:00, 102927.71it/s]\n"
     ]
    },
    {
     "name": "stdout",
     "output_type": "stream",
     "text": [
      "Day: 5, Mouse: 25\n"
     ]
    },
    {
     "name": "stderr",
     "output_type": "stream",
     "text": [
      "Parsing data blocks:  99%|█████▉| 7689664/7772048 [00:00<00:00, 18395444.75it/s]\n",
      "Finalizing data blocks:   0%|                             | 0/3 [00:00<?, ?it/s]\n",
      "Finalizing data blocks for type 1: 100%|████| 56/56 [00:00<00:00, 581388.67it/s]\u001b[A\n",
      "\n",
      "Finalizing data blocks for type 4: 100%|█████████| 4/4 [00:00<00:00, 252.41it/s]\u001b[A\n",
      "\n",
      "Finalizing data blocks for type 5:   0%|                 | 0/56 [00:00<?, ?it/s]\u001b[A\n",
      "Finalizing data blocks for type 5:   2%|▏        | 1/56 [00:00<00:06,  8.43it/s]\u001b[A\n",
      "Finalizing data blocks for type 5:   5%|▍        | 3/56 [00:00<00:03, 13.47it/s]\u001b[A\n",
      "Finalizing data blocks for type 5: 100%|███████| 56/56 [00:00<00:00, 157.93it/s]\u001b[A\n",
      "Finalizing data blocks: 100%|█████████████████████| 3/3 [00:00<00:00,  8.02it/s]\n",
      "Parsing signal channels: 100%|██████████████| 56/56 [00:00<00:00, 134679.49it/s]\n",
      "Parsing spike channels: 0it [00:00, ?it/s]\n",
      "Parsing event channels: 100%|█████████████████| 4/4 [00:00<00:00, 100462.37it/s]\n"
     ]
    },
    {
     "name": "stdout",
     "output_type": "stream",
     "text": [
      "Day: 5, Mouse: 19\n"
     ]
    },
    {
     "name": "stderr",
     "output_type": "stream",
     "text": [
      "Parsing data blocks:  99%|█████▉| 7052992/7135376 [00:00<00:00, 19033741.02it/s]\n",
      "Finalizing data blocks:   0%|                             | 0/3 [00:00<?, ?it/s]\n",
      "Finalizing data blocks for type 1: 100%|████| 56/56 [00:00<00:00, 564617.85it/s]\u001b[A\n",
      "\n",
      "Finalizing data blocks for type 4: 100%|█████████| 4/4 [00:00<00:00, 246.58it/s]\u001b[A\n",
      "\n",
      "Finalizing data blocks for type 5:   0%|                 | 0/56 [00:00<?, ?it/s]\u001b[A\n",
      "Finalizing data blocks for type 5:   2%|▏        | 1/56 [00:00<00:05,  9.26it/s]\u001b[A\n",
      "Finalizing data blocks for type 5:   5%|▍        | 3/56 [00:00<00:03, 14.67it/s]\u001b[A\n",
      "Finalizing data blocks for type 5: 100%|███████| 56/56 [00:00<00:00, 171.50it/s]\u001b[A\n",
      "Finalizing data blocks: 100%|█████████████████████| 3/3 [00:00<00:00,  8.65it/s]\n",
      "Parsing signal channels: 100%|██████████████| 56/56 [00:00<00:00, 112437.06it/s]\n",
      "Parsing spike channels: 0it [00:00, ?it/s]\n",
      "Parsing event channels: 100%|██████████████████| 4/4 [00:00<00:00, 94786.53it/s]\n"
     ]
    },
    {
     "name": "stdout",
     "output_type": "stream",
     "text": [
      "Day: 5, Mouse: 20\n"
     ]
    },
    {
     "name": "stderr",
     "output_type": "stream",
     "text": [
      "Parsing data blocks:  99%|███▉| 12871360/12953744 [00:00<00:00, 17034084.56it/s]\n",
      "Finalizing data blocks:   0%|                             | 0/3 [00:00<?, ?it/s]\n",
      "Finalizing data blocks for type 1: 100%|████| 56/56 [00:00<00:00, 608500.06it/s]\u001b[A\n",
      "\n",
      "Finalizing data blocks for type 4: 100%|█████████| 4/4 [00:00<00:00, 252.05it/s]\u001b[A\n",
      "\n",
      "Finalizing data blocks for type 5:   0%|                 | 0/56 [00:00<?, ?it/s]\u001b[A\n",
      "Finalizing data blocks for type 5:   2%|▏        | 1/56 [00:00<00:11,  4.96it/s]\u001b[A\n",
      "Finalizing data blocks for type 5:   5%|▍        | 3/56 [00:00<00:06,  7.84it/s]\u001b[A\n",
      "Finalizing data blocks for type 5: 100%|████████| 56/56 [00:00<00:00, 92.37it/s]\u001b[A\n",
      "Finalizing data blocks: 100%|█████████████████████| 3/3 [00:00<00:00,  4.79it/s]\n",
      "Parsing signal channels: 100%|██████████████| 56/56 [00:00<00:00, 111318.02it/s]\n",
      "Parsing spike channels: 0it [00:00, ?it/s]\n",
      "Parsing event channels: 100%|██████████████████| 4/4 [00:00<00:00, 92691.80it/s]\n"
     ]
    },
    {
     "name": "stdout",
     "output_type": "stream",
     "text": [
      "Day: 5, Mouse: 27\n"
     ]
    },
    {
     "name": "stderr",
     "output_type": "stream",
     "text": [
      "Parsing data blocks:  99%|█████▉| 8855488/8937872 [00:00<00:00, 19135584.04it/s]\n",
      "Finalizing data blocks:   0%|                             | 0/3 [00:00<?, ?it/s]\n",
      "Finalizing data blocks for type 1: 100%|████| 56/56 [00:00<00:00, 539956.38it/s]\u001b[A\n",
      "\n",
      "Finalizing data blocks for type 4: 100%|█████████| 4/4 [00:00<00:00, 243.22it/s]\u001b[A\n",
      "\n",
      "Finalizing data blocks for type 5:   0%|                 | 0/56 [00:00<?, ?it/s]\u001b[A\n",
      "Finalizing data blocks for type 5:   2%|▏        | 1/56 [00:00<00:07,  7.18it/s]\u001b[A\n",
      "Finalizing data blocks for type 5:   5%|▍        | 3/56 [00:00<00:04, 11.52it/s]\u001b[A\n",
      "Finalizing data blocks for type 5: 100%|███████| 56/56 [00:00<00:00, 135.23it/s]\u001b[A\n",
      "Finalizing data blocks: 100%|█████████████████████| 3/3 [00:00<00:00,  6.90it/s]\n",
      "Parsing signal channels: 100%|██████████████| 56/56 [00:00<00:00, 114075.29it/s]\n",
      "Parsing spike channels: 0it [00:00, ?it/s]\n",
      "Parsing event channels: 100%|██████████████████| 4/4 [00:00<00:00, 95325.09it/s]\n"
     ]
    },
    {
     "name": "stdout",
     "output_type": "stream",
     "text": [
      "Day: 5, Mouse: 9\n"
     ]
    },
    {
     "name": "stderr",
     "output_type": "stream",
     "text": [
      "Parsing data blocks:  99%|███▉| 15174592/15256976 [00:00<00:00, 16885876.06it/s]\n",
      "Finalizing data blocks:   0%|                             | 0/3 [00:00<?, ?it/s]\n",
      "Finalizing data blocks for type 1: 100%|████| 56/56 [00:00<00:00, 600718.73it/s]\u001b[A\n",
      "\n",
      "Finalizing data blocks for type 4: 100%|█████████| 4/4 [00:00<00:00, 242.20it/s]\u001b[A\n",
      "\n",
      "Finalizing data blocks for type 5:   0%|                 | 0/56 [00:00<?, ?it/s]\u001b[A\n",
      "Finalizing data blocks for type 5:   2%|▏        | 1/56 [00:00<00:13,  4.16it/s]\u001b[A\n",
      "Finalizing data blocks for type 5:   5%|▍        | 3/56 [00:00<00:08,  6.57it/s]\u001b[A\n",
      "Finalizing data blocks for type 5: 100%|████████| 56/56 [00:00<00:00, 77.25it/s]\u001b[A\n",
      "Finalizing data blocks: 100%|█████████████████████| 3/3 [00:00<00:00,  4.02it/s]\n",
      "Parsing signal channels: 100%|███████████████| 56/56 [00:00<00:00, 99273.47it/s]\n",
      "Parsing spike channels: 0it [00:00, ?it/s]\n",
      "Parsing event channels: 100%|██████████████████| 4/4 [00:00<00:00, 99864.38it/s]\n"
     ]
    },
    {
     "name": "stdout",
     "output_type": "stream",
     "text": [
      "Day: 5, Mouse: 26\n"
     ]
    },
    {
     "name": "stderr",
     "output_type": "stream",
     "text": [
      "Parsing data blocks:  99%|███▉| 15262912/15345296 [00:00<00:00, 18316738.14it/s]\n",
      "Finalizing data blocks:   0%|                             | 0/3 [00:00<?, ?it/s]\n",
      "Finalizing data blocks for type 1: 100%|████| 56/56 [00:00<00:00, 582831.33it/s]\u001b[A\n",
      "\n",
      "Finalizing data blocks for type 4: 100%|█████████| 4/4 [00:00<00:00, 259.72it/s]\u001b[A\n",
      "\n",
      "Finalizing data blocks for type 5:   0%|                 | 0/56 [00:00<?, ?it/s]\u001b[A\n",
      "Finalizing data blocks for type 5:   2%|▏        | 1/56 [00:00<00:13,  4.15it/s]\u001b[A\n",
      "Finalizing data blocks for type 5:   5%|▍        | 3/56 [00:00<00:08,  6.58it/s]\u001b[A\n",
      "Finalizing data blocks for type 5: 100%|████████| 56/56 [00:00<00:00, 77.57it/s]\u001b[A\n",
      "Finalizing data blocks: 100%|█████████████████████| 3/3 [00:00<00:00,  4.05it/s]\n",
      "Parsing signal channels: 100%|██████████████| 56/56 [00:00<00:00, 106618.71it/s]\n",
      "Parsing spike channels: 0it [00:00, ?it/s]\n",
      "Parsing event channels: 100%|██████████████████| 4/4 [00:00<00:00, 90687.65it/s]\n"
     ]
    },
    {
     "name": "stdout",
     "output_type": "stream",
     "text": [
      "Day: 5, Mouse: 8\n"
     ]
    },
    {
     "name": "stderr",
     "output_type": "stream",
     "text": [
      "Parsing data blocks:  99%|█████▉| 8393152/8475536 [00:00<00:00, 17284578.06it/s]\n",
      "Finalizing data blocks:   0%|                             | 0/3 [00:00<?, ?it/s]\n",
      "Finalizing data blocks for type 1: 100%|████| 56/56 [00:00<00:00, 636533.94it/s]\u001b[A\n",
      "\n",
      "Finalizing data blocks for type 4: 100%|█████████| 4/4 [00:00<00:00, 241.01it/s]\u001b[A\n",
      "\n",
      "Finalizing data blocks for type 5:   0%|                 | 0/56 [00:00<?, ?it/s]\u001b[A\n",
      "Finalizing data blocks for type 5:   2%|▏        | 1/56 [00:00<00:07,  7.75it/s]\u001b[A\n",
      "Finalizing data blocks for type 5:   5%|▍        | 3/56 [00:00<00:04, 12.33it/s]\u001b[A\n",
      "Finalizing data blocks for type 5: 100%|███████| 56/56 [00:00<00:00, 144.75it/s]\u001b[A\n",
      "Finalizing data blocks: 100%|█████████████████████| 3/3 [00:00<00:00,  7.37it/s]\n",
      "Parsing signal channels: 100%|███████████████| 56/56 [00:00<00:00, 97541.95it/s]\n",
      "Parsing spike channels: 0it [00:00, ?it/s]\n",
      "Parsing event channels: 100%|██████████████████| 4/4 [00:00<00:00, 95325.09it/s]\n"
     ]
    },
    {
     "name": "stdout",
     "output_type": "stream",
     "text": [
      "Day: 6, Mouse: 16\n"
     ]
    },
    {
     "name": "stderr",
     "output_type": "stream",
     "text": [
      "Parsing data blocks:  99%|█████▉| 7986112/8068496 [00:00<00:00, 17141040.54it/s]\n",
      "Finalizing data blocks:   0%|                             | 0/3 [00:00<?, ?it/s]\n",
      "Finalizing data blocks for type 1: 100%|████| 56/56 [00:00<00:00, 588674.25it/s]\u001b[A\n",
      "\n",
      "Finalizing data blocks for type 4: 100%|█████████| 4/4 [00:00<00:00, 244.01it/s]\u001b[A\n",
      "\n",
      "Finalizing data blocks for type 5:   0%|                 | 0/56 [00:00<?, ?it/s]\u001b[A\n",
      "Finalizing data blocks for type 5:   2%|▏        | 1/56 [00:00<00:06,  8.16it/s]\u001b[A\n",
      "Finalizing data blocks for type 5:   5%|▍        | 3/56 [00:00<00:04, 13.05it/s]\u001b[A\n",
      "Finalizing data blocks for type 5: 100%|███████| 56/56 [00:00<00:00, 152.83it/s]\u001b[A\n",
      "Finalizing data blocks: 100%|█████████████████████| 3/3 [00:00<00:00,  7.76it/s]\n",
      "Parsing signal channels: 100%|██████████████| 56/56 [00:00<00:00, 114297.34it/s]\n",
      "Parsing spike channels: 0it [00:00, ?it/s]\n",
      "Parsing event channels: 100%|██████████████████| 4/4 [00:00<00:00, 92691.80it/s]\n"
     ]
    },
    {
     "name": "stdout",
     "output_type": "stream",
     "text": [
      "Day: 6, Mouse: 1\n"
     ]
    },
    {
     "name": "stderr",
     "output_type": "stream",
     "text": [
      "Parsing data blocks:  99%|█████▉| 6778816/6861200 [00:00<00:00, 17346495.37it/s]\n",
      "Finalizing data blocks:   0%|                             | 0/3 [00:00<?, ?it/s]\n",
      "Finalizing data blocks for type 1: 100%|████| 56/56 [00:00<00:00, 582831.33it/s]\u001b[A\n",
      "\n",
      "Finalizing data blocks for type 4: 100%|█████████| 4/4 [00:00<00:00, 252.80it/s]\u001b[A\n",
      "\n",
      "Finalizing data blocks for type 5:   0%|                 | 0/56 [00:00<?, ?it/s]\u001b[A\n",
      "Finalizing data blocks for type 5:   2%|▏        | 1/56 [00:00<00:05,  9.65it/s]\u001b[A\n",
      "Finalizing data blocks for type 5:   5%|▍        | 3/56 [00:00<00:03, 15.26it/s]\u001b[A\n",
      "Finalizing data blocks for type 5: 100%|███████| 56/56 [00:00<00:00, 179.46it/s]\u001b[A\n",
      "Finalizing data blocks: 100%|█████████████████████| 3/3 [00:00<00:00,  9.04it/s]\n",
      "Parsing signal channels: 100%|██████████████| 56/56 [00:00<00:00, 132701.14it/s]\n",
      "Parsing spike channels: 0it [00:00, ?it/s]\n",
      "Parsing event channels: 100%|██████████████████| 4/4 [00:00<00:00, 85163.53it/s]\n"
     ]
    },
    {
     "name": "stdout",
     "output_type": "stream",
     "text": [
      "Day: 6, Mouse: 12\n"
     ]
    },
    {
     "name": "stderr",
     "output_type": "stream",
     "text": [
      "Parsing data blocks:  99%|█████▉| 8993728/9076112 [00:00<00:00, 18816516.03it/s]\n",
      "Finalizing data blocks:   0%|                             | 0/3 [00:00<?, ?it/s]\n",
      "Finalizing data blocks for type 1: 100%|████| 56/56 [00:00<00:00, 474507.12it/s]\u001b[A\n",
      "\n",
      "Finalizing data blocks for type 4: 100%|█████████| 4/4 [00:00<00:00, 237.22it/s]\u001b[A\n",
      "\n",
      "Finalizing data blocks for type 5:   0%|                 | 0/56 [00:00<?, ?it/s]\u001b[A\n",
      "Finalizing data blocks for type 5:   2%|▏        | 1/56 [00:00<00:07,  7.18it/s]\u001b[A\n",
      "Finalizing data blocks for type 5:   5%|▍        | 3/56 [00:00<00:04, 11.41it/s]\u001b[A\n",
      "Finalizing data blocks for type 5: 100%|███████| 56/56 [00:00<00:00, 134.69it/s]\u001b[A\n",
      "Finalizing data blocks: 100%|█████████████████████| 3/3 [00:00<00:00,  6.86it/s]\n",
      "Parsing signal channels: 100%|██████████████| 56/56 [00:00<00:00, 111529.45it/s]\n",
      "Parsing spike channels: 0it [00:00, ?it/s]\n",
      "Parsing event channels: 100%|██████████████████| 4/4 [00:00<00:00, 90687.65it/s]\n"
     ]
    },
    {
     "name": "stdout",
     "output_type": "stream",
     "text": [
      "Day: 6, Mouse: 5\n"
     ]
    },
    {
     "name": "stderr",
     "output_type": "stream",
     "text": [
      "Parsing data blocks:  99%|█████▉| 6955456/7037840 [00:00<00:00, 19083229.93it/s]\n",
      "Finalizing data blocks:   0%|                             | 0/3 [00:00<?, ?it/s]\n",
      "Finalizing data blocks for type 1: 100%|████| 56/56 [00:00<00:00, 381300.36it/s]\u001b[A\n",
      "\n",
      "Finalizing data blocks for type 4: 100%|█████████| 4/4 [00:00<00:00, 212.08it/s]\u001b[A\n",
      "\n",
      "Finalizing data blocks for type 5:   0%|                 | 0/56 [00:00<?, ?it/s]\u001b[A\n",
      "Finalizing data blocks for type 5:   2%|▏        | 1/56 [00:00<00:06,  9.03it/s]\u001b[A\n",
      "Finalizing data blocks for type 5:   5%|▍        | 3/56 [00:00<00:03, 14.69it/s]\u001b[A\n",
      "Finalizing data blocks for type 5: 100%|███████| 56/56 [00:00<00:00, 173.03it/s]\u001b[A\n",
      "Finalizing data blocks: 100%|█████████████████████| 3/3 [00:00<00:00,  8.62it/s]\n",
      "Parsing signal channels: 100%|██████████████| 56/56 [00:00<00:00, 109399.64it/s]\n",
      "Parsing spike channels: 0it [00:00, ?it/s]\n",
      "Parsing event channels: 100%|█████████████████| 4/4 [00:00<00:00, 102300.10it/s]\n"
     ]
    },
    {
     "name": "stdout",
     "output_type": "stream",
     "text": [
      "Day: 6, Mouse: 23\n"
     ]
    },
    {
     "name": "stderr",
     "output_type": "stream",
     "text": [
      "Parsing data blocks:  99%|███▉| 12318400/12400784 [00:00<00:00, 20471336.31it/s]\n",
      "Finalizing data blocks:   0%|                             | 0/3 [00:00<?, ?it/s]\n",
      "Finalizing data blocks for type 1: 100%|████| 56/56 [00:00<00:00, 553964.68it/s]\u001b[A\n",
      "\n",
      "Finalizing data blocks for type 4: 100%|█████████| 4/4 [00:00<00:00, 243.28it/s]\u001b[A\n",
      "\n",
      "Finalizing data blocks for type 5:   0%|                 | 0/56 [00:00<?, ?it/s]\u001b[A\n",
      "Finalizing data blocks for type 5:   2%|▏        | 1/56 [00:00<00:10,  5.24it/s]\u001b[A\n",
      "Finalizing data blocks for type 5:   5%|▍        | 3/56 [00:00<00:06,  8.45it/s]\u001b[A\n",
      "Finalizing data blocks for type 5: 100%|████████| 56/56 [00:00<00:00, 99.74it/s]\u001b[A\n",
      "Finalizing data blocks: 100%|█████████████████████| 3/3 [00:00<00:00,  5.15it/s]\n",
      "Parsing signal channels: 100%|██████████████| 56/56 [00:00<00:00, 106041.09it/s]\n",
      "Parsing spike channels: 0it [00:00, ?it/s]\n",
      "Parsing event channels: 100%|██████████████████| 4/4 [00:00<00:00, 86928.58it/s]\n"
     ]
    },
    {
     "name": "stdout",
     "output_type": "stream",
     "text": [
      "Day: 6, Mouse: 32\n"
     ]
    },
    {
     "name": "stderr",
     "output_type": "stream",
     "text": [
      "Parsing data blocks:  99%|███▉| 10189504/10271888 [00:00<00:00, 18191021.76it/s]\n",
      "Finalizing data blocks:   0%|                             | 0/3 [00:00<?, ?it/s]\n",
      "Finalizing data blocks for type 1: 100%|████| 56/56 [00:00<00:00, 590153.33it/s]\u001b[A\n",
      "\n",
      "Finalizing data blocks for type 4: 100%|█████████| 4/4 [00:00<00:00, 241.14it/s]\u001b[A\n",
      "\n",
      "Finalizing data blocks for type 5:   0%|                 | 0/56 [00:00<?, ?it/s]\u001b[A\n",
      "Finalizing data blocks for type 5:   2%|▏        | 1/56 [00:00<00:08,  6.55it/s]\u001b[A\n",
      "Finalizing data blocks for type 5:   5%|▍        | 3/56 [00:00<00:05, 10.28it/s]\u001b[A\n",
      "Finalizing data blocks for type 5: 100%|███████| 56/56 [00:00<00:00, 120.15it/s]\u001b[A\n",
      "Finalizing data blocks: 100%|█████████████████████| 3/3 [00:00<00:00,  6.16it/s]\n",
      "Parsing signal channels: 100%|██████████████| 56/56 [00:00<00:00, 114241.74it/s]\n",
      "Parsing spike channels: 0it [00:00, ?it/s]\n",
      "Parsing event channels: 100%|██████████████████| 4/4 [00:00<00:00, 93206.76it/s]\n"
     ]
    },
    {
     "name": "stdout",
     "output_type": "stream",
     "text": [
      "Day: 6, Mouse: 22\n"
     ]
    },
    {
     "name": "stderr",
     "output_type": "stream",
     "text": [
      "Parsing data blocks:  99%|█████▉| 9271744/9354128 [00:00<00:00, 17359145.37it/s]\n",
      "Finalizing data blocks:   0%|                             | 0/3 [00:00<?, ?it/s]\n",
      "Finalizing data blocks for type 1: 100%|████| 56/56 [00:00<00:00, 603807.26it/s]\u001b[A\n",
      "\n",
      "Finalizing data blocks for type 4: 100%|█████████| 4/4 [00:00<00:00, 243.43it/s]\u001b[A\n",
      "\n",
      "Finalizing data blocks for type 5:   0%|                 | 0/56 [00:00<?, ?it/s]\u001b[A\n",
      "Finalizing data blocks for type 5:   2%|▏        | 1/56 [00:00<00:07,  7.10it/s]\u001b[A\n",
      "Finalizing data blocks for type 5:   5%|▍        | 3/56 [00:00<00:04, 11.27it/s]\u001b[A\n",
      "Finalizing data blocks for type 5: 100%|███████| 56/56 [00:00<00:00, 132.08it/s]\u001b[A\n",
      "Finalizing data blocks: 100%|█████████████████████| 3/3 [00:00<00:00,  6.75it/s]\n",
      "Parsing signal channels: 100%|██████████████| 56/56 [00:00<00:00, 128701.93it/s]\n",
      "Parsing spike channels: 0it [00:00, ?it/s]\n",
      "Parsing event channels: 100%|██████████████████| 4/4 [00:00<00:00, 95325.09it/s]\n"
     ]
    },
    {
     "name": "stdout",
     "output_type": "stream",
     "text": [
      "Day: 6, Mouse: 4\n"
     ]
    },
    {
     "name": "stderr",
     "output_type": "stream",
     "text": [
      "Parsing data blocks:  99%|███▉| 10806976/10889360 [00:00<00:00, 17920580.42it/s]\n",
      "Finalizing data blocks:   0%|                             | 0/3 [00:00<?, ?it/s]\n",
      "Finalizing data blocks for type 1: 100%|████| 56/56 [00:00<00:00, 577103.25it/s]\u001b[A\n",
      "\n",
      "Finalizing data blocks for type 4: 100%|█████████| 4/4 [00:00<00:00, 246.24it/s]\u001b[A\n",
      "\n",
      "Finalizing data blocks for type 5:   0%|                 | 0/56 [00:00<?, ?it/s]\u001b[A\n",
      "Finalizing data blocks for type 5:   2%|▏        | 1/56 [00:00<00:09,  5.88it/s]\u001b[A\n",
      "Finalizing data blocks for type 5:   5%|▍        | 3/56 [00:00<00:05,  9.46it/s]\u001b[A\n",
      "Finalizing data blocks for type 5: 100%|███████| 56/56 [00:00<00:00, 111.17it/s]\u001b[A\n",
      "Finalizing data blocks: 100%|█████████████████████| 3/3 [00:00<00:00,  5.72it/s]\n",
      "Parsing signal channels: 100%|██████████████| 56/56 [00:00<00:00, 113141.15it/s]\n",
      "Parsing spike channels: 0it [00:00, ?it/s]\n",
      "Parsing event channels: 100%|██████████████████| 4/4 [00:00<00:00, 90687.65it/s]\n"
     ]
    },
    {
     "name": "stdout",
     "output_type": "stream",
     "text": [
      "Day: 6, Mouse: 13\n"
     ]
    },
    {
     "name": "stderr",
     "output_type": "stream",
     "text": [
      "Parsing data blocks:  99%|█████▉| 6085312/6167696 [00:00<00:00, 16882908.41it/s]\n",
      "Finalizing data blocks:   0%|                             | 0/3 [00:00<?, ?it/s]\n",
      "Finalizing data blocks for type 1: 100%|████| 56/56 [00:00<00:00, 523120.32it/s]\u001b[A\n",
      "\n",
      "Finalizing data blocks for type 4: 100%|█████████| 4/4 [00:00<00:00, 271.98it/s]\u001b[A\n",
      "\n",
      "Finalizing data blocks for type 5:   0%|                 | 0/56 [00:00<?, ?it/s]\u001b[A\n",
      "Finalizing data blocks for type 5: 100%|███████| 56/56 [00:00<00:00, 198.43it/s]\u001b[A\n",
      "Finalizing data blocks: 100%|█████████████████████| 3/3 [00:00<00:00,  9.97it/s]\n",
      "Parsing signal channels: 100%|██████████████| 56/56 [00:00<00:00, 160000.70it/s]\n",
      "Parsing spike channels: 0it [00:00, ?it/s]\n",
      "Parsing event channels: 100%|██████████████████| 4/4 [00:00<00:00, 93206.76it/s]\n"
     ]
    },
    {
     "name": "stdout",
     "output_type": "stream",
     "text": [
      "Day: 6, Mouse: 17\n"
     ]
    },
    {
     "name": "stderr",
     "output_type": "stream",
     "text": [
      "Parsing data blocks:  99%|███▉| 15739840/15822224 [00:00<00:00, 17675305.85it/s]\n",
      "Finalizing data blocks:   0%|                             | 0/3 [00:00<?, ?it/s]\n",
      "Finalizing data blocks for type 1: 100%|████| 56/56 [00:00<00:00, 588674.25it/s]\u001b[A\n",
      "\n",
      "Finalizing data blocks for type 4: 100%|█████████| 4/4 [00:00<00:00, 246.80it/s]\u001b[A\n",
      "\n",
      "Finalizing data blocks for type 5:   0%|                 | 0/56 [00:00<?, ?it/s]\u001b[A\n",
      "Finalizing data blocks for type 5:   2%|▏        | 1/56 [00:00<00:13,  4.04it/s]\u001b[A\n",
      "Finalizing data blocks for type 5:   5%|▍        | 3/56 [00:00<00:08,  6.43it/s]\u001b[A\n",
      "Finalizing data blocks for type 5: 100%|████████| 56/56 [00:00<00:00, 75.23it/s]\u001b[A\n",
      "Finalizing data blocks: 100%|█████████████████████| 3/3 [00:00<00:00,  3.92it/s]\n",
      "Parsing signal channels: 100%|██████████████| 56/56 [00:00<00:00, 117206.10it/s]\n",
      "Parsing spike channels: 0it [00:00, ?it/s]\n",
      "Parsing event channels: 100%|██████████████████| 4/4 [00:00<00:00, 97541.95it/s]\n"
     ]
    },
    {
     "name": "stdout",
     "output_type": "stream",
     "text": [
      "Day: 6, Mouse: 33\n"
     ]
    },
    {
     "name": "stderr",
     "output_type": "stream",
     "text": [
      "Parsing data blocks:  99%|█████▉| 6693568/6775952 [00:00<00:00, 17851319.25it/s]\n",
      "Finalizing data blocks:   0%|                             | 0/3 [00:00<?, ?it/s]\n",
      "Finalizing data blocks for type 1: 100%|████| 56/56 [00:00<00:00, 590153.33it/s]\u001b[A\n",
      "\n",
      "Finalizing data blocks for type 4: 100%|█████████| 4/4 [00:00<00:00, 251.42it/s]\u001b[A\n",
      "\n",
      "Finalizing data blocks for type 5:   0%|                 | 0/56 [00:00<?, ?it/s]\u001b[A\n",
      "Finalizing data blocks for type 5:   2%|▏        | 1/56 [00:00<00:05,  9.60it/s]\u001b[A\n",
      "Finalizing data blocks for type 5:   5%|▍        | 3/56 [00:00<00:03, 15.23it/s]\u001b[A\n",
      "Finalizing data blocks for type 5: 100%|███████| 56/56 [00:00<00:00, 178.63it/s]\u001b[A\n",
      "Finalizing data blocks: 100%|█████████████████████| 3/3 [00:00<00:00,  9.00it/s]\n",
      "Parsing signal channels: 100%|██████████████| 56/56 [00:00<00:00, 149701.10it/s]\n",
      "Parsing spike channels: 0it [00:00, ?it/s]\n",
      "Parsing event channels: 100%|██████████████████| 4/4 [00:00<00:00, 90687.65it/s]\n"
     ]
    },
    {
     "name": "stdout",
     "output_type": "stream",
     "text": [
      "Day: 6, Mouse: 29\n"
     ]
    },
    {
     "name": "stderr",
     "output_type": "stream",
     "text": [
      "Parsing data blocks:  99%|█████▉| 9241024/9323408 [00:00<00:00, 17080618.45it/s]\n",
      "Finalizing data blocks:   0%|                             | 0/3 [00:00<?, ?it/s]\n",
      "Finalizing data blocks for type 1: 100%|████| 56/56 [00:00<00:00, 571486.68it/s]\u001b[A\n",
      "\n",
      "Finalizing data blocks for type 4: 100%|█████████| 4/4 [00:00<00:00, 282.02it/s]\u001b[A\n",
      "\n",
      "Finalizing data blocks for type 5:   0%|                 | 0/56 [00:00<?, ?it/s]\u001b[A\n",
      "Finalizing data blocks for type 5:   2%|▏        | 1/56 [00:00<00:07,  6.99it/s]\u001b[A\n",
      "Finalizing data blocks for type 5:   5%|▍        | 3/56 [00:00<00:04, 11.13it/s]\u001b[A\n",
      "Finalizing data blocks for type 5: 100%|███████| 56/56 [00:00<00:00, 131.03it/s]\u001b[A\n",
      "Finalizing data blocks: 100%|█████████████████████| 3/3 [00:00<00:00,  6.73it/s]\n",
      "Parsing signal channels: 100%|██████████████| 56/56 [00:00<00:00, 108140.43it/s]\n",
      "Parsing spike channels: 0it [00:00, ?it/s]\n",
      "Parsing event channels: 100%|██████████████████| 4/4 [00:00<00:00, 91180.52it/s]\n"
     ]
    },
    {
     "name": "stdout",
     "output_type": "stream",
     "text": [
      "Day: 6, Mouse: 30\n"
     ]
    },
    {
     "name": "stderr",
     "output_type": "stream",
     "text": [
      "Parsing data blocks:  99%|███▉| 12334528/12416912 [00:00<00:00, 16909950.83it/s]\n",
      "Finalizing data blocks:   0%|                             | 0/3 [00:00<?, ?it/s]\n",
      "Finalizing data blocks for type 1: 100%|████| 56/56 [00:00<00:00, 600718.73it/s]\u001b[A\n",
      "\n",
      "Finalizing data blocks for type 4: 100%|█████████| 4/4 [00:00<00:00, 248.72it/s]\u001b[A\n",
      "\n",
      "Finalizing data blocks for type 5:   0%|                 | 0/56 [00:00<?, ?it/s]\u001b[A\n",
      "Finalizing data blocks for type 5:   2%|▏        | 1/56 [00:00<00:10,  5.11it/s]\u001b[A\n",
      "Finalizing data blocks for type 5:   5%|▍        | 3/56 [00:00<00:06,  8.46it/s]\u001b[A\n",
      "Finalizing data blocks for type 5: 100%|████████| 56/56 [00:00<00:00, 99.50it/s]\u001b[A\n",
      "Finalizing data blocks: 100%|█████████████████████| 3/3 [00:00<00:00,  5.15it/s]\n",
      "Parsing signal channels: 100%|██████████████| 56/56 [00:00<00:00, 115194.22it/s]\n",
      "Parsing spike channels: 0it [00:00, ?it/s]\n",
      "Parsing event channels: 100%|██████████████████| 4/4 [00:00<00:00, 93206.76it/s]\n"
     ]
    },
    {
     "name": "stdout",
     "output_type": "stream",
     "text": [
      "Day: 6, Mouse: 34\n"
     ]
    },
    {
     "name": "stderr",
     "output_type": "stream",
     "text": [
      "Parsing data blocks:  99%|█████▉| 8102848/8185232 [00:00<00:00, 15336334.39it/s]\n",
      "Finalizing data blocks:   0%|                             | 0/3 [00:00<?, ?it/s]\n",
      "Finalizing data blocks for type 1: 100%|████| 56/56 [00:00<00:00, 216879.99it/s]\u001b[A\n",
      "\n",
      "Finalizing data blocks for type 4: 100%|█████████| 4/4 [00:00<00:00, 182.86it/s]\u001b[A\n",
      "\n",
      "Finalizing data blocks for type 5:   0%|                 | 0/56 [00:00<?, ?it/s]\u001b[A\n",
      "Finalizing data blocks for type 5:   2%|▏        | 1/56 [00:00<00:07,  6.94it/s]\u001b[A\n",
      "Finalizing data blocks for type 5:   5%|▍        | 3/56 [00:00<00:04, 11.92it/s]\u001b[A\n",
      "Finalizing data blocks for type 5: 100%|███████| 56/56 [00:00<00:00, 141.77it/s]\u001b[A\n",
      "Finalizing data blocks: 100%|█████████████████████| 3/3 [00:00<00:00,  7.04it/s]\n",
      "Parsing signal channels: 100%|███████████████| 56/56 [00:00<00:00, 75065.84it/s]\n",
      "Parsing spike channels: 0it [00:00, ?it/s]\n",
      "Parsing event channels: 100%|██████████████████| 4/4 [00:00<00:00, 85163.53it/s]\n"
     ]
    },
    {
     "name": "stdout",
     "output_type": "stream",
     "text": [
      "Day: 6, Mouse: 7\n"
     ]
    },
    {
     "name": "stderr",
     "output_type": "stream",
     "text": [
      "Parsing data blocks:  99%|█████▉| 8264128/8346512 [00:00<00:00, 17902296.38it/s]\n",
      "Finalizing data blocks:   0%|                             | 0/3 [00:00<?, ?it/s]\n",
      "Finalizing data blocks for type 1: 100%|████| 56/56 [00:00<00:00, 602259.04it/s]\u001b[A\n",
      "\n",
      "Finalizing data blocks for type 4: 100%|█████████| 4/4 [00:00<00:00, 234.77it/s]\u001b[A\n",
      "\n",
      "Finalizing data blocks for type 5:   0%|                 | 0/56 [00:00<?, ?it/s]\u001b[A\n",
      "Finalizing data blocks for type 5:   2%|▏        | 1/56 [00:00<00:07,  7.53it/s]\u001b[A\n",
      "Finalizing data blocks for type 5:   5%|▍        | 3/56 [00:00<00:04, 11.66it/s]\u001b[A\n",
      "Finalizing data blocks for type 5: 100%|███████| 56/56 [00:00<00:00, 138.41it/s]\u001b[A\n",
      "Finalizing data blocks: 100%|█████████████████████| 3/3 [00:00<00:00,  7.05it/s]\n",
      "Parsing signal channels: 100%|██████████████| 56/56 [00:00<00:00, 105897.67it/s]\n",
      "Parsing spike channels: 0it [00:00, ?it/s]\n",
      "Parsing event channels: 100%|██████████████████| 4/4 [00:00<00:00, 88768.34it/s]\n"
     ]
    },
    {
     "name": "stdout",
     "output_type": "stream",
     "text": [
      "Day: 6, Mouse: 10\n"
     ]
    },
    {
     "name": "stderr",
     "output_type": "stream",
     "text": [
      "Parsing data blocks:  99%|███▉| 15240640/15323024 [00:00<00:00, 18097775.66it/s]\n",
      "Finalizing data blocks:   0%|                             | 0/3 [00:00<?, ?it/s]\n",
      "Finalizing data blocks for type 1: 100%|████| 56/56 [00:00<00:00, 577103.25it/s]\u001b[A\n",
      "\n",
      "Finalizing data blocks for type 4: 100%|█████████| 4/4 [00:00<00:00, 233.12it/s]\u001b[A\n",
      "\n",
      "Finalizing data blocks for type 5:   0%|                 | 0/56 [00:00<?, ?it/s]\u001b[A\n",
      "Finalizing data blocks for type 5:   2%|▏        | 1/56 [00:00<00:13,  4.19it/s]\u001b[A\n",
      "Finalizing data blocks for type 5:   5%|▍        | 3/56 [00:00<00:08,  5.96it/s]\u001b[A\n",
      "Finalizing data blocks for type 5: 100%|████████| 56/56 [00:00<00:00, 72.91it/s]\u001b[A\n",
      "Finalizing data blocks: 100%|█████████████████████| 3/3 [00:00<00:00,  3.80it/s]\n",
      "Parsing signal channels: 100%|███████████████| 56/56 [00:00<00:00, 90165.46it/s]\n",
      "Parsing spike channels: 0it [00:00, ?it/s]\n",
      "Parsing event channels: 100%|██████████████████| 4/4 [00:00<00:00, 90687.65it/s]\n"
     ]
    },
    {
     "name": "stdout",
     "output_type": "stream",
     "text": [
      "Day: 6, Mouse: 3\n"
     ]
    },
    {
     "name": "stderr",
     "output_type": "stream",
     "text": [
      "Parsing data blocks: 100%|███▉| 28828096/28910480 [00:01<00:00, 18118411.41it/s]\n",
      "Finalizing data blocks:   0%|                             | 0/3 [00:00<?, ?it/s]\n",
      "Finalizing data blocks for type 1: 100%|████| 56/56 [00:00<00:00, 564617.85it/s]\u001b[A\n",
      "\n",
      "Finalizing data blocks for type 4: 100%|█████████| 4/4 [00:00<00:00, 263.97it/s]\u001b[A\n",
      "\n",
      "Finalizing data blocks for type 5:   0%|                 | 0/56 [00:00<?, ?it/s]\u001b[A\n",
      "Finalizing data blocks for type 5:   2%|▏        | 1/56 [00:00<00:25,  2.17it/s]\u001b[A\n",
      "Finalizing data blocks for type 5:   5%|▍        | 3/56 [00:00<00:15,  3.41it/s]\u001b[A\n",
      "Finalizing data blocks for type 5: 100%|████████| 56/56 [00:01<00:00, 40.10it/s]\u001b[A\n",
      "Finalizing data blocks: 100%|█████████████████████| 3/3 [00:01<00:00,  2.12it/s]\n",
      "Parsing signal channels: 100%|███████████████| 56/56 [00:00<00:00, 94481.51it/s]\n",
      "Parsing spike channels: 0it [00:00, ?it/s]\n",
      "Parsing event channels: 100%|██████████████████| 4/4 [00:00<00:00, 93206.76it/s]\n"
     ]
    },
    {
     "name": "stdout",
     "output_type": "stream",
     "text": [
      "Day: 6, Mouse: 14\n"
     ]
    },
    {
     "name": "stderr",
     "output_type": "stream",
     "text": [
      "Parsing data blocks:  99%|███▉| 12485824/12568208 [00:00<00:00, 17617678.30it/s]\n",
      "Finalizing data blocks:   0%|                             | 0/3 [00:00<?, ?it/s]\n",
      "Finalizing data blocks for type 1: 100%|████| 56/56 [00:00<00:00, 584281.15it/s]\u001b[A\n",
      "\n",
      "Finalizing data blocks for type 4: 100%|█████████| 4/4 [00:00<00:00, 245.37it/s]\u001b[A\n",
      "\n",
      "Finalizing data blocks for type 5:   0%|                 | 0/56 [00:00<?, ?it/s]\u001b[A\n",
      "Finalizing data blocks for type 5:   2%|▏        | 1/56 [00:00<00:10,  5.04it/s]\u001b[A\n",
      "Finalizing data blocks for type 5:   5%|▍        | 3/56 [00:00<00:06,  8.05it/s]\u001b[A\n",
      "Finalizing data blocks for type 5: 100%|████████| 56/56 [00:00<00:00, 94.67it/s]\u001b[A\n",
      "Finalizing data blocks: 100%|█████████████████████| 3/3 [00:00<00:00,  4.90it/s]\n",
      "Parsing signal channels: 100%|██████████████| 56/56 [00:00<00:00, 126144.48it/s]\n",
      "Parsing spike channels: 0it [00:00, ?it/s]\n",
      "Parsing event channels: 100%|██████████████████| 4/4 [00:00<00:00, 95325.09it/s]\n"
     ]
    },
    {
     "name": "stdout",
     "output_type": "stream",
     "text": [
      "Day: 6, Mouse: 35\n"
     ]
    },
    {
     "name": "stderr",
     "output_type": "stream",
     "text": [
      "Parsing data blocks:  99%|█████▉| 8701152/8783536 [00:00<00:00, 18235019.69it/s]\n",
      "Finalizing data blocks:   0%|                             | 0/3 [00:00<?, ?it/s]\n",
      "Finalizing data blocks for type 1: 100%|████| 56/56 [00:00<00:00, 608500.06it/s]\u001b[A\n",
      "\n",
      "Finalizing data blocks for type 4: 100%|█████████| 4/4 [00:00<00:00, 245.66it/s]\u001b[A\n",
      "\n",
      "Finalizing data blocks for type 5:   0%|                 | 0/56 [00:00<?, ?it/s]\u001b[A\n",
      "Finalizing data blocks for type 5:   2%|▏        | 1/56 [00:00<00:07,  7.38it/s]\u001b[A\n",
      "Finalizing data blocks for type 5:   5%|▍        | 3/56 [00:00<00:04, 11.84it/s]\u001b[A\n",
      "Finalizing data blocks for type 5: 100%|███████| 56/56 [00:00<00:00, 138.93it/s]\u001b[A\n",
      "Finalizing data blocks: 100%|█████████████████████| 3/3 [00:00<00:00,  7.09it/s]\n",
      "Parsing signal channels: 100%|██████████████| 56/56 [00:00<00:00, 130200.12it/s]\n",
      "Parsing spike channels: 0it [00:00, ?it/s]\n",
      "Parsing event channels: 100%|█████████████████| 4/4 [00:00<00:00, 100462.37it/s]\n"
     ]
    },
    {
     "name": "stdout",
     "output_type": "stream",
     "text": [
      "Day: 6, Mouse: 21\n"
     ]
    },
    {
     "name": "stderr",
     "output_type": "stream",
     "text": [
      "Parsing data blocks:  99%|█████▉| 6622912/6705296 [00:00<00:00, 18512944.29it/s]\n",
      "Finalizing data blocks:   0%|                             | 0/3 [00:00<?, ?it/s]\n",
      "Finalizing data blocks for type 1: 100%|████| 56/56 [00:00<00:00, 542450.40it/s]\u001b[A\n",
      "\n",
      "Finalizing data blocks for type 4: 100%|█████████| 4/4 [00:00<00:00, 247.16it/s]\u001b[A\n",
      "\n",
      "Finalizing data blocks for type 5:   0%|                 | 0/56 [00:00<?, ?it/s]\u001b[A\n",
      "Finalizing data blocks for type 5:   2%|▏        | 1/56 [00:00<00:05,  9.74it/s]\u001b[A\n",
      "Finalizing data blocks for type 5:   5%|▍        | 3/56 [00:00<00:03, 15.51it/s]\u001b[A\n",
      "Finalizing data blocks for type 5: 100%|███████| 56/56 [00:00<00:00, 182.96it/s]\u001b[A\n",
      "Finalizing data blocks: 100%|█████████████████████| 3/3 [00:00<00:00,  9.19it/s]\n",
      "Parsing signal channels: 100%|██████████████| 56/56 [00:00<00:00, 139643.89it/s]\n",
      "Parsing spike channels: 0it [00:00, ?it/s]\n",
      "Parsing event channels: 100%|██████████████████| 4/4 [00:00<00:00, 95325.09it/s]\n"
     ]
    },
    {
     "name": "stdout",
     "output_type": "stream",
     "text": [
      "Day: 6, Mouse: 31\n"
     ]
    },
    {
     "name": "stderr",
     "output_type": "stream",
     "text": [
      "Parsing data blocks:  99%|█████▉| 6404800/6487184 [00:00<00:00, 18022601.15it/s]\n",
      "Finalizing data blocks:   0%|                             | 0/3 [00:00<?, ?it/s]\n",
      "Finalizing data blocks for type 1: 100%|████| 56/56 [00:00<00:00, 555274.29it/s]\u001b[A\n",
      "\n",
      "Finalizing data blocks for type 4: 100%|█████████| 4/4 [00:00<00:00, 232.18it/s]\u001b[A\n",
      "\n",
      "Finalizing data blocks for type 5:   0%|                 | 0/56 [00:00<?, ?it/s]\u001b[A\n",
      "Finalizing data blocks for type 5: 100%|███████| 56/56 [00:00<00:00, 193.69it/s]\u001b[A\n",
      "Finalizing data blocks: 100%|█████████████████████| 3/3 [00:00<00:00,  9.65it/s]\n",
      "Parsing signal channels: 100%|██████████████| 56/56 [00:00<00:00, 151340.87it/s]\n",
      "Parsing spike channels: 0it [00:00, ?it/s]\n",
      "Parsing event channels: 100%|██████████████████| 4/4 [00:00<00:00, 95325.09it/s]\n"
     ]
    },
    {
     "name": "stdout",
     "output_type": "stream",
     "text": [
      "Day: 6, Mouse: 28\n"
     ]
    },
    {
     "name": "stderr",
     "output_type": "stream",
     "text": [
      "Parsing data blocks:  99%|█████▉| 6076096/6158480 [00:00<00:00, 19612335.00it/s]\n",
      "Finalizing data blocks:   0%|                             | 0/3 [00:00<?, ?it/s]\n",
      "Finalizing data blocks for type 1: 100%|████| 56/56 [00:00<00:00, 608500.06it/s]\u001b[A\n",
      "\n",
      "Finalizing data blocks for type 4: 100%|█████████| 4/4 [00:00<00:00, 241.11it/s]\u001b[A\n",
      "\n",
      "Finalizing data blocks for type 5:   0%|                 | 0/56 [00:00<?, ?it/s]\u001b[A\n",
      "Finalizing data blocks for type 5: 100%|███████| 56/56 [00:00<00:00, 200.46it/s]\u001b[A\n",
      "Finalizing data blocks: 100%|█████████████████████| 3/3 [00:00<00:00,  9.98it/s]\n",
      "Parsing signal channels: 100%|██████████████| 56/56 [00:00<00:00, 101636.10it/s]\n",
      "Parsing spike channels: 0it [00:00, ?it/s]\n",
      "Parsing event channels: 100%|█████████████████| 4/4 [00:00<00:00, 102300.10it/s]\n"
     ]
    },
    {
     "name": "stdout",
     "output_type": "stream",
     "text": [
      "Day: 6, Mouse: 15\n"
     ]
    },
    {
     "name": "stderr",
     "output_type": "stream",
     "text": [
      "Parsing data blocks:  99%|███▉| 16155328/16237712 [00:00<00:00, 20202837.34it/s]\n",
      "Finalizing data blocks:   0%|                             | 0/3 [00:00<?, ?it/s]\n",
      "Finalizing data blocks for type 1: 100%|████| 56/56 [00:00<00:00, 577103.25it/s]\u001b[A\n",
      "\n",
      "Finalizing data blocks for type 4: 100%|█████████| 4/4 [00:00<00:00, 199.34it/s]\u001b[A\n",
      "\n",
      "Finalizing data blocks for type 5:   0%|                 | 0/56 [00:00<?, ?it/s]\u001b[A\n",
      "Finalizing data blocks for type 5:   2%|▏        | 1/56 [00:00<00:14,  3.89it/s]\u001b[A\n",
      "Finalizing data blocks for type 5:   5%|▍        | 3/56 [00:00<00:08,  6.31it/s]\u001b[A\n",
      "Finalizing data blocks for type 5: 100%|████████| 56/56 [00:00<00:00, 74.17it/s]\u001b[A\n",
      "Finalizing data blocks: 100%|█████████████████████| 3/3 [00:00<00:00,  3.84it/s]\n",
      "Parsing signal channels: 100%|███████████████| 56/56 [00:00<00:00, 83557.82it/s]\n",
      "Parsing spike channels: 0it [00:00, ?it/s]\n",
      "Parsing event channels: 100%|██████████████████| 4/4 [00:00<00:00, 88768.34it/s]\n"
     ]
    },
    {
     "name": "stdout",
     "output_type": "stream",
     "text": [
      "Day: 6, Mouse: 2\n"
     ]
    },
    {
     "name": "stderr",
     "output_type": "stream",
     "text": [
      "Parsing data blocks: 100%|███▉| 18133696/18216080 [00:00<00:00, 19119197.79it/s]\n",
      "Finalizing data blocks:   0%|                             | 0/3 [00:00<?, ?it/s]\n",
      "Finalizing data blocks for type 1: 100%|████| 56/56 [00:00<00:00, 509503.31it/s]\u001b[A\n",
      "\n",
      "Finalizing data blocks for type 4: 100%|█████████| 4/4 [00:00<00:00, 213.97it/s]\u001b[A\n",
      "\n",
      "Finalizing data blocks for type 5:   0%|                 | 0/56 [00:00<?, ?it/s]\u001b[A\n",
      "Finalizing data blocks for type 5:   2%|▏        | 1/56 [00:00<00:16,  3.38it/s]\u001b[A\n",
      "Finalizing data blocks for type 5:   5%|▍        | 3/56 [00:00<00:08,  5.92it/s]\u001b[A\n",
      "Finalizing data blocks for type 5: 100%|████████| 56/56 [00:00<00:00, 70.36it/s]\u001b[A\n",
      "Finalizing data blocks: 100%|█████████████████████| 3/3 [00:00<00:00,  3.66it/s]\n",
      "Parsing signal channels: 100%|███████████████| 56/56 [00:00<00:00, 97380.19it/s]\n",
      "Parsing spike channels: 0it [00:00, ?it/s]\n",
      "Parsing event channels: 100%|██████████████████| 4/4 [00:00<00:00, 87381.33it/s]\n"
     ]
    },
    {
     "name": "stdout",
     "output_type": "stream",
     "text": [
      "Day: 6, Mouse: 24\n"
     ]
    },
    {
     "name": "stderr",
     "output_type": "stream",
     "text": [
      "Parsing data blocks:  99%|███▉| 12869824/12952208 [00:00<00:00, 21457255.89it/s]\n",
      "Finalizing data blocks:   0%|                             | 0/3 [00:00<?, ?it/s]\n",
      "Finalizing data blocks for type 1: 100%|████| 56/56 [00:00<00:00, 582831.33it/s]\u001b[A\n",
      "\n",
      "Finalizing data blocks for type 4: 100%|█████████| 4/4 [00:00<00:00, 240.41it/s]\u001b[A\n",
      "\n",
      "Finalizing data blocks for type 5:   0%|                 | 0/56 [00:00<?, ?it/s]\u001b[A\n",
      "Finalizing data blocks for type 5:   2%|▏        | 1/56 [00:00<00:10,  5.09it/s]\u001b[A\n",
      "Finalizing data blocks for type 5:   5%|▍        | 3/56 [00:00<00:06,  8.02it/s]\u001b[A\n",
      "Finalizing data blocks for type 5: 100%|████████| 56/56 [00:00<00:00, 94.30it/s]\u001b[A\n",
      "Finalizing data blocks: 100%|█████████████████████| 3/3 [00:00<00:00,  4.88it/s]\n",
      "Parsing signal channels: 100%|██████████████| 56/56 [00:00<00:00, 101856.47it/s]\n",
      "Parsing spike channels: 0it [00:00, ?it/s]\n",
      "Parsing event channels: 100%|██████████████████| 4/4 [00:00<00:00, 99864.38it/s]\n"
     ]
    },
    {
     "name": "stdout",
     "output_type": "stream",
     "text": [
      "Day: 6, Mouse: 11\n"
     ]
    },
    {
     "name": "stderr",
     "output_type": "stream",
     "text": [
      "Parsing data blocks:  99%|███▉| 11889856/11972240 [00:00<00:00, 21384633.31it/s]\n",
      "Finalizing data blocks:   0%|                             | 0/3 [00:00<?, ?it/s]\n",
      "Finalizing data blocks for type 1: 100%|████| 56/56 [00:00<00:00, 596144.73it/s]\u001b[A\n",
      "\n",
      "Finalizing data blocks for type 4: 100%|█████████| 4/4 [00:00<00:00, 244.10it/s]\u001b[A\n",
      "\n",
      "Finalizing data blocks for type 5:   0%|                 | 0/56 [00:00<?, ?it/s]\u001b[A\n",
      "Finalizing data blocks for type 5:   2%|▏        | 1/56 [00:00<00:10,  5.42it/s]\u001b[A\n",
      "Finalizing data blocks for type 5:   5%|▍        | 3/56 [00:00<00:05,  8.85it/s]\u001b[A\n",
      "Finalizing data blocks for type 5: 100%|███████| 56/56 [00:00<00:00, 103.56it/s]\u001b[A\n",
      "Finalizing data blocks: 100%|█████████████████████| 3/3 [00:00<00:00,  5.34it/s]\n",
      "Parsing signal channels: 100%|███████████████| 56/56 [00:00<00:00, 75282.38it/s]\n",
      "Parsing spike channels: 0it [00:00, ?it/s]\n",
      "Parsing event channels: 100%|██████████████████| 4/4 [00:00<00:00, 83055.52it/s]\n"
     ]
    },
    {
     "name": "stdout",
     "output_type": "stream",
     "text": [
      "Day: 6, Mouse: 6\n"
     ]
    },
    {
     "name": "stderr",
     "output_type": "stream",
     "text": [
      "Parsing data blocks:  99%|█████▉| 8501440/8583824 [00:00<00:00, 19916043.09it/s]\n",
      "Finalizing data blocks:   0%|                             | 0/3 [00:00<?, ?it/s]\n",
      "Finalizing data blocks for type 1: 100%|████| 56/56 [00:00<00:00, 258964.75it/s]\u001b[A\n",
      "\n",
      "Finalizing data blocks for type 4: 100%|█████████| 4/4 [00:00<00:00, 183.37it/s]\u001b[A\n",
      "\n",
      "Finalizing data blocks for type 5:   0%|                 | 0/56 [00:00<?, ?it/s]\u001b[A\n",
      "Finalizing data blocks for type 5:   2%|▏        | 1/56 [00:00<00:08,  6.20it/s]\u001b[A\n",
      "Finalizing data blocks for type 5:   5%|▍        | 3/56 [00:00<00:05, 10.45it/s]\u001b[A\n",
      "Finalizing data blocks for type 5: 100%|███████| 56/56 [00:00<00:00, 125.76it/s]\u001b[A\n",
      "Finalizing data blocks: 100%|█████████████████████| 3/3 [00:00<00:00,  6.33it/s]\n",
      "Parsing signal channels: 100%|██████████████| 56/56 [00:00<00:00, 107497.04it/s]\n",
      "Parsing spike channels: 0it [00:00, ?it/s]\n",
      "Parsing event channels: 100%|██████████████████| 4/4 [00:00<00:00, 90687.65it/s]\n"
     ]
    },
    {
     "name": "stdout",
     "output_type": "stream",
     "text": [
      "Day: 6, Mouse: 8\n"
     ]
    },
    {
     "name": "stderr",
     "output_type": "stream",
     "text": [
      "Parsing data blocks: 100%|███▉| 18819520/18901904 [00:00<00:00, 20900476.56it/s]\n",
      "Finalizing data blocks:   0%|                             | 0/3 [00:00<?, ?it/s]\n",
      "Finalizing data blocks for type 1: 100%|████| 56/56 [00:00<00:00, 610080.58it/s]\u001b[A\n",
      "\n",
      "Finalizing data blocks for type 4: 100%|█████████| 4/4 [00:00<00:00, 273.60it/s]\u001b[A\n",
      "\n",
      "Finalizing data blocks for type 5:   0%|                 | 0/56 [00:00<?, ?it/s]\u001b[A\n",
      "Finalizing data blocks for type 5:   2%|▏        | 1/56 [00:00<00:15,  3.48it/s]\u001b[A\n",
      "Finalizing data blocks for type 5:   5%|▍        | 3/56 [00:00<00:09,  5.60it/s]\u001b[A\n",
      "Finalizing data blocks for type 5: 100%|████████| 56/56 [00:00<00:00, 66.04it/s]\u001b[A\n",
      "Finalizing data blocks: 100%|█████████████████████| 3/3 [00:00<00:00,  3.46it/s]\n",
      "Parsing signal channels: 100%|██████████████| 56/56 [00:00<00:00, 115250.75it/s]\n",
      "Parsing spike channels: 0it [00:00, ?it/s]\n",
      "Parsing event channels: 100%|█████████████████| 4/4 [00:00<00:00, 102927.71it/s]\n"
     ]
    },
    {
     "name": "stdout",
     "output_type": "stream",
     "text": [
      "Day: 6, Mouse: 26\n"
     ]
    },
    {
     "name": "stderr",
     "output_type": "stream",
     "text": [
      "Parsing data blocks:  99%|█████▉| 8553664/8636048 [00:00<00:00, 17122187.38it/s]\n",
      "Finalizing data blocks:   0%|                             | 0/3 [00:00<?, ?it/s]\n",
      "Finalizing data blocks for type 1: 100%|████| 56/56 [00:00<00:00, 553964.68it/s]\u001b[A\n",
      "\n",
      "Finalizing data blocks for type 4: 100%|█████████| 4/4 [00:00<00:00, 274.31it/s]\u001b[A\n",
      "\n",
      "Finalizing data blocks for type 5:   0%|                 | 0/56 [00:00<?, ?it/s]\u001b[A\n",
      "Finalizing data blocks for type 5:   2%|▏        | 1/56 [00:00<00:07,  7.70it/s]\u001b[A\n",
      "Finalizing data blocks for type 5:   5%|▍        | 3/56 [00:00<00:04, 12.46it/s]\u001b[A\n",
      "Finalizing data blocks for type 5: 100%|███████| 56/56 [00:00<00:00, 145.17it/s]\u001b[A\n",
      "Finalizing data blocks: 100%|█████████████████████| 3/3 [00:00<00:00,  7.42it/s]\n",
      "Parsing signal channels: 100%|██████████████| 56/56 [00:00<00:00, 114075.29it/s]\n",
      "Parsing spike channels: 0it [00:00, ?it/s]\n",
      "Parsing event channels: 100%|██████████████████| 4/4 [00:00<00:00, 90687.65it/s]\n"
     ]
    },
    {
     "name": "stdout",
     "output_type": "stream",
     "text": [
      "Day: 6, Mouse: 9\n"
     ]
    },
    {
     "name": "stderr",
     "output_type": "stream",
     "text": [
      "Parsing data blocks:  99%|█████▉| 9039808/9122192 [00:00<00:00, 21946707.71it/s]\n",
      "Finalizing data blocks:   0%|                             | 0/3 [00:00<?, ?it/s]\n",
      "Finalizing data blocks for type 1: 100%|████| 56/56 [00:00<00:00, 588674.25it/s]\u001b[A\n",
      "\n",
      "Finalizing data blocks for type 4: 100%|█████████| 4/4 [00:00<00:00, 261.87it/s]\u001b[A\n",
      "\n",
      "Finalizing data blocks for type 5:   0%|                 | 0/56 [00:00<?, ?it/s]\u001b[A\n",
      "Finalizing data blocks for type 5:   2%|▏        | 1/56 [00:00<00:07,  7.40it/s]\u001b[A\n",
      "Finalizing data blocks for type 5:   5%|▍        | 3/56 [00:00<00:04, 11.78it/s]\u001b[A\n",
      "Finalizing data blocks for type 5: 100%|███████| 56/56 [00:00<00:00, 138.16it/s]\u001b[A\n",
      "Finalizing data blocks: 100%|█████████████████████| 3/3 [00:00<00:00,  7.06it/s]\n",
      "Parsing signal channels: 100%|██████████████| 56/56 [00:00<00:00, 111794.87it/s]\n",
      "Parsing spike channels: 0it [00:00, ?it/s]\n",
      "Parsing event channels: 100%|██████████████████| 4/4 [00:00<00:00, 93206.76it/s]\n"
     ]
    },
    {
     "name": "stdout",
     "output_type": "stream",
     "text": [
      "Day: 6, Mouse: 27\n"
     ]
    },
    {
     "name": "stderr",
     "output_type": "stream",
     "text": [
      "Parsing data blocks:  99%|█████▉| 5766592/5848976 [00:00<00:00, 18066396.44it/s]\n",
      "Finalizing data blocks:   0%|                             | 0/3 [00:00<?, ?it/s]\n",
      "Finalizing data blocks for type 1: 100%|████| 56/56 [00:00<00:00, 571486.68it/s]\u001b[A\n",
      "\n",
      "Finalizing data blocks for type 4: 100%|█████████| 4/4 [00:00<00:00, 263.10it/s]\u001b[A\n",
      "\n",
      "Finalizing data blocks for type 5:   0%|                 | 0/56 [00:00<?, ?it/s]\u001b[A\n",
      "Finalizing data blocks for type 5: 100%|███████| 56/56 [00:00<00:00, 215.54it/s]\u001b[A\n",
      "Finalizing data blocks: 100%|█████████████████████| 3/3 [00:00<00:00, 10.75it/s]\n",
      "Parsing signal channels: 100%|██████████████| 56/56 [00:00<00:00, 198546.93it/s]\n",
      "Parsing spike channels: 0it [00:00, ?it/s]\n",
      "Parsing event channels: 100%|██████████████████| 4/4 [00:00<00:00, 92691.80it/s]\n"
     ]
    },
    {
     "name": "stdout",
     "output_type": "stream",
     "text": [
      "Day: 6, Mouse: 20\n"
     ]
    },
    {
     "name": "stderr",
     "output_type": "stream",
     "text": [
      "Parsing data blocks:  98%|█████▉| 5399488/5481872 [00:00<00:00, 21384287.77it/s]\n",
      "Finalizing data blocks:   0%|                             | 0/3 [00:00<?, ?it/s]\n",
      "Finalizing data blocks for type 1: 100%|████| 56/56 [00:00<00:00, 623026.59it/s]\u001b[A\n",
      "\n",
      "Finalizing data blocks for type 4: 100%|█████████| 4/4 [00:00<00:00, 257.58it/s]\u001b[A\n",
      "\n",
      "Finalizing data blocks for type 5:   0%|                 | 0/56 [00:00<?, ?it/s]\u001b[A\n",
      "Finalizing data blocks for type 5: 100%|███████| 56/56 [00:00<00:00, 232.45it/s]\u001b[A\n",
      "Finalizing data blocks: 100%|█████████████████████| 3/3 [00:00<00:00, 11.52it/s]\n",
      "Parsing signal channels: 100%|██████████████| 56/56 [00:00<00:00, 197877.86it/s]\n",
      "Parsing spike channels: 0it [00:00, ?it/s]\n",
      "Parsing event channels: 100%|██████████████████| 4/4 [00:00<00:00, 86928.58it/s]\n"
     ]
    },
    {
     "name": "stdout",
     "output_type": "stream",
     "text": [
      "Day: 6, Mouse: 19\n"
     ]
    },
    {
     "name": "stderr",
     "output_type": "stream",
     "text": [
      "Parsing data blocks: 100%|███▉| 25156288/25238672 [00:01<00:00, 19310928.86it/s]\n",
      "Finalizing data blocks:   0%|                             | 0/3 [00:00<?, ?it/s]\n",
      "Finalizing data blocks for type 1: 100%|████| 56/56 [00:00<00:00, 610080.58it/s]\u001b[A\n",
      "\n",
      "Finalizing data blocks for type 4: 100%|█████████| 4/4 [00:00<00:00, 265.46it/s]\u001b[A\n",
      "\n",
      "Finalizing data blocks for type 5:   0%|                 | 0/56 [00:00<?, ?it/s]\u001b[A\n",
      "Finalizing data blocks for type 5:   2%|▏        | 1/56 [00:00<00:20,  2.67it/s]\u001b[A\n",
      "Finalizing data blocks for type 5:   5%|▍        | 3/56 [00:00<00:12,  4.27it/s]\u001b[A\n",
      "Finalizing data blocks for type 5: 100%|████████| 56/56 [00:01<00:00, 49.95it/s]\u001b[A\n",
      "Finalizing data blocks: 100%|█████████████████████| 3/3 [00:01<00:00,  2.63it/s]\n",
      "Parsing signal channels: 100%|██████████████| 56/56 [00:00<00:00, 113141.15it/s]\n",
      "Parsing spike channels: 0it [00:00, ?it/s]\n",
      "Parsing event channels: 100%|██████████████████| 4/4 [00:00<00:00, 95325.09it/s]\n"
     ]
    },
    {
     "name": "stdout",
     "output_type": "stream",
     "text": [
      "Day: 6, Mouse: 25\n"
     ]
    },
    {
     "name": "stderr",
     "output_type": "stream",
     "text": [
      "Parsing data blocks:  99%|█████▉| 5692096/5774480 [00:00<00:00, 22641162.20it/s]\n",
      "Finalizing data blocks:   0%|                             | 0/3 [00:00<?, ?it/s]\n",
      "Finalizing data blocks for type 1: 100%|████| 56/56 [00:00<00:00, 582831.33it/s]\u001b[A\n",
      "\n",
      "Finalizing data blocks for type 4: 100%|█████████| 4/4 [00:00<00:00, 265.02it/s]\u001b[A\n",
      "\n",
      "Finalizing data blocks for type 5:   0%|                 | 0/56 [00:00<?, ?it/s]\u001b[A\n",
      "Finalizing data blocks for type 5: 100%|███████| 56/56 [00:00<00:00, 221.54it/s]\u001b[A\n",
      "Finalizing data blocks: 100%|█████████████████████| 3/3 [00:00<00:00, 11.02it/s]\n",
      "Parsing signal channels: 100%|██████████████| 56/56 [00:00<00:00, 136320.97it/s]\n",
      "Parsing spike channels: 0it [00:00, ?it/s]\n",
      "Parsing event channels: 100%|██████████████████| 4/4 [00:00<00:00, 95325.09it/s]\n"
     ]
    },
    {
     "name": "stdout",
     "output_type": "stream",
     "text": [
      "Day: 6, Mouse: 18\n"
     ]
    },
    {
     "name": "stderr",
     "output_type": "stream",
     "text": [
      "Parsing data blocks:  99%|███▉| 12529568/12611952 [00:00<00:00, 17918172.44it/s]\n",
      "Finalizing data blocks:   0%|                             | 0/3 [00:00<?, ?it/s]\n",
      "Finalizing data blocks for type 1: 100%|████| 56/56 [00:00<00:00, 584281.15it/s]\u001b[A\n",
      "\n",
      "Finalizing data blocks for type 4: 100%|█████████| 4/4 [00:00<00:00, 127.44it/s]\u001b[A\n",
      "\n",
      "Finalizing data blocks for type 5:   0%|                 | 0/56 [00:00<?, ?it/s]\u001b[A\n",
      "Finalizing data blocks for type 5:   2%|▏        | 1/56 [00:00<00:10,  5.17it/s]\u001b[A\n",
      "Finalizing data blocks for type 5:   5%|▍        | 3/56 [00:00<00:06,  8.26it/s]\u001b[A\n",
      "Finalizing data blocks for type 5: 100%|████████| 56/56 [00:00<00:00, 97.04it/s]\u001b[A\n",
      "Finalizing data blocks: 100%|█████████████████████| 3/3 [00:00<00:00,  4.89it/s]\n",
      "Parsing signal channels: 100%|███████████████| 56/56 [00:00<00:00, 71588.24it/s]\n",
      "Parsing spike channels: 0it [00:00, ?it/s]\n",
      "Parsing event channels: 100%|██████████████████| 4/4 [00:00<00:00, 92691.80it/s]\n"
     ]
    },
    {
     "name": "stdout",
     "output_type": "stream",
     "text": [
      "Day: 7, Mouse: 18\n"
     ]
    },
    {
     "name": "stderr",
     "output_type": "stream",
     "text": [
      "Parsing data blocks:  99%|███▉| 10229408/10311792 [00:00<00:00, 18732782.64it/s]\n",
      "Finalizing data blocks:   0%|                             | 0/3 [00:00<?, ?it/s]\n",
      "Finalizing data blocks for type 1: 100%|████| 56/56 [00:00<00:00, 602259.04it/s]\u001b[A\n",
      "\n",
      "Finalizing data blocks for type 4: 100%|█████████| 4/4 [00:00<00:00, 122.80it/s]\u001b[A\n",
      "\n",
      "Finalizing data blocks for type 5:   0%|                 | 0/56 [00:00<?, ?it/s]\u001b[A\n",
      "Finalizing data blocks for type 5:   2%|▏        | 1/56 [00:00<00:08,  6.36it/s]\u001b[A\n",
      "Finalizing data blocks for type 5:   5%|▍        | 3/56 [00:00<00:05, 10.09it/s]\u001b[A\n",
      "Finalizing data blocks for type 5: 100%|███████| 56/56 [00:00<00:00, 118.02it/s]\u001b[A\n",
      "Finalizing data blocks: 100%|█████████████████████| 3/3 [00:00<00:00,  5.87it/s]\n",
      "Parsing signal channels: 100%|██████████████| 56/56 [00:00<00:00, 116450.68it/s]\n",
      "Parsing spike channels: 0it [00:00, ?it/s]\n",
      "Parsing event channels: 100%|██████████████████| 4/4 [00:00<00:00, 92691.80it/s]\n"
     ]
    },
    {
     "name": "stdout",
     "output_type": "stream",
     "text": [
      "Day: 7, Mouse: 26\n"
     ]
    },
    {
     "name": "stderr",
     "output_type": "stream",
     "text": [
      "Parsing data blocks: 100%|███▉| 17265824/17348208 [00:00<00:00, 18902374.26it/s]\n",
      "Finalizing data blocks:   0%|                             | 0/3 [00:00<?, ?it/s]\n",
      "Finalizing data blocks for type 1: 100%|████| 56/56 [00:00<00:00, 594635.50it/s]\u001b[A\n",
      "\n",
      "Finalizing data blocks for type 4: 100%|█████████| 4/4 [00:00<00:00, 123.73it/s]\u001b[A\n",
      "\n",
      "Finalizing data blocks for type 5:   0%|                 | 0/56 [00:00<?, ?it/s]\u001b[A\n",
      "Finalizing data blocks for type 5:   2%|▏        | 1/56 [00:00<00:14,  3.75it/s]\u001b[A\n",
      "Finalizing data blocks for type 5:   5%|▍        | 3/56 [00:00<00:08,  5.99it/s]\u001b[A\n",
      "Finalizing data blocks for type 5: 100%|████████| 56/56 [00:00<00:00, 70.17it/s]\u001b[A\n",
      "Finalizing data blocks: 100%|█████████████████████| 3/3 [00:00<00:00,  3.60it/s]\n",
      "Parsing signal channels: 100%|██████████████| 56/56 [00:00<00:00, 107300.60it/s]\n",
      "Parsing spike channels: 0it [00:00, ?it/s]\n",
      "Parsing event channels: 100%|██████████████████| 4/4 [00:00<00:00, 93206.76it/s]\n"
     ]
    },
    {
     "name": "stdout",
     "output_type": "stream",
     "text": [
      "Day: 7, Mouse: 14\n"
     ]
    },
    {
     "name": "stderr",
     "output_type": "stream",
     "text": [
      "Parsing data blocks:  99%|███▉| 13312928/13395312 [00:00<00:00, 18815185.98it/s]\n",
      "Finalizing data blocks:   0%|                             | 0/3 [00:00<?, ?it/s]\n",
      "Finalizing data blocks for type 1: 100%|████| 56/56 [00:00<00:00, 602259.04it/s]\u001b[A\n",
      "\n",
      "Finalizing data blocks for type 4: 100%|█████████| 4/4 [00:00<00:00, 124.27it/s]\u001b[A\n",
      "\n",
      "Finalizing data blocks for type 5:   0%|                 | 0/56 [00:00<?, ?it/s]\u001b[A\n",
      "Finalizing data blocks for type 5:   2%|▏        | 1/56 [00:00<00:11,  4.93it/s]\u001b[A\n",
      "Finalizing data blocks for type 5:   5%|▍        | 3/56 [00:00<00:06,  7.83it/s]\u001b[A\n",
      "Finalizing data blocks for type 5: 100%|████████| 56/56 [00:00<00:00, 91.63it/s]\u001b[A\n",
      "Finalizing data blocks: 100%|█████████████████████| 3/3 [00:00<00:00,  4.63it/s]\n",
      "Parsing signal channels: 100%|███████████████| 56/56 [00:00<00:00, 63072.24it/s]\n",
      "Parsing spike channels: 0it [00:00, ?it/s]\n",
      "Parsing event channels: 100%|██████████████████| 4/4 [00:00<00:00, 99864.38it/s]\n"
     ]
    },
    {
     "name": "stdout",
     "output_type": "stream",
     "text": [
      "Day: 7, Mouse: 3\n"
     ]
    },
    {
     "name": "stderr",
     "output_type": "stream",
     "text": [
      "Parsing data blocks: 100%|███▉| 21940640/22023024 [00:01<00:00, 17992094.71it/s]\n",
      "Finalizing data blocks:   0%|                             | 0/3 [00:00<?, ?it/s]\n",
      "Finalizing data blocks for type 1: 100%|████| 56/56 [00:00<00:00, 590153.33it/s]\u001b[A\n",
      "\n",
      "Finalizing data blocks for type 4: 100%|█████████| 4/4 [00:00<00:00, 126.21it/s]\u001b[A\n",
      "\n",
      "Finalizing data blocks for type 5:   0%|                 | 0/56 [00:00<?, ?it/s]\u001b[A\n",
      "Finalizing data blocks for type 5:   2%|▏        | 1/56 [00:00<00:18,  2.98it/s]\u001b[A\n",
      "Finalizing data blocks for type 5:   5%|▍        | 3/56 [00:00<00:11,  4.75it/s]\u001b[A\n",
      "Finalizing data blocks for type 5: 100%|████████| 56/56 [00:01<00:00, 55.08it/s]\u001b[A\n",
      "Finalizing data blocks: 100%|█████████████████████| 3/3 [00:01<00:00,  2.85it/s]\n",
      "Parsing signal channels: 100%|███████████████| 56/56 [00:00<00:00, 98400.09it/s]\n",
      "Parsing spike channels: 0it [00:00, ?it/s]\n",
      "Parsing event channels: 100%|██████████████████| 4/4 [00:00<00:00, 99864.38it/s]\n"
     ]
    },
    {
     "name": "stdout",
     "output_type": "stream",
     "text": [
      "Day: 7, Mouse: 17\n"
     ]
    },
    {
     "name": "stderr",
     "output_type": "stream",
     "text": [
      "Parsing data blocks:  99%|███▉| 12586400/12668784 [00:00<00:00, 17937986.00it/s]\n",
      "Finalizing data blocks:   0%|                             | 0/3 [00:00<?, ?it/s]\n",
      "Finalizing data blocks for type 1: 100%|████| 56/56 [00:00<00:00, 542450.40it/s]\u001b[A\n",
      "\n",
      "Finalizing data blocks for type 4: 100%|█████████| 4/4 [00:00<00:00, 125.69it/s]\u001b[A\n",
      "\n",
      "Finalizing data blocks for type 5:   0%|                 | 0/56 [00:00<?, ?it/s]\u001b[A\n",
      "Finalizing data blocks for type 5:   2%|▏        | 1/56 [00:00<00:10,  5.11it/s]\u001b[A\n",
      "Finalizing data blocks for type 5:   5%|▍        | 3/56 [00:00<00:06,  8.15it/s]\u001b[A\n",
      "Finalizing data blocks for type 5: 100%|████████| 56/56 [00:00<00:00, 95.47it/s]\u001b[A\n",
      "Finalizing data blocks: 100%|█████████████████████| 3/3 [00:00<00:00,  4.82it/s]\n",
      "Parsing signal channels: 100%|██████████████| 56/56 [00:00<00:00, 135926.52it/s]\n",
      "Parsing spike channels: 0it [00:00, ?it/s]\n",
      "Parsing event channels: 100%|██████████████████| 4/4 [00:00<00:00, 88768.34it/s]\n"
     ]
    },
    {
     "name": "stdout",
     "output_type": "stream",
     "text": [
      "Day: 7, Mouse: 34\n"
     ]
    },
    {
     "name": "stderr",
     "output_type": "stream",
     "text": [
      "Parsing data blocks:  99%|███▉| 11187104/11269488 [00:00<00:00, 17582373.40it/s]\n",
      "Finalizing data blocks:   0%|                             | 0/3 [00:00<?, ?it/s]\n",
      "Finalizing data blocks for type 1: 100%|████| 56/56 [00:00<00:00, 553964.68it/s]\u001b[A\n",
      "\n",
      "Finalizing data blocks for type 4: 100%|█████████| 4/4 [00:00<00:00, 127.66it/s]\u001b[A\n",
      "\n",
      "Finalizing data blocks for type 5:   0%|                 | 0/56 [00:00<?, ?it/s]\u001b[A\n",
      "Finalizing data blocks for type 5:   2%|▏        | 1/56 [00:00<00:09,  5.73it/s]\u001b[A\n",
      "Finalizing data blocks for type 5:   5%|▍        | 3/56 [00:00<00:05,  9.22it/s]\u001b[A\n",
      "Finalizing data blocks for type 5: 100%|███████| 56/56 [00:00<00:00, 107.73it/s]\u001b[A\n",
      "Finalizing data blocks: 100%|█████████████████████| 3/3 [00:00<00:00,  5.40it/s]\n",
      "Parsing signal channels: 100%|██████████████| 56/56 [00:00<00:00, 110688.51it/s]\n",
      "Parsing spike channels: 0it [00:00, ?it/s]\n",
      "Parsing event channels: 100%|██████████████████| 4/4 [00:00<00:00, 92691.80it/s]\n"
     ]
    },
    {
     "name": "stdout",
     "output_type": "stream",
     "text": [
      "Day: 7, Mouse: 29\n"
     ]
    },
    {
     "name": "stderr",
     "output_type": "stream",
     "text": [
      "Parsing data blocks:  99%|███▉| 11936672/12019056 [00:00<00:00, 17288674.73it/s]\n",
      "Finalizing data blocks:   0%|                             | 0/3 [00:00<?, ?it/s]\n",
      "Finalizing data blocks for type 1: 100%|████| 56/56 [00:00<00:00, 572880.55it/s]\u001b[A\n",
      "\n",
      "Finalizing data blocks for type 4: 100%|█████████| 4/4 [00:00<00:00, 128.11it/s]\u001b[A\n",
      "\n",
      "Finalizing data blocks for type 5:   0%|                 | 0/56 [00:00<?, ?it/s]\u001b[A\n",
      "Finalizing data blocks for type 5:   2%|▏        | 1/56 [00:00<00:10,  5.35it/s]\u001b[A\n",
      "Finalizing data blocks for type 5:   5%|▍        | 3/56 [00:00<00:06,  8.59it/s]\u001b[A\n",
      "Finalizing data blocks for type 5: 100%|███████| 56/56 [00:00<00:00, 100.69it/s]\u001b[A\n",
      "Finalizing data blocks: 100%|█████████████████████| 3/3 [00:00<00:00,  5.07it/s]\n",
      "Parsing signal channels: 100%|███████████████| 56/56 [00:00<00:00, 82241.25it/s]\n",
      "Parsing spike channels: 0it [00:00, ?it/s]\n",
      "Parsing event channels: 100%|█████████████████| 4/4 [00:00<00:00, 102927.71it/s]\n"
     ]
    },
    {
     "name": "stdout",
     "output_type": "stream",
     "text": [
      "Day: 7, Mouse: 25\n"
     ]
    },
    {
     "name": "stderr",
     "output_type": "stream",
     "text": [
      "Parsing data blocks: 100%|███▉| 25117856/25200240 [00:01<00:00, 17177267.12it/s]\n",
      "Finalizing data blocks:   0%|                             | 0/3 [00:00<?, ?it/s]\n",
      "Finalizing data blocks for type 1: 100%|████| 56/56 [00:00<00:00, 608500.06it/s]\u001b[A\n",
      "\n",
      "Finalizing data blocks for type 4: 100%|█████████| 4/4 [00:00<00:00, 126.13it/s]\u001b[A\n",
      "\n",
      "Finalizing data blocks for type 5:   0%|                 | 0/56 [00:00<?, ?it/s]\u001b[A\n",
      "Finalizing data blocks for type 5:   2%|▏        | 1/56 [00:00<00:21,  2.52it/s]\u001b[A\n",
      "Finalizing data blocks for type 5:   5%|▍        | 3/56 [00:00<00:13,  4.03it/s]\u001b[A\n",
      "Finalizing data blocks for type 5: 100%|████████| 56/56 [00:01<00:00, 47.00it/s]\u001b[A\n",
      "Finalizing data blocks: 100%|█████████████████████| 3/3 [00:01<00:00,  2.44it/s]\n",
      "Parsing signal channels: 100%|██████████████| 56/56 [00:00<00:00, 108140.43it/s]\n",
      "Parsing spike channels: 0it [00:00, ?it/s]\n",
      "Parsing event channels: 100%|██████████████████| 4/4 [00:00<00:00, 99864.38it/s]\n"
     ]
    },
    {
     "name": "stdout",
     "output_type": "stream",
     "text": [
      "Day: 7, Mouse: 13\n"
     ]
    },
    {
     "name": "stderr",
     "output_type": "stream",
     "text": [
      "Parsing data blocks:  99%|███▉| 13709216/13791600 [00:00<00:00, 17138553.88it/s]\n",
      "Finalizing data blocks:   0%|                             | 0/3 [00:00<?, ?it/s]\n",
      "Finalizing data blocks for type 1: 100%|████| 56/56 [00:00<00:00, 596144.73it/s]\u001b[A\n",
      "\n",
      "Finalizing data blocks for type 4: 100%|█████████| 4/4 [00:00<00:00, 126.65it/s]\u001b[A\n",
      "\n",
      "Finalizing data blocks for type 5:   0%|                 | 0/56 [00:00<?, ?it/s]\u001b[A\n",
      "Finalizing data blocks for type 5:   2%|▏        | 1/56 [00:00<00:11,  4.68it/s]\u001b[A\n",
      "Finalizing data blocks for type 5:   5%|▍        | 3/56 [00:00<00:07,  7.45it/s]\u001b[A\n",
      "Finalizing data blocks for type 5: 100%|████████| 56/56 [00:00<00:00, 87.75it/s]\u001b[A\n",
      "Finalizing data blocks: 100%|█████████████████████| 3/3 [00:00<00:00,  4.45it/s]\n",
      "Parsing signal channels: 100%|██████████████| 56/56 [00:00<00:00, 111107.39it/s]\n",
      "Parsing spike channels: 0it [00:00, ?it/s]\n",
      "Parsing event channels: 100%|██████████████████| 4/4 [00:00<00:00, 95325.09it/s]\n"
     ]
    },
    {
     "name": "stdout",
     "output_type": "stream",
     "text": [
      "Day: 7, Mouse: 4\n"
     ]
    },
    {
     "name": "stderr",
     "output_type": "stream",
     "text": [
      "Parsing data blocks:  99%|███▉| 13199264/13281648 [00:00<00:00, 17249206.75it/s]\n",
      "Finalizing data blocks:   0%|                             | 0/3 [00:00<?, ?it/s]\n",
      "Finalizing data blocks for type 1: 100%|████| 56/56 [00:00<00:00, 616485.63it/s]\u001b[A\n",
      "\n",
      "Finalizing data blocks for type 4: 100%|█████████| 4/4 [00:00<00:00, 124.10it/s]\u001b[A\n",
      "\n",
      "Finalizing data blocks for type 5:   0%|                 | 0/56 [00:00<?, ?it/s]\u001b[A\n",
      "Finalizing data blocks for type 5:   2%|▏        | 1/56 [00:00<00:11,  4.82it/s]\u001b[A\n",
      "Finalizing data blocks for type 5:   5%|▍        | 3/56 [00:00<00:06,  7.66it/s]\u001b[A\n",
      "Finalizing data blocks for type 5: 100%|████████| 56/56 [00:00<00:00, 89.93it/s]\u001b[A\n",
      "Finalizing data blocks: 100%|█████████████████████| 3/3 [00:00<00:00,  4.55it/s]\n",
      "Parsing signal channels: 100%|██████████████| 56/56 [00:00<00:00, 109808.80it/s]\n",
      "Parsing spike channels: 0it [00:00, ?it/s]\n",
      "Parsing event channels: 100%|█████████████████| 4/4 [00:00<00:00, 101680.10it/s]\n"
     ]
    },
    {
     "name": "stdout",
     "output_type": "stream",
     "text": [
      "Day: 7, Mouse: 30\n"
     ]
    },
    {
     "name": "stderr",
     "output_type": "stream",
     "text": [
      "Parsing data blocks:  99%|███▉| 13432736/13515120 [00:00<00:00, 17412644.17it/s]\n",
      "Finalizing data blocks:   0%|                             | 0/3 [00:00<?, ?it/s]\n",
      "Finalizing data blocks for type 1: 100%|████| 56/56 [00:00<00:00, 582831.33it/s]\u001b[A\n",
      "\n",
      "Finalizing data blocks for type 4: 100%|█████████| 4/4 [00:00<00:00, 125.25it/s]\u001b[A\n",
      "\n",
      "Finalizing data blocks for type 5:   0%|                 | 0/56 [00:00<?, ?it/s]\u001b[A\n",
      "Finalizing data blocks for type 5:   2%|▏        | 1/56 [00:00<00:11,  4.74it/s]\u001b[A\n",
      "Finalizing data blocks for type 5:   5%|▍        | 3/56 [00:00<00:07,  7.52it/s]\u001b[A\n",
      "Finalizing data blocks for type 5: 100%|████████| 56/56 [00:00<00:00, 88.57it/s]\u001b[A\n",
      "Finalizing data blocks: 100%|█████████████████████| 3/3 [00:00<00:00,  4.49it/s]\n",
      "Parsing signal channels: 100%|██████████████| 56/56 [00:00<00:00, 116162.72it/s]\n",
      "Parsing spike channels: 0it [00:00, ?it/s]\n",
      "Parsing event channels: 100%|██████████████████| 4/4 [00:00<00:00, 95325.09it/s]\n"
     ]
    },
    {
     "name": "stdout",
     "output_type": "stream",
     "text": [
      "Day: 7, Mouse: 8\n"
     ]
    },
    {
     "name": "stderr",
     "output_type": "stream",
     "text": [
      "Parsing data blocks:  99%|███▉| 10496672/10579056 [00:00<00:00, 16760137.59it/s]\n",
      "Finalizing data blocks:   0%|                             | 0/3 [00:00<?, ?it/s]\n",
      "Finalizing data blocks for type 1: 100%|████| 56/56 [00:00<00:00, 603807.26it/s]\u001b[A\n",
      "\n",
      "Finalizing data blocks for type 4: 100%|█████████| 4/4 [00:00<00:00, 125.40it/s]\u001b[A\n",
      "\n",
      "Finalizing data blocks for type 5:   0%|                 | 0/56 [00:00<?, ?it/s]\u001b[A\n",
      "Finalizing data blocks for type 5:   2%|▏        | 1/56 [00:00<00:09,  6.02it/s]\u001b[A\n",
      "Finalizing data blocks for type 5:   5%|▍        | 3/56 [00:00<00:05,  9.73it/s]\u001b[A\n",
      "Finalizing data blocks for type 5: 100%|███████| 56/56 [00:00<00:00, 114.28it/s]\u001b[A\n",
      "Finalizing data blocks: 100%|█████████████████████| 3/3 [00:00<00:00,  5.70it/s]\n",
      "Parsing signal channels: 100%|███████████████| 56/56 [00:00<00:00, 89889.41it/s]\n",
      "Parsing spike channels: 0it [00:00, ?it/s]\n",
      "Parsing event channels: 100%|██████████████████| 4/4 [00:00<00:00, 94786.53it/s]\n"
     ]
    },
    {
     "name": "stdout",
     "output_type": "stream",
     "text": [
      "Day: 7, Mouse: 21\n"
     ]
    },
    {
     "name": "stderr",
     "output_type": "stream",
     "text": [
      "Parsing data blocks:  99%|███▉| 10730144/10812528 [00:00<00:00, 16815981.57it/s]\n",
      "Finalizing data blocks:   0%|                             | 0/3 [00:00<?, ?it/s]\n",
      "Finalizing data blocks for type 1: 100%|████| 56/56 [00:00<00:00, 596144.73it/s]\u001b[A\n",
      "\n",
      "Finalizing data blocks for type 4: 100%|█████████| 4/4 [00:00<00:00, 127.72it/s]\u001b[A\n",
      "\n",
      "Finalizing data blocks for type 5:   0%|                 | 0/56 [00:00<?, ?it/s]\u001b[A\n",
      "Finalizing data blocks for type 5:   2%|▏        | 1/56 [00:00<00:09,  6.01it/s]\u001b[A\n",
      "Finalizing data blocks for type 5:   5%|▍        | 3/56 [00:00<00:05,  9.55it/s]\u001b[A\n",
      "Finalizing data blocks for type 5: 100%|███████| 56/56 [00:00<00:00, 112.15it/s]\u001b[A\n",
      "Finalizing data blocks: 100%|█████████████████████| 3/3 [00:00<00:00,  5.61it/s]\n",
      "Parsing signal channels: 100%|██████████████| 56/56 [00:00<00:00, 112923.57it/s]\n",
      "Parsing spike channels: 0it [00:00, ?it/s]\n",
      "Parsing event channels: 100%|██████████████████| 4/4 [00:00<00:00, 94786.53it/s]\n"
     ]
    },
    {
     "name": "stdout",
     "output_type": "stream",
     "text": [
      "Day: 7, Mouse: 22\n"
     ]
    },
    {
     "name": "stderr",
     "output_type": "stream",
     "text": [
      "Parsing data blocks:  99%|███▉| 15614624/15697008 [00:00<00:00, 17873550.96it/s]\n",
      "Finalizing data blocks:   0%|                             | 0/3 [00:00<?, ?it/s]\n",
      "Finalizing data blocks for type 1: 100%|████| 56/56 [00:00<00:00, 610080.58it/s]\u001b[A\n",
      "\n",
      "Finalizing data blocks for type 4: 100%|█████████| 4/4 [00:00<00:00, 123.83it/s]\u001b[A\n",
      "\n",
      "Finalizing data blocks for type 5:   0%|                 | 0/56 [00:00<?, ?it/s]\u001b[A\n",
      "Finalizing data blocks for type 5:   2%|▏        | 1/56 [00:00<00:13,  4.08it/s]\u001b[A\n",
      "Finalizing data blocks for type 5:   5%|▍        | 3/56 [00:00<00:08,  6.51it/s]\u001b[A\n",
      "Finalizing data blocks for type 5: 100%|████████| 56/56 [00:00<00:00, 76.14it/s]\u001b[A\n",
      "Finalizing data blocks: 100%|█████████████████████| 3/3 [00:00<00:00,  3.89it/s]\n",
      "Parsing signal channels: 100%|██████████████| 56/56 [00:00<00:00, 129055.51it/s]\n",
      "Parsing spike channels: 0it [00:00, ?it/s]\n",
      "Parsing event channels: 100%|██████████████████| 4/4 [00:00<00:00, 83886.08it/s]\n"
     ]
    },
    {
     "name": "stdout",
     "output_type": "stream",
     "text": [
      "Day: 7, Mouse: 10\n"
     ]
    },
    {
     "name": "stderr",
     "output_type": "stream",
     "text": [
      "Parsing data blocks: 100%|███▉| 16478624/16561008 [00:00<00:00, 17293166.28it/s]\n",
      "Finalizing data blocks:   0%|                             | 0/3 [00:00<?, ?it/s]\n",
      "Finalizing data blocks for type 1: 100%|████| 56/56 [00:00<00:00, 596144.73it/s]\u001b[A\n",
      "\n",
      "Finalizing data blocks for type 4: 100%|█████████| 4/4 [00:00<00:00, 123.41it/s]\u001b[A\n",
      "\n",
      "Finalizing data blocks for type 5:   0%|                 | 0/56 [00:00<?, ?it/s]\u001b[A\n",
      "Finalizing data blocks for type 5:   2%|▏        | 1/56 [00:00<00:14,  3.87it/s]\u001b[A\n",
      "Finalizing data blocks for type 5:   5%|▍        | 3/56 [00:00<00:08,  6.06it/s]\u001b[A\n",
      "Finalizing data blocks for type 5: 100%|████████| 56/56 [00:00<00:00, 71.46it/s]\u001b[A\n",
      "Finalizing data blocks: 100%|█████████████████████| 3/3 [00:00<00:00,  3.66it/s]\n",
      "Parsing signal channels: 100%|██████████████| 56/56 [00:00<00:00, 123556.56it/s]\n",
      "Parsing spike channels: 0it [00:00, ?it/s]\n",
      "Parsing event channels: 100%|██████████████████| 4/4 [00:00<00:00, 97541.95it/s]\n"
     ]
    },
    {
     "name": "stdout",
     "output_type": "stream",
     "text": [
      "Day: 7, Mouse: 7\n"
     ]
    },
    {
     "name": "stderr",
     "output_type": "stream",
     "text": [
      "Parsing data blocks: 100%|███▉| 23419040/23501424 [00:01<00:00, 16896852.35it/s]\n",
      "Finalizing data blocks:   0%|                             | 0/3 [00:00<?, ?it/s]\n",
      "Finalizing data blocks for type 1: 100%|████| 56/56 [00:00<00:00, 570099.57it/s]\u001b[A\n",
      "\n",
      "Finalizing data blocks for type 4: 100%|█████████| 4/4 [00:00<00:00, 126.07it/s]\u001b[A\n",
      "\n",
      "Finalizing data blocks for type 5:   0%|                 | 0/56 [00:00<?, ?it/s]\u001b[A\n",
      "Finalizing data blocks for type 5:   2%|▏        | 1/56 [00:00<00:20,  2.71it/s]\u001b[A\n",
      "Finalizing data blocks for type 5:   5%|▍        | 3/56 [00:00<00:12,  4.31it/s]\u001b[A\n",
      "Finalizing data blocks for type 5: 100%|████████| 56/56 [00:01<00:00, 51.03it/s]\u001b[A\n",
      "Finalizing data blocks: 100%|█████████████████████| 3/3 [00:01<00:00,  2.65it/s]\n",
      "Parsing signal channels: 100%|██████████████| 56/56 [00:00<00:00, 109196.20it/s]\n",
      "Parsing spike channels: 0it [00:00, ?it/s]\n",
      "Parsing event channels: 100%|██████████████████| 4/4 [00:00<00:00, 92691.80it/s]\n"
     ]
    },
    {
     "name": "stdout",
     "output_type": "stream",
     "text": [
      "Day: 7, Mouse: 33\n"
     ]
    },
    {
     "name": "stderr",
     "output_type": "stream",
     "text": [
      "Parsing data blocks:  99%|███▉| 11256224/11338608 [00:00<00:00, 20586462.42it/s]\n",
      "Finalizing data blocks:   0%|                             | 0/3 [00:00<?, ?it/s]\n",
      "Finalizing data blocks for type 1: 100%|████| 56/56 [00:00<00:00, 590153.33it/s]\u001b[A\n",
      "\n",
      "Finalizing data blocks for type 4: 100%|█████████| 4/4 [00:00<00:00, 119.55it/s]\u001b[A\n",
      "\n",
      "Finalizing data blocks for type 5:   0%|                 | 0/56 [00:00<?, ?it/s]\u001b[A\n",
      "Finalizing data blocks for type 5:   2%|▏        | 1/56 [00:00<00:21,  2.55it/s]\u001b[A\n",
      "Finalizing data blocks for type 5:   5%|▍        | 3/56 [00:00<00:10,  5.03it/s]\u001b[A\n",
      "Finalizing data blocks for type 5: 100%|████████| 56/56 [00:00<00:00, 65.39it/s]\u001b[A\n",
      "Finalizing data blocks: 100%|█████████████████████| 3/3 [00:00<00:00,  3.36it/s]\n",
      "Parsing signal channels: 100%|███████████████| 56/56 [00:00<00:00, 76483.56it/s]\n",
      "Parsing spike channels: 0it [00:00, ?it/s]\n",
      "Parsing event channels: 100%|██████████████████| 4/4 [00:00<00:00, 72944.42it/s]\n"
     ]
    },
    {
     "name": "stdout",
     "output_type": "stream",
     "text": [
      "Day: 7, Mouse: 19\n"
     ]
    },
    {
     "name": "stderr",
     "output_type": "stream",
     "text": [
      "Parsing data blocks:  99%|███▉| 13522592/13604976 [00:00<00:00, 17679640.97it/s]\n",
      "Finalizing data blocks:   0%|                             | 0/3 [00:00<?, ?it/s]\n",
      "Finalizing data blocks for type 1: 100%|████| 56/56 [00:00<00:00, 596144.73it/s]\u001b[A\n",
      "\n",
      "Finalizing data blocks for type 4: 100%|█████████| 4/4 [00:00<00:00, 131.01it/s]\u001b[A\n",
      "\n",
      "Finalizing data blocks for type 5:   0%|                 | 0/56 [00:00<?, ?it/s]\u001b[A\n",
      "Finalizing data blocks for type 5:   2%|▏        | 1/56 [00:00<00:12,  4.58it/s]\u001b[A\n",
      "Finalizing data blocks for type 5:   5%|▍        | 3/56 [00:00<00:07,  7.45it/s]\u001b[A\n",
      "Finalizing data blocks for type 5: 100%|████████| 56/56 [00:00<00:00, 85.97it/s]\u001b[A\n",
      "Finalizing data blocks: 100%|█████████████████████| 3/3 [00:00<00:00,  4.37it/s]\n",
      "Parsing signal channels: 100%|███████████████| 56/56 [00:00<00:00, 89037.54it/s]\n",
      "Parsing spike channels: 0it [00:00, ?it/s]\n",
      "Parsing event channels: 100%|██████████████████| 4/4 [00:00<00:00, 97541.95it/s]\n"
     ]
    },
    {
     "name": "stdout",
     "output_type": "stream",
     "text": [
      "Day: 7, Mouse: 27\n"
     ]
    },
    {
     "name": "stderr",
     "output_type": "stream",
     "text": [
      "Parsing data blocks:  99%|███▉| 10234784/10317168 [00:00<00:00, 16747774.64it/s]\n",
      "Finalizing data blocks:   0%|                             | 0/3 [00:00<?, ?it/s]\n",
      "Finalizing data blocks for type 1: 100%|████| 56/56 [00:00<00:00, 544967.57it/s]\u001b[A\n",
      "\n",
      "Finalizing data blocks for type 4: 100%|█████████| 4/4 [00:00<00:00, 128.53it/s]\u001b[A\n",
      "\n",
      "Finalizing data blocks for type 5:   0%|                 | 0/56 [00:00<?, ?it/s]\u001b[A\n",
      "Finalizing data blocks for type 5:   2%|▏        | 1/56 [00:00<00:08,  6.38it/s]\u001b[A\n",
      "Finalizing data blocks for type 5:   5%|▍        | 3/56 [00:00<00:05, 10.11it/s]\u001b[A\n",
      "Finalizing data blocks for type 5: 100%|███████| 56/56 [00:00<00:00, 119.06it/s]\u001b[A\n",
      "Finalizing data blocks: 100%|█████████████████████| 3/3 [00:00<00:00,  5.93it/s]\n",
      "Parsing signal channels: 100%|██████████████| 56/56 [00:00<00:00, 107941.65it/s]\n",
      "Parsing spike channels: 0it [00:00, ?it/s]\n",
      "Parsing event channels: 100%|██████████████████| 4/4 [00:00<00:00, 95325.09it/s]\n"
     ]
    },
    {
     "name": "stdout",
     "output_type": "stream",
     "text": [
      "Day: 7, Mouse: 15\n"
     ]
    },
    {
     "name": "stderr",
     "output_type": "stream",
     "text": [
      "Parsing data blocks:  99%|███▉| 15340448/15422832 [00:00<00:00, 17102711.00it/s]\n",
      "Finalizing data blocks:   0%|                             | 0/3 [00:00<?, ?it/s]\n",
      "Finalizing data blocks for type 1: 100%|████| 56/56 [00:00<00:00, 585738.21it/s]\u001b[A\n",
      "\n",
      "Finalizing data blocks for type 4: 100%|█████████| 4/4 [00:00<00:00, 130.36it/s]\u001b[A\n",
      "\n",
      "Finalizing data blocks for type 5:   0%|                 | 0/56 [00:00<?, ?it/s]\u001b[A\n",
      "Finalizing data blocks for type 5:   2%|▏        | 1/56 [00:00<00:13,  4.14it/s]\u001b[A\n",
      "Finalizing data blocks for type 5:   5%|▍        | 3/56 [00:00<00:08,  6.61it/s]\u001b[A\n",
      "Finalizing data blocks for type 5: 100%|████████| 56/56 [00:00<00:00, 77.35it/s]\u001b[A\n",
      "Finalizing data blocks: 100%|█████████████████████| 3/3 [00:00<00:00,  3.95it/s]\n",
      "Parsing signal channels: 100%|██████████████| 56/56 [00:00<00:00, 120948.00it/s]\n",
      "Parsing spike channels: 0it [00:00, ?it/s]\n",
      "Parsing event channels: 100%|██████████████████| 4/4 [00:00<00:00, 97541.95it/s]\n"
     ]
    },
    {
     "name": "stdout",
     "output_type": "stream",
     "text": [
      "Day: 7, Mouse: 2\n"
     ]
    },
    {
     "name": "stderr",
     "output_type": "stream",
     "text": [
      "Parsing data blocks:  99%|███▉| 10522016/10604400 [00:00<00:00, 17941848.57it/s]\n",
      "Finalizing data blocks:   0%|                             | 0/3 [00:00<?, ?it/s]\n",
      "Finalizing data blocks for type 1: 100%|████| 56/56 [00:00<00:00, 616485.63it/s]\u001b[A\n",
      "\n",
      "Finalizing data blocks for type 4: 100%|█████████| 4/4 [00:00<00:00, 110.51it/s]\u001b[A\n",
      "\n",
      "Finalizing data blocks for type 5:   0%|                 | 0/56 [00:00<?, ?it/s]\u001b[A\n",
      "Finalizing data blocks for type 5:   2%|▏        | 1/56 [00:00<00:09,  5.73it/s]\u001b[A\n",
      "Finalizing data blocks for type 5:   5%|▍        | 3/56 [00:00<00:05,  9.47it/s]\u001b[A\n",
      "Finalizing data blocks for type 5: 100%|███████| 56/56 [00:00<00:00, 112.72it/s]\u001b[A\n",
      "Finalizing data blocks: 100%|█████████████████████| 3/3 [00:00<00:00,  5.58it/s]\n",
      "Parsing signal channels: 100%|██████████████| 56/56 [00:00<00:00, 143220.14it/s]\n",
      "Parsing spike channels: 0it [00:00, ?it/s]\n",
      "Parsing event channels: 100%|██████████████████| 4/4 [00:00<00:00, 90687.65it/s]\n"
     ]
    },
    {
     "name": "stdout",
     "output_type": "stream",
     "text": [
      "Day: 7, Mouse: 16\n"
     ]
    },
    {
     "name": "stderr",
     "output_type": "stream",
     "text": [
      "Parsing data blocks:  99%|███▉| 10873760/10956144 [00:00<00:00, 19795840.67it/s]\n",
      "Finalizing data blocks:   0%|                             | 0/3 [00:00<?, ?it/s]\n",
      "Finalizing data blocks for type 1: 100%|████| 56/56 [00:00<00:00, 565978.37it/s]\u001b[A\n",
      "\n",
      "Finalizing data blocks for type 4: 100%|█████████| 4/4 [00:00<00:00, 124.33it/s]\u001b[A\n",
      "\n",
      "Finalizing data blocks for type 5:   0%|                 | 0/56 [00:00<?, ?it/s]\u001b[A\n",
      "Finalizing data blocks for type 5:   2%|▏        | 1/56 [00:00<00:09,  5.99it/s]\u001b[A\n",
      "Finalizing data blocks for type 5:   5%|▍        | 3/56 [00:00<00:05,  9.51it/s]\u001b[A\n",
      "Finalizing data blocks for type 5: 100%|███████| 56/56 [00:00<00:00, 111.84it/s]\u001b[A\n",
      "Finalizing data blocks: 100%|█████████████████████| 3/3 [00:00<00:00,  5.59it/s]\n",
      "Parsing signal channels: 100%|██████████████| 56/56 [00:00<00:00, 111318.02it/s]\n",
      "Parsing spike channels: 0it [00:00, ?it/s]\n",
      "Parsing event channels: 100%|██████████████████| 4/4 [00:00<00:00, 97541.95it/s]\n"
     ]
    },
    {
     "name": "stdout",
     "output_type": "stream",
     "text": [
      "Day: 7, Mouse: 35\n"
     ]
    },
    {
     "name": "stderr",
     "output_type": "stream",
     "text": [
      "Parsing data blocks: 100%|███▉| 16868768/16951152 [00:00<00:00, 17548930.13it/s]\n",
      "Finalizing data blocks:   0%|                             | 0/3 [00:00<?, ?it/s]\n",
      "Finalizing data blocks for type 1: 100%|████| 56/56 [00:00<00:00, 596144.73it/s]\u001b[A\n",
      "\n",
      "Finalizing data blocks for type 4: 100%|█████████| 4/4 [00:00<00:00, 125.02it/s]\u001b[A\n",
      "\n",
      "Finalizing data blocks for type 5:   0%|                 | 0/56 [00:00<?, ?it/s]\u001b[A\n",
      "Finalizing data blocks for type 5:   2%|▏        | 1/56 [00:00<00:14,  3.77it/s]\u001b[A\n",
      "Finalizing data blocks for type 5:   5%|▍        | 3/56 [00:00<00:08,  6.02it/s]\u001b[A\n",
      "Finalizing data blocks for type 5: 100%|████████| 56/56 [00:00<00:00, 70.91it/s]\u001b[A\n",
      "Finalizing data blocks: 100%|█████████████████████| 3/3 [00:00<00:00,  3.63it/s]\n",
      "Parsing signal channels: 100%|███████████████| 56/56 [00:00<00:00, 98235.48it/s]\n",
      "Parsing spike channels: 0it [00:00, ?it/s]\n",
      "Parsing event channels: 100%|██████████████████| 4/4 [00:00<00:00, 88768.34it/s]\n"
     ]
    },
    {
     "name": "stdout",
     "output_type": "stream",
     "text": [
      "Day: 7, Mouse: 1\n"
     ]
    },
    {
     "name": "stderr",
     "output_type": "stream",
     "text": [
      "Parsing data blocks:  99%|███▉| 10461344/10543728 [00:00<00:00, 18029554.08it/s]\n",
      "Finalizing data blocks:   0%|                             | 0/3 [00:00<?, ?it/s]\n",
      "Finalizing data blocks for type 1: 100%|████| 56/56 [00:00<00:00, 582831.33it/s]\u001b[A\n",
      "\n",
      "Finalizing data blocks for type 4: 100%|█████████| 4/4 [00:00<00:00, 125.74it/s]\u001b[A\n",
      "\n",
      "Finalizing data blocks for type 5:   0%|                 | 0/56 [00:00<?, ?it/s]\u001b[A\n",
      "Finalizing data blocks for type 5:   2%|▏        | 1/56 [00:00<00:08,  6.19it/s]\u001b[A\n",
      "Finalizing data blocks for type 5:   5%|▍        | 3/56 [00:00<00:05,  9.76it/s]\u001b[A\n",
      "Finalizing data blocks for type 5: 100%|███████| 56/56 [00:00<00:00, 114.86it/s]\u001b[A\n",
      "Finalizing data blocks: 100%|█████████████████████| 3/3 [00:00<00:00,  5.73it/s]\n",
      "Parsing signal channels: 100%|██████████████| 56/56 [00:00<00:00, 114688.00it/s]\n",
      "Parsing spike channels: 0it [00:00, ?it/s]\n",
      "Parsing event channels: 100%|██████████████████| 4/4 [00:00<00:00, 91180.52it/s]\n"
     ]
    },
    {
     "name": "stdout",
     "output_type": "stream",
     "text": [
      "Day: 7, Mouse: 28\n"
     ]
    },
    {
     "name": "stderr",
     "output_type": "stream",
     "text": [
      "Parsing data blocks:  99%|███▉| 11948192/12030576 [00:00<00:00, 17524969.25it/s]\n",
      "Finalizing data blocks:   0%|                             | 0/3 [00:00<?, ?it/s]\n",
      "Finalizing data blocks for type 1: 100%|████| 56/56 [00:00<00:00, 628024.13it/s]\u001b[A\n",
      "\n",
      "Finalizing data blocks for type 4: 100%|█████████| 4/4 [00:00<00:00, 124.08it/s]\u001b[A\n",
      "\n",
      "Finalizing data blocks for type 5:   0%|                 | 0/56 [00:00<?, ?it/s]\u001b[A\n",
      "Finalizing data blocks for type 5:   2%|▏        | 1/56 [00:00<00:10,  5.39it/s]\u001b[A\n",
      "Finalizing data blocks for type 5:   5%|▍        | 3/56 [00:00<00:06,  8.25it/s]\u001b[A\n",
      "Finalizing data blocks for type 5: 100%|████████| 56/56 [00:00<00:00, 97.85it/s]\u001b[A\n",
      "Finalizing data blocks: 100%|█████████████████████| 3/3 [00:00<00:00,  4.93it/s]\n",
      "Parsing signal channels: 100%|██████████████| 56/56 [00:00<00:00, 100034.51it/s]\n",
      "Parsing spike channels: 0it [00:00, ?it/s]\n",
      "Parsing event channels: 100%|██████████████████| 4/4 [00:00<00:00, 97541.95it/s]\n"
     ]
    },
    {
     "name": "stdout",
     "output_type": "stream",
     "text": [
      "Day: 7, Mouse: 24\n"
     ]
    },
    {
     "name": "stderr",
     "output_type": "stream",
     "text": [
      "Parsing data blocks:  99%|█████▉| 5473488/5555872 [00:00<00:00, 17951527.58it/s]\n",
      "Finalizing data blocks:   0%|                             | 0/3 [00:00<?, ?it/s]\n",
      "Finalizing data blocks for type 1: 100%|████| 56/56 [00:00<00:00, 621378.37it/s]\u001b[A\n",
      "\n",
      "Finalizing data blocks for type 4: 100%|█████████| 4/4 [00:00<00:00, 287.71it/s]\u001b[A\n",
      "\n",
      "Finalizing data blocks for type 5:   0%|                 | 0/56 [00:00<?, ?it/s]\u001b[A\n",
      "Finalizing data blocks for type 5: 100%|███████| 56/56 [00:00<00:00, 217.18it/s]\u001b[A\n",
      "Finalizing data blocks: 100%|█████████████████████| 3/3 [00:00<00:00, 10.88it/s]\n",
      "Parsing signal channels: 100%|██████████████| 56/56 [00:00<00:00, 132401.93it/s]\n",
      "Parsing spike channels: 0it [00:00, ?it/s]\n",
      "Parsing event channels: 100%|██████████████████| 4/4 [00:00<00:00, 88768.34it/s]\n"
     ]
    },
    {
     "name": "stdout",
     "output_type": "stream",
     "text": [
      "Day: 7, Mouse: 12\n"
     ]
    },
    {
     "name": "stderr",
     "output_type": "stream",
     "text": [
      "Parsing data blocks:  99%|███▉| 10663328/10745712 [00:00<00:00, 17581975.12it/s]\n",
      "Finalizing data blocks:   0%|                             | 0/3 [00:00<?, ?it/s]\n",
      "Finalizing data blocks for type 1: 100%|████| 56/56 [00:00<00:00, 577103.25it/s]\u001b[A\n",
      "\n",
      "Finalizing data blocks for type 4: 100%|█████████| 4/4 [00:00<00:00, 126.46it/s]\u001b[A\n",
      "\n",
      "Finalizing data blocks for type 5:   0%|                 | 0/56 [00:00<?, ?it/s]\u001b[A\n",
      "Finalizing data blocks for type 5:   2%|▏        | 1/56 [00:00<00:08,  6.11it/s]\u001b[A\n",
      "Finalizing data blocks for type 5:   5%|▍        | 3/56 [00:00<00:05,  9.72it/s]\u001b[A\n",
      "Finalizing data blocks for type 5: 100%|███████| 56/56 [00:00<00:00, 114.48it/s]\u001b[A\n",
      "Finalizing data blocks: 100%|█████████████████████| 3/3 [00:00<00:00,  5.71it/s]\n",
      "Parsing signal channels: 100%|██████████████| 56/56 [00:00<00:00, 111107.39it/s]\n",
      "Parsing spike channels: 0it [00:00, ?it/s]\n",
      "Parsing event channels: 100%|██████████████████| 4/4 [00:00<00:00, 95325.09it/s]\n"
     ]
    },
    {
     "name": "stdout",
     "output_type": "stream",
     "text": [
      "Day: 7, Mouse: 31\n"
     ]
    },
    {
     "name": "stderr",
     "output_type": "stream",
     "text": [
      "Parsing data blocks:  99%|███▉| 10863008/10945392 [00:00<00:00, 18726447.62it/s]\n",
      "Finalizing data blocks:   0%|                             | 0/3 [00:00<?, ?it/s]\n",
      "Finalizing data blocks for type 1: 100%|████| 56/56 [00:00<00:00, 596144.73it/s]\u001b[A\n",
      "\n",
      "Finalizing data blocks for type 4: 100%|█████████| 4/4 [00:00<00:00, 119.12it/s]\u001b[A\n",
      "\n",
      "Finalizing data blocks for type 5:   0%|                 | 0/56 [00:00<?, ?it/s]\u001b[A\n",
      "Finalizing data blocks for type 5:   2%|▏        | 1/56 [00:00<00:09,  5.89it/s]\u001b[A\n",
      "Finalizing data blocks for type 5:   5%|▍        | 3/56 [00:00<00:05,  9.51it/s]\u001b[A\n",
      "Finalizing data blocks for type 5: 100%|███████| 56/56 [00:00<00:00, 111.79it/s]\u001b[A\n",
      "Finalizing data blocks: 100%|█████████████████████| 3/3 [00:00<00:00,  5.57it/s]\n",
      "Parsing signal channels: 100%|██████████████| 56/56 [00:00<00:00, 134371.30it/s]\n",
      "Parsing spike channels: 0it [00:00, ?it/s]\n",
      "Parsing event channels: 100%|██████████████████| 4/4 [00:00<00:00, 94786.53it/s]\n"
     ]
    },
    {
     "name": "stdout",
     "output_type": "stream",
     "text": [
      "Day: 7, Mouse: 5\n"
     ]
    },
    {
     "name": "stderr",
     "output_type": "stream",
     "text": [
      "Parsing data blocks:  99%|███▉| 12983456/13065840 [00:00<00:00, 18528519.91it/s]\n",
      "Finalizing data blocks:   0%|                             | 0/3 [00:00<?, ?it/s]\n",
      "Finalizing data blocks for type 1: 100%|████| 56/56 [00:00<00:00, 564617.85it/s]\u001b[A\n",
      "\n",
      "Finalizing data blocks for type 4: 100%|█████████| 4/4 [00:00<00:00, 124.58it/s]\u001b[A\n",
      "\n",
      "Finalizing data blocks for type 5:   0%|                 | 0/56 [00:00<?, ?it/s]\u001b[A\n",
      "Finalizing data blocks for type 5:   2%|▏        | 1/56 [00:00<00:11,  4.86it/s]\u001b[A\n",
      "Finalizing data blocks for type 5:   5%|▍        | 3/56 [00:00<00:06,  7.78it/s]\u001b[A\n",
      "Finalizing data blocks for type 5: 100%|████████| 56/56 [00:00<00:00, 91.73it/s]\u001b[A\n",
      "Finalizing data blocks: 100%|█████████████████████| 3/3 [00:00<00:00,  4.64it/s]\n",
      "Parsing signal channels: 100%|███████████████| 56/56 [00:00<00:00, 97907.89it/s]\n",
      "Parsing spike channels: 0it [00:00, ?it/s]\n",
      "Parsing event channels: 100%|██████████████████| 4/4 [00:00<00:00, 93206.76it/s]\n"
     ]
    },
    {
     "name": "stdout",
     "output_type": "stream",
     "text": [
      "Day: 7, Mouse: 9\n"
     ]
    },
    {
     "name": "stderr",
     "output_type": "stream",
     "text": [
      "Parsing data blocks:  99%|███▉| 12652448/12734832 [00:00<00:00, 18289381.48it/s]\n",
      "Finalizing data blocks:   0%|                             | 0/3 [00:00<?, ?it/s]\n",
      "Finalizing data blocks for type 1: 100%|████| 56/56 [00:00<00:00, 596144.73it/s]\u001b[A\n",
      "\n",
      "Finalizing data blocks for type 4: 100%|█████████| 4/4 [00:00<00:00, 127.01it/s]\u001b[A\n",
      "\n",
      "Finalizing data blocks for type 5:   0%|                 | 0/56 [00:00<?, ?it/s]\u001b[A\n",
      "Finalizing data blocks for type 5:   2%|▏        | 1/56 [00:00<00:10,  5.11it/s]\u001b[A\n",
      "Finalizing data blocks for type 5:   5%|▍        | 3/56 [00:00<00:06,  8.10it/s]\u001b[A\n",
      "Finalizing data blocks for type 5: 100%|████████| 56/56 [00:00<00:00, 94.74it/s]\u001b[A\n",
      "Finalizing data blocks: 100%|█████████████████████| 3/3 [00:00<00:00,  4.79it/s]\n",
      "Parsing signal channels: 100%|███████████████| 56/56 [00:00<00:00, 94901.42it/s]\n",
      "Parsing spike channels: 0it [00:00, ?it/s]\n",
      "Parsing event channels: 100%|██████████████████| 4/4 [00:00<00:00, 93206.76it/s]\n"
     ]
    },
    {
     "name": "stdout",
     "output_type": "stream",
     "text": [
      "Day: 7, Mouse: 20\n"
     ]
    },
    {
     "name": "stderr",
     "output_type": "stream",
     "text": [
      "Parsing data blocks:  99%|███▉| 10901408/10983792 [00:00<00:00, 16644516.79it/s]\n",
      "Finalizing data blocks:   0%|                             | 0/3 [00:00<?, ?it/s]\n",
      "Finalizing data blocks for type 1: 100%|████| 56/56 [00:00<00:00, 588674.25it/s]\u001b[A\n",
      "\n",
      "Finalizing data blocks for type 4: 100%|█████████| 4/4 [00:00<00:00, 126.92it/s]\u001b[A\n",
      "\n",
      "Finalizing data blocks for type 5:   0%|                 | 0/56 [00:00<?, ?it/s]\u001b[A\n",
      "Finalizing data blocks for type 5:   2%|▏        | 1/56 [00:00<00:09,  5.91it/s]\u001b[A\n",
      "Finalizing data blocks for type 5:   5%|▍        | 3/56 [00:00<00:05,  9.47it/s]\u001b[A\n",
      "Finalizing data blocks for type 5: 100%|███████| 56/56 [00:00<00:00, 110.71it/s]\u001b[A\n",
      "Finalizing data blocks: 100%|█████████████████████| 3/3 [00:00<00:00,  5.53it/s]\n",
      "Parsing signal channels: 100%|███████████████| 56/56 [00:00<00:00, 80136.82it/s]\n",
      "Parsing spike channels: 0it [00:00, ?it/s]\n",
      "Parsing event channels: 100%|█████████████████| 4/4 [00:00<00:00, 102927.71it/s]\n"
     ]
    },
    {
     "name": "stdout",
     "output_type": "stream",
     "text": [
      "Day: 7, Mouse: 23\n"
     ]
    },
    {
     "name": "stderr",
     "output_type": "stream",
     "text": [
      "Parsing data blocks:  99%|███▉| 15745184/15827568 [00:00<00:00, 17382547.73it/s]\n",
      "Finalizing data blocks:   0%|                             | 0/3 [00:00<?, ?it/s]\n",
      "Finalizing data blocks for type 1: 100%|████| 56/56 [00:00<00:00, 596144.73it/s]\u001b[A\n",
      "\n",
      "Finalizing data blocks for type 4: 100%|█████████| 4/4 [00:00<00:00, 124.83it/s]\u001b[A\n",
      "\n",
      "Finalizing data blocks for type 5:   0%|                 | 0/56 [00:00<?, ?it/s]\u001b[A\n",
      "Finalizing data blocks for type 5:   2%|▏        | 1/56 [00:00<00:13,  4.07it/s]\u001b[A\n",
      "Finalizing data blocks for type 5:   5%|▍        | 3/56 [00:00<00:08,  6.48it/s]\u001b[A\n",
      "Finalizing data blocks for type 5: 100%|████████| 56/56 [00:00<00:00, 76.16it/s]\u001b[A\n",
      "Finalizing data blocks: 100%|█████████████████████| 3/3 [00:00<00:00,  3.89it/s]\n",
      "Parsing signal channels: 100%|██████████████| 56/56 [00:00<00:00, 100505.36it/s]\n",
      "Parsing spike channels: 0it [00:00, ?it/s]\n",
      "Parsing event channels: 100%|█████████████████| 4/4 [00:00<00:00, 102300.10it/s]\n"
     ]
    },
    {
     "name": "stdout",
     "output_type": "stream",
     "text": [
      "Day: 7, Mouse: 11\n"
     ]
    },
    {
     "name": "stderr",
     "output_type": "stream",
     "text": [
      "Parsing data blocks: 100%|███▉| 28308128/28390512 [00:01<00:00, 17182589.25it/s]\n",
      "Finalizing data blocks:   0%|                             | 0/3 [00:00<?, ?it/s]\n",
      "Finalizing data blocks for type 1: 100%|████| 56/56 [00:00<00:00, 600718.73it/s]\u001b[A\n",
      "\n",
      "Finalizing data blocks for type 4: 100%|█████████| 4/4 [00:00<00:00, 127.73it/s]\u001b[A\n",
      "\n",
      "Finalizing data blocks for type 5:   0%|                 | 0/56 [00:00<?, ?it/s]\u001b[A\n",
      "Finalizing data blocks for type 5:   2%|▏        | 1/56 [00:00<00:24,  2.21it/s]\u001b[A\n",
      "Finalizing data blocks for type 5:   5%|▍        | 3/56 [00:00<00:15,  3.52it/s]\u001b[A\n",
      "Finalizing data blocks for type 5: 100%|████████| 56/56 [00:01<00:00, 41.72it/s]\u001b[A\n",
      "Finalizing data blocks: 100%|█████████████████████| 3/3 [00:01<00:00,  2.18it/s]\n",
      "Parsing signal channels: 100%|██████████████| 56/56 [00:00<00:00, 102612.94it/s]\n",
      "Parsing spike channels: 0it [00:00, ?it/s]\n",
      "Parsing event channels: 100%|██████████████████| 4/4 [00:00<00:00, 95325.09it/s]\n"
     ]
    },
    {
     "name": "stdout",
     "output_type": "stream",
     "text": [
      "Day: 7, Mouse: 32\n"
     ]
    },
    {
     "name": "stderr",
     "output_type": "stream",
     "text": [
      "Parsing data blocks:  99%|███▉| 15053984/15136368 [00:00<00:00, 18616790.32it/s]\n",
      "Finalizing data blocks:   0%|                             | 0/3 [00:00<?, ?it/s]\n",
      "Finalizing data blocks for type 1: 100%|████| 56/56 [00:00<00:00, 578524.69it/s]\u001b[A\n",
      "\n",
      "Finalizing data blocks for type 4: 100%|█████████| 4/4 [00:00<00:00, 123.47it/s]\u001b[A\n",
      "\n",
      "Finalizing data blocks for type 5:   0%|                 | 0/56 [00:00<?, ?it/s]\u001b[A\n",
      "Finalizing data blocks for type 5:   2%|▏        | 1/56 [00:00<00:12,  4.32it/s]\u001b[A\n",
      "Finalizing data blocks for type 5:   5%|▍        | 3/56 [00:00<00:07,  6.89it/s]\u001b[A\n",
      "Finalizing data blocks for type 5: 100%|████████| 56/56 [00:00<00:00, 80.40it/s]\u001b[A\n",
      "Finalizing data blocks: 100%|█████████████████████| 3/3 [00:00<00:00,  4.09it/s]\n",
      "Parsing signal channels: 100%|██████████████| 56/56 [00:00<00:00, 106425.48it/s]\n",
      "Parsing spike channels: 0it [00:00, ?it/s]\n",
      "Parsing event channels: 100%|█████████████████| 4/4 [00:00<00:00, 102927.71it/s]\n"
     ]
    },
    {
     "name": "stdout",
     "output_type": "stream",
     "text": [
      "Day: 7, Mouse: 6\n",
      "FINISHED ==> 397\n"
     ]
    }
   ],
   "source": [
    "#Pulling the data into an ARRAY  where each row is one BLOCK of stimuli\n",
    "\n",
    "import time\n",
    "\n",
    "start = time.perf_counter()\n",
    "print('STARTED ==>', start)\n",
    "\n",
    "os.listdir(\"CBSC\")\n",
    "start_day = 1\n",
    "end_day = 7\n",
    "\n",
    "#Figure out your array size needed\n",
    "#Array = [Measure,Stim Type, Day, Block, Mouse, Stim Num, Values]\n",
    "Array = np.zeros([7,35,2,3,15,100000])\n",
    "#Array.fill(np.NaN)\n",
    "\n",
    "for day in range(start_day,end_day+1,1):\n",
    "    files = os.listdir(\"CBSC/day \" + str(day) + \"/\")\n",
    "    for file in files:\n",
    "        fname = \"CBSC/day \" + str(day) + \"/\" + file #Concatenate directory with file path to be able to run the function over all days\n",
    "        if os.path.splitext(fname)[1] == '.plx':\n",
    "            LH_single,RH_single,Pz_single,Event_Labels,Event_Times = plexon_import(fname)         \n",
    "            ##MEASURE  0 = Left Hemi, 1 = Right Hemi, 2 = Behavior       \n",
    "            Day = day  \n",
    "            Mouse = int(re.findall(r'\\d+', file[0:9])[0])\n",
    "            print(f'Day: {Day}, Mouse: {Mouse}')\n",
    "            ## CHANGE UP START\n",
    "            Block = 0\n",
    "            for event in range(0,len(Event_Labels),1):\n",
    "                if Event_Labels[event] in ['1','2']: \n",
    "                    \n",
    "                    Stim_Type = 0 # Familiar!\n",
    "                    Event_Time = int(Event_Times[event]*1000)\n",
    "                    if (Event_Time - int(Event_Times[event-1]*1000) >= 600) or Block == 0:\n",
    "                        \n",
    "                        #Left Hemi\n",
    "                        if len(LH_single[Event_Time-100:Event_Time+99900]) < 100000:\n",
    "                            break\n",
    "                        Array[Day-1,Mouse-1,Stim_Type,0,Block] = LH_single[Event_Time-100:Event_Time+99900]\n",
    "                        #Right Hemi\n",
    "                        \n",
    "                        Array[Day-1,Mouse-1,Stim_Type,1,Block] = RH_single[Event_Time-100:Event_Time+99900]\n",
    "                        #Piezo \n",
    "                        \n",
    "                        Array[Day-1,Mouse-1,Stim_Type,2,Block] = Pz_single[Event_Time-100:Event_Time+99900]\n",
    "                        \n",
    "                        Block = Block+1\n",
    "\n",
    "                elif Event_Labels[event] in ['3','4']:\n",
    "                    Stim_Type = 1 # NOVEL!\n",
    "                    Event_Time = int(Event_Times[event]*1000)\n",
    "                    if (Event_Time - int(Event_Times[event-1]*1000) >= 600) or Block == 0:\n",
    "                        if len(LH_single[Event_Time-100:Event_Time+99900]) < 100000:\n",
    "                            break\n",
    "                        #Left Hemi\n",
    "                        \n",
    "                        Array[Day-1,Mouse-1,Stim_Type,0,Block] = LH_single[Event_Time-100:Event_Time+99900]\n",
    "                        #Right Hemi\n",
    "                        \n",
    "                        Array[Day-1,Mouse-1,Stim_Type,1,Block] = RH_single[Event_Time-100:Event_Time+99900]\n",
    "                        #Piezo \n",
    "                        \n",
    "                        Array[Day-1,Mouse-1,Stim_Type,2,Block] = Pz_single[Event_Time-100:Event_Time+99900]\n",
    "                        \n",
    "                        Block = Block+1\n",
    "                        \n",
    "finish = time.perf_counter()\n",
    "print('FINISHED ==>', round(finish - start))\n"
   ]
  },
  {
   "cell_type": "code",
   "execution_count": 64,
   "id": "c66dc2fa-be0c-4df8-ae4e-94dda0492866",
   "metadata": {},
   "outputs": [
    {
     "data": {
      "text/plain": [
       "(7, 35, 2, 3, 15)"
      ]
     },
     "execution_count": 64,
     "metadata": {},
     "output_type": "execute_result"
    }
   ],
   "source": [
    "#Masking\n",
    "Array_T = Array\n",
    "Array_Masked = np.mean(Array_T,axis = 5) \n",
    "Array_Ind = Array_Masked != 0 #Everywhere that is not a null value\n",
    "Array_Ind.shape"
   ]
  },
  {
   "cell_type": "code",
   "execution_count": 65,
   "id": "f1debcf1-8973-4741-95cb-6aecacec5198",
   "metadata": {},
   "outputs": [
    {
     "data": {
      "text/plain": [
       "(4041, 100000)"
      ]
     },
     "execution_count": 65,
     "metadata": {},
     "output_type": "execute_result"
    }
   ],
   "source": [
    "Array_Mask = Array_T[Array_Ind,:]\n",
    "Array_Mask.shape"
   ]
  },
  {
   "cell_type": "code",
   "execution_count": 66,
   "id": "e6eff436-eb20-4bb8-9272-7712198eee1d",
   "metadata": {},
   "outputs": [],
   "source": [
    "\n",
    "#Assign the values corresponding to each Block\n",
    "Block = np.zeros(Array_Ind.shape)\n",
    "for i in range(Array_T.shape[4]):\n",
    "    Block[:,:,:,:,i] = i\n",
    "Block = Block[Array_Ind].astype(int)\n",
    "\n",
    "#Assign the values corresponding to each Measure\n",
    "Measure = np.zeros(Array_Ind.shape)\n",
    "for i in range(Array_T.shape[3]):\n",
    "    Measure[:,:,:,i,:] = i\n",
    "Measure = Measure[Array_Ind].astype(int)\n",
    "\n",
    "#Assign the values corresponding to each Stim_Type\n",
    "Stim_Type = np.zeros(Array_Ind.shape)\n",
    "for i in range(Array_T.shape[2]):\n",
    "    Stim_Type[:,:,i,:,:] = i\n",
    "Stim_Type = Stim_Type[Array_Ind].astype(int)\n",
    "\n",
    "#Assign the values corresponding to each Measure\n",
    "Mouse = np.zeros(Array_Ind.shape)\n",
    "for i in range(Array_T.shape[1]):\n",
    "    Mouse[:,i,:,:,:] = i\n",
    "Mouse = Mouse[Array_Ind].astype(int)\n",
    "\n",
    "#Assign the values corresponding to each Measure\n",
    "Day = np.zeros(Array_Ind.shape)\n",
    "for i in range(Array_T.shape[0]):\n",
    "    Day[i,:,:,:,:] = i\n",
    "Day = Day[Array_Ind].astype(int)"
   ]
  },
  {
   "cell_type": "code",
   "execution_count": 67,
   "id": "3e724fe3-36f2-4f41-b08a-8bcdb19687a9",
   "metadata": {},
   "outputs": [
    {
     "name": "stdout",
     "output_type": "stream",
     "text": [
      "[1.22539982 1.28924283 1.50031372 1.68296817 1.85591309 1.52723417\n",
      " 1.24199411 1.11376305 1.09937646 1.17576819]\n",
      "[1.22539982 1.28924283 1.50031372 1.68296817 1.85591309 1.52723417\n",
      " 1.24199411 1.11376305 1.09937646 1.17576819]\n",
      "Array[[0][34][0][1][0][0:10]]\n"
     ]
    }
   ],
   "source": [
    "# Understanding the Masked structure\n",
    "X = 500\n",
    "print(Array_Mask[X][0:10])\n",
    "print(Array_T[Day[X]][Mouse[X]][Stim_Type[X]][Measure[X]][Block[X]][0:10])\n",
    "print(f'Array[[{Day[X]}][{Mouse[X]}][{Stim_Type[X]}][{Measure[X]}][{Block[X]}][0:10]]')"
   ]
  },
  {
   "cell_type": "code",
   "execution_count": 68,
   "id": "74d04af3-8ef2-4e8c-b260-552ca45e7abe",
   "metadata": {},
   "outputs": [],
   "source": [
    "pca = PCA(n_components=10)    # Specify how many components will be calculated\n",
    "\n",
    "scaler = StandardScaler()\n",
    "X = scaler.fit_transform(Array_Mask)"
   ]
  },
  {
   "cell_type": "code",
   "execution_count": null,
   "id": "07d4dd3b-56c5-42e4-9536-419993d7eb69",
   "metadata": {},
   "outputs": [],
   "source": [
    "pca.fit(X);                  # Fit\n",
    "DF_reduced = pca.transform(X) # calculate the component scores for the components"
   ]
  },
  {
   "cell_type": "code",
   "execution_count": 54,
   "id": "d63b0789-a1c9-4b12-817d-200290b85d37",
   "metadata": {},
   "outputs": [
    {
     "data": {
      "image/png": "[encoded data removed]",
      "text/plain": [
       "<Figure size 500x500 with 2 Axes>"
      ]
     },
     "metadata": {},
     "output_type": "display_data"
    }
   ],
   "source": [
    "# Explained variance plot, in red\n",
    "fig,ax = plt.subplots(figsize=(5,5))\n",
    "ax.plot(pca.explained_variance_ratio_,'r')\n",
    "ax.set_xlabel(\"Component number\", fontsize=14)\n",
    "ax.set_ylabel(\"Explained variance\", color=\"r\", fontsize=14);\n",
    "\n",
    "# Cumulative explained variance plot, in blue\n",
    "ax2=ax.twinx()\n",
    "ax2.plot(np.cumsum(pca.explained_variance_ratio_),'b')\n",
    "ax2.set_ylabel(\"Cumulative explained variance\", color=\"blue\", fontsize=14);"
   ]
  },
  {
   "cell_type": "code",
   "execution_count": 57,
   "id": "b73aa894-c30c-4bcd-95a0-ad87ae64b0e2",
   "metadata": {},
   "outputs": [
    {
     "data": {
      "image/png": "[encoded data removed]",
      "text/plain": [
       "<Figure size 1000x1000 with 2 Axes>"
      ]
     },
     "metadata": {},
     "output_type": "display_data"
    }
   ],
   "source": [
    "# choose two components to plot\n",
    "cp_x = 0 # x-axis\n",
    "cp_y = 1 # y-axis\n",
    "\n",
    "fig = plt.figure(figsize=(10, 10))\n",
    "plt.scatter(DF_reduced[:,cp_x], DF_reduced[:,cp_y], c=Block, s=5)# you can vary the indices to plot a different pair of components\n",
    "plt.xlabel(f'PCA component {cp_x+1}', fontsize=15) # add 1 to the label due to Python\n",
    "plt.ylabel(f'PCA component {cp_y+1}', fontsize=15) # add 1 due to Python\n",
    "cbar = plt.colorbar();                             # add a colorbar\n",
    "cbar.set_label('Stims', fontsize=15)         # add a colorbar label"
   ]
  },
  {
   "cell_type": "markdown",
   "id": "67b2d085-8ed9-4037-8c78-dffb15949001",
   "metadata": {
    "jp-MarkdownHeadingCollapsed": true
   },
   "source": [
    "# Trash"
   ]
  },
  {
   "cell_type": "code",
   "execution_count": null,
   "id": "290fc9a3-092b-4c8d-aa9e-740ec6b6d865",
   "metadata": {},
   "outputs": [],
   "source": [
    "# Threading Test for speeding up things\n",
    "\n",
    "import threading\n",
    "import requests\n",
    "import time\n",
    "\n",
    "start = time.perf_counter()\n",
    "print('STARTED ==>', start)\n",
    "\n",
    "os.listdir(\"CBSC\")\n",
    "start_day = 1\n",
    "end_day = 2\n",
    "\n",
    "#Figure out your array size needed\n",
    "#Array = [Day, Mouse, Stim Type, Measure, Block, Stim Num, Values]\n",
    "Array = np.zeros([7,35,2,3,20,200,500])\n",
    "#Array.fill(np.NaN)\n",
    "num = 0\n",
    "threads = []\n",
    "for day in range(start_day,end_day+1,1):\n",
    "    files = os.listdir(\"CBSC/day \" + str(day) + \"/\")\n",
    "    for file in files:\n",
    "        fname = \"CBSC/day \" + str(day) + \"/\" + file #Concatenate directory with file path to be able to run the function over all days\n",
    "        if os.path.splitext(fname)[1] == '.plx':\n",
    "            t = threading.Thread(target = plexon_import,args = [fname])\n",
    "            t.start()\n",
    "            threads.append(t)\n",
    "            num += 1\n",
    "            #LH_single,RH_single,Pz_single,Event_Labels,Event_Times = plexon_import(fname)         \n",
    "            ##MEASURE  0 = Left Hemi, 1 = Right Hemi, 2 = Behavior       \n",
    "            Day = day  \n",
    "            Mouse = int(re.findall(r'\\d+', file[0:9])[0])\n",
    "            print(f'Day: {Day}, Mouse: {Mouse}')\n",
    "            \n",
    "            ## CHANGE UP START\n",
    "            for event in range(0,len(Event_Labels),1):\n",
    "                if Event_Labels[event] in ['1','2']: \n",
    "                    \n",
    "                    Stim_Type = 0 # Familiar!\n",
    "                    Event_Time = int(Event_Times[event]*1000)\n",
    "                    #Left Hemi\n",
    "                    Array[Day-1,Mouse-1,Stim_Type,0,int(event/200),event%200] = LH_single[Event_Time-100:Event_Time+400]\n",
    "                    #Right Hemi\n",
    "                    Array[Day-1,Mouse-1,Stim_Type,1,int(event/200),event%200] = RH_single[Event_Time-100:Event_Time+400]\n",
    "                    #Piezo \n",
    "                    #Array[Day-1,Mouse-1,Stim_Type,2,int(event/200),event%200] = Pz_single[Event_Time-100:Event_Time+400]\n",
    "\n",
    "                elif Event_Labels[event] in ['3','4']: \n",
    "                    Stim_Type = 1 # NOVEL!\n",
    "                    Event_Time = int(Event_Times[event]*1000)\n",
    "                    \n",
    "                    #Left Hemi\n",
    "                    Array[Day-1,Mouse-1,Stim_Type,0,int(event/200),event%200] = LH_single[Event_Time-100:Event_Time+400]\n",
    "                    #Right Hemi\n",
    "                    Array[Day-1,Mouse-1,Stim_Type,1,int(event/200),event%200] = RH_single[Event_Time-100:Event_Time+400]\n",
    "                    #Piezo \n",
    "                    #Array[Day-1,Mouse-1,Stim_Type,2,int(event/200),event%200] = Pz_single[Event_Time-100:Event_Time+400]\n",
    "            for thread in threads:\n",
    "                thread.join()\n",
    "\n",
    "finish = time.perf_counter()\n",
    "print('FINISHED ==>', round(finish - start))\n",
    "\n"
   ]
  },
  {
   "cell_type": "code",
   "execution_count": 36,
   "id": "8c759605-4650-43ac-a31f-c733b9eb7b1c",
   "metadata": {},
   "outputs": [
    {
     "name": "stderr",
     "output_type": "stream",
     "text": [
      "Parsing data blocks:  99%|█████▉| 8609728/8692112 [00:00<00:00, 18525036.31it/s]\n",
      "Finalizing data blocks:   0%|                             | 0/3 [00:00<?, ?it/s]\n",
      "Finalizing data blocks for type 1: 100%|████| 56/56 [00:00<00:00, 572880.55it/s]\u001b[A\n",
      "\n",
      "Finalizing data blocks for type 4: 100%|█████████| 4/4 [00:00<00:00, 243.25it/s]\u001b[A\n",
      "\n",
      "Finalizing data blocks for type 5:   0%|                 | 0/56 [00:00<?, ?it/s]\u001b[A\n",
      "Finalizing data blocks for type 5:   2%|▏        | 1/56 [00:00<00:07,  7.79it/s]\u001b[A\n",
      "Finalizing data blocks for type 5:   5%|▍        | 3/56 [00:00<00:04, 12.21it/s]\u001b[A\n",
      "Finalizing data blocks for type 5: 100%|███████| 56/56 [00:00<00:00, 143.17it/s]\u001b[A\n",
      "Finalizing data blocks: 100%|█████████████████████| 3/3 [00:00<00:00,  7.28it/s]\n",
      "Parsing signal channels: 100%|███████████████| 56/56 [00:00<00:00, 29879.28it/s]\n",
      "Parsing spike channels: 0it [00:00, ?it/s]\n",
      "Parsing event channels: 100%|██████████████████| 4/4 [00:00<00:00, 97541.95it/s]\n"
     ]
    },
    {
     "name": "stdout",
     "output_type": "stream",
     "text": [
      "Day: 1, Mouse: 9\n"
     ]
    },
    {
     "name": "stderr",
     "output_type": "stream",
     "text": [
      "Parsing data blocks:  99%|█████▉| 6746560/6828944 [00:00<00:00, 17177651.72it/s]\n",
      "Finalizing data blocks:   0%|                             | 0/3 [00:00<?, ?it/s]\n",
      "Finalizing data blocks for type 1: 100%|████| 56/56 [00:00<00:00, 603807.26it/s]\u001b[A\n",
      "\n",
      "Finalizing data blocks for type 4: 100%|█████████| 4/4 [00:00<00:00, 226.23it/s]\u001b[A\n",
      "\n",
      "Finalizing data blocks for type 5:   0%|                 | 0/56 [00:00<?, ?it/s]\u001b[A\n",
      "Finalizing data blocks for type 5:   2%|▏        | 1/56 [00:00<00:05,  9.64it/s]\u001b[A\n",
      "Finalizing data blocks for type 5:   5%|▍        | 3/56 [00:00<00:03, 15.32it/s]\u001b[A\n",
      "Finalizing data blocks for type 5: 100%|███████| 56/56 [00:00<00:00, 179.70it/s]\u001b[A\n",
      "Finalizing data blocks: 100%|█████████████████████| 3/3 [00:00<00:00,  9.00it/s]\n",
      "Parsing signal channels: 100%|██████████████| 56/56 [00:00<00:00, 115250.75it/s]\n",
      "Parsing spike channels: 0it [00:00, ?it/s]\n",
      "Parsing event channels: 100%|██████████████████| 4/4 [00:00<00:00, 95325.09it/s]\n"
     ]
    },
    {
     "name": "stdout",
     "output_type": "stream",
     "text": [
      "Day: 1, Mouse: 23\n"
     ]
    },
    {
     "name": "stderr",
     "output_type": "stream",
     "text": [
      "Parsing data blocks:  99%|███▉| 10597312/10679696 [00:00<00:00, 18176488.24it/s]\n",
      "Finalizing data blocks:   0%|                             | 0/3 [00:00<?, ?it/s]\n",
      "Finalizing data blocks for type 1: 100%|████| 56/56 [00:00<00:00, 577103.25it/s]\u001b[A\n",
      "\n",
      "Finalizing data blocks for type 4: 100%|█████████| 4/4 [00:00<00:00, 246.22it/s]\u001b[A\n",
      "\n",
      "Finalizing data blocks for type 5:   0%|                 | 0/56 [00:00<?, ?it/s]\u001b[A\n",
      "Finalizing data blocks for type 5:   2%|▏        | 1/56 [00:00<00:08,  6.15it/s]\u001b[A\n",
      "Finalizing data blocks for type 5:   5%|▍        | 3/56 [00:00<00:05,  9.80it/s]\u001b[A\n",
      "Finalizing data blocks for type 5: 100%|███████| 56/56 [00:00<00:00, 114.92it/s]\u001b[A\n",
      "Finalizing data blocks: 100%|█████████████████████| 3/3 [00:00<00:00,  5.91it/s]\n",
      "Parsing signal channels: 100%|██████████████| 56/56 [00:00<00:00, 111107.39it/s]\n",
      "Parsing spike channels: 0it [00:00, ?it/s]\n",
      "Parsing event channels: 100%|█████████████████| 4/4 [00:00<00:00, 102927.71it/s]\n"
     ]
    },
    {
     "name": "stdout",
     "output_type": "stream",
     "text": [
      "Day: 1, Mouse: 27\n"
     ]
    },
    {
     "name": "stderr",
     "output_type": "stream",
     "text": [
      "Parsing data blocks:  99%|█████▉| 9331648/9414032 [00:00<00:00, 17595359.42it/s]\n",
      "Finalizing data blocks:   0%|                             | 0/3 [00:00<?, ?it/s]\n",
      "Finalizing data blocks for type 1: 100%|████| 56/56 [00:00<00:00, 650639.96it/s]\u001b[A\n",
      "\n",
      "Finalizing data blocks for type 4: 100%|█████████| 4/4 [00:00<00:00, 248.51it/s]\u001b[A\n",
      "\n",
      "Finalizing data blocks for type 5:   0%|                 | 0/56 [00:00<?, ?it/s]\u001b[A\n",
      "Finalizing data blocks for type 5:   2%|▏        | 1/56 [00:00<00:07,  6.90it/s]\u001b[A\n",
      "Finalizing data blocks for type 5:   5%|▍        | 3/56 [00:00<00:04, 11.02it/s]\u001b[A\n",
      "Finalizing data blocks for type 5: 100%|███████| 56/56 [00:00<00:00, 129.26it/s]\u001b[A\n",
      "Finalizing data blocks: 100%|█████████████████████| 3/3 [00:00<00:00,  6.61it/s]\n",
      "Parsing signal channels: 100%|██████████████| 56/56 [00:00<00:00, 113909.32it/s]\n",
      "Parsing spike channels: 0it [00:00, ?it/s]\n",
      "Parsing event channels: 100%|██████████████████| 4/4 [00:00<00:00, 95325.09it/s]\n"
     ]
    },
    {
     "name": "stdout",
     "output_type": "stream",
     "text": [
      "Day: 1, Mouse: 8\n"
     ]
    },
    {
     "name": "stderr",
     "output_type": "stream",
     "text": [
      "Parsing data blocks:  99%|███▉| 10896064/10978448 [00:00<00:00, 20832615.68it/s]\n",
      "Finalizing data blocks:   0%|                             | 0/3 [00:00<?, ?it/s]\n",
      "Finalizing data blocks for type 1: 100%|████| 56/56 [00:00<00:00, 629707.84it/s]\u001b[A\n",
      "\n",
      "Finalizing data blocks for type 4: 100%|█████████| 4/4 [00:00<00:00, 241.03it/s]\u001b[A\n",
      "\n",
      "Finalizing data blocks for type 5:   0%|                 | 0/56 [00:00<?, ?it/s]\u001b[A\n",
      "Finalizing data blocks for type 5:   2%|▏        | 1/56 [00:00<00:09,  5.97it/s]\u001b[A\n",
      "Finalizing data blocks for type 5:   5%|▍        | 3/56 [00:00<00:05,  9.48it/s]\u001b[A\n",
      "Finalizing data blocks for type 5: 100%|███████| 56/56 [00:00<00:00, 110.84it/s]\u001b[A\n",
      "Finalizing data blocks: 100%|█████████████████████| 3/3 [00:00<00:00,  5.70it/s]\n",
      "Parsing signal channels: 100%|██████████████| 56/56 [00:00<00:00, 103837.76it/s]\n",
      "Parsing spike channels: 0it [00:00, ?it/s]\n",
      "Parsing event channels: 100%|█████████████████| 4/4 [00:00<00:00, 102927.71it/s]\n"
     ]
    },
    {
     "name": "stdout",
     "output_type": "stream",
     "text": [
      "Day: 1, Mouse: 26\n"
     ]
    },
    {
     "name": "stderr",
     "output_type": "stream",
     "text": [
      "Parsing data blocks:  99%|█████▉| 6430144/6512528 [00:00<00:00, 18581851.99it/s]\n",
      "Finalizing data blocks:   0%|                             | 0/3 [00:00<?, ?it/s]\n",
      "Finalizing data blocks for type 1: 100%|████| 56/56 [00:00<00:00, 543706.07it/s]\u001b[A\n",
      "\n",
      "Finalizing data blocks for type 4: 100%|█████████| 4/4 [00:00<00:00, 230.47it/s]\u001b[A\n",
      "\n",
      "Finalizing data blocks for type 5:   0%|                 | 0/56 [00:00<?, ?it/s]\u001b[A\n",
      "Finalizing data blocks for type 5:   2%|▏        | 1/56 [00:00<00:05,  9.71it/s]\u001b[A\n",
      "Finalizing data blocks for type 5: 100%|███████| 56/56 [00:00<00:00, 186.10it/s]\u001b[A\n",
      "Finalizing data blocks: 100%|█████████████████████| 3/3 [00:00<00:00,  9.29it/s]\n",
      "Parsing signal channels: 100%|██████████████| 56/56 [00:00<00:00, 122461.43it/s]\n",
      "Parsing spike channels: 0it [00:00, ?it/s]\n",
      "Parsing event channels: 100%|█████████████████| 4/4 [00:00<00:00, 102927.71it/s]\n"
     ]
    },
    {
     "name": "stdout",
     "output_type": "stream",
     "text": [
      "Day: 1, Mouse: 22\n"
     ]
    },
    {
     "name": "stderr",
     "output_type": "stream",
     "text": [
      "Parsing data blocks:  99%|█████▉| 9305536/9387920 [00:00<00:00, 17360549.09it/s]\n",
      "Finalizing data blocks:   0%|                             | 0/3 [00:00<?, ?it/s]\n",
      "Finalizing data blocks for type 1: 100%|████| 56/56 [00:00<00:00, 608500.06it/s]\u001b[A\n",
      "\n",
      "Finalizing data blocks for type 4: 100%|█████████| 4/4 [00:00<00:00, 242.10it/s]\u001b[A\n",
      "\n",
      "Finalizing data blocks for type 5:   0%|                 | 0/56 [00:00<?, ?it/s]\u001b[A\n",
      "Finalizing data blocks for type 5:   2%|▏        | 1/56 [00:00<00:07,  7.20it/s]\u001b[A\n",
      "Finalizing data blocks for type 5:   5%|▍        | 3/56 [00:00<00:04, 11.17it/s]\u001b[A\n",
      "Finalizing data blocks for type 5: 100%|███████| 56/56 [00:00<00:00, 131.58it/s]\u001b[A\n",
      "Finalizing data blocks: 100%|█████████████████████| 3/3 [00:00<00:00,  6.72it/s]\n",
      "Parsing signal channels: 100%|██████████████| 56/56 [00:00<00:00, 107892.06it/s]\n",
      "Parsing spike channels: 0it [00:00, ?it/s]\n",
      "Parsing event channels: 100%|█████████████████| 4/4 [00:00<00:00, 108240.10it/s]\n"
     ]
    },
    {
     "name": "stdout",
     "output_type": "stream",
     "text": [
      "Day: 1, Mouse: 25\n"
     ]
    },
    {
     "name": "stderr",
     "output_type": "stream",
     "text": [
      "Parsing data blocks:  99%|████▉| 9987520/10069904 [00:00<00:00, 21063196.13it/s]\n",
      "Finalizing data blocks:   0%|                             | 0/3 [00:00<?, ?it/s]\n",
      "Finalizing data blocks for type 1: 100%|████| 56/56 [00:00<00:00, 578524.69it/s]\u001b[A\n",
      "\n",
      "Finalizing data blocks for type 4: 100%|█████████| 4/4 [00:00<00:00, 248.08it/s]\u001b[A\n",
      "\n",
      "Finalizing data blocks for type 5:   0%|                 | 0/56 [00:00<?, ?it/s]\u001b[A\n",
      "Finalizing data blocks for type 5:   2%|▏        | 1/56 [00:00<00:08,  6.57it/s]\u001b[A\n",
      "Finalizing data blocks for type 5:   5%|▍        | 3/56 [00:00<00:05, 10.40it/s]\u001b[A\n",
      "Finalizing data blocks for type 5: 100%|███████| 56/56 [00:00<00:00, 122.31it/s]\u001b[A\n",
      "Finalizing data blocks: 100%|█████████████████████| 3/3 [00:00<00:00,  6.27it/s]\n",
      "Parsing signal channels: 100%|███████████████| 56/56 [00:00<00:00, 99949.37it/s]\n",
      "Parsing spike channels: 0it [00:00, ?it/s]\n",
      "Parsing event channels: 100%|██████████████████| 4/4 [00:00<00:00, 97541.95it/s]\n"
     ]
    },
    {
     "name": "stdout",
     "output_type": "stream",
     "text": [
      "Day: 1, Mouse: 21\n"
     ]
    },
    {
     "name": "stderr",
     "output_type": "stream",
     "text": [
      "Parsing data blocks:  99%|█████▉| 6457024/6539408 [00:00<00:00, 17510342.60it/s]\n",
      "Finalizing data blocks:   0%|                             | 0/3 [00:00<?, ?it/s]\n",
      "Finalizing data blocks for type 1: 100%|████| 56/56 [00:00<00:00, 643509.65it/s]\u001b[A\n",
      "\n",
      "Finalizing data blocks for type 4: 100%|█████████| 4/4 [00:00<00:00, 252.56it/s]\u001b[A\n",
      "\n",
      "Finalizing data blocks for type 5:   0%|                 | 0/56 [00:00<?, ?it/s]\u001b[A\n",
      "Finalizing data blocks for type 5: 100%|███████| 56/56 [00:00<00:00, 184.49it/s]\u001b[A\n",
      "Finalizing data blocks: 100%|█████████████████████| 3/3 [00:00<00:00,  9.28it/s]\n",
      "Parsing signal channels: 100%|██████████████| 56/56 [00:00<00:00, 110636.37it/s]\n",
      "Parsing spike channels: 0it [00:00, ?it/s]\n",
      "Parsing event channels: 100%|██████████████████| 4/4 [00:00<00:00, 95325.09it/s]\n"
     ]
    },
    {
     "name": "stdout",
     "output_type": "stream",
     "text": [
      "Day: 1, Mouse: 18\n"
     ]
    },
    {
     "name": "stderr",
     "output_type": "stream",
     "text": [
      "Parsing data blocks:  99%|█████▉| 8222656/8305040 [00:00<00:00, 18487717.29it/s]\n",
      "Finalizing data blocks:   0%|                             | 0/3 [00:00<?, ?it/s]\n",
      "Finalizing data blocks for type 1: 100%|████| 56/56 [00:00<00:00, 657930.04it/s]\u001b[A\n",
      "\n",
      "Finalizing data blocks for type 4: 100%|█████████| 4/4 [00:00<00:00, 283.00it/s]\u001b[A\n",
      "\n",
      "Finalizing data blocks for type 5:   0%|                 | 0/56 [00:00<?, ?it/s]\u001b[A\n",
      "Finalizing data blocks for type 5:   2%|▏        | 1/56 [00:00<00:06,  8.06it/s]\u001b[A\n",
      "Finalizing data blocks for type 5:   5%|▍        | 3/56 [00:00<00:04, 12.61it/s]\u001b[A\n",
      "Finalizing data blocks for type 5: 100%|███████| 56/56 [00:00<00:00, 148.21it/s]\u001b[A\n",
      "Finalizing data blocks: 100%|█████████████████████| 3/3 [00:00<00:00,  7.58it/s]\n",
      "Parsing signal channels: 100%|███████████████| 56/56 [00:00<00:00, 97541.95it/s]\n",
      "Parsing spike channels: 0it [00:00, ?it/s]\n",
      "Parsing event channels: 100%|██████████████████| 4/4 [00:00<00:00, 97541.95it/s]\n"
     ]
    },
    {
     "name": "stdout",
     "output_type": "stream",
     "text": [
      "Day: 1, Mouse: 20\n"
     ]
    },
    {
     "name": "stderr",
     "output_type": "stream",
     "text": [
      "Parsing data blocks:  99%|█████▉| 6440128/6522512 [00:00<00:00, 17377572.20it/s]\n",
      "Finalizing data blocks:   0%|                             | 0/3 [00:00<?, ?it/s]\n",
      "Finalizing data blocks for type 1: 100%|████| 56/56 [00:00<00:00, 596144.73it/s]\u001b[A\n",
      "\n",
      "Finalizing data blocks for type 4: 100%|█████████| 4/4 [00:00<00:00, 258.25it/s]\u001b[A\n",
      "\n",
      "Finalizing data blocks for type 5:   0%|                 | 0/56 [00:00<?, ?it/s]\u001b[A\n",
      "Finalizing data blocks for type 5:   5%|▍        | 3/56 [00:00<00:03, 14.86it/s]\u001b[A\n",
      "Finalizing data blocks for type 5: 100%|███████| 56/56 [00:00<00:00, 184.51it/s]\u001b[A\n",
      "Finalizing data blocks: 100%|█████████████████████| 3/3 [00:00<00:00,  9.25it/s]\n",
      "Parsing signal channels: 100%|██████████████| 56/56 [00:00<00:00, 127514.13it/s]\n",
      "Parsing spike channels: 0it [00:00, ?it/s]\n",
      "Parsing event channels: 100%|██████████████████| 4/4 [00:00<00:00, 93206.76it/s]\n"
     ]
    },
    {
     "name": "stdout",
     "output_type": "stream",
     "text": [
      "Day: 1, Mouse: 24\n"
     ]
    },
    {
     "name": "stderr",
     "output_type": "stream",
     "text": [
      "Parsing data blocks:  99%|█████▉| 8433856/8516240 [00:00<00:00, 17833922.50it/s]\n",
      "Finalizing data blocks:   0%|                             | 0/3 [00:00<?, ?it/s]\n",
      "Finalizing data blocks for type 1: 100%|████| 56/56 [00:00<00:00, 621378.37it/s]\u001b[A\n",
      "\n",
      "Finalizing data blocks for type 4: 100%|█████████| 4/4 [00:00<00:00, 248.25it/s]\u001b[A\n",
      "\n",
      "Finalizing data blocks for type 5:   0%|                 | 0/56 [00:00<?, ?it/s]\u001b[A\n",
      "Finalizing data blocks for type 5:   2%|▏        | 1/56 [00:00<00:07,  7.73it/s]\u001b[A\n",
      "Finalizing data blocks for type 5:   5%|▍        | 3/56 [00:00<00:04, 12.26it/s]\u001b[A\n",
      "Finalizing data blocks for type 5: 100%|███████| 56/56 [00:00<00:00, 144.45it/s]\u001b[A\n",
      "Finalizing data blocks: 100%|█████████████████████| 3/3 [00:00<00:00,  7.36it/s]\n",
      "Parsing signal channels: 100%|██████████████| 56/56 [00:00<00:00, 102389.29it/s]\n",
      "Parsing spike channels: 0it [00:00, ?it/s]\n",
      "Parsing event channels: 100%|██████████████████| 4/4 [00:00<00:00, 86928.58it/s]\n"
     ]
    },
    {
     "name": "stdout",
     "output_type": "stream",
     "text": [
      "Day: 1, Mouse: 19\n"
     ]
    },
    {
     "name": "stderr",
     "output_type": "stream",
     "text": [
      "Parsing data blocks:  99%|█████▉| 8890816/8973200 [00:00<00:00, 16730577.91it/s]\n",
      "Finalizing data blocks:   0%|                             | 0/3 [00:00<?, ?it/s]\n",
      "Finalizing data blocks for type 1: 100%|████| 56/56 [00:00<00:00, 538717.94it/s]\u001b[A\n",
      "\n",
      "Finalizing data blocks for type 4: 100%|█████████| 4/4 [00:00<00:00, 274.27it/s]\u001b[A\n",
      "\n",
      "Finalizing data blocks for type 5:   0%|                 | 0/56 [00:00<?, ?it/s]\u001b[A\n",
      "Finalizing data blocks for type 5:   2%|▏        | 1/56 [00:00<00:07,  7.27it/s]\u001b[A\n",
      "Finalizing data blocks for type 5:   5%|▍        | 3/56 [00:00<00:04, 11.49it/s]\u001b[A\n",
      "Finalizing data blocks for type 5: 100%|███████| 56/56 [00:00<00:00, 134.48it/s]\u001b[A\n",
      "Finalizing data blocks: 100%|█████████████████████| 3/3 [00:00<00:00,  6.90it/s]\n",
      "Parsing signal channels: 100%|██████████████| 56/56 [00:00<00:00, 105469.70it/s]\n",
      "Parsing spike channels: 0it [00:00, ?it/s]\n",
      "Parsing event channels: 100%|██████████████████| 4/4 [00:00<00:00, 88768.34it/s]\n"
     ]
    },
    {
     "name": "stdout",
     "output_type": "stream",
     "text": [
      "Day: 1, Mouse: 17\n"
     ]
    },
    {
     "name": "stderr",
     "output_type": "stream",
     "text": [
      "Parsing data blocks:  99%|█████▉| 6049984/6132368 [00:00<00:00, 17296949.24it/s]\n",
      "Finalizing data blocks:   0%|                             | 0/3 [00:00<?, ?it/s]\n",
      "Finalizing data blocks for type 1: 100%|████| 56/56 [00:00<00:00, 634813.58it/s]\u001b[A\n",
      "\n",
      "Finalizing data blocks for type 4: 100%|█████████| 4/4 [00:00<00:00, 264.78it/s]\u001b[A\n",
      "\n",
      "Finalizing data blocks for type 5:   0%|                 | 0/56 [00:00<?, ?it/s]\u001b[A\n",
      "Finalizing data blocks for type 5: 100%|███████| 56/56 [00:00<00:00, 192.84it/s]\u001b[A\n",
      "Finalizing data blocks: 100%|█████████████████████| 3/3 [00:00<00:00,  9.68it/s]\n",
      "Parsing signal channels: 100%|██████████████| 56/56 [00:00<00:00, 153016.95it/s]\n",
      "Parsing spike channels: 0it [00:00, ?it/s]\n",
      "Parsing event channels: 100%|██████████████████| 4/4 [00:00<00:00, 97541.95it/s]\n"
     ]
    },
    {
     "name": "stdout",
     "output_type": "stream",
     "text": [
      "Day: 1, Mouse: 4\n"
     ]
    },
    {
     "name": "stderr",
     "output_type": "stream",
     "text": [
      "Parsing data blocks:  98%|█████▉| 4050880/4133264 [00:00<00:00, 18106816.92it/s]\n",
      "Finalizing data blocks:   0%|                             | 0/3 [00:00<?, ?it/s]\n",
      "Finalizing data blocks for type 1: 100%|████| 56/56 [00:00<00:00, 533820.51it/s]\u001b[A\n",
      "\n",
      "Finalizing data blocks for type 4: 100%|█████████| 4/4 [00:00<00:00, 258.47it/s]\u001b[A\n",
      "\n",
      "Finalizing data blocks for type 5:   0%|                 | 0/56 [00:00<?, ?it/s]\u001b[A\n",
      "Finalizing data blocks for type 5: 100%|███████| 56/56 [00:00<00:00, 302.52it/s]\u001b[A\n",
      "Finalizing data blocks: 100%|█████████████████████| 3/3 [00:00<00:00, 14.57it/s]\n",
      "Parsing signal channels: 100%|██████████████| 56/56 [00:00<00:00, 142093.78it/s]\n",
      "Parsing spike channels: 0it [00:00, ?it/s]\n",
      "Parsing event channels: 100%|██████████████████| 4/4 [00:00<00:00, 88768.34it/s]\n"
     ]
    },
    {
     "name": "stdout",
     "output_type": "stream",
     "text": [
      "Day: 1, Mouse: 13\n"
     ]
    },
    {
     "name": "stderr",
     "output_type": "stream",
     "text": [
      "Parsing data blocks:  99%|█████▉| 9752512/9834896 [00:00<00:00, 17865893.81it/s]\n",
      "Finalizing data blocks:   0%|                             | 0/3 [00:00<?, ?it/s]\n",
      "Finalizing data blocks for type 1: 100%|████| 56/56 [00:00<00:00, 624683.57it/s]\u001b[A\n",
      "\n",
      "Finalizing data blocks for type 4: 100%|█████████| 4/4 [00:00<00:00, 257.60it/s]\u001b[A\n",
      "\n",
      "Finalizing data blocks for type 5:   0%|                 | 0/56 [00:00<?, ?it/s]\u001b[A\n",
      "Finalizing data blocks for type 5:   2%|▏        | 1/56 [00:00<00:08,  6.71it/s]\u001b[A\n",
      "Finalizing data blocks for type 5:   5%|▍        | 3/56 [00:00<00:04, 10.66it/s]\u001b[A\n",
      "Finalizing data blocks for type 5: 100%|███████| 56/56 [00:00<00:00, 123.01it/s]\u001b[A\n",
      "Finalizing data blocks: 100%|█████████████████████| 3/3 [00:00<00:00,  6.32it/s]\n",
      "Parsing signal channels: 100%|██████████████| 56/56 [00:00<00:00, 115024.99it/s]\n",
      "Parsing spike channels: 0it [00:00, ?it/s]\n",
      "Parsing event channels: 100%|██████████████████| 4/4 [00:00<00:00, 84733.41it/s]\n"
     ]
    },
    {
     "name": "stdout",
     "output_type": "stream",
     "text": [
      "Day: 1, Mouse: 33\n"
     ]
    },
    {
     "name": "stderr",
     "output_type": "stream",
     "text": [
      "Parsing data blocks:  98%|█████▉| 4048576/4130960 [00:00<00:00, 16158629.69it/s]\n",
      "Finalizing data blocks:   0%|                             | 0/3 [00:00<?, ?it/s]\n",
      "Finalizing data blocks for type 1: 100%|████| 56/56 [00:00<00:00, 636533.94it/s]\u001b[A\n",
      "\n",
      "Finalizing data blocks for type 4: 100%|█████████| 4/4 [00:00<00:00, 239.77it/s]\u001b[A\n",
      "\n",
      "Finalizing data blocks for type 5:   0%|                 | 0/56 [00:00<?, ?it/s]\u001b[A\n",
      "Finalizing data blocks for type 5: 100%|███████| 56/56 [00:00<00:00, 302.70it/s]\u001b[A\n",
      "Finalizing data blocks: 100%|█████████████████████| 3/3 [00:00<00:00, 13.99it/s]\n",
      "Parsing signal channels: 100%|██████████████| 56/56 [00:00<00:00, 160000.70it/s]\n",
      "Parsing spike channels: 0it [00:00, ?it/s]\n",
      "Parsing event channels: 100%|██████████████████| 4/4 [00:00<00:00, 89240.51it/s]\n"
     ]
    },
    {
     "name": "stdout",
     "output_type": "stream",
     "text": [
      "Day: 1, Mouse: 12\n"
     ]
    },
    {
     "name": "stderr",
     "output_type": "stream",
     "text": [
      "Parsing data blocks:  99%|███▉| 14214592/14296976 [00:00<00:00, 17606133.85it/s]\n",
      "Finalizing data blocks:   0%|                             | 0/3 [00:00<?, ?it/s]\n",
      "Finalizing data blocks for type 1: 100%|████| 56/56 [00:00<00:00, 412071.97it/s]\u001b[A\n",
      "\n",
      "Finalizing data blocks for type 4: 100%|█████████| 4/4 [00:00<00:00, 264.99it/s]\u001b[A\n",
      "\n",
      "Finalizing data blocks for type 5:   0%|                 | 0/56 [00:00<?, ?it/s]\u001b[A\n",
      "Finalizing data blocks for type 5:   2%|▏        | 1/56 [00:00<00:12,  4.57it/s]\u001b[A\n",
      "Finalizing data blocks for type 5:   5%|▍        | 3/56 [00:00<00:07,  7.26it/s]\u001b[A\n",
      "Finalizing data blocks for type 5: 100%|████████| 56/56 [00:00<00:00, 85.25it/s]\u001b[A\n",
      "Finalizing data blocks: 100%|█████████████████████| 3/3 [00:00<00:00,  4.44it/s]\n",
      "Parsing signal channels: 100%|███████████████| 56/56 [00:00<00:00, 94557.58it/s]\n",
      "Parsing spike channels: 0it [00:00, ?it/s]\n",
      "Parsing event channels: 100%|█████████████████| 4/4 [00:00<00:00, 102927.71it/s]\n"
     ]
    },
    {
     "name": "stdout",
     "output_type": "stream",
     "text": [
      "Day: 1, Mouse: 5\n"
     ]
    },
    {
     "name": "stderr",
     "output_type": "stream",
     "text": [
      "Parsing data blocks:  99%|█████▉| 9299392/9381776 [00:00<00:00, 19631689.89it/s]\n",
      "Finalizing data blocks:   0%|                             | 0/3 [00:00<?, ?it/s]\n",
      "Finalizing data blocks for type 1: 100%|████| 56/56 [00:00<00:00, 512840.66it/s]\u001b[A\n",
      "\n",
      "Finalizing data blocks for type 4: 100%|█████████| 4/4 [00:00<00:00, 156.80it/s]\u001b[A\n",
      "\n",
      "Finalizing data blocks for type 5:   0%|                 | 0/56 [00:00<?, ?it/s]\u001b[A\n",
      "Finalizing data blocks for type 5:   2%|▏        | 1/56 [00:00<00:08,  6.39it/s]\u001b[A\n",
      "Finalizing data blocks for type 5:   5%|▍        | 3/56 [00:00<00:04, 10.71it/s]\u001b[A\n",
      "Finalizing data blocks for type 5: 100%|███████| 56/56 [00:00<00:00, 127.12it/s]\u001b[A\n",
      "Finalizing data blocks: 100%|█████████████████████| 3/3 [00:00<00:00,  6.37it/s]\n",
      "Parsing signal channels: 100%|██████████████| 56/56 [00:00<00:00, 102166.60it/s]\n",
      "Parsing spike channels: 0it [00:00, ?it/s]\n",
      "Parsing event channels: 100%|██████████████████| 4/4 [00:00<00:00, 84733.41it/s]\n"
     ]
    },
    {
     "name": "stdout",
     "output_type": "stream",
     "text": [
      "Day: 1, Mouse: 16\n"
     ]
    },
    {
     "name": "stderr",
     "output_type": "stream",
     "text": [
      "Parsing data blocks:  99%|█████▉| 8052160/8134544 [00:00<00:00, 21645370.65it/s]\n",
      "Finalizing data blocks:   0%|                             | 0/3 [00:00<?, ?it/s]\n",
      "Finalizing data blocks for type 1: 100%|████| 56/56 [00:00<00:00, 616485.63it/s]\u001b[A\n",
      "\n",
      "Finalizing data blocks for type 4: 100%|█████████| 4/4 [00:00<00:00, 254.85it/s]\u001b[A\n",
      "\n",
      "Finalizing data blocks for type 5:   0%|                 | 0/56 [00:00<?, ?it/s]\u001b[A\n",
      "Finalizing data blocks for type 5:   2%|▏        | 1/56 [00:00<00:06,  8.21it/s]\u001b[A\n",
      "Finalizing data blocks for type 5:   5%|▍        | 3/56 [00:00<00:04, 13.08it/s]\u001b[A\n",
      "Finalizing data blocks for type 5: 100%|███████| 56/56 [00:00<00:00, 153.69it/s]\u001b[A\n",
      "Finalizing data blocks: 100%|█████████████████████| 3/3 [00:00<00:00,  7.81it/s]\n",
      "Parsing signal channels: 100%|███████████████| 56/56 [00:00<00:00, 93466.38it/s]\n",
      "Parsing spike channels: 0it [00:00, ?it/s]\n",
      "Parsing event channels: 100%|██████████████████| 4/4 [00:00<00:00, 97541.95it/s]\n"
     ]
    },
    {
     "name": "stdout",
     "output_type": "stream",
     "text": [
      "Day: 1, Mouse: 1\n"
     ]
    },
    {
     "name": "stderr",
     "output_type": "stream",
     "text": [
      "Parsing data blocks:  99%|███▉| 11965888/12048272 [00:00<00:00, 18583019.07it/s]\n",
      "Finalizing data blocks:   0%|                             | 0/3 [00:00<?, ?it/s]\n",
      "Finalizing data blocks for type 1: 100%|████| 56/56 [00:00<00:00, 628024.13it/s]\u001b[A\n",
      "\n",
      "Finalizing data blocks for type 4: 100%|█████████| 4/4 [00:00<00:00, 276.38it/s]\u001b[A\n",
      "\n",
      "Finalizing data blocks for type 5:   0%|                 | 0/56 [00:00<?, ?it/s]\u001b[A\n",
      "Finalizing data blocks for type 5:   2%|▏        | 1/56 [00:00<00:10,  5.27it/s]\u001b[A\n",
      "Finalizing data blocks for type 5:   5%|▍        | 3/56 [00:00<00:06,  8.26it/s]\u001b[A\n",
      "Finalizing data blocks for type 5: 100%|████████| 56/56 [00:00<00:00, 96.68it/s]\u001b[A\n",
      "Finalizing data blocks: 100%|█████████████████████| 3/3 [00:00<00:00,  5.02it/s]\n",
      "Parsing signal channels: 100%|██████████████| 56/56 [00:00<00:00, 104067.80it/s]\n",
      "Parsing spike channels: 0it [00:00, ?it/s]\n",
      "Parsing event channels: 100%|█████████████████| 4/4 [00:00<00:00, 102300.10it/s]\n"
     ]
    },
    {
     "name": "stdout",
     "output_type": "stream",
     "text": [
      "Day: 1, Mouse: 32\n"
     ]
    },
    {
     "name": "stderr",
     "output_type": "stream",
     "text": [
      "Parsing data blocks:  99%|█████▉| 9745600/9827984 [00:00<00:00, 16178683.08it/s]\n",
      "Finalizing data blocks:   0%|                             | 0/3 [00:00<?, ?it/s]\n",
      "Finalizing data blocks for type 1: 100%|████| 56/56 [00:00<00:00, 590153.33it/s]\u001b[A\n",
      "\n",
      "Finalizing data blocks for type 4: 100%|█████████| 4/4 [00:00<00:00, 270.67it/s]\u001b[A\n",
      "\n",
      "Finalizing data blocks for type 5:   0%|                 | 0/56 [00:00<?, ?it/s]\u001b[A\n",
      "Finalizing data blocks for type 5:   2%|▏        | 1/56 [00:00<00:08,  6.66it/s]\u001b[A\n",
      "Finalizing data blocks for type 5:   5%|▍        | 3/56 [00:00<00:05, 10.53it/s]\u001b[A\n",
      "Finalizing data blocks for type 5: 100%|███████| 56/56 [00:00<00:00, 123.60it/s]\u001b[A\n",
      "Finalizing data blocks: 100%|█████████████████████| 3/3 [00:00<00:00,  6.35it/s]\n",
      "Parsing signal channels: 100%|██████████████| 56/56 [00:00<00:00, 108741.21it/s]\n",
      "Parsing spike channels: 0it [00:00, ?it/s]\n",
      "Parsing event channels: 100%|██████████████████| 4/4 [00:00<00:00, 86480.49it/s]\n"
     ]
    },
    {
     "name": "stdout",
     "output_type": "stream",
     "text": [
      "Day: 1, Mouse: 28\n"
     ]
    },
    {
     "name": "stderr",
     "output_type": "stream",
     "text": [
      "Parsing data blocks:  99%|█████▉| 7974592/8056976 [00:00<00:00, 19088511.36it/s]\n",
      "Finalizing data blocks:   0%|                             | 0/3 [00:00<?, ?it/s]\n",
      "Finalizing data blocks for type 1: 100%|████| 56/56 [00:00<00:00, 610080.58it/s]\u001b[A\n",
      "\n",
      "Finalizing data blocks for type 4: 100%|█████████| 4/4 [00:00<00:00, 275.56it/s]\u001b[A\n",
      "\n",
      "Finalizing data blocks for type 5:   0%|                 | 0/56 [00:00<?, ?it/s]\u001b[A\n",
      "Finalizing data blocks for type 5:   2%|▏        | 1/56 [00:00<00:06,  8.16it/s]\u001b[A\n",
      "Finalizing data blocks for type 5:   5%|▍        | 3/56 [00:00<00:04, 12.80it/s]\u001b[A\n",
      "Finalizing data blocks for type 5: 100%|███████| 56/56 [00:00<00:00, 148.76it/s]\u001b[A\n",
      "Finalizing data blocks: 100%|█████████████████████| 3/3 [00:00<00:00,  7.60it/s]\n",
      "Parsing signal channels: 100%|██████████████| 56/56 [00:00<00:00, 110897.56it/s]\n",
      "Parsing spike channels: 0it [00:00, ?it/s]\n",
      "Parsing event channels: 100%|██████████████████| 4/4 [00:00<00:00, 98112.37it/s]\n"
     ]
    },
    {
     "name": "stdout",
     "output_type": "stream",
     "text": [
      "Day: 1, Mouse: 31\n"
     ]
    },
    {
     "name": "stderr",
     "output_type": "stream",
     "text": [
      "Parsing data blocks:  99%|███▉| 15322048/15404432 [00:00<00:00, 19355895.23it/s]\n",
      "Finalizing data blocks:   0%|                             | 0/3 [00:00<?, ?it/s]\n",
      "Finalizing data blocks for type 1: 100%|████| 56/56 [00:00<00:00, 610080.58it/s]\u001b[A\n",
      "\n",
      "Finalizing data blocks for type 4: 100%|█████████| 4/4 [00:00<00:00, 250.77it/s]\u001b[A\n",
      "\n",
      "Finalizing data blocks for type 5:   0%|                 | 0/56 [00:00<?, ?it/s]\u001b[A\n",
      "Finalizing data blocks for type 5:   2%|▏        | 1/56 [00:00<00:12,  4.24it/s]\u001b[A\n",
      "Finalizing data blocks for type 5:   5%|▍        | 3/56 [00:00<00:07,  6.74it/s]\u001b[A\n",
      "Finalizing data blocks for type 5: 100%|████████| 56/56 [00:00<00:00, 79.21it/s]\u001b[A\n",
      "Finalizing data blocks: 100%|█████████████████████| 3/3 [00:00<00:00,  4.13it/s]\n",
      "Parsing signal channels: 100%|██████████████| 56/56 [00:00<00:00, 110480.26it/s]\n",
      "Parsing spike channels: 0it [00:00, ?it/s]\n",
      "Parsing event channels: 100%|██████████████████| 4/4 [00:00<00:00, 81840.08it/s]\n"
     ]
    },
    {
     "name": "stdout",
     "output_type": "stream",
     "text": [
      "Day: 1, Mouse: 35\n"
     ]
    },
    {
     "name": "stderr",
     "output_type": "stream",
     "text": [
      "Parsing data blocks:  99%|███▉| 10279360/10361744 [00:00<00:00, 20533791.41it/s]\n",
      "Finalizing data blocks:   0%|                             | 0/3 [00:00<?, ?it/s]\n",
      "Finalizing data blocks for type 1: 100%|████| 56/56 [00:00<00:00, 616485.63it/s]\u001b[A\n",
      "\n",
      "Finalizing data blocks for type 4: 100%|█████████| 4/4 [00:00<00:00, 269.44it/s]\u001b[A\n",
      "\n",
      "Finalizing data blocks for type 5:   0%|                 | 0/56 [00:00<?, ?it/s]\u001b[A\n",
      "Finalizing data blocks for type 5:   2%|▏        | 1/56 [00:00<00:08,  6.31it/s]\u001b[A\n",
      "Finalizing data blocks for type 5:   5%|▍        | 3/56 [00:00<00:05, 10.01it/s]\u001b[A\n",
      "Finalizing data blocks for type 5: 100%|███████| 56/56 [00:00<00:00, 117.72it/s]\u001b[A\n",
      "Finalizing data blocks: 100%|█████████████████████| 3/3 [00:00<00:00,  6.06it/s]\n",
      "Parsing signal channels: 100%|██████████████| 56/56 [00:00<00:00, 114297.34it/s]\n",
      "Parsing spike channels: 0it [00:00, ?it/s]\n",
      "Parsing event channels: 100%|█████████████████| 4/4 [00:00<00:00, 102927.71it/s]\n"
     ]
    },
    {
     "name": "stdout",
     "output_type": "stream",
     "text": [
      "Day: 1, Mouse: 6\n"
     ]
    },
    {
     "name": "stderr",
     "output_type": "stream",
     "text": [
      "Parsing data blocks:  98%|█████▉| 4047808/4130192 [00:00<00:00, 16259194.69it/s]\n",
      "Finalizing data blocks:   0%|                             | 0/3 [00:00<?, ?it/s]\n",
      "Finalizing data blocks for type 1: 100%|████| 56/56 [00:00<00:00, 578524.69it/s]\u001b[A\n",
      "\n",
      "Finalizing data blocks for type 4: 100%|█████████| 4/4 [00:00<00:00, 258.48it/s]\u001b[A\n",
      "\n",
      "Finalizing data blocks for type 5:   0%|                 | 0/56 [00:00<?, ?it/s]\u001b[A\n",
      "Finalizing data blocks for type 5: 100%|███████| 56/56 [00:00<00:00, 296.28it/s]\u001b[A\n",
      "Finalizing data blocks: 100%|█████████████████████| 3/3 [00:00<00:00, 14.35it/s]\n",
      "Parsing signal channels: 100%|██████████████| 56/56 [00:00<00:00, 178888.82it/s]\n",
      "Parsing spike channels: 0it [00:00, ?it/s]\n",
      "Parsing event channels: 100%|██████████████████| 4/4 [00:00<00:00, 95325.09it/s]\n"
     ]
    },
    {
     "name": "stdout",
     "output_type": "stream",
     "text": [
      "Day: 1, Mouse: 15\n"
     ]
    },
    {
     "name": "stderr",
     "output_type": "stream",
     "text": [
      "Parsing data blocks:  99%|█████▉| 8098240/8180624 [00:00<00:00, 18688613.58it/s]\n",
      "Finalizing data blocks:   0%|                             | 0/3 [00:00<?, ?it/s]\n",
      "Finalizing data blocks for type 1: 100%|████| 56/56 [00:00<00:00, 636533.94it/s]\u001b[A\n",
      "\n",
      "Finalizing data blocks for type 4: 100%|█████████| 4/4 [00:00<00:00, 270.40it/s]\u001b[A\n",
      "\n",
      "Finalizing data blocks for type 5:   0%|                 | 0/56 [00:00<?, ?it/s]\u001b[A\n",
      "Finalizing data blocks for type 5:   2%|▏        | 1/56 [00:00<00:06,  8.29it/s]\u001b[A\n",
      "Finalizing data blocks for type 5:   5%|▍        | 3/56 [00:00<00:04, 13.20it/s]\u001b[A\n",
      "Finalizing data blocks for type 5: 100%|███████| 56/56 [00:00<00:00, 155.12it/s]\u001b[A\n",
      "Finalizing data blocks: 100%|█████████████████████| 3/3 [00:00<00:00,  7.89it/s]\n",
      "Parsing signal channels: 100%|██████████████| 56/56 [00:00<00:00, 102747.60it/s]\n",
      "Parsing spike channels: 0it [00:00, ?it/s]\n",
      "Parsing event channels: 100%|██████████████████| 4/4 [00:00<00:00, 83468.74it/s]\n"
     ]
    },
    {
     "name": "stdout",
     "output_type": "stream",
     "text": [
      "Day: 1, Mouse: 2\n"
     ]
    },
    {
     "name": "stderr",
     "output_type": "stream",
     "text": [
      "Parsing data blocks:  99%|█████▉| 8904672/8987056 [00:00<00:00, 17716367.27it/s]\n",
      "Finalizing data blocks:   0%|                             | 0/3 [00:00<?, ?it/s]\n",
      "Finalizing data blocks for type 1: 100%|████| 56/56 [00:00<00:00, 629707.84it/s]\u001b[A\n",
      "\n",
      "Finalizing data blocks for type 4: 100%|█████████| 4/4 [00:00<00:00, 261.29it/s]\u001b[A\n",
      "\n",
      "Finalizing data blocks for type 5:   0%|                 | 0/56 [00:00<?, ?it/s]\u001b[A\n",
      "Finalizing data blocks for type 5:   2%|▏        | 1/56 [00:00<00:07,  7.21it/s]\u001b[A\n",
      "Finalizing data blocks for type 5:   5%|▍        | 3/56 [00:00<00:04, 11.39it/s]\u001b[A\n",
      "Finalizing data blocks for type 5: 100%|███████| 56/56 [00:00<00:00, 131.39it/s]\u001b[A\n",
      "Finalizing data blocks: 100%|█████████████████████| 3/3 [00:00<00:00,  6.73it/s]\n",
      "Parsing signal channels: 100%|██████████████| 56/56 [00:00<00:00, 124737.67it/s]\n",
      "Parsing spike channels: 0it [00:00, ?it/s]\n",
      "Parsing event channels: 100%|██████████████████| 4/4 [00:00<00:00, 76608.29it/s]\n"
     ]
    },
    {
     "name": "stdout",
     "output_type": "stream",
     "text": [
      "Day: 1, Mouse: 34\n"
     ]
    },
    {
     "name": "stderr",
     "output_type": "stream",
     "text": [
      "Parsing data blocks:  99%|████▉| 9970624/10053008 [00:00<00:00, 21316863.65it/s]\n",
      "Finalizing data blocks:   0%|                             | 0/3 [00:00<?, ?it/s]\n",
      "Finalizing data blocks for type 1: 100%|████| 56/56 [00:00<00:00, 652447.29it/s]\u001b[A\n",
      "\n",
      "Finalizing data blocks for type 4: 100%|█████████| 4/4 [00:00<00:00, 262.78it/s]\u001b[A\n",
      "\n",
      "Finalizing data blocks for type 5:   0%|                 | 0/56 [00:00<?, ?it/s]\u001b[A\n",
      "Finalizing data blocks for type 5:   2%|▏        | 1/56 [00:00<00:08,  6.82it/s]\u001b[A\n",
      "Finalizing data blocks for type 5:   5%|▍        | 3/56 [00:00<00:04, 10.65it/s]\u001b[A\n",
      "Finalizing data blocks for type 5: 100%|███████| 56/56 [00:00<00:00, 125.02it/s]\u001b[A\n",
      "Finalizing data blocks: 100%|█████████████████████| 3/3 [00:00<00:00,  6.42it/s]\n",
      "Parsing signal channels: 100%|██████████████| 56/56 [00:00<00:00, 106861.25it/s]\n",
      "Parsing spike channels: 0it [00:00, ?it/s]\n",
      "Parsing event channels: 100%|██████████████████| 4/4 [00:00<00:00, 93206.76it/s]\n"
     ]
    },
    {
     "name": "stdout",
     "output_type": "stream",
     "text": [
      "Day: 1, Mouse: 30\n"
     ]
    },
    {
     "name": "stderr",
     "output_type": "stream",
     "text": [
      "Parsing data blocks:  99%|█████▉| 7712704/7795088 [00:00<00:00, 18509045.70it/s]\n",
      "Finalizing data blocks:   0%|                             | 0/3 [00:00<?, ?it/s]\n",
      "Finalizing data blocks for type 1: 100%|████| 56/56 [00:00<00:00, 584281.15it/s]\u001b[A\n",
      "\n",
      "Finalizing data blocks for type 4: 100%|█████████| 4/4 [00:00<00:00, 274.31it/s]\u001b[A\n",
      "\n",
      "Finalizing data blocks for type 5:   0%|                 | 0/56 [00:00<?, ?it/s]\u001b[A\n",
      "Finalizing data blocks for type 5:   2%|▏        | 1/56 [00:00<00:06,  8.68it/s]\u001b[A\n",
      "Finalizing data blocks for type 5:   5%|▍        | 3/56 [00:00<00:03, 13.64it/s]\u001b[A\n",
      "Finalizing data blocks for type 5: 100%|███████| 56/56 [00:00<00:00, 159.57it/s]\u001b[A\n",
      "Finalizing data blocks: 100%|█████████████████████| 3/3 [00:00<00:00,  8.12it/s]\n",
      "Parsing signal channels: 100%|██████████████| 56/56 [00:00<00:00, 137357.32it/s]\n",
      "Parsing spike channels: 0it [00:00, ?it/s]\n",
      "Parsing event channels: 100%|██████████████████| 4/4 [00:00<00:00, 99864.38it/s]\n"
     ]
    },
    {
     "name": "stdout",
     "output_type": "stream",
     "text": [
      "Day: 1, Mouse: 29\n"
     ]
    },
    {
     "name": "stderr",
     "output_type": "stream",
     "text": [
      "Parsing data blocks:  99%|█████▉| 9668800/9751184 [00:00<00:00, 19767302.66it/s]\n",
      "Finalizing data blocks:   0%|                             | 0/3 [00:00<?, ?it/s]\n",
      "Finalizing data blocks for type 1: 100%|████| 56/56 [00:00<00:00, 582831.33it/s]\u001b[A\n",
      "\n",
      "Finalizing data blocks for type 4: 100%|█████████| 4/4 [00:00<00:00, 280.79it/s]\u001b[A\n",
      "\n",
      "Finalizing data blocks for type 5:   0%|                 | 0/56 [00:00<?, ?it/s]\u001b[A\n",
      "Finalizing data blocks for type 5:   2%|▏        | 1/56 [00:00<00:08,  6.82it/s]\u001b[A\n",
      "Finalizing data blocks for type 5:   5%|▍        | 3/56 [00:00<00:04, 10.81it/s]\u001b[A\n",
      "Finalizing data blocks for type 5: 100%|███████| 56/56 [00:00<00:00, 126.86it/s]\u001b[A\n",
      "Finalizing data blocks: 100%|█████████████████████| 3/3 [00:00<00:00,  6.52it/s]\n",
      "Parsing signal channels: 100%|██████████████| 56/56 [00:00<00:00, 108993.51it/s]\n",
      "Parsing spike channels: 0it [00:00, ?it/s]\n",
      "Parsing event channels: 100%|██████████████████| 4/4 [00:00<00:00, 98112.37it/s]\n"
     ]
    },
    {
     "name": "stdout",
     "output_type": "stream",
     "text": [
      "Day: 1, Mouse: 3\n"
     ]
    },
    {
     "name": "stderr",
     "output_type": "stream",
     "text": [
      "Parsing data blocks:  98%|█████▉| 4050880/4133264 [00:00<00:00, 19510075.27it/s]\n",
      "Finalizing data blocks:   0%|                             | 0/3 [00:00<?, ?it/s]\n",
      "Finalizing data blocks for type 1: 100%|████| 56/56 [00:00<00:00, 596144.73it/s]\u001b[A\n",
      "\n",
      "Finalizing data blocks for type 4: 100%|█████████| 4/4 [00:00<00:00, 266.77it/s]\u001b[A\n",
      "\n",
      "Finalizing data blocks for type 5:   0%|                 | 0/56 [00:00<?, ?it/s]\u001b[A\n",
      "Finalizing data blocks for type 5: 100%|███████| 56/56 [00:00<00:00, 303.91it/s]\u001b[A\n",
      "Finalizing data blocks: 100%|█████████████████████| 3/3 [00:00<00:00, 14.74it/s]\n",
      "Parsing signal channels: 100%|██████████████| 56/56 [00:00<00:00, 173471.95it/s]\n",
      "Parsing spike channels: 0it [00:00, ?it/s]\n",
      "Parsing event channels: 100%|██████████████████| 4/4 [00:00<00:00, 92691.80it/s]\n"
     ]
    },
    {
     "name": "stdout",
     "output_type": "stream",
     "text": [
      "Day: 1, Mouse: 14\n"
     ]
    },
    {
     "name": "stderr",
     "output_type": "stream",
     "text": [
      "Parsing data blocks:  99%|█████▉| 9180352/9262736 [00:00<00:00, 18886256.83it/s]\n",
      "Finalizing data blocks:   0%|                             | 0/3 [00:00<?, ?it/s]\n",
      "Finalizing data blocks for type 1: 100%|████| 56/56 [00:00<00:00, 628024.13it/s]\u001b[A\n",
      "\n",
      "Finalizing data blocks for type 4: 100%|█████████| 4/4 [00:00<00:00, 245.11it/s]\u001b[A\n",
      "\n",
      "Finalizing data blocks for type 5:   0%|                 | 0/56 [00:00<?, ?it/s]\u001b[A\n",
      "Finalizing data blocks for type 5:   2%|▏        | 1/56 [00:00<00:07,  7.19it/s]\u001b[A\n",
      "Finalizing data blocks for type 5:   5%|▍        | 3/56 [00:00<00:04, 11.33it/s]\u001b[A\n",
      "Finalizing data blocks for type 5: 100%|███████| 56/56 [00:00<00:00, 132.95it/s]\u001b[A\n",
      "Finalizing data blocks: 100%|█████████████████████| 3/3 [00:00<00:00,  6.80it/s]\n",
      "Parsing signal channels: 100%|███████████████| 56/56 [00:00<00:00, 93764.88it/s]\n",
      "Parsing spike channels: 0it [00:00, ?it/s]\n",
      "Parsing event channels: 100%|██████████████████| 4/4 [00:00<00:00, 93206.76it/s]\n"
     ]
    },
    {
     "name": "stdout",
     "output_type": "stream",
     "text": [
      "Day: 1, Mouse: 7\n"
     ]
    },
    {
     "name": "stderr",
     "output_type": "stream",
     "text": [
      "Parsing data blocks:  99%|█████▉| 9024448/9106832 [00:00<00:00, 19283246.99it/s]\n",
      "Finalizing data blocks:   0%|                             | 0/3 [00:00<?, ?it/s]\n",
      "Finalizing data blocks for type 1: 100%|████| 56/56 [00:00<00:00, 667275.64it/s]\u001b[A\n",
      "\n",
      "Finalizing data blocks for type 4: 100%|█████████| 4/4 [00:00<00:00, 266.43it/s]\u001b[A\n",
      "\n",
      "Finalizing data blocks for type 5:   0%|                 | 0/56 [00:00<?, ?it/s]\u001b[A\n",
      "Finalizing data blocks for type 5:   2%|▏        | 1/56 [00:00<00:07,  7.36it/s]\u001b[A\n",
      "Finalizing data blocks for type 5:   5%|▍        | 3/56 [00:00<00:04, 11.63it/s]\u001b[A\n",
      "Finalizing data blocks for type 5: 100%|███████| 56/56 [00:00<00:00, 136.04it/s]\u001b[A\n",
      "Finalizing data blocks: 100%|█████████████████████| 3/3 [00:00<00:00,  6.97it/s]\n",
      "Parsing signal channels: 100%|██████████████| 56/56 [00:00<00:00, 105849.94it/s]\n",
      "Parsing spike channels: 0it [00:00, ?it/s]\n",
      "Parsing event channels: 100%|██████████████████| 4/4 [00:00<00:00, 99864.38it/s]\n"
     ]
    },
    {
     "name": "stdout",
     "output_type": "stream",
     "text": [
      "Day: 1, Mouse: 10\n"
     ]
    },
    {
     "name": "stderr",
     "output_type": "stream",
     "text": [
      "Parsing data blocks:  99%|█████▉| 7994560/8076944 [00:00<00:00, 19925918.72it/s]\n",
      "Finalizing data blocks:   0%|                             | 0/3 [00:00<?, ?it/s]\n",
      "Finalizing data blocks for type 1: 100%|████| 56/56 [00:00<00:00, 623026.59it/s]\u001b[A\n",
      "\n",
      "Finalizing data blocks for type 4: 100%|█████████| 4/4 [00:00<00:00, 258.85it/s]\u001b[A\n",
      "\n",
      "Finalizing data blocks for type 5:   0%|                 | 0/56 [00:00<?, ?it/s]\u001b[A\n",
      "Finalizing data blocks for type 5:   2%|▏        | 1/56 [00:00<00:06,  8.26it/s]\u001b[A\n",
      "Finalizing data blocks for type 5:   5%|▍        | 3/56 [00:00<00:04, 13.02it/s]\u001b[A\n",
      "Finalizing data blocks for type 5: 100%|███████| 56/56 [00:00<00:00, 152.86it/s]\u001b[A\n",
      "Finalizing data blocks: 100%|█████████████████████| 3/3 [00:00<00:00,  7.78it/s]\n",
      "Parsing signal channels: 100%|███████████████| 56/56 [00:00<00:00, 95209.17it/s]\n",
      "Parsing spike channels: 0it [00:00, ?it/s]\n",
      "Parsing event channels: 100%|██████████████████| 4/4 [00:00<00:00, 97541.95it/s]\n"
     ]
    },
    {
     "name": "stdout",
     "output_type": "stream",
     "text": [
      "Day: 2, Mouse: 19\n"
     ]
    },
    {
     "name": "stderr",
     "output_type": "stream",
     "text": [
      "Parsing data blocks:  99%|█████▉| 6565312/6647696 [00:00<00:00, 17920176.89it/s]\n",
      "Finalizing data blocks:   0%|                             | 0/3 [00:00<?, ?it/s]\n",
      "Finalizing data blocks for type 1: 100%|████| 56/56 [00:00<00:00, 572880.55it/s]\u001b[A\n",
      "\n",
      "Finalizing data blocks for type 4: 100%|█████████| 4/4 [00:00<00:00, 257.77it/s]\u001b[A\n",
      "\n",
      "Finalizing data blocks for type 5:   0%|                 | 0/56 [00:00<?, ?it/s]\u001b[A\n",
      "Finalizing data blocks for type 5:   5%|▍        | 3/56 [00:00<00:03, 15.05it/s]\u001b[A\n",
      "Finalizing data blocks for type 5: 100%|███████| 56/56 [00:00<00:00, 186.03it/s]\u001b[A\n",
      "Finalizing data blocks: 100%|█████████████████████| 3/3 [00:00<00:00,  9.35it/s]\n",
      "Parsing signal channels: 100%|███████████████| 56/56 [00:00<00:00, 72182.24it/s]\n",
      "Parsing spike channels: 0it [00:00, ?it/s]\n",
      "Parsing event channels: 100%|██████████████████| 4/4 [00:00<00:00, 95325.09it/s]\n"
     ]
    },
    {
     "name": "stdout",
     "output_type": "stream",
     "text": [
      "Day: 2, Mouse: 20\n"
     ]
    },
    {
     "name": "stderr",
     "output_type": "stream",
     "text": [
      "Parsing data blocks:  99%|█████▉| 6651328/6733712 [00:00<00:00, 17303415.78it/s]\n",
      "Finalizing data blocks:   0%|                             | 0/3 [00:00<?, ?it/s]\n",
      "Finalizing data blocks for type 1: 100%|████| 56/56 [00:00<00:00, 596144.73it/s]\u001b[A\n",
      "\n",
      "Finalizing data blocks for type 4: 100%|█████████| 4/4 [00:00<00:00, 277.45it/s]\u001b[A\n",
      "\n",
      "Finalizing data blocks for type 5:   0%|                 | 0/56 [00:00<?, ?it/s]\u001b[A\n",
      "Finalizing data blocks for type 5:   2%|▏        | 1/56 [00:00<00:05,  9.86it/s]\u001b[A\n",
      "Finalizing data blocks for type 5:   5%|▍        | 3/56 [00:00<00:03, 15.26it/s]\u001b[A\n",
      "Finalizing data blocks for type 5: 100%|███████| 56/56 [00:00<00:00, 180.44it/s]\u001b[A\n",
      "Finalizing data blocks: 100%|█████████████████████| 3/3 [00:00<00:00,  9.12it/s]\n",
      "Parsing signal channels: 100%|██████████████| 56/56 [00:00<00:00, 113578.83it/s]\n",
      "Parsing spike channels: 0it [00:00, ?it/s]\n",
      "Parsing event channels: 100%|██████████████████| 4/4 [00:00<00:00, 65281.00it/s]\n"
     ]
    },
    {
     "name": "stdout",
     "output_type": "stream",
     "text": [
      "Day: 2, Mouse: 18\n"
     ]
    },
    {
     "name": "stderr",
     "output_type": "stream",
     "text": [
      "Parsing data blocks:  99%|█████▉| 7995328/8077712 [00:00<00:00, 19072913.78it/s]\n",
      "Finalizing data blocks:   0%|                             | 0/3 [00:00<?, ?it/s]\n",
      "Finalizing data blocks for type 1: 100%|████| 56/56 [00:00<00:00, 564617.85it/s]\u001b[A\n",
      "\n",
      "Finalizing data blocks for type 4: 100%|█████████| 4/4 [00:00<00:00, 255.56it/s]\u001b[A\n",
      "\n",
      "Finalizing data blocks for type 5:   0%|                 | 0/56 [00:00<?, ?it/s]\u001b[A\n",
      "Finalizing data blocks for type 5:   2%|▏        | 1/56 [00:00<00:06,  8.20it/s]\u001b[A\n",
      "Finalizing data blocks for type 5:   5%|▍        | 3/56 [00:00<00:04, 12.98it/s]\u001b[A\n",
      "Finalizing data blocks for type 5: 100%|███████| 56/56 [00:00<00:00, 151.92it/s]\u001b[A\n",
      "Finalizing data blocks: 100%|█████████████████████| 3/3 [00:00<00:00,  7.73it/s]\n",
      "Parsing signal channels: 100%|███████████████| 56/56 [00:00<00:00, 93990.01it/s]\n",
      "Parsing spike channels: 0it [00:00, ?it/s]\n",
      "Parsing event channels: 100%|██████████████████| 4/4 [00:00<00:00, 83055.52it/s]\n"
     ]
    },
    {
     "name": "stdout",
     "output_type": "stream",
     "text": [
      "Day: 2, Mouse: 25\n"
     ]
    },
    {
     "name": "stderr",
     "output_type": "stream",
     "text": [
      "Parsing data blocks:  99%|█████▉| 7504576/7586960 [00:00<00:00, 20675696.20it/s]\n",
      "Finalizing data blocks:   0%|                             | 0/3 [00:00<?, ?it/s]\n",
      "Finalizing data blocks for type 1: 100%|████| 56/56 [00:00<00:00, 610080.58it/s]\u001b[A\n",
      "\n",
      "Finalizing data blocks for type 4: 100%|█████████| 4/4 [00:00<00:00, 260.75it/s]\u001b[A\n",
      "\n",
      "Finalizing data blocks for type 5:   0%|                 | 0/56 [00:00<?, ?it/s]\u001b[A\n",
      "Finalizing data blocks for type 5:   2%|▏        | 1/56 [00:00<00:06,  8.74it/s]\u001b[A\n",
      "Finalizing data blocks for type 5:   5%|▍        | 3/56 [00:00<00:03, 13.84it/s]\u001b[A\n",
      "Finalizing data blocks for type 5: 100%|███████| 56/56 [00:00<00:00, 161.96it/s]\u001b[A\n",
      "Finalizing data blocks: 100%|█████████████████████| 3/3 [00:00<00:00,  8.19it/s]\n",
      "Parsing signal channels: 100%|██████████████| 56/56 [00:00<00:00, 103108.44it/s]\n",
      "Parsing spike channels: 0it [00:00, ?it/s]\n",
      "Parsing event channels: 100%|██████████████████| 4/4 [00:00<00:00, 76959.71it/s]\n"
     ]
    },
    {
     "name": "stdout",
     "output_type": "stream",
     "text": [
      "Day: 2, Mouse: 26\n"
     ]
    },
    {
     "name": "stderr",
     "output_type": "stream",
     "text": [
      "Parsing data blocks:  99%|█████▉| 8856256/8938640 [00:00<00:00, 19371707.33it/s]\n",
      "Finalizing data blocks:   0%|                             | 0/3 [00:00<?, ?it/s]\n",
      "Finalizing data blocks for type 1: 100%|████| 56/56 [00:00<00:00, 643509.65it/s]\u001b[A\n",
      "\n",
      "Finalizing data blocks for type 4: 100%|█████████| 4/4 [00:00<00:00, 273.80it/s]\u001b[A\n",
      "\n",
      "Finalizing data blocks for type 5:   0%|                 | 0/56 [00:00<?, ?it/s]\u001b[A\n",
      "Finalizing data blocks for type 5:   2%|▏        | 1/56 [00:00<00:07,  7.44it/s]\u001b[A\n",
      "Finalizing data blocks for type 5:   5%|▍        | 3/56 [00:00<00:04, 11.72it/s]\u001b[A\n",
      "Finalizing data blocks for type 5: 100%|███████| 56/56 [00:00<00:00, 137.57it/s]\u001b[A\n",
      "Finalizing data blocks: 100%|█████████████████████| 3/3 [00:00<00:00,  7.05it/s]\n",
      "Parsing signal channels: 100%|██████████████| 56/56 [00:00<00:00, 124737.67it/s]\n",
      "Parsing spike channels: 0it [00:00, ?it/s]\n",
      "Parsing event channels: 100%|██████████████████| 4/4 [00:00<00:00, 95325.09it/s]\n"
     ]
    },
    {
     "name": "stdout",
     "output_type": "stream",
     "text": [
      "Day: 2, Mouse: 8\n"
     ]
    },
    {
     "name": "stderr",
     "output_type": "stream",
     "text": [
      "Parsing data blocks:  99%|█████▉| 7431616/7514000 [00:00<00:00, 18663960.65it/s]\n",
      "Finalizing data blocks:   0%|                             | 0/3 [00:00<?, ?it/s]\n",
      "Finalizing data blocks for type 1: 100%|████| 56/56 [00:00<00:00, 462364.22it/s]\u001b[A\n",
      "\n",
      "Finalizing data blocks for type 4: 100%|█████████| 4/4 [00:00<00:00, 261.21it/s]\u001b[A\n",
      "\n",
      "Finalizing data blocks for type 5:   0%|                 | 0/56 [00:00<?, ?it/s]\u001b[A\n",
      "Finalizing data blocks for type 5:   2%|▏        | 1/56 [00:00<00:06,  8.83it/s]\u001b[A\n",
      "Finalizing data blocks for type 5:   5%|▍        | 3/56 [00:00<00:03, 14.02it/s]\u001b[A\n",
      "Finalizing data blocks for type 5: 100%|███████| 56/56 [00:00<00:00, 163.80it/s]\u001b[A\n",
      "Finalizing data blocks: 100%|█████████████████████| 3/3 [00:00<00:00,  8.29it/s]\n",
      "Parsing signal channels: 100%|███████████████| 56/56 [00:00<00:00, 93802.33it/s]\n",
      "Parsing spike channels: 0it [00:00, ?it/s]\n",
      "Parsing event channels: 100%|██████████████████| 4/4 [00:00<00:00, 90687.65it/s]\n"
     ]
    },
    {
     "name": "stdout",
     "output_type": "stream",
     "text": [
      "Day: 2, Mouse: 27\n"
     ]
    },
    {
     "name": "stderr",
     "output_type": "stream",
     "text": [
      "Parsing data blocks:  99%|█████▉| 6265792/6348176 [00:00<00:00, 17853644.72it/s]\n",
      "Finalizing data blocks:   0%|                             | 0/3 [00:00<?, ?it/s]\n",
      "Finalizing data blocks for type 1: 100%|█████| 56/56 [00:00<00:00, 81754.62it/s]\u001b[A\n",
      "\n",
      "Finalizing data blocks for type 4: 100%|█████████| 4/4 [00:00<00:00, 209.86it/s]\u001b[A\n",
      "\n",
      "Finalizing data blocks for type 5:   0%|                 | 0/56 [00:00<?, ?it/s]\u001b[A\n",
      "Finalizing data blocks for type 5: 100%|███████| 56/56 [00:00<00:00, 189.39it/s]\u001b[A\n",
      "Finalizing data blocks: 100%|█████████████████████| 3/3 [00:00<00:00,  9.22it/s]\n",
      "Parsing signal channels: 100%|███████████████| 56/56 [00:00<00:00, 84066.22it/s]\n",
      "Parsing spike channels: 0it [00:00, ?it/s]\n",
      "Parsing event channels: 100%|██████████████████| 4/4 [00:00<00:00, 85598.04it/s]\n"
     ]
    },
    {
     "name": "stdout",
     "output_type": "stream",
     "text": [
      "Day: 2, Mouse: 9\n"
     ]
    },
    {
     "name": "stderr",
     "output_type": "stream",
     "text": [
      "Parsing data blocks:  99%|█████▉| 7042240/7124624 [00:00<00:00, 19358398.05it/s]\n",
      "Finalizing data blocks:   0%|                             | 0/3 [00:00<?, ?it/s]\n",
      "Finalizing data blocks for type 1: 100%|████| 56/56 [00:00<00:00, 606927.71it/s]\u001b[A\n",
      "\n",
      "Finalizing data blocks for type 4: 100%|█████████| 4/4 [00:00<00:00, 267.00it/s]\u001b[A\n",
      "\n",
      "Finalizing data blocks for type 5:   0%|                 | 0/56 [00:00<?, ?it/s]\u001b[A\n",
      "Finalizing data blocks for type 5:   2%|▏        | 1/56 [00:00<00:05,  9.34it/s]\u001b[A\n",
      "Finalizing data blocks for type 5:   5%|▍        | 3/56 [00:00<00:03, 14.78it/s]\u001b[A\n",
      "Finalizing data blocks for type 5: 100%|███████| 56/56 [00:00<00:00, 173.19it/s]\u001b[A\n",
      "Finalizing data blocks: 100%|█████████████████████| 3/3 [00:00<00:00,  8.76it/s]\n",
      "Parsing signal channels: 100%|██████████████| 56/56 [00:00<00:00, 124144.30it/s]\n",
      "Parsing spike channels: 0it [00:00, ?it/s]\n",
      "Parsing event channels: 100%|██████████████████| 4/4 [00:00<00:00, 99864.38it/s]\n"
     ]
    },
    {
     "name": "stdout",
     "output_type": "stream",
     "text": [
      "Day: 2, Mouse: 14\n"
     ]
    },
    {
     "name": "stderr",
     "output_type": "stream",
     "text": [
      "Parsing data blocks:  99%|█████▉| 6970816/7053200 [00:00<00:00, 19301030.04it/s]\n",
      "Finalizing data blocks:   0%|                             | 0/3 [00:00<?, ?it/s]\n",
      "Finalizing data blocks for type 1: 100%|████| 56/56 [00:00<00:00, 100162.48it/s]\u001b[A\n",
      "\n",
      "Finalizing data blocks for type 4: 100%|█████████| 4/4 [00:00<00:00, 245.90it/s]\u001b[A\n",
      "\n",
      "Finalizing data blocks for type 5:   0%|                 | 0/56 [00:00<?, ?it/s]\u001b[A\n",
      "Finalizing data blocks for type 5:   2%|▏        | 1/56 [00:00<00:05,  9.40it/s]\u001b[A\n",
      "Finalizing data blocks for type 5:   5%|▍        | 3/56 [00:00<00:03, 14.87it/s]\u001b[A\n",
      "Finalizing data blocks for type 5: 100%|███████| 56/56 [00:00<00:00, 174.08it/s]\u001b[A\n",
      "Finalizing data blocks: 100%|█████████████████████| 3/3 [00:00<00:00,  8.74it/s]\n",
      "Parsing signal channels: 100%|███████████████| 56/56 [00:00<00:00, 88734.80it/s]\n",
      "Parsing spike channels: 0it [00:00, ?it/s]\n",
      "Parsing event channels: 100%|██████████████████| 4/4 [00:00<00:00, 93206.76it/s]\n"
     ]
    },
    {
     "name": "stdout",
     "output_type": "stream",
     "text": [
      "Day: 2, Mouse: 21\n"
     ]
    },
    {
     "name": "stderr",
     "output_type": "stream",
     "text": [
      "Parsing data blocks:  99%|█████▉| 8251072/8333456 [00:00<00:00, 20746038.60it/s]\n",
      "Finalizing data blocks:   0%|                             | 0/3 [00:00<?, ?it/s]\n",
      "Finalizing data blocks for type 1: 100%|████| 56/56 [00:00<00:00, 543706.07it/s]\u001b[A\n",
      "\n",
      "Finalizing data blocks for type 4: 100%|█████████| 4/4 [00:00<00:00, 251.04it/s]\u001b[A\n",
      "\n",
      "Finalizing data blocks for type 5:   0%|                 | 0/56 [00:00<?, ?it/s]\u001b[A\n",
      "Finalizing data blocks for type 5:   2%|▏        | 1/56 [00:00<00:06,  7.89it/s]\u001b[A\n",
      "Finalizing data blocks for type 5:   5%|▍        | 3/56 [00:00<00:04, 12.46it/s]\u001b[A\n",
      "Finalizing data blocks for type 5: 100%|███████| 56/56 [00:00<00:00, 146.07it/s]\u001b[A\n",
      "Finalizing data blocks: 100%|█████████████████████| 3/3 [00:00<00:00,  7.42it/s]\n",
      "Parsing signal channels: 100%|███████████████| 56/56 [00:00<00:00, 38304.15it/s]\n",
      "Parsing spike channels: 0it [00:00, ?it/s]\n",
      "Parsing event channels: 100%|██████████████████| 4/4 [00:00<00:00, 81442.80it/s]\n"
     ]
    },
    {
     "name": "stdout",
     "output_type": "stream",
     "text": [
      "Day: 2, Mouse: 3\n"
     ]
    },
    {
     "name": "stderr",
     "output_type": "stream",
     "text": [
      "Parsing data blocks:  99%|███▉| 12155584/12237968 [00:00<00:00, 19427857.12it/s]\n",
      "Finalizing data blocks:   0%|                             | 0/3 [00:00<?, ?it/s]\n",
      "Finalizing data blocks for type 1: 100%|████| 56/56 [00:00<00:00, 596144.73it/s]\u001b[A\n",
      "\n",
      "Finalizing data blocks for type 4: 100%|█████████| 4/4 [00:00<00:00, 269.83it/s]\u001b[A\n",
      "\n",
      "Finalizing data blocks for type 5:   0%|                 | 0/56 [00:00<?, ?it/s]\u001b[A\n",
      "Finalizing data blocks for type 5:   2%|▏        | 1/56 [00:00<00:10,  5.33it/s]\u001b[A\n",
      "Finalizing data blocks for type 5:   5%|▍        | 3/56 [00:00<00:06,  8.46it/s]\u001b[A\n",
      "Finalizing data blocks for type 5: 100%|████████| 56/56 [00:00<00:00, 99.40it/s]\u001b[A\n",
      "Finalizing data blocks: 100%|█████████████████████| 3/3 [00:00<00:00,  5.15it/s]\n",
      "Parsing signal channels: 100%|███████████████| 56/56 [00:00<00:00, 99441.59it/s]\n",
      "Parsing spike channels: 0it [00:00, ?it/s]\n",
      "Parsing event channels: 100%|██████████████████| 4/4 [00:00<00:00, 76959.71it/s]\n"
     ]
    },
    {
     "name": "stdout",
     "output_type": "stream",
     "text": [
      "Day: 2, Mouse: 10\n"
     ]
    },
    {
     "name": "stderr",
     "output_type": "stream",
     "text": [
      "Parsing data blocks:  99%|███▉| 13018048/13100432 [00:00<00:00, 20240322.77it/s]\n",
      "Finalizing data blocks:   0%|                             | 0/3 [00:00<?, ?it/s]\n",
      "Finalizing data blocks for type 1: 100%|████| 56/56 [00:00<00:00, 553964.68it/s]\u001b[A\n",
      "\n",
      "Finalizing data blocks for type 4: 100%|█████████| 4/4 [00:00<00:00, 260.25it/s]\u001b[A\n",
      "\n",
      "Finalizing data blocks for type 5:   0%|                 | 0/56 [00:00<?, ?it/s]\u001b[A\n",
      "Finalizing data blocks for type 5:   2%|▏        | 1/56 [00:00<00:11,  4.97it/s]\u001b[A\n",
      "Finalizing data blocks for type 5:   5%|▍        | 3/56 [00:00<00:06,  7.89it/s]\u001b[A\n",
      "Finalizing data blocks for type 5: 100%|████████| 56/56 [00:00<00:00, 92.73it/s]\u001b[A\n",
      "Finalizing data blocks: 100%|█████████████████████| 3/3 [00:00<00:00,  4.81it/s]\n",
      "Parsing signal channels: 100%|██████████████| 56/56 [00:00<00:00, 131438.74it/s]\n",
      "Parsing spike channels: 0it [00:00, ?it/s]\n",
      "Parsing event channels: 100%|██████████████████| 4/4 [00:00<00:00, 86928.58it/s]\n"
     ]
    },
    {
     "name": "stdout",
     "output_type": "stream",
     "text": [
      "Day: 2, Mouse: 7\n"
     ]
    },
    {
     "ename": "KeyboardInterrupt",
     "evalue": "",
     "output_type": "error",
     "traceback": [
      "\u001b[0;31m---------------------------------------------------------------------------\u001b[0m",
      "\u001b[0;31mKeyboardInterrupt\u001b[0m                         Traceback (most recent call last)",
      "Cell \u001b[0;32mIn[36], line 29\u001b[0m\n\u001b[1;32m     27\u001b[0m Stim_Type \u001b[38;5;241m=\u001b[39m \u001b[38;5;241m0\u001b[39m \u001b[38;5;66;03m# Familiar!\u001b[39;00m\n\u001b[1;32m     28\u001b[0m Event_Time \u001b[38;5;241m=\u001b[39m \u001b[38;5;28mint\u001b[39m(Event_Times[event]\u001b[38;5;241m*\u001b[39m\u001b[38;5;241m1000\u001b[39m)\n\u001b[0;32m---> 29\u001b[0m Value_Series \u001b[38;5;241m=\u001b[39m \u001b[43mpd\u001b[49m\u001b[38;5;241;43m.\u001b[39;49m\u001b[43mDataFrame\u001b[49m\u001b[43m(\u001b[49m\u001b[43mdata\u001b[49m\u001b[43m \u001b[49m\u001b[38;5;241;43m=\u001b[39;49m\u001b[43m \u001b[49m\u001b[43m[\u001b[49m\u001b[43mnp\u001b[49m\u001b[38;5;241;43m.\u001b[39;49m\u001b[43mconcatenate\u001b[49m\u001b[43m(\u001b[49m\u001b[43m(\u001b[49m\u001b[43m[\u001b[49m\u001b[38;5;241;43m0\u001b[39;49m\u001b[43m,\u001b[49m\u001b[43m \u001b[49m\u001b[43mDay\u001b[49m\u001b[43m,\u001b[49m\u001b[43m \u001b[49m\u001b[43mMouse\u001b[49m\u001b[43m,\u001b[49m\u001b[43m \u001b[49m\u001b[38;5;28;43mint\u001b[39;49m\u001b[43m(\u001b[49m\u001b[43mevent\u001b[49m\u001b[38;5;241;43m/\u001b[39;49m\u001b[38;5;241;43m200\u001b[39;49m\u001b[43m)\u001b[49m\u001b[38;5;241;43m+\u001b[39;49m\u001b[38;5;241;43m1\u001b[39;49m\u001b[43m \u001b[49m\u001b[43m,\u001b[49m\u001b[43m \u001b[49m\u001b[43mevent\u001b[49m\u001b[38;5;241;43m%\u001b[39;49m\u001b[38;5;241;43m200\u001b[39;49m\u001b[43m,\u001b[49m\u001b[43m \u001b[49m\u001b[43mStim_Type\u001b[49m\u001b[43m,\u001b[49m\u001b[43m \u001b[49m\u001b[43mEvent_Time\u001b[49m\u001b[43m]\u001b[49m\u001b[43m,\u001b[49m\u001b[43m \u001b[49m\u001b[43mLH_single\u001b[49m\u001b[43m[\u001b[49m\u001b[43mEvent_Time\u001b[49m\u001b[38;5;241;43m-\u001b[39;49m\u001b[38;5;241;43m100\u001b[39;49m\u001b[43m:\u001b[49m\u001b[43mEvent_Time\u001b[49m\u001b[38;5;241;43m+\u001b[39;49m\u001b[38;5;241;43m400\u001b[39;49m\u001b[43m]\u001b[49m\u001b[43m)\u001b[49m\u001b[43m)\u001b[49m\u001b[43m]\u001b[49m\u001b[43m\\\u001b[49m\n\u001b[1;32m     30\u001b[0m \u001b[43m                                     \u001b[49m\u001b[38;5;66;43;03m#,[1, Day, Mouse ,int(event/200)+1 ,event%200, Stim_Type, Event_Time, RH_single[Event_Time-100:Event_Time+400]]\\\u001b[39;49;00m\n\u001b[1;32m     31\u001b[0m \u001b[43m                                     \u001b[49m\u001b[38;5;66;43;03m#,[2, Day, Mouse ,int(event/200)+1 ,event%200, Stim_Type, Event_Time, Pz_single[Event_Time-100:Event_Time+400]]]\\\u001b[39;49;00m\n\u001b[1;32m     32\u001b[0m \u001b[43m                                    \u001b[49m\u001b[43m,\u001b[49m\u001b[43m \u001b[49m\u001b[43mcolumns\u001b[49m\u001b[43m \u001b[49m\u001b[38;5;241;43m=\u001b[39;49m\u001b[43m \u001b[49m\u001b[43mcolumns\u001b[49m\u001b[43m,\u001b[49m\u001b[43m \u001b[49m\u001b[43mindex\u001b[49m\u001b[43m \u001b[49m\u001b[38;5;241;43m=\u001b[39;49m\u001b[43m \u001b[49m\u001b[43m[\u001b[49m\u001b[43mind\u001b[49m\u001b[43m,\u001b[49m\u001b[43mind\u001b[49m\u001b[38;5;241;43m+\u001b[39;49m\u001b[38;5;241;43m1\u001b[39;49m\u001b[43m,\u001b[49m\u001b[43mind\u001b[49m\u001b[38;5;241;43m+\u001b[39;49m\u001b[38;5;241;43m2\u001b[39;49m\u001b[43m]\u001b[49m\u001b[43m)\u001b[49m\n\u001b[1;32m     33\u001b[0m DF \u001b[38;5;241m=\u001b[39m pd\u001b[38;5;241m.\u001b[39mconcat([DF,Value_Series],ignore_index\u001b[38;5;241m=\u001b[39m\u001b[38;5;28;01mFalse\u001b[39;00m)\n\u001b[1;32m     34\u001b[0m ind \u001b[38;5;241m=\u001b[39m ind\u001b[38;5;241m+\u001b[39m\u001b[38;5;241m3\u001b[39m\n",
      "File \u001b[0;32m~/miniconda3/lib/python3.11/site-packages/pandas/core/frame.py:840\u001b[0m, in \u001b[0;36mDataFrame.__init__\u001b[0;34m(self, data, index, columns, dtype, copy)\u001b[0m\n\u001b[1;32m    838\u001b[0m     \u001b[38;5;28;01mif\u001b[39;00m columns \u001b[38;5;129;01mis\u001b[39;00m \u001b[38;5;129;01mnot\u001b[39;00m \u001b[38;5;28;01mNone\u001b[39;00m:\n\u001b[1;32m    839\u001b[0m         columns \u001b[38;5;241m=\u001b[39m ensure_index(columns)\n\u001b[0;32m--> 840\u001b[0m     arrays, columns, index \u001b[38;5;241m=\u001b[39m \u001b[43mnested_data_to_arrays\u001b[49m\u001b[43m(\u001b[49m\n\u001b[1;32m    841\u001b[0m \u001b[43m        \u001b[49m\u001b[38;5;66;43;03m# error: Argument 3 to \"nested_data_to_arrays\" has incompatible\u001b[39;49;00m\n\u001b[1;32m    842\u001b[0m \u001b[43m        \u001b[49m\u001b[38;5;66;43;03m# type \"Optional[Collection[Any]]\"; expected \"Optional[Index]\"\u001b[39;49;00m\n\u001b[1;32m    843\u001b[0m \u001b[43m        \u001b[49m\u001b[43mdata\u001b[49m\u001b[43m,\u001b[49m\n\u001b[1;32m    844\u001b[0m \u001b[43m        \u001b[49m\u001b[43mcolumns\u001b[49m\u001b[43m,\u001b[49m\n\u001b[1;32m    845\u001b[0m \u001b[43m        \u001b[49m\u001b[43mindex\u001b[49m\u001b[43m,\u001b[49m\u001b[43m  \u001b[49m\u001b[38;5;66;43;03m# type: ignore[arg-type]\u001b[39;49;00m\n\u001b[1;32m    846\u001b[0m \u001b[43m        \u001b[49m\u001b[43mdtype\u001b[49m\u001b[43m,\u001b[49m\n\u001b[1;32m    847\u001b[0m \u001b[43m    \u001b[49m\u001b[43m)\u001b[49m\n\u001b[1;32m    848\u001b[0m     mgr \u001b[38;5;241m=\u001b[39m arrays_to_mgr(\n\u001b[1;32m    849\u001b[0m         arrays,\n\u001b[1;32m    850\u001b[0m         columns,\n\u001b[0;32m   (...)\u001b[0m\n\u001b[1;32m    853\u001b[0m         typ\u001b[38;5;241m=\u001b[39mmanager,\n\u001b[1;32m    854\u001b[0m     )\n\u001b[1;32m    855\u001b[0m \u001b[38;5;28;01melse\u001b[39;00m:\n",
      "File \u001b[0;32m~/miniconda3/lib/python3.11/site-packages/pandas/core/internals/construction.py:520\u001b[0m, in \u001b[0;36mnested_data_to_arrays\u001b[0;34m(data, columns, index, dtype)\u001b[0m\n\u001b[1;32m    517\u001b[0m \u001b[38;5;28;01mif\u001b[39;00m is_named_tuple(data[\u001b[38;5;241m0\u001b[39m]) \u001b[38;5;129;01mand\u001b[39;00m columns \u001b[38;5;129;01mis\u001b[39;00m \u001b[38;5;28;01mNone\u001b[39;00m:\n\u001b[1;32m    518\u001b[0m     columns \u001b[38;5;241m=\u001b[39m ensure_index(data[\u001b[38;5;241m0\u001b[39m]\u001b[38;5;241m.\u001b[39m_fields)\n\u001b[0;32m--> 520\u001b[0m arrays, columns \u001b[38;5;241m=\u001b[39m \u001b[43mto_arrays\u001b[49m\u001b[43m(\u001b[49m\u001b[43mdata\u001b[49m\u001b[43m,\u001b[49m\u001b[43m \u001b[49m\u001b[43mcolumns\u001b[49m\u001b[43m,\u001b[49m\u001b[43m \u001b[49m\u001b[43mdtype\u001b[49m\u001b[38;5;241;43m=\u001b[39;49m\u001b[43mdtype\u001b[49m\u001b[43m)\u001b[49m\n\u001b[1;32m    521\u001b[0m columns \u001b[38;5;241m=\u001b[39m ensure_index(columns)\n\u001b[1;32m    523\u001b[0m \u001b[38;5;28;01mif\u001b[39;00m index \u001b[38;5;129;01mis\u001b[39;00m \u001b[38;5;28;01mNone\u001b[39;00m:\n",
      "File \u001b[0;32m~/miniconda3/lib/python3.11/site-packages/pandas/core/internals/construction.py:845\u001b[0m, in \u001b[0;36mto_arrays\u001b[0;34m(data, columns, dtype)\u001b[0m\n\u001b[1;32m    842\u001b[0m     data \u001b[38;5;241m=\u001b[39m [\u001b[38;5;28mtuple\u001b[39m(x) \u001b[38;5;28;01mfor\u001b[39;00m x \u001b[38;5;129;01min\u001b[39;00m data]\n\u001b[1;32m    843\u001b[0m     arr \u001b[38;5;241m=\u001b[39m _list_to_arrays(data)\n\u001b[0;32m--> 845\u001b[0m content, columns \u001b[38;5;241m=\u001b[39m \u001b[43m_finalize_columns_and_data\u001b[49m\u001b[43m(\u001b[49m\u001b[43marr\u001b[49m\u001b[43m,\u001b[49m\u001b[43m \u001b[49m\u001b[43mcolumns\u001b[49m\u001b[43m,\u001b[49m\u001b[43m \u001b[49m\u001b[43mdtype\u001b[49m\u001b[43m)\u001b[49m\n\u001b[1;32m    846\u001b[0m \u001b[38;5;28;01mreturn\u001b[39;00m content, columns\n",
      "File \u001b[0;32m~/miniconda3/lib/python3.11/site-packages/pandas/core/internals/construction.py:945\u001b[0m, in \u001b[0;36m_finalize_columns_and_data\u001b[0;34m(content, columns, dtype)\u001b[0m\n\u001b[1;32m    942\u001b[0m     \u001b[38;5;28;01mraise\u001b[39;00m \u001b[38;5;167;01mValueError\u001b[39;00m(err) \u001b[38;5;28;01mfrom\u001b[39;00m \u001b[38;5;21;01merr\u001b[39;00m\n\u001b[1;32m    944\u001b[0m \u001b[38;5;28;01mif\u001b[39;00m \u001b[38;5;28mlen\u001b[39m(contents) \u001b[38;5;129;01mand\u001b[39;00m contents[\u001b[38;5;241m0\u001b[39m]\u001b[38;5;241m.\u001b[39mdtype \u001b[38;5;241m==\u001b[39m np\u001b[38;5;241m.\u001b[39mobject_:\n\u001b[0;32m--> 945\u001b[0m     contents \u001b[38;5;241m=\u001b[39m \u001b[43mconvert_object_array\u001b[49m\u001b[43m(\u001b[49m\u001b[43mcontents\u001b[49m\u001b[43m,\u001b[49m\u001b[43m \u001b[49m\u001b[43mdtype\u001b[49m\u001b[38;5;241;43m=\u001b[39;49m\u001b[43mdtype\u001b[49m\u001b[43m)\u001b[49m\n\u001b[1;32m    947\u001b[0m \u001b[38;5;28;01mreturn\u001b[39;00m contents, columns\n",
      "File \u001b[0;32m~/miniconda3/lib/python3.11/site-packages/pandas/core/internals/construction.py:1070\u001b[0m, in \u001b[0;36mconvert_object_array\u001b[0;34m(content, dtype, dtype_backend, coerce_float)\u001b[0m\n\u001b[1;32m   1066\u001b[0m             arr \u001b[38;5;241m=\u001b[39m maybe_cast_to_datetime(arr, dtype)\n\u001b[1;32m   1068\u001b[0m     \u001b[38;5;28;01mreturn\u001b[39;00m arr\n\u001b[0;32m-> 1070\u001b[0m arrays \u001b[38;5;241m=\u001b[39m \u001b[43m[\u001b[49m\u001b[43mconvert\u001b[49m\u001b[43m(\u001b[49m\u001b[43marr\u001b[49m\u001b[43m)\u001b[49m\u001b[43m \u001b[49m\u001b[38;5;28;43;01mfor\u001b[39;49;00m\u001b[43m \u001b[49m\u001b[43marr\u001b[49m\u001b[43m \u001b[49m\u001b[38;5;129;43;01min\u001b[39;49;00m\u001b[43m \u001b[49m\u001b[43mcontent\u001b[49m\u001b[43m]\u001b[49m\n\u001b[1;32m   1072\u001b[0m \u001b[38;5;28;01mreturn\u001b[39;00m arrays\n",
      "File \u001b[0;32m~/miniconda3/lib/python3.11/site-packages/pandas/core/internals/construction.py:1070\u001b[0m, in \u001b[0;36m<listcomp>\u001b[0;34m(.0)\u001b[0m\n\u001b[1;32m   1066\u001b[0m             arr \u001b[38;5;241m=\u001b[39m maybe_cast_to_datetime(arr, dtype)\n\u001b[1;32m   1068\u001b[0m     \u001b[38;5;28;01mreturn\u001b[39;00m arr\n\u001b[0;32m-> 1070\u001b[0m arrays \u001b[38;5;241m=\u001b[39m [\u001b[43mconvert\u001b[49m\u001b[43m(\u001b[49m\u001b[43marr\u001b[49m\u001b[43m)\u001b[49m \u001b[38;5;28;01mfor\u001b[39;00m arr \u001b[38;5;129;01min\u001b[39;00m content]\n\u001b[1;32m   1072\u001b[0m \u001b[38;5;28;01mreturn\u001b[39;00m arrays\n",
      "File \u001b[0;32m~/miniconda3/lib/python3.11/site-packages/pandas/core/internals/construction.py:1030\u001b[0m, in \u001b[0;36mconvert_object_array.<locals>.convert\u001b[0;34m(arr)\u001b[0m\n\u001b[1;32m   1028\u001b[0m \u001b[38;5;28;01mdef\u001b[39;00m \u001b[38;5;21mconvert\u001b[39m(arr):\n\u001b[1;32m   1029\u001b[0m     \u001b[38;5;28;01mif\u001b[39;00m dtype \u001b[38;5;241m!=\u001b[39m np\u001b[38;5;241m.\u001b[39mdtype(\u001b[38;5;124m\"\u001b[39m\u001b[38;5;124mO\u001b[39m\u001b[38;5;124m\"\u001b[39m):\n\u001b[0;32m-> 1030\u001b[0m         arr \u001b[38;5;241m=\u001b[39m \u001b[43mlib\u001b[49m\u001b[38;5;241;43m.\u001b[39;49m\u001b[43mmaybe_convert_objects\u001b[49m\u001b[43m(\u001b[49m\n\u001b[1;32m   1031\u001b[0m \u001b[43m            \u001b[49m\u001b[43marr\u001b[49m\u001b[43m,\u001b[49m\n\u001b[1;32m   1032\u001b[0m \u001b[43m            \u001b[49m\u001b[43mtry_float\u001b[49m\u001b[38;5;241;43m=\u001b[39;49m\u001b[43mcoerce_float\u001b[49m\u001b[43m,\u001b[49m\n\u001b[1;32m   1033\u001b[0m \u001b[43m            \u001b[49m\u001b[43mconvert_to_nullable_dtype\u001b[49m\u001b[38;5;241;43m=\u001b[39;49m\u001b[43mdtype_backend\u001b[49m\u001b[43m \u001b[49m\u001b[38;5;241;43m!=\u001b[39;49m\u001b[43m \u001b[49m\u001b[38;5;124;43m\"\u001b[39;49m\u001b[38;5;124;43mnumpy\u001b[39;49m\u001b[38;5;124;43m\"\u001b[39;49m\u001b[43m,\u001b[49m\n\u001b[1;32m   1034\u001b[0m \u001b[43m        \u001b[49m\u001b[43m)\u001b[49m\n\u001b[1;32m   1035\u001b[0m         \u001b[38;5;66;03m# Notes on cases that get here 2023-02-15\u001b[39;00m\n\u001b[1;32m   1036\u001b[0m         \u001b[38;5;66;03m# 1) we DO get here when arr is all Timestamps and dtype=None\u001b[39;00m\n\u001b[1;32m   1037\u001b[0m         \u001b[38;5;66;03m# 2) disabling this doesn't break the world, so this must be\u001b[39;00m\n\u001b[1;32m   1038\u001b[0m         \u001b[38;5;66;03m#    getting caught at a higher level\u001b[39;00m\n\u001b[1;32m   1039\u001b[0m         \u001b[38;5;66;03m# 3) passing convert_non_numeric to maybe_convert_objects get this right\u001b[39;00m\n\u001b[1;32m   1040\u001b[0m         \u001b[38;5;66;03m# 4) convert_non_numeric?\u001b[39;00m\n\u001b[1;32m   1042\u001b[0m         \u001b[38;5;28;01mif\u001b[39;00m dtype \u001b[38;5;129;01mis\u001b[39;00m \u001b[38;5;28;01mNone\u001b[39;00m:\n",
      "\u001b[0;31mKeyboardInterrupt\u001b[0m: "
     ]
    }
   ],
   "source": [
    "#Pulling the data into an array within an array format, doesn't work for PCA :(\n",
    "\n",
    "os.listdir(\"CBSC\")\n",
    "start_day = 1\n",
    "end_day = 2\n",
    "\n",
    "#Data Framington\n",
    "columns = np.concatenate((['Measure','Day','Mouse','Block','Stim Num', 'Stim Type', 'Stim Time'],np.arange(500)))\n",
    "DF = pd.DataFrame()\n",
    "ind = 0\n",
    "for day in range(start_day,end_day+1,1):\n",
    "    files = os.listdir(\"CBSC/day \" + str(day) + \"/\")\n",
    "\n",
    "    #Creates three files, one for each reading type, split for each file (mouse)\n",
    "    for file in files:\n",
    "        fname = \"CBSC/day \" + str(day) + \"/\" + file #Concatenate directory with file path to be able to run the function over all days\n",
    "        if os.path.splitext(fname)[1] == '.plx':\n",
    "            LH_single,RH_single,Pz_single,Event_Labels,Event_Times = plexon_import(fname)         \n",
    "            ##MEASURE  0 = Left Hemi, 1 = Right Hemi, 2 = Behavior       \n",
    "            Day = day  \n",
    "            Mouse = int(re.findall(r'\\d+', file[0:9])[0])\n",
    "            print(f'Day: {Day}, Mouse: {Mouse}')\n",
    "\n",
    "            ## CHANGE UP START\n",
    "            for event in range(0,len(Event_Labels),1):\n",
    "                if Event_Labels[event] in ['1','2']: \n",
    "                    Stim_Type = 0 # Familiar!\n",
    "                    Event_Time = int(Event_Times[event]*1000)\n",
    "                    Value_Series = pd.DataFrame(data = [np.concatenate(([0, Day, Mouse, int(event/200)+1 , event%200, Stim_Type, Event_Time], LH_single[Event_Time-100:Event_Time+400]))]\\\n",
    "                                                         #,[1, Day, Mouse ,int(event/200)+1 ,event%200, Stim_Type, Event_Time, RH_single[Event_Time-100:Event_Time+400]]\\\n",
    "                                                         #,[2, Day, Mouse ,int(event/200)+1 ,event%200, Stim_Type, Event_Time, Pz_single[Event_Time-100:Event_Time+400]]]\\\n",
    "                                                        , columns = columns, index = [ind,ind+1,ind+2])\n",
    "                    DF = pd.concat([DF,Value_Series],ignore_index=False)\n",
    "                    ind = ind+3\n",
    "                elif Event_Labels[event] in ['3','4']: \n",
    "                    Stim_Type = 1 # NOVEL!\n",
    "                    Event_Time = int(Event_Times[event]*1000)\n",
    "                    Value_Series = pd.DataFrame(data = [[0, Day, Mouse, int(event/200)+1 , event%200, Stim_Type, Event_Time, LH_single[Event_Time-100:Event_Time+400]]\\\n",
    "                                                        ,[1, Day, Mouse ,int(event/200)+1 ,event%200, Stim_Type, Event_Time, RH_single[Event_Time-100:Event_Time+400]]\\\n",
    "                                                        ,[2, Day, Mouse ,int(event/200)+1 ,event%200, Stim_Type, Event_Time, Pz_single[Event_Time-100:Event_Time+400]]]\\\n",
    "                                                        , columns = columns, index = [ind,ind+1,ind+2])\n",
    "                    DF = pd.concat([DF,Value_Series],ignore_index=False)\n",
    "                    ind = ind+3\n",
    "\n"
   ]
  },
  {
   "cell_type": "code",
   "execution_count": null,
   "id": "e0f5a42b-213d-4449-9bfb-31a2dd7a4c20",
   "metadata": {},
   "outputs": [],
   "source": [
    "#Pulling the data into a dataframe where each row is one time point within the epoch \n",
    "#TAKES WAY TOO LONG\n",
    "\n",
    "os.listdir(\"CBSC\")\n",
    "start_day = 1\n",
    "end_day = 1\n",
    "\n",
    "#Data Framington\n",
    "columns = ['Measure','Day','Mouse','Block','Stim Num', 'Stim Type', 'Stim Time', 'Values']\n",
    "DF = pd.DataFrame()\n",
    "ind = 0\n",
    "for day in range(start_day,end_day+1,1):\n",
    "    files = os.listdir(\"CBSC/day \" + str(day) + \"/\")\n",
    "\n",
    "    #Creates three files, one for each reading type, split for each file (mouse)\n",
    "    for file in files:\n",
    "        fname = \"CBSC/day \" + str(day) + \"/\" + file #Concatenate directory with file path to be able to run the function over all days\n",
    "        if os.path.splitext(fname)[1] == '.plx':\n",
    "            LH_single,RH_single,Pz_single,Event_Labels,Event_Times = plexon_import(fname)         \n",
    "            ##MEASURE  0 = Left Hemi, 1 = Right Hemi, 2 = Behavior       \n",
    "            Day = day  \n",
    "            Mouse = int(re.findall(r'\\d+', file[0:9])[0])\n",
    "            print(f'Day: {Day}, Mouse: {Mouse}')\n",
    "\n",
    "            ## CHANGE UP START\n",
    "            for event in range(0,len(Event_Labels),1):\n",
    "                if Event_Labels[event] in ['1','2']: \n",
    "                    Stim_Type = 0 # Familiar!\n",
    "                    Event_Time = int(Event_Times[event]*1000)\n",
    "                    #Left Hemi\n",
    "                    Value_Series = DF_Column_Fill(LH_single,0, Event_Time, Day, Mouse, event, Stim_Type, ind, columns)                                \n",
    "                    DF = pd.concat([DF,Value_Series],ignore_index=False)\n",
    "                    #Right Hemi\n",
    "                    Value_Series = DF_Column_Fill(RH_single,1, Event_Time, Day, Mouse, event, Stim_Type, ind+500, columns)                                \n",
    "                    DF = pd.concat([DF,Value_Series],ignore_index=False)\n",
    "                    #Piezo\n",
    "                    Value_Series = DF_Column_Fill(Pz_single,2, Event_Time, Day, Mouse, event, Stim_Type, ind+1000, columns)                                \n",
    "                    DF = pd.concat([DF,Value_Series],ignore_index=False)\n",
    "                    ind = ind+1500\n",
    "                elif Event_Labels[event] in ['3','4']: \n",
    "                    Stim_Type = 1 # NOVEL!\n",
    "                    Event_Time = int(Event_Times[event]*1000)\n",
    "                    #Left Hemi\n",
    "                    Value_Series = DF_Column_Fill(LH_single,0, Event_Time, Day, Mouse, event, Stim_Type, ind, columns)                                \n",
    "                    DF = pd.concat([DF,Value_Series],ignore_index=False)\n",
    "                    #Right Hemi\n",
    "                    Value_Series = DF_Column_Fill(RH_single,1, Event_Time, Day, Mouse, event, Stim_Type, ind+500, columns)                                \n",
    "                    DF = pd.concat([DF,Value_Series],ignore_index=False)\n",
    "                    #Piezo\n",
    "                    Value_Series = DF_Column_Fill(Pz_single,2, Event_Time, Day, Mouse, event, Stim_Type, ind+1000, columns)                                \n",
    "                    DF = pd.concat([DF,Value_Series],ignore_index=False)\n",
    "                    ind = ind+1500\n",
    "\n"
   ]
  },
  {
   "cell_type": "code",
   "execution_count": 7,
   "id": "72df8d7d-5719-42ad-90f6-62864841562c",
   "metadata": {},
   "outputs": [],
   "source": [
    "def DF_Column_Fill(Data, Measure, Event_Time, Day, Mouse, event, Stim_Type, ind, columns):\n",
    "    DF = pd.DataFrame(columns = columns,index = np.arange(ind,ind+500))\n",
    "    DF['Time'] = np.arange(Event_Time-100,Event_Time+400)\n",
    "    DF['Values'] = Data[Event_Time-100:Event_Time+400]\n",
    "    DF['Measure'] = Measure\n",
    "    DF['Day'] = Day\n",
    "    DF['Mouse'] = Mouse\n",
    "    DF['Block'] = int(event/200)+1\n",
    "    DF['Stim Num'] = event%200\n",
    "    DF['Stim Type'] = Stim_Type\n",
    "    DF['Stim Time'] = Event_Time\n",
    "    \n",
    "    return DF"
   ]
  }
 ],
 "metadata": {
  "kernelspec": {
   "display_name": "Python 3 (ipykernel)",
   "language": "python",
   "name": "python3"
  },
  "language_info": {
   "codemirror_mode": {
    "name": "ipython",
    "version": 3
   },
   "file_extension": ".py",
   "mimetype": "text/x-python",
   "name": "python",
   "nbconvert_exporter": "python",
   "pygments_lexer": "ipython3",
   "version": "3.11.7"
  }
 },
 "nbformat": 4,
 "nbformat_minor": 5
}
