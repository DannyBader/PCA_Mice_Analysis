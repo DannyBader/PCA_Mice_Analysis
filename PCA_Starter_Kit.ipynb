{
 "cells": [
  {
   "cell_type": "code",
   "execution_count": null,
   "id": "f3b61208-868c-42f8-8780-2199070792d8",
   "metadata": {},
   "outputs": [],
   "source": [
    "import numpy as np\n",
    "import matplotlib.pyplot as plt\n",
    "import matplotlib.pyplot as xaxis\n",
    "import matplotlib.lines as mlines\n",
    "import os\n",
    "import pandas as pd\n",
    "\n",
    "import time\n",
    "from IPython.display import HTML  # to format drop downs\n",
    "from sklearn.decomposition import PCA\n",
    "from sklearn.preprocessing import StandardScaler\n",
    "\n",
    "%matplotlib inline\n",
    "\n",
    "print(np.__version__)\n",
    "print(scp.__version__)"
   ]
  },
  {
   "cell_type": "code",
   "execution_count": null,
   "id": "b0dfbf2d-9d5d-446c-85d8-2524241bcd59",
   "metadata": {},
   "outputs": [],
   "source": [
    "%%html\n",
    "<style>\n",
    "  details summary {\n",
    "    background-color: #ADD8E6;\n",
    "    color: white;\n",
    "    padding: 10px;\n",
    "    border-radius: 5px;\n",
    "    cursor: pointer;\n",
    "    width: 155px;\n",
    "  }\n",
    "</style>"
   ]
  },
  {
   "cell_type": "markdown",
   "id": "45d07ace-add7-4e33-bb52-841f7d468241",
   "metadata": {},
   "source": [
    "# Import data you are interested in \n",
    "* You will need to have the data stored as a 2 dimensional matrix of (n-samples x m-features)\n",
    "* If the data has several dimensions (day, time, strain, age, etc), you should remove that information, but reserve the structure for when you do your later research\n"
   ]
  },
  {
   "cell_type": "code",
   "execution_count": null,
   "id": "1832bfc7-b6de-4beb-813d-3e81d31afdc2",
   "metadata": {},
   "outputs": [],
   "source": [
    "#Convert the data into a one dimensional space\n",
    "\n",
    "def to_one_dim(Array):\n",
    "    Array_Masked = np.mean(Array,axis = len(Array.shape)-1) # Average along the last axis to remove it's axis   \n",
    "    Array_Ind = Array_Masked != 0 #Everywhere that is not a null value \n",
    "    print(Array_Ind.shape)\n",
    "    Array_Mask = Array[Array_Ind,:]\n",
    "    return Array_Mask,Array_Ind\n"
   ]
  },
  {
   "cell_type": "code",
   "execution_count": null,
   "id": "19a9ad36-37ef-4a0a-8c87-1d5e0c08d434",
   "metadata": {},
   "outputs": [],
   "source": [
    "#Use the function to_one_dim to convert the data from a multidimensional dataset into 2 dimensional data\n",
    "\n",
    "X_train,X_indeces = to_one_dim(Dat_Raw) # Returns X_train, the 2-D dataset, and X_indeces, the indeces from your multidim set\n",
    "X_train.shape"
   ]
  },
  {
   "cell_type": "markdown",
   "id": "62900f7c-3e85-4e8f-9496-4fff19d5a0bc",
   "metadata": {},
   "source": [
    "# Create the PCA Model"
   ]
  },
  {
   "cell_type": "code",
   "execution_count": null,
   "id": "58f2b856-34dd-4e7a-b5a8-56592926cc58",
   "metadata": {},
   "outputs": [],
   "source": [
    "#Note: You can play around with the number of components by looking at the % of explained variance below, OR \n",
    "# set n_components equal to a value between 0 and 1, such that the number of components used explains that % of the variance \n",
    "# (i.e. n_components = 0.9)  \n",
    "\n",
    "pca_Model = PCA(n_components=25) \n",
    "\n",
    "X_train\n"
   ]
  },
  {
   "cell_type": "code",
   "execution_count": null,
   "id": "0e92a2a4-3fa0-48e5-9937-86003aeb4888",
   "metadata": {},
   "outputs": [],
   "source": [
    "pca_Model.fit(X_train);                  # X_train is the two dimensional data set you create\n",
    "\n",
    "X_reduced = pca_Model.transform(X_train) # calculate the component scores/weights for the components"
   ]
  },
  {
   "cell_type": "code",
   "execution_count": null,
   "id": "25c80f34-6bc4-41a6-8890-ffec3f5f2936",
   "metadata": {},
   "outputs": [],
   "source": [
    "component = 0\n",
    "\n",
    "#Plot the component\n",
    "plt.plot(pca_Model.components_[component,:])\n",
    "plt.show()\n",
    "\n",
    "\n",
    "#Plot the weights from the first 500 samples for the given component\n",
    "plt.plot(X_reduced[1:500,component],'.')\n",
    "plt.show()\n",
    "\n"
   ]
  },
  {
   "cell_type": "code",
   "execution_count": null,
   "id": "4ea0f9eb-ad61-4acf-900b-136099344430",
   "metadata": {},
   "outputs": [],
   "source": [
    "# Explained variance plot, in red\n",
    "fig,ax = plt.subplots(figsize=(5,5))\n",
    "ax.plot(pca.explained_variance_ratio_,'r')\n",
    "ax.set_xlabel(\"Component number\", fontsize=14)\n",
    "ax.set_ylabel(\"Explained variance\", color=\"r\", fontsize=14);\n",
    "\n",
    "# Cumulative explained variance plot, in blue\n",
    "ax3=ax.twinx()\n",
    "ax3.plot(np.cumsum(pca.explained_variance_ratio_),'b')\n",
    "ax3.set_ylabel(\"Cumulative explained variance\", color=\"blue\", fontsize=14);"
   ]
  },
  {
   "cell_type": "code",
   "execution_count": null,
   "id": "84bc9df3-3029-4a64-a384-5e16583ed1cd",
   "metadata": {},
   "outputs": [],
   "source": [
    "# List of the components and their explained variance so you can see by n_component, how much variance is explained\n",
    "np.cumsum(pca_WT.explained_variance_ratio_)"
   ]
  },
  {
   "cell_type": "markdown",
   "id": "a24de4e6-d5e0-476b-a55d-4c8d2f43734f",
   "metadata": {},
   "source": [
    "# Fit the PCA to your new dataset"
   ]
  },
  {
   "cell_type": "code",
   "execution_count": null,
   "id": "ef5de974-6831-48b1-8918-65f986862960",
   "metadata": {},
   "outputs": [],
   "source": [
    "Y_New_reduction = pca_Model.transform(Y_New_Data) # calculate the PV component scores for the new dataset"
   ]
  },
  {
   "cell_type": "code",
   "execution_count": null,
   "id": "29a5d278-9ffb-4d76-83a1-03ce6ea3e23e",
   "metadata": {},
   "outputs": [],
   "source": [
    "component = 0\n",
    "\n",
    "#Plot the component\n",
    "plt.plot(pca_Model.components_[component,:])\n",
    "plt.show()\n",
    "\n",
    "\n",
    "#Plot the weights from the first 500 samples for the given component\n",
    "plt.plot(Y_New_reduction[1:500,component],'.')\n",
    "plt.show()\n",
    "\n"
   ]
  }
 ],
 "metadata": {
  "kernelspec": {
   "display_name": "Python 3 (ipykernel)",
   "language": "python",
   "name": "python3"
  },
  "language_info": {
   "codemirror_mode": {
    "name": "ipython",
    "version": 3
   },
   "file_extension": ".py",
   "mimetype": "text/x-python",
   "name": "python",
   "nbconvert_exporter": "python",
   "pygments_lexer": "ipython3",
   "version": "3.11.7"
  }
 },
 "nbformat": 4,
 "nbformat_minor": 5
}
